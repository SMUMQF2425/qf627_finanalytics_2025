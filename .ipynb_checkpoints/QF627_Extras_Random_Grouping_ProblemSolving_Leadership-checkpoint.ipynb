{
 "cells": [
  {
   "cell_type": "markdown",
   "metadata": {},
   "source": [
    "# QF 627 Extras - Financial Analytics\n",
    "## Random Assignment for Problem-Solving Leadership"
   ]
  },
  {
   "cell_type": "code",
   "execution_count": 1,
   "metadata": {},
   "outputs": [],
   "source": [
    "import random\n",
    "import pandas as pd"
   ]
  },
  {
   "cell_type": "code",
   "execution_count": 2,
   "metadata": {},
   "outputs": [
    {
     "name": "stdout",
     "output_type": "stream",
     "text": [
      "Variable   Type      Data/Info\n",
      "------------------------------\n",
      "pd         module    <module 'pandas' from '/o<...>ages/pandas/__init__.py'>\n",
      "random     module    <module 'random' from '/o<...>ib/python3.13/random.py'>\n"
     ]
    }
   ],
   "source": [
    "%whos"
   ]
  },
  {
   "cell_type": "code",
   "execution_count": 3,
   "metadata": {},
   "outputs": [
    {
     "data": {
      "text/html": [
       "<div>\n",
       "<style scoped>\n",
       "    .dataframe tbody tr th:only-of-type {\n",
       "        vertical-align: middle;\n",
       "    }\n",
       "\n",
       "    .dataframe tbody tr th {\n",
       "        vertical-align: top;\n",
       "    }\n",
       "\n",
       "    .dataframe thead th {\n",
       "        text-align: right;\n",
       "    }\n",
       "</style>\n",
       "<table border=\"1\" class=\"dataframe\">\n",
       "  <thead>\n",
       "    <tr style=\"text-align: right;\">\n",
       "      <th></th>\n",
       "      <th>name</th>\n",
       "    </tr>\n",
       "  </thead>\n",
       "  <tbody>\n",
       "    <tr>\n",
       "      <th>0</th>\n",
       "      <td>ASMITA GUPTA</td>\n",
       "    </tr>\n",
       "    <tr>\n",
       "      <th>1</th>\n",
       "      <td>LEW SHAO LIANG IAN</td>\n",
       "    </tr>\n",
       "    <tr>\n",
       "      <th>2</th>\n",
       "      <td>WANG JIAYING</td>\n",
       "    </tr>\n",
       "    <tr>\n",
       "      <th>3</th>\n",
       "      <td>NGO BA LONG</td>\n",
       "    </tr>\n",
       "    <tr>\n",
       "      <th>4</th>\n",
       "      <td>ONG HUI FANG MICHELLE</td>\n",
       "    </tr>\n",
       "    <tr>\n",
       "      <th>5</th>\n",
       "      <td>LEOW WEI MIN</td>\n",
       "    </tr>\n",
       "    <tr>\n",
       "      <th>6</th>\n",
       "      <td>NGAI YEE TING</td>\n",
       "    </tr>\n",
       "    <tr>\n",
       "      <th>7</th>\n",
       "      <td>LOW ZE SHENG</td>\n",
       "    </tr>\n",
       "  </tbody>\n",
       "</table>\n",
       "</div>"
      ],
      "text/plain": [
       "                    name\n",
       "0           ASMITA GUPTA\n",
       "1     LEW SHAO LIANG IAN\n",
       "2           WANG JIAYING\n",
       "3            NGO BA LONG\n",
       "4  ONG HUI FANG MICHELLE\n",
       "5           LEOW WEI MIN\n",
       "6          NGAI YEE TING\n",
       "7           LOW ZE SHENG"
      ]
     },
     "execution_count": 3,
     "metadata": {},
     "output_type": "execute_result"
    }
   ],
   "source": [
    "roster = pd.read_csv(\"qf627_extras_ay2425_april.csv\")\n",
    "roster"
   ]
  },
  {
   "cell_type": "code",
   "execution_count": 4,
   "metadata": {},
   "outputs": [],
   "source": [
    "students =\\\n",
    "    roster[\"name\"] \\\n",
    "    .tolist()"
   ]
  },
  {
   "cell_type": "code",
   "execution_count": 5,
   "metadata": {},
   "outputs": [],
   "source": [
    "random.seed(627)"
   ]
  },
  {
   "cell_type": "code",
   "execution_count": 6,
   "metadata": {},
   "outputs": [],
   "source": [
    "members_per_group = 2"
   ]
  },
  {
   "cell_type": "code",
   "execution_count": 7,
   "metadata": {},
   "outputs": [
    {
     "name": "stdout",
     "output_type": "stream",
     "text": [
      "***** Group 1 *****\n",
      "ONG HUI FANG MICHELLE\n",
      "NGAI YEE TING\n",
      "***** Group 2 *****\n",
      "LEOW WEI MIN\n",
      "ASMITA GUPTA\n",
      "***** Group 3 *****\n",
      "WANG JIAYING\n",
      "LEW SHAO LIANG IAN\n",
      "***** Group 4 *****\n",
      "NGO BA LONG\n",
      "LOW ZE SHENG\n"
     ]
    }
   ],
   "source": [
    "group = 1\n",
    "\n",
    "for s in students[:]:\n",
    "    if members_per_group == 2:\n",
    "        print(\"***** Group {} *****\".format(group)\n",
    "             ) \n",
    "        members_per_group = 0\n",
    "        group += 1\n",
    "    \n",
    "    student = random.choice(students)\n",
    "    \n",
    "    print(student)\n",
    "    \n",
    "    members_per_group += 1\n",
    "    \n",
    "    students.remove(str(student)\n",
    "                   )"
   ]
  },
  {
   "cell_type": "markdown",
   "metadata": {},
   "source": [
    "### YAY~ I wish you the best for the problem-solving exercise, Team :)"
   ]
  }
 ],
 "metadata": {
  "kernelspec": {
   "display_name": "Python 3 (ipykernel)",
   "language": "python",
   "name": "python3"
  },
  "language_info": {
   "codemirror_mode": {
    "name": "ipython",
    "version": 3
   },
   "file_extension": ".py",
   "mimetype": "text/x-python",
   "name": "python",
   "nbconvert_exporter": "python",
   "pygments_lexer": "ipython3",
   "version": "3.13.3"
  }
 },
 "nbformat": 4,
 "nbformat_minor": 4
}
