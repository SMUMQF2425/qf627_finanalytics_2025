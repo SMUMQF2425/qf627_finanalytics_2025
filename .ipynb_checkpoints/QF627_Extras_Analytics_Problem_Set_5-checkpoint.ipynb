{
 "cells": [
  {
   "cell_type": "markdown",
   "id": "bb0bb2c6",
   "metadata": {},
   "source": [
    "# QF 627 Extras - Financial Analytics\n",
    "## Problem Set `5` | `Questions`"
   ]
  },
  {
   "cell_type": "markdown",
   "id": "1fc9aada",
   "metadata": {},
   "source": [
    "> Hi Team! 👋\n",
    "\n",
    "> To support your learning progress, I’ve been closely observing your submissions and your participation in the problem-solving leadership sessions. Based on these observations, I find it would be beneficial for you to revisit some of the econometric methods for causal inference. As such, I’ve made a few revisions to the originally planned set of questions.\n",
    "\n",
    "> Problem Set 5 now consists of three questions, and this time, you are required to first identify a valid econometric method appropriate for each problem before conducting your analysis. Of the three questions, two—specifically the first and third—will ask you to clearly specify your modeling strategy by determining which econometric method of causal inference is most suitable for solving the given analytics problem.\n",
    "\n",
    "> As we’ve discussed in class, the central goal of our course is to develop your ability to solve real-world problems using analytics. To support your reasoning in selecting appropriate modeling strategies, I’ve provided a function we’ve reviewed multiple times in class. Please use this function to help determine the most suitable econometric method for each question.\n",
    "\n",
    "> Once you’ve identified your approach, proceed to answer each question by applying the method to assess the causal effects of interest, drawing on the knowledge you’ve acquired throughout the course.\n",
    "\n",
    "> Enjoy 🤗"
   ]
  },
  {
   "cell_type": "markdown",
   "id": "81e6a8b9",
   "metadata": {},
   "source": [
    "### <font color = green> Activation of necessary libraries for setting your print options"
   ]
  },
  {
   "cell_type": "code",
   "execution_count": 1,
   "id": "d2846aeb",
   "metadata": {},
   "outputs": [],
   "source": [
    "import numpy as np\n",
    "import pandas as pd\n",
    "\n",
    "import matplotlib.pyplot as plt\n",
    "import matplotlib as mpl\n",
    "\n",
    "np.set_printoptions(precision = 3)\n",
    "\n",
    "plt.style.use(\"ggplot\")\n",
    "\n",
    "mpl.rcParams[\"axes.grid\"] = True\n",
    "mpl.rcParams[\"grid.color\"] = \"grey\"\n",
    "mpl.rcParams[\"grid.alpha\"] = 0.25\n",
    "\n",
    "mpl.rcParams[\"axes.facecolor\"] = \"white\"\n",
    "\n",
    "mpl.rcParams[\"legend.fontsize\"] = 14"
   ]
  },
  {
   "cell_type": "markdown",
   "id": "a4e34620-2579-47bb-b940-5930cad9cf57",
   "metadata": {},
   "source": [
    "### <mark>Import the below function provided by Prof. Roh into your working environment to enable algorithmic decision aids based on causal inference methods.</mark>"
   ]
  },
  {
   "cell_type": "code",
   "execution_count": 2,
   "id": "7a669a49-7756-4fb5-8667-a635e4d3d91b",
   "metadata": {},
   "outputs": [],
   "source": [
    "def would_you_recommend_causal_inference_method():\n",
    "    print(\"Welcome to the Causal Inference Recommender architected by Prof. Roh :)\")\n",
    "    print(\"Please answer to the following questions with either 'yes' or 'no'.\\n\")\n",
    "\n",
    "    # Question 1. RCT Feasibility (from observation to intervention)\n",
    "    can_randomized =\\\n",
    "    (\n",
    "        input(\"Question 1: Can we RANDOMIZE the treatment assignment? (yes / no): \")\n",
    "        .strip()\n",
    "        .lower()\n",
    "    )\n",
    "    \n",
    "    if can_randomized == \"yes\":\n",
    "        print(\"\\nRecommended Method: **RCTs (Randomized Controlled Trials)**\")\n",
    "        return\n",
    "\n",
    "    # Question 2. Threshold for RDD\n",
    "    has_threshold =\\\n",
    "    (input(\"Question 2: Is there a threshold that assigns treatment (e.g., cut-off) (yes / no): ?\")\n",
    "     .strip()\n",
    "     .lower()\n",
    "    )\n",
    "    \n",
    "    if has_threshold == \"yes\":\n",
    "        print(\"\\nRecommended Method: **RDD (Regression Discontinuity Design)\")\n",
    "        return\n",
    "\n",
    "    # Question 3. Check for Panel (vs. Cross-sectional) or Time-Series Data\n",
    "    has_panel_data =\\\n",
    "    (input(\"Question 3: Do we have panel (longitudinal) or repeated Cross-Sectional Data over Time? (yes / no): \")\n",
    "     .strip()\n",
    "     .lower()\n",
    "    )\n",
    "    \n",
    "    if has_panel_data == \"yes\":\n",
    "        # contingency\n",
    "\n",
    "        # Question 4. Do we have single or multiple treated units\n",
    "        single_treated =\\\n",
    "        (\n",
    "         input(\"Question 4: Do you have ONLY ONE treated unit (e.g., one city, one district)? (yes / no): \")\n",
    "            .strip()\n",
    "            .lower()\n",
    "        )\n",
    "        \n",
    "        if single_treated == \"yes\":\n",
    "            \n",
    "            parallel_trends =\\\n",
    "            (\n",
    "                input(\"Question 5: Are we confident the 'parallel trends' assumption would hold if you used a DiD? (yes / no): \")\n",
    "                .strip()\n",
    "                .lower()\n",
    "            )\n",
    "\n",
    "            if parallel_trends == \"yes\":\n",
    "                print(\"\\nParallel trends might hold, but you still only have ONE TREATED UNIT...\")\n",
    "                print(\"\\nRecommended Method: **Difference-in-Differences is fine.**\"\n",
    "                     )\n",
    "            else:\n",
    "                print(\"\\nSince parallel trends are questionable and there's only ONE TREATED UNIT...\")\n",
    "                print(\"\\nRecommended Method: **Synthetic Control**\")\n",
    "            return\n",
    "\n",
    "        else: \n",
    "            parallel_trends = input(\"Question 5: Can we assume paraell trends with multiple treated units? (yes / no ): \").strip().lower()\n",
    "            if parallel_trends == \"yes\":\n",
    "                print(\"\\nRecommended Method: **Difference-in-Differences (DiD) ** \")\n",
    "                return\n",
    "            else: \n",
    "                print(\"\\nParallel trends are questionable for multiple treated units.\")\n",
    "                print(\"\\nTeam, you should consider more advanced methods as follows:\")\n",
    "                print(\"\\n - Matching along with DiD (to align pre-trends on a matched sample.\")\n",
    "                print(\"\\n - Synthetic Control for subsets if feasible\")\n",
    "                print(\"\\n - More advanced methods ... call Prof. Roh :)\")\n",
    "                return\n",
    "\n",
    "    else: \n",
    "        print(\"\\n Recommended Method: **Matching** (Propensity Scoring and Inverse Probability Weights (**IPW**).\")\n",
    "        return"
   ]
  },
  {
   "cell_type": "markdown",
   "id": "7e9c1ecd",
   "metadata": {},
   "source": [
    "## <font color = red> Below, you will find `three larger sets` of questions. \n",
    "    \n",
    "## <font color = organge> Please ensure that you demonstrate the workflow of your problem-solving process for these analytics questions. \n",
    "    \n",
    "## <font color = organge> Specifically, follow these steps: import → wrangle → EDA → further wrangle (if necessary) → visualize and/or model → refine the model and/or visualization → report."
   ]
  },
  {
   "cell_type": "markdown",
   "id": "048f3374",
   "metadata": {},
   "source": [
    "## ❓ <a id = \"top\"> List of Analytic Questions </a> ❓"
   ]
  },
  {
   "cell_type": "markdown",
   "id": "bbeb6192",
   "metadata": {},
   "source": [
    "## [Q1. The Effect of Workplace Injury Compensation on Moral Hazard](#p1)\n",
    "\n",
    "> ### <font color = red> Identify the econometric method of causal inference that would be valid for addressing the given problem. </font>\n",
    "\n",
    "## [Q2. Effects of the Bank’s Managerial Training Program](#p2)\n",
    "\n",
    "> ### <font color = red> Use PSM and IPW </font>\n",
    "\n",
    "## [Q3. Attendance and Performance in School](#p3)\n",
    "\n",
    "> ### <font color = red> Identify the econometric method of causal inference that would be valid for addressing the given problem. </font>"
   ]
  },
  {
   "cell_type": "markdown",
   "id": "b9d8cec4",
   "metadata": {},
   "source": [
    "## <a id = \"p1\"></a><font color = blue> 👉 Big Questions 1</font>  [back to table of contents](#top)\n",
    "    \n",
    "### <font color = green> BUSINESS CONTEXT & ANALYTIC QUESTION\n",
    "    \n",
    "> An organization increased its cap on weekly earnings covered by worker's compensation. \n",
    "\n",
    "    As a respected data scientist in the field, you have been hired as a consultant by the company. They want to know if this new strategy has led workers to spend more time unemployed.\n",
    "    \n",
    "> If benefits are not generous enough, workers may sue companies for on-the-job injuries. However, overly generous benefits could create moral hazard issues, encouraging workers to be more reckless on the job or falsely claim that off-the-job injuries occurred at work.\n",
    "\n",
    "    The primary outcome variable you are concerned with is log_duration, which represents the logged duration (in weeks) of worker's compensation benefits. You log it because the variable is fairly skewed—most people are unemployed for a few weeks, with some remaining unemployed for an extended period. \n",
    "    \n",
    "> The strategy was designed so that the cap increase would not affect low-earning workers but would impact high-earning workers. Therefore, you use low-earning workers as your control group and high-earning workers as your treatment group.\n",
    "    \n",
    "    Based on your analysis using econometric methods of your choice, what is your assessment? Did the policy cause an increase in the duration of unemployment following a workplace injury? If so, by how much?"
   ]
  },
  {
   "cell_type": "markdown",
   "id": "bfb99f84",
   "metadata": {},
   "source": [
    "### <font color = green> LIST of VARIABLES\n",
    "<br>\n",
    "    \n",
    "* `duration`: Duration of unemployment benefits, measured in weeks\n",
    "<br>\n",
    "\n",
    "* `log_duration`: Logged version of duration\n",
    "<br>\n",
    "        \n",
    "* `after_change`: Categorical variable marking if the observation happened before (0) or after (1) the policy change in 1980. This serves as our time (or before/after variable)\n",
    "<br>\n",
    "\n",
    "* `high_earning`: Categorical variable marking if the observation is a low (0) or high (1) earner. This is our group (or treatment/control) variable    \n",
    "<br>    \n",
    "    \n",
    "* `male`: Categorical variable for gender (1 = male)\n",
    "<br>    \n",
    "    \n",
    "* `married`: Categorical variable for marital status (1 = married)\n",
    "<br>\n",
    "    \n",
    "* `age`: Age of the individual\n",
    "<br>\n",
    "    \n",
    "* `hospitalized`: Indicator variable for hospitalization (1 = hospitalized)\n",
    "<br>\n",
    "    \n",
    "* `industry`: Categorical variable for types of industry (1 = manufacturing, 2 = construction, 3 = other)\n",
    "<br>\n",
    "    \n",
    "* `injury_type`: Categorical variable for different types of injuries (1-8)\n",
    "<br>    \n",
    "    \n",
    "* `log_pre_wage`: Logged version of wage prior to filing a claim"
   ]
  },
  {
   "cell_type": "markdown",
   "id": "76d55040-2f86-4b55-aa9b-cfb202adef60",
   "metadata": {},
   "source": [
    "### <mark> Dataset </mark> https://talktoroh.com/s/workplace_injury.csv"
   ]
  },
  {
   "cell_type": "markdown",
   "id": "44bf7abf-cf4f-4066-a36a-b80be813a8a8",
   "metadata": {},
   "source": [
    "### <font color = red> Using the function below, please begin by identifying the appropriate econometric method for causal inference for each question."
   ]
  },
  {
   "cell_type": "markdown",
   "id": "f57d5bec-0e35-4345-8541-a5f063b42d15",
   "metadata": {},
   "source": [
    "```python\n",
    "would_you_recommend_causal_inference_method()\n",
    "```"
   ]
  },
  {
   "cell_type": "code",
   "execution_count": 3,
   "id": "1ebeb077-4208-4cd5-8007-fe19fa0473ec",
   "metadata": {},
   "outputs": [
    {
     "name": "stdout",
     "output_type": "stream",
     "text": [
      "Welcome to the Causal Inference Recommender architected by Prof. Roh :)\n",
      "Please answer to the following questions with either 'yes' or 'no'.\n",
      "\n"
     ]
    },
    {
     "name": "stdin",
     "output_type": "stream",
     "text": [
      "Question 1: Can we RANDOMIZE the treatment assignment? (yes / no):  no\n",
      "Question 2: Is there a threshold that assigns treatment (e.g., cut-off) (yes / no): ? no\n",
      "Question 3: Do we have panel (longitudinal) or repeated Cross-Sectional Data over Time? (yes / no):  yes\n",
      "Question 4: Do you have ONLY ONE treated unit (e.g., one city, one district)? (yes / no):  yes\n",
      "Question 5: Are we confident the 'parallel trends' assumption would hold if you used a DiD? (yes / no):  yes\n"
     ]
    },
    {
     "name": "stdout",
     "output_type": "stream",
     "text": [
      "\n",
      "Parallel trends might hold, but you still only have ONE TREATED UNIT...\n",
      "\n",
      "Recommended Method: **Difference-in-Differences is fine.**\n"
     ]
    }
   ],
   "source": [
    "would_you_recommend_causal_inference_method()"
   ]
  },
  {
   "cell_type": "markdown",
   "id": "841056d4",
   "metadata": {},
   "source": [
    "### <font color = red> IMPORT"
   ]
  },
  {
   "cell_type": "code",
   "execution_count": 4,
   "id": "5e77959d",
   "metadata": {},
   "outputs": [
    {
     "name": "stdout",
     "output_type": "stream",
     "text": [
      "<class 'pandas.core.frame.DataFrame'>\n",
      "RangeIndex: 5626 entries, 0 to 5625\n",
      "Data columns (total 11 columns):\n",
      " #   Column        Non-Null Count  Dtype  \n",
      "---  ------        --------------  -----  \n",
      " 0   high_earning  5626 non-null   int64  \n",
      " 1   duration      5626 non-null   float64\n",
      " 2   log_duration  5626 non-null   float64\n",
      " 3   after_change  5626 non-null   int64  \n",
      " 4   male          5615 non-null   float64\n",
      " 5   married       5366 non-null   float64\n",
      " 6   age           5622 non-null   float64\n",
      " 7   hospitalized  5626 non-null   int64  \n",
      " 8   industry      5610 non-null   float64\n",
      " 9   injury_type   5626 non-null   int64  \n",
      " 10  log_pre_wage  5626 non-null   float64\n",
      "dtypes: float64(7), int64(4)\n",
      "memory usage: 483.6 KB\n"
     ]
    }
   ],
   "source": [
    "q1 =\\\n",
    "(\n",
    "    pd\n",
    "    .read_csv(\"https://talktoroh.com/s/workplace_injury.csv\")\n",
    ")\n",
    "\n",
    "q1.info()"
   ]
  },
  {
   "cell_type": "code",
   "execution_count": 5,
   "id": "7818fc77",
   "metadata": {},
   "outputs": [
    {
     "data": {
      "text/html": [
       "<div>\n",
       "<style scoped>\n",
       "    .dataframe tbody tr th:only-of-type {\n",
       "        vertical-align: middle;\n",
       "    }\n",
       "\n",
       "    .dataframe tbody tr th {\n",
       "        vertical-align: top;\n",
       "    }\n",
       "\n",
       "    .dataframe thead th {\n",
       "        text-align: right;\n",
       "    }\n",
       "</style>\n",
       "<table border=\"1\" class=\"dataframe\">\n",
       "  <thead>\n",
       "    <tr style=\"text-align: right;\">\n",
       "      <th></th>\n",
       "      <th>high_earning</th>\n",
       "      <th>duration</th>\n",
       "      <th>log_duration</th>\n",
       "      <th>after_change</th>\n",
       "      <th>male</th>\n",
       "      <th>married</th>\n",
       "      <th>age</th>\n",
       "      <th>hospitalized</th>\n",
       "      <th>industry</th>\n",
       "      <th>injury_type</th>\n",
       "      <th>log_pre_wage</th>\n",
       "    </tr>\n",
       "  </thead>\n",
       "  <tbody>\n",
       "    <tr>\n",
       "      <th>count</th>\n",
       "      <td>5626.000000</td>\n",
       "      <td>5626.000000</td>\n",
       "      <td>5626.000000</td>\n",
       "      <td>5626.000000</td>\n",
       "      <td>5615.000000</td>\n",
       "      <td>5366.000000</td>\n",
       "      <td>5622.000000</td>\n",
       "      <td>5626.000000</td>\n",
       "      <td>5610.000000</td>\n",
       "      <td>5626.000000</td>\n",
       "      <td>5626.000000</td>\n",
       "    </tr>\n",
       "    <tr>\n",
       "      <th>mean</th>\n",
       "      <td>0.425524</td>\n",
       "      <td>8.920947</td>\n",
       "      <td>1.277745</td>\n",
       "      <td>0.477782</td>\n",
       "      <td>0.770258</td>\n",
       "      <td>0.699404</td>\n",
       "      <td>34.227499</td>\n",
       "      <td>0.263953</td>\n",
       "      <td>2.360250</td>\n",
       "      <td>4.441344</td>\n",
       "      <td>5.583641</td>\n",
       "    </tr>\n",
       "    <tr>\n",
       "      <th>std</th>\n",
       "      <td>0.494466</td>\n",
       "      <td>21.756708</td>\n",
       "      <td>1.282151</td>\n",
       "      <td>0.499551</td>\n",
       "      <td>0.420704</td>\n",
       "      <td>0.458560</td>\n",
       "      <td>12.542559</td>\n",
       "      <td>0.440813</td>\n",
       "      <td>0.856939</td>\n",
       "      <td>1.516437</td>\n",
       "      <td>0.533084</td>\n",
       "    </tr>\n",
       "    <tr>\n",
       "      <th>min</th>\n",
       "      <td>0.000000</td>\n",
       "      <td>0.250000</td>\n",
       "      <td>-1.386294</td>\n",
       "      <td>0.000000</td>\n",
       "      <td>0.000000</td>\n",
       "      <td>0.000000</td>\n",
       "      <td>14.000000</td>\n",
       "      <td>0.000000</td>\n",
       "      <td>1.000000</td>\n",
       "      <td>1.000000</td>\n",
       "      <td>4.404040</td>\n",
       "    </tr>\n",
       "    <tr>\n",
       "      <th>25%</th>\n",
       "      <td>0.000000</td>\n",
       "      <td>2.000000</td>\n",
       "      <td>0.693147</td>\n",
       "      <td>0.000000</td>\n",
       "      <td>1.000000</td>\n",
       "      <td>0.000000</td>\n",
       "      <td>24.000000</td>\n",
       "      <td>0.000000</td>\n",
       "      <td>1.000000</td>\n",
       "      <td>3.000000</td>\n",
       "      <td>5.139468</td>\n",
       "    </tr>\n",
       "    <tr>\n",
       "      <th>50%</th>\n",
       "      <td>0.000000</td>\n",
       "      <td>4.000000</td>\n",
       "      <td>1.386294</td>\n",
       "      <td>0.000000</td>\n",
       "      <td>1.000000</td>\n",
       "      <td>1.000000</td>\n",
       "      <td>31.000000</td>\n",
       "      <td>0.000000</td>\n",
       "      <td>3.000000</td>\n",
       "      <td>5.000000</td>\n",
       "      <td>5.412882</td>\n",
       "    </tr>\n",
       "    <tr>\n",
       "      <th>75%</th>\n",
       "      <td>1.000000</td>\n",
       "      <td>8.000000</td>\n",
       "      <td>2.079442</td>\n",
       "      <td>1.000000</td>\n",
       "      <td>1.000000</td>\n",
       "      <td>1.000000</td>\n",
       "      <td>43.000000</td>\n",
       "      <td>1.000000</td>\n",
       "      <td>3.000000</td>\n",
       "      <td>6.000000</td>\n",
       "      <td>6.094980</td>\n",
       "    </tr>\n",
       "    <tr>\n",
       "      <th>max</th>\n",
       "      <td>1.000000</td>\n",
       "      <td>182.000000</td>\n",
       "      <td>5.204007</td>\n",
       "      <td>1.000000</td>\n",
       "      <td>1.000000</td>\n",
       "      <td>1.000000</td>\n",
       "      <td>98.000000</td>\n",
       "      <td>1.000000</td>\n",
       "      <td>3.000000</td>\n",
       "      <td>8.000000</td>\n",
       "      <td>7.121140</td>\n",
       "    </tr>\n",
       "  </tbody>\n",
       "</table>\n",
       "</div>"
      ],
      "text/plain": [
       "       high_earning     duration  log_duration  after_change         male  \\\n",
       "count   5626.000000  5626.000000   5626.000000   5626.000000  5615.000000   \n",
       "mean       0.425524     8.920947      1.277745      0.477782     0.770258   \n",
       "std        0.494466    21.756708      1.282151      0.499551     0.420704   \n",
       "min        0.000000     0.250000     -1.386294      0.000000     0.000000   \n",
       "25%        0.000000     2.000000      0.693147      0.000000     1.000000   \n",
       "50%        0.000000     4.000000      1.386294      0.000000     1.000000   \n",
       "75%        1.000000     8.000000      2.079442      1.000000     1.000000   \n",
       "max        1.000000   182.000000      5.204007      1.000000     1.000000   \n",
       "\n",
       "           married          age  hospitalized     industry  injury_type  \\\n",
       "count  5366.000000  5622.000000   5626.000000  5610.000000  5626.000000   \n",
       "mean      0.699404    34.227499      0.263953     2.360250     4.441344   \n",
       "std       0.458560    12.542559      0.440813     0.856939     1.516437   \n",
       "min       0.000000    14.000000      0.000000     1.000000     1.000000   \n",
       "25%       0.000000    24.000000      0.000000     1.000000     3.000000   \n",
       "50%       1.000000    31.000000      0.000000     3.000000     5.000000   \n",
       "75%       1.000000    43.000000      1.000000     3.000000     6.000000   \n",
       "max       1.000000    98.000000      1.000000     3.000000     8.000000   \n",
       "\n",
       "       log_pre_wage  \n",
       "count   5626.000000  \n",
       "mean       5.583641  \n",
       "std        0.533084  \n",
       "min        4.404040  \n",
       "25%        5.139468  \n",
       "50%        5.412882  \n",
       "75%        6.094980  \n",
       "max        7.121140  "
      ]
     },
     "execution_count": 5,
     "metadata": {},
     "output_type": "execute_result"
    }
   ],
   "source": [
    "q1.describe()"
   ]
  },
  {
   "cell_type": "markdown",
   "id": "a2f02ee6",
   "metadata": {},
   "source": [
    "### <font color = red> WRANGLE </font>"
   ]
  },
  {
   "cell_type": "code",
   "execution_count": 6,
   "id": "da4a5162",
   "metadata": {},
   "outputs": [
    {
     "data": {
      "text/plain": [
       "high_earning      0\n",
       "duration          0\n",
       "log_duration      0\n",
       "after_change      0\n",
       "male             11\n",
       "married         260\n",
       "age               4\n",
       "hospitalized      0\n",
       "industry         16\n",
       "injury_type       0\n",
       "log_pre_wage      0\n",
       "dtype: int64"
      ]
     },
     "execution_count": 6,
     "metadata": {},
     "output_type": "execute_result"
    }
   ],
   "source": [
    "# Check for missing values and data types\n",
    "q1.isnull().sum()"
   ]
  },
  {
   "cell_type": "code",
   "execution_count": 7,
   "id": "74247d7b-c4b6-46dc-9762-4fd2760baaa0",
   "metadata": {},
   "outputs": [],
   "source": [
    "# Ensure categorical variables are of correct type\n",
    "q1['after_change'] = q1['after_change'].astype(int)\n",
    "q1['high_earning'] = q1['high_earning'].astype(int)"
   ]
  },
  {
   "cell_type": "markdown",
   "id": "61f00f02",
   "metadata": {},
   "source": [
    "### <font color = red> Exploratory Data Analysis </font>"
   ]
  },
  {
   "cell_type": "code",
   "execution_count": 8,
   "id": "bebd698b",
   "metadata": {},
   "outputs": [
    {
     "data": {
      "text/html": [
       "<div>\n",
       "<style scoped>\n",
       "    .dataframe tbody tr th:only-of-type {\n",
       "        vertical-align: middle;\n",
       "    }\n",
       "\n",
       "    .dataframe tbody tr th {\n",
       "        vertical-align: top;\n",
       "    }\n",
       "\n",
       "    .dataframe thead tr th {\n",
       "        text-align: left;\n",
       "    }\n",
       "\n",
       "    .dataframe thead tr:last-of-type th {\n",
       "        text-align: right;\n",
       "    }\n",
       "</style>\n",
       "<table border=\"1\" class=\"dataframe\">\n",
       "  <thead>\n",
       "    <tr>\n",
       "      <th></th>\n",
       "      <th></th>\n",
       "      <th colspan=\"8\" halign=\"left\">log_duration</th>\n",
       "    </tr>\n",
       "    <tr>\n",
       "      <th></th>\n",
       "      <th></th>\n",
       "      <th>count</th>\n",
       "      <th>mean</th>\n",
       "      <th>std</th>\n",
       "      <th>min</th>\n",
       "      <th>25%</th>\n",
       "      <th>50%</th>\n",
       "      <th>75%</th>\n",
       "      <th>max</th>\n",
       "    </tr>\n",
       "    <tr>\n",
       "      <th>after_change</th>\n",
       "      <th>high_earning</th>\n",
       "      <th></th>\n",
       "      <th></th>\n",
       "      <th></th>\n",
       "      <th></th>\n",
       "      <th></th>\n",
       "      <th></th>\n",
       "      <th></th>\n",
       "      <th></th>\n",
       "    </tr>\n",
       "  </thead>\n",
       "  <tbody>\n",
       "    <tr>\n",
       "      <th rowspan=\"2\" valign=\"top\">0</th>\n",
       "      <th>0</th>\n",
       "      <td>1705.0</td>\n",
       "      <td>1.125615</td>\n",
       "      <td>1.223090</td>\n",
       "      <td>-1.386294</td>\n",
       "      <td>0.000000</td>\n",
       "      <td>1.098612</td>\n",
       "      <td>1.945910</td>\n",
       "      <td>5.204007</td>\n",
       "    </tr>\n",
       "    <tr>\n",
       "      <th>1</th>\n",
       "      <td>1233.0</td>\n",
       "      <td>1.382094</td>\n",
       "      <td>1.298900</td>\n",
       "      <td>-1.386294</td>\n",
       "      <td>0.693147</td>\n",
       "      <td>1.386294</td>\n",
       "      <td>2.079442</td>\n",
       "      <td>5.204007</td>\n",
       "    </tr>\n",
       "    <tr>\n",
       "      <th rowspan=\"2\" valign=\"top\">1</th>\n",
       "      <th>0</th>\n",
       "      <td>1527.0</td>\n",
       "      <td>1.133273</td>\n",
       "      <td>1.273130</td>\n",
       "      <td>-1.386294</td>\n",
       "      <td>0.000000</td>\n",
       "      <td>1.098612</td>\n",
       "      <td>1.945910</td>\n",
       "      <td>5.204007</td>\n",
       "    </tr>\n",
       "    <tr>\n",
       "      <th>1</th>\n",
       "      <td>1161.0</td>\n",
       "      <td>1.580352</td>\n",
       "      <td>1.298157</td>\n",
       "      <td>-1.386294</td>\n",
       "      <td>0.693147</td>\n",
       "      <td>1.609438</td>\n",
       "      <td>2.302585</td>\n",
       "      <td>5.204007</td>\n",
       "    </tr>\n",
       "  </tbody>\n",
       "</table>\n",
       "</div>"
      ],
      "text/plain": [
       "                          log_duration                                \\\n",
       "                                 count      mean       std       min   \n",
       "after_change high_earning                                              \n",
       "0            0                  1705.0  1.125615  1.223090 -1.386294   \n",
       "             1                  1233.0  1.382094  1.298900 -1.386294   \n",
       "1            0                  1527.0  1.133273  1.273130 -1.386294   \n",
       "             1                  1161.0  1.580352  1.298157 -1.386294   \n",
       "\n",
       "                                                                   \n",
       "                                25%       50%       75%       max  \n",
       "after_change high_earning                                          \n",
       "0            0             0.000000  1.098612  1.945910  5.204007  \n",
       "             1             0.693147  1.386294  2.079442  5.204007  \n",
       "1            0             0.000000  1.098612  1.945910  5.204007  \n",
       "             1             0.693147  1.609438  2.302585  5.204007  "
      ]
     },
     "execution_count": 8,
     "metadata": {},
     "output_type": "execute_result"
    }
   ],
   "source": [
    "q1[['log_duration', 'after_change', 'high_earning']].groupby(['after_change', 'high_earning']).describe()"
   ]
  },
  {
   "cell_type": "code",
   "execution_count": 9,
   "id": "64c3d5fb",
   "metadata": {},
   "outputs": [
    {
     "data": {
      "image/png": "[encoded data removed]",
      "text/plain": [
       "<Figure size 800x500 with 1 Axes>"
      ]
     },
     "metadata": {},
     "output_type": "display_data"
    }
   ],
   "source": [
    "import matplotlib.pyplot as plt\n",
    "plt.figure(figsize=(8,5))\n",
    "for group, data in q1.groupby(['after_change', 'high_earning']):\n",
    "    plt.hist(data['log_duration'], bins=20, alpha=0.5, label=f'After={group[0]}, HighEarning={group[1]}')\n",
    "plt.xlabel('Log Duration')\n",
    "plt.ylabel('Count')\n",
    "plt.title('Distribution of Log Duration by Group')\n",
    "plt.legend()\n",
    "plt.show()"
   ]
  },
  {
   "cell_type": "markdown",
   "id": "a21a8feb",
   "metadata": {},
   "source": [
    "### <font color = red> Visualization or Modeling </font>"
   ]
  },
  {
   "cell_type": "code",
   "execution_count": 10,
   "id": "db173f20",
   "metadata": {},
   "outputs": [
    {
     "data": {
      "text/html": [
       "<table class=\"simpletable\">\n",
       "<caption>OLS Regression Results</caption>\n",
       "<tr>\n",
       "  <th>Dep. Variable:</th>      <td>log_duration</td>   <th>  R-squared:         </th> <td>   0.021</td> \n",
       "</tr>\n",
       "<tr>\n",
       "  <th>Model:</th>                   <td>OLS</td>       <th>  Adj. R-squared:    </th> <td>   0.020</td> \n",
       "</tr>\n",
       "<tr>\n",
       "  <th>Method:</th>             <td>Least Squares</td>  <th>  F-statistic:       </th> <td>   39.54</td> \n",
       "</tr>\n",
       "<tr>\n",
       "  <th>Date:</th>             <td>Fri, 06 Jun 2025</td> <th>  Prob (F-statistic):</th> <td>2.81e-25</td> \n",
       "</tr>\n",
       "<tr>\n",
       "  <th>Time:</th>                 <td>14:30:42</td>     <th>  Log-Likelihood:    </th> <td> -9322.0</td> \n",
       "</tr>\n",
       "<tr>\n",
       "  <th>No. Observations:</th>      <td>  5626</td>      <th>  AIC:               </th> <td>1.865e+04</td>\n",
       "</tr>\n",
       "<tr>\n",
       "  <th>Df Residuals:</th>          <td>  5622</td>      <th>  BIC:               </th> <td>1.868e+04</td>\n",
       "</tr>\n",
       "<tr>\n",
       "  <th>Df Model:</th>              <td>     3</td>      <th>                     </th>     <td> </td>    \n",
       "</tr>\n",
       "<tr>\n",
       "  <th>Covariance Type:</th>      <td>nonrobust</td>    <th>                     </th>     <td> </td>    \n",
       "</tr>\n",
       "</table>\n",
       "<table class=\"simpletable\">\n",
       "<tr>\n",
       "        <td></td>          <th>coef</th>     <th>std err</th>      <th>t</th>      <th>P>|t|</th>  <th>[0.025</th>    <th>0.975]</th>  \n",
       "</tr>\n",
       "<tr>\n",
       "  <th>Intercept</th>    <td>    1.1256</td> <td>    0.031</td> <td>   36.621</td> <td> 0.000</td> <td>    1.065</td> <td>    1.186</td>\n",
       "</tr>\n",
       "<tr>\n",
       "  <th>after_change</th> <td>    0.0077</td> <td>    0.045</td> <td>    0.171</td> <td> 0.864</td> <td>   -0.080</td> <td>    0.095</td>\n",
       "</tr>\n",
       "<tr>\n",
       "  <th>high_earning</th> <td>    0.2565</td> <td>    0.047</td> <td>    5.406</td> <td> 0.000</td> <td>    0.163</td> <td>    0.349</td>\n",
       "</tr>\n",
       "<tr>\n",
       "  <th>interaction</th>  <td>    0.1906</td> <td>    0.069</td> <td>    2.782</td> <td> 0.005</td> <td>    0.056</td> <td>    0.325</td>\n",
       "</tr>\n",
       "</table>\n",
       "<table class=\"simpletable\">\n",
       "<tr>\n",
       "  <th>Omnibus:</th>       <td>29.931</td> <th>  Durbin-Watson:     </th> <td>   1.905</td>\n",
       "</tr>\n",
       "<tr>\n",
       "  <th>Prob(Omnibus):</th> <td> 0.000</td> <th>  Jarque-Bera (JB):  </th> <td>  41.672</td>\n",
       "</tr>\n",
       "<tr>\n",
       "  <th>Skew:</th>          <td> 0.037</td> <th>  Prob(JB):          </th> <td>8.93e-10</td>\n",
       "</tr>\n",
       "<tr>\n",
       "  <th>Kurtosis:</th>      <td> 3.415</td> <th>  Cond. No.          </th> <td>    6.38</td>\n",
       "</tr>\n",
       "</table><br/><br/>Notes:<br/>[1] Standard Errors assume that the covariance matrix of the errors is correctly specified."
      ],
      "text/latex": [
       "\\begin{center}\n",
       "\\begin{tabular}{lclc}\n",
       "\\toprule\n",
       "\\textbf{Dep. Variable:}    &  log\\_duration   & \\textbf{  R-squared:         } &     0.021   \\\\\n",
       "\\textbf{Model:}            &       OLS        & \\textbf{  Adj. R-squared:    } &     0.020   \\\\\n",
       "\\textbf{Method:}           &  Least Squares   & \\textbf{  F-statistic:       } &     39.54   \\\\\n",
       "\\textbf{Date:}             & Fri, 06 Jun 2025 & \\textbf{  Prob (F-statistic):} &  2.81e-25   \\\\\n",
       "\\textbf{Time:}             &     14:30:42     & \\textbf{  Log-Likelihood:    } &   -9322.0   \\\\\n",
       "\\textbf{No. Observations:} &        5626      & \\textbf{  AIC:               } & 1.865e+04   \\\\\n",
       "\\textbf{Df Residuals:}     &        5622      & \\textbf{  BIC:               } & 1.868e+04   \\\\\n",
       "\\textbf{Df Model:}         &           3      & \\textbf{                     } &             \\\\\n",
       "\\textbf{Covariance Type:}  &    nonrobust     & \\textbf{                     } &             \\\\\n",
       "\\bottomrule\n",
       "\\end{tabular}\n",
       "\\begin{tabular}{lcccccc}\n",
       "                       & \\textbf{coef} & \\textbf{std err} & \\textbf{t} & \\textbf{P$> |$t$|$} & \\textbf{[0.025} & \\textbf{0.975]}  \\\\\n",
       "\\midrule\n",
       "\\textbf{Intercept}     &       1.1256  &        0.031     &    36.621  &         0.000        &        1.065    &        1.186     \\\\\n",
       "\\textbf{after\\_change} &       0.0077  &        0.045     &     0.171  &         0.864        &       -0.080    &        0.095     \\\\\n",
       "\\textbf{high\\_earning} &       0.2565  &        0.047     &     5.406  &         0.000        &        0.163    &        0.349     \\\\\n",
       "\\textbf{interaction}   &       0.1906  &        0.069     &     2.782  &         0.005        &        0.056    &        0.325     \\\\\n",
       "\\bottomrule\n",
       "\\end{tabular}\n",
       "\\begin{tabular}{lclc}\n",
       "\\textbf{Omnibus:}       & 29.931 & \\textbf{  Durbin-Watson:     } &    1.905  \\\\\n",
       "\\textbf{Prob(Omnibus):} &  0.000 & \\textbf{  Jarque-Bera (JB):  } &   41.672  \\\\\n",
       "\\textbf{Skew:}          &  0.037 & \\textbf{  Prob(JB):          } & 8.93e-10  \\\\\n",
       "\\textbf{Kurtosis:}      &  3.415 & \\textbf{  Cond. No.          } &     6.38  \\\\\n",
       "\\bottomrule\n",
       "\\end{tabular}\n",
       "%\\caption{OLS Regression Results}\n",
       "\\end{center}\n",
       "\n",
       "Notes: \\newline\n",
       " [1] Standard Errors assume that the covariance matrix of the errors is correctly specified."
      ],
      "text/plain": [
       "<class 'statsmodels.iolib.summary.Summary'>\n",
       "\"\"\"\n",
       "                            OLS Regression Results                            \n",
       "==============================================================================\n",
       "Dep. Variable:           log_duration   R-squared:                       0.021\n",
       "Model:                            OLS   Adj. R-squared:                  0.020\n",
       "Method:                 Least Squares   F-statistic:                     39.54\n",
       "Date:                Fri, 06 Jun 2025   Prob (F-statistic):           2.81e-25\n",
       "Time:                        14:30:42   Log-Likelihood:                -9322.0\n",
       "No. Observations:                5626   AIC:                         1.865e+04\n",
       "Df Residuals:                    5622   BIC:                         1.868e+04\n",
       "Df Model:                           3                                         \n",
       "Covariance Type:            nonrobust                                         \n",
       "================================================================================\n",
       "                   coef    std err          t      P>|t|      [0.025      0.975]\n",
       "--------------------------------------------------------------------------------\n",
       "Intercept        1.1256      0.031     36.621      0.000       1.065       1.186\n",
       "after_change     0.0077      0.045      0.171      0.864      -0.080       0.095\n",
       "high_earning     0.2565      0.047      5.406      0.000       0.163       0.349\n",
       "interaction      0.1906      0.069      2.782      0.005       0.056       0.325\n",
       "==============================================================================\n",
       "Omnibus:                       29.931   Durbin-Watson:                   1.905\n",
       "Prob(Omnibus):                  0.000   Jarque-Bera (JB):               41.672\n",
       "Skew:                           0.037   Prob(JB):                     8.93e-10\n",
       "Kurtosis:                       3.415   Cond. No.                         6.38\n",
       "==============================================================================\n",
       "\n",
       "Notes:\n",
       "[1] Standard Errors assume that the covariance matrix of the errors is correctly specified.\n",
       "\"\"\""
      ]
     },
     "execution_count": 10,
     "metadata": {},
     "output_type": "execute_result"
    }
   ],
   "source": [
    "import statsmodels.formula.api as smf\n",
    "# Difference-in-Differences model\n",
    "q1['interaction'] = q1['after_change'] * q1['high_earning']\n",
    "model = smf.ols('log_duration ~ after_change + high_earning + interaction', data=q1).fit()\n",
    "model.summary()"
   ]
  },
  {
   "cell_type": "markdown",
   "id": "39313925",
   "metadata": {},
   "source": [
    "### <font color = red> Modeling or Visualization </font> "
   ]
  },
  {
   "cell_type": "code",
   "execution_count": 11,
   "id": "a890b17f",
   "metadata": {},
   "outputs": [
    {
     "data": {
      "image/png": "[encoded data removed]",
      "text/plain": [
       "<Figure size 640x480 with 1 Axes>"
      ]
     },
     "metadata": {},
     "output_type": "display_data"
    }
   ],
   "source": [
    "means = q1.groupby(['after_change', 'high_earning'])['log_duration'].mean().unstack()\n",
    "means.plot(kind='bar')\n",
    "plt.title('Mean Log Duration by Group')\n",
    "plt.xlabel('After Policy Change (0=Before, 1=After)')\n",
    "plt.ylabel('Mean Log Duration')\n",
    "plt.legend(title='High Earning')\n",
    "plt.show()"
   ]
  },
  {
   "cell_type": "markdown",
   "id": "d0afb8a8",
   "metadata": {},
   "source": [
    "### <font color = red> Visualization or Modeling </font> "
   ]
  },
  {
   "cell_type": "markdown",
   "id": "1b031358",
   "metadata": {},
   "source": [
    "> `Answer`: `Please provide your assessment of the causal effects here.`"
   ]
  },
  {
   "cell_type": "code",
   "execution_count": 12,
   "id": "99b73e44",
   "metadata": {},
   "outputs": [
    {
     "name": "stdout",
     "output_type": "stream",
     "text": [
      "Estimated causal effect (DiD) of policy on log duration: 0.191\n"
     ]
    }
   ],
   "source": [
    "# Report estimated DiD effect\n",
    "did_effect = model.params['interaction']\n",
    "print(f\"Estimated causal effect (DiD) of policy on log duration: {did_effect:.3f}\")"
   ]
  },
  {
   "cell_type": "markdown",
   "id": "27a00e54-29e6-4d62-a7fa-c8691e28af02",
   "metadata": {},
   "source": [
    "## <a id = \"p2\"></a><font color = blue> 👉 Big Questions 2</font>  [back to table of contents](#top)"
   ]
  },
  {
   "cell_type": "markdown",
   "id": "4082b6d0",
   "metadata": {},
   "source": [
    "### <font color = green> BUSINESS CONTEXT\n",
    "\n",
    "> A big multinational bank decided to invest in training for its new managers. To measure the effectiveness of the training, the company attempted to randomly select managers for the program. The plan was to compare the engagement scores of employees whose managers were enrolled in the program with those whose managers were not. With proper randomization, this simple comparison would provide the average treatment effect of the training.\n",
    "\n",
    "> Unfortunately, things did not go as planned. Some managers didn’t want to attend the training, so they simply didn’t show up. Others managed to receive the training without being assigned to it. As a result, what was intended to be a randomized study ended up resembling an observational one.\n",
    "\n",
    "    Your goal is to estimate the causal effects: the treatment variable is intervention, and your outcome of interest is engagement_score, which is the average standardized engagement score for that manager’s employees. Beyond the treatment and the outcome, the covariates in this data are as follows:"
   ]
  },
  {
   "cell_type": "markdown",
   "id": "0e35aaa8",
   "metadata": {},
   "source": [
    "#### Variables Collected\n",
    "\n",
    "- `department_id`: A unique identifier for the department\n",
    "- `tenure`: The number of years the manager has been with the company (as an employee, not necessarily as a manager)\n",
    "- `n_of_reports`: The number of reports the manager has\n",
    "- `gender`: Categorical variable for manager identified gender\n",
    "- `role`: Job category inside the company\n",
    "- `department_size`: The number of employees in that same department\n",
    "- `department_score`: The average engagement score in that same department\n",
    "- `last_engagement_score`: The average engagement score for that manager in the previous iteration of the engagement survey\n"
   ]
  },
  {
   "cell_type": "markdown",
   "id": "6c1f099b-8a7f-4a88-840b-1897db5037f2",
   "metadata": {},
   "source": [
    "### <mark> Dataset </mark> https://talktoroh.com/s/bank_manager_training.csv"
   ]
  },
  {
   "cell_type": "markdown",
   "id": "8a145e7c",
   "metadata": {},
   "source": [
    "### <font color = green> Please solve the causal analytic question for the bank using two methods of matching in econometrics: namely, `propensity score matching` and `matching with inverse probability weights`. </font>"
   ]
  },
  {
   "cell_type": "markdown",
   "id": "37489fd7",
   "metadata": {},
   "source": [
    "### <font color = red> Provide your workflow of analysis that will lead to answers for the questions given below. It is advisable to write your answers within separate code cells with annotations (either using comments in the code cell or using markdown cells). </font>"
   ]
  },
  {
   "cell_type": "code",
   "execution_count": 13,
   "id": "3fd3d6ee",
   "metadata": {},
   "outputs": [
    {
     "name": "stdout",
     "output_type": "stream",
     "text": [
      "<class 'pandas.core.frame.DataFrame'>\n",
      "RangeIndex: 10391 entries, 0 to 10390\n",
      "Data columns (total 10 columns):\n",
      " #   Column                 Non-Null Count  Dtype  \n",
      "---  ------                 --------------  -----  \n",
      " 0   departament_id         10391 non-null  int64  \n",
      " 1   intervention           10391 non-null  int64  \n",
      " 2   engagement_score       10391 non-null  float64\n",
      " 3   tenure                 10391 non-null  int64  \n",
      " 4   n_of_reports           10391 non-null  int64  \n",
      " 5   gender                 10391 non-null  int64  \n",
      " 6   role                   10391 non-null  int64  \n",
      " 7   last_engagement_score  10391 non-null  float64\n",
      " 8   department_score       10391 non-null  float64\n",
      " 9   department_size        10391 non-null  int64  \n",
      "dtypes: float64(3), int64(7)\n",
      "memory usage: 811.9 KB\n"
     ]
    }
   ],
   "source": [
    "# --- IMPORT & WRANGLE ---\n",
    "q2 = pd.read_csv(\"https://talktoroh.com/s/bank_manager_training.csv\")\n",
    "q2.info()"
   ]
  },
  {
   "cell_type": "code",
   "execution_count": 14,
   "id": "f3717b94",
   "metadata": {},
   "outputs": [
    {
     "data": {
      "text/html": [
       "<div>\n",
       "<style scoped>\n",
       "    .dataframe tbody tr th:only-of-type {\n",
       "        vertical-align: middle;\n",
       "    }\n",
       "\n",
       "    .dataframe tbody tr th {\n",
       "        vertical-align: top;\n",
       "    }\n",
       "\n",
       "    .dataframe thead th {\n",
       "        text-align: right;\n",
       "    }\n",
       "</style>\n",
       "<table border=\"1\" class=\"dataframe\">\n",
       "  <thead>\n",
       "    <tr style=\"text-align: right;\">\n",
       "      <th></th>\n",
       "      <th>departament_id</th>\n",
       "      <th>intervention</th>\n",
       "      <th>engagement_score</th>\n",
       "      <th>tenure</th>\n",
       "      <th>n_of_reports</th>\n",
       "      <th>gender</th>\n",
       "      <th>role</th>\n",
       "      <th>last_engagement_score</th>\n",
       "      <th>department_score</th>\n",
       "      <th>department_size</th>\n",
       "    </tr>\n",
       "  </thead>\n",
       "  <tbody>\n",
       "    <tr>\n",
       "      <th>count</th>\n",
       "      <td>10391.000000</td>\n",
       "      <td>10391.000000</td>\n",
       "      <td>1.039100e+04</td>\n",
       "      <td>10391.000000</td>\n",
       "      <td>10391.000000</td>\n",
       "      <td>10391.000000</td>\n",
       "      <td>10391.000000</td>\n",
       "      <td>10391.000000</td>\n",
       "      <td>10391.000000</td>\n",
       "      <td>10391.000000</td>\n",
       "    </tr>\n",
       "    <tr>\n",
       "      <th>mean</th>\n",
       "      <td>39.888846</td>\n",
       "      <td>0.539987</td>\n",
       "      <td>3.829313e-17</td>\n",
       "      <td>5.268117</td>\n",
       "      <td>4.302858</td>\n",
       "      <td>1.489943</td>\n",
       "      <td>2.447791</td>\n",
       "      <td>0.057352</td>\n",
       "      <td>-0.045911</td>\n",
       "      <td>898.142816</td>\n",
       "    </tr>\n",
       "    <tr>\n",
       "      <th>std</th>\n",
       "      <td>24.008975</td>\n",
       "      <td>0.498422</td>\n",
       "      <td>1.000000e+00</td>\n",
       "      <td>1.120765</td>\n",
       "      <td>2.198738</td>\n",
       "      <td>0.499923</td>\n",
       "      <td>1.378420</td>\n",
       "      <td>1.375566</td>\n",
       "      <td>0.967262</td>\n",
       "      <td>523.231315</td>\n",
       "    </tr>\n",
       "    <tr>\n",
       "      <th>min</th>\n",
       "      <td>1.000000</td>\n",
       "      <td>0.000000</td>\n",
       "      <td>-3.111431e+00</td>\n",
       "      <td>1.000000</td>\n",
       "      <td>1.000000</td>\n",
       "      <td>1.000000</td>\n",
       "      <td>0.000000</td>\n",
       "      <td>-5.301973</td>\n",
       "      <td>-1.924778</td>\n",
       "      <td>32.000000</td>\n",
       "    </tr>\n",
       "    <tr>\n",
       "      <th>25%</th>\n",
       "      <td>19.000000</td>\n",
       "      <td>0.000000</td>\n",
       "      <td>-7.033152e-01</td>\n",
       "      <td>5.000000</td>\n",
       "      <td>3.000000</td>\n",
       "      <td>1.000000</td>\n",
       "      <td>1.000000</td>\n",
       "      <td>-0.851875</td>\n",
       "      <td>-0.813799</td>\n",
       "      <td>530.000000</td>\n",
       "    </tr>\n",
       "    <tr>\n",
       "      <th>50%</th>\n",
       "      <td>41.000000</td>\n",
       "      <td>1.000000</td>\n",
       "      <td>-3.449486e-02</td>\n",
       "      <td>5.000000</td>\n",
       "      <td>4.000000</td>\n",
       "      <td>1.000000</td>\n",
       "      <td>2.000000</td>\n",
       "      <td>0.073236</td>\n",
       "      <td>-0.159602</td>\n",
       "      <td>818.000000</td>\n",
       "    </tr>\n",
       "    <tr>\n",
       "      <th>75%</th>\n",
       "      <td>62.000000</td>\n",
       "      <td>1.000000</td>\n",
       "      <td>6.724723e-01</td>\n",
       "      <td>6.000000</td>\n",
       "      <td>5.000000</td>\n",
       "      <td>2.000000</td>\n",
       "      <td>4.000000</td>\n",
       "      <td>0.980842</td>\n",
       "      <td>0.596474</td>\n",
       "      <td>1192.000000</td>\n",
       "    </tr>\n",
       "    <tr>\n",
       "      <th>max</th>\n",
       "      <td>76.000000</td>\n",
       "      <td>1.000000</td>\n",
       "      <td>3.563639e+00</td>\n",
       "      <td>7.000000</td>\n",
       "      <td>8.000000</td>\n",
       "      <td>2.000000</td>\n",
       "      <td>4.000000</td>\n",
       "      <td>5.114196</td>\n",
       "      <td>2.821660</td>\n",
       "      <td>2366.000000</td>\n",
       "    </tr>\n",
       "  </tbody>\n",
       "</table>\n",
       "</div>"
      ],
      "text/plain": [
       "       departament_id  intervention  engagement_score        tenure  \\\n",
       "count    10391.000000  10391.000000      1.039100e+04  10391.000000   \n",
       "mean        39.888846      0.539987      3.829313e-17      5.268117   \n",
       "std         24.008975      0.498422      1.000000e+00      1.120765   \n",
       "min          1.000000      0.000000     -3.111431e+00      1.000000   \n",
       "25%         19.000000      0.000000     -7.033152e-01      5.000000   \n",
       "50%         41.000000      1.000000     -3.449486e-02      5.000000   \n",
       "75%         62.000000      1.000000      6.724723e-01      6.000000   \n",
       "max         76.000000      1.000000      3.563639e+00      7.000000   \n",
       "\n",
       "       n_of_reports        gender          role  last_engagement_score  \\\n",
       "count  10391.000000  10391.000000  10391.000000           10391.000000   \n",
       "mean       4.302858      1.489943      2.447791               0.057352   \n",
       "std        2.198738      0.499923      1.378420               1.375566   \n",
       "min        1.000000      1.000000      0.000000              -5.301973   \n",
       "25%        3.000000      1.000000      1.000000              -0.851875   \n",
       "50%        4.000000      1.000000      2.000000               0.073236   \n",
       "75%        5.000000      2.000000      4.000000               0.980842   \n",
       "max        8.000000      2.000000      4.000000               5.114196   \n",
       "\n",
       "       department_score  department_size  \n",
       "count      10391.000000     10391.000000  \n",
       "mean          -0.045911       898.142816  \n",
       "std            0.967262       523.231315  \n",
       "min           -1.924778        32.000000  \n",
       "25%           -0.813799       530.000000  \n",
       "50%           -0.159602       818.000000  \n",
       "75%            0.596474      1192.000000  \n",
       "max            2.821660      2366.000000  "
      ]
     },
     "execution_count": 14,
     "metadata": {},
     "output_type": "execute_result"
    }
   ],
   "source": [
    "q2.describe()"
   ]
  },
  {
   "cell_type": "code",
   "execution_count": 15,
   "id": "e028a3ee",
   "metadata": {},
   "outputs": [
    {
     "data": {
      "text/plain": [
       "departament_id           0\n",
       "intervention             0\n",
       "engagement_score         0\n",
       "tenure                   0\n",
       "n_of_reports             0\n",
       "gender                   0\n",
       "role                     0\n",
       "last_engagement_score    0\n",
       "department_score         0\n",
       "department_size          0\n",
       "dtype: int64"
      ]
     },
     "execution_count": 15,
     "metadata": {},
     "output_type": "execute_result"
    }
   ],
   "source": [
    "# Convert categorical variables if needed\n",
    "q2['gender'] = q2['gender'].astype('category')\n",
    "q2['role'] = q2['role'].astype('category')\n",
    "\n",
    "# Check for missing values\n",
    "q2.isnull().sum()"
   ]
  },
  {
   "cell_type": "code",
   "execution_count": 16,
   "id": "d72eafc7",
   "metadata": {},
   "outputs": [
    {
     "data": {
      "text/html": [
       "<div>\n",
       "<style scoped>\n",
       "    .dataframe tbody tr th:only-of-type {\n",
       "        vertical-align: middle;\n",
       "    }\n",
       "\n",
       "    .dataframe tbody tr th {\n",
       "        vertical-align: top;\n",
       "    }\n",
       "\n",
       "    .dataframe thead tr th {\n",
       "        text-align: left;\n",
       "    }\n",
       "\n",
       "    .dataframe thead tr:last-of-type th {\n",
       "        text-align: right;\n",
       "    }\n",
       "</style>\n",
       "<table border=\"1\" class=\"dataframe\">\n",
       "  <thead>\n",
       "    <tr>\n",
       "      <th></th>\n",
       "      <th colspan=\"8\" halign=\"left\">engagement_score</th>\n",
       "    </tr>\n",
       "    <tr>\n",
       "      <th></th>\n",
       "      <th>count</th>\n",
       "      <th>mean</th>\n",
       "      <th>std</th>\n",
       "      <th>min</th>\n",
       "      <th>25%</th>\n",
       "      <th>50%</th>\n",
       "      <th>75%</th>\n",
       "      <th>max</th>\n",
       "    </tr>\n",
       "    <tr>\n",
       "      <th>intervention</th>\n",
       "      <th></th>\n",
       "      <th></th>\n",
       "      <th></th>\n",
       "      <th></th>\n",
       "      <th></th>\n",
       "      <th></th>\n",
       "      <th></th>\n",
       "      <th></th>\n",
       "    </tr>\n",
       "  </thead>\n",
       "  <tbody>\n",
       "    <tr>\n",
       "      <th>0</th>\n",
       "      <td>4780.0</td>\n",
       "      <td>-0.234678</td>\n",
       "      <td>0.955174</td>\n",
       "      <td>-3.111431</td>\n",
       "      <td>-0.913246</td>\n",
       "      <td>-0.270993</td>\n",
       "      <td>0.414000</td>\n",
       "      <td>3.042068</td>\n",
       "    </tr>\n",
       "    <tr>\n",
       "      <th>1</th>\n",
       "      <td>5611.0</td>\n",
       "      <td>0.199921</td>\n",
       "      <td>0.993950</td>\n",
       "      <td>-2.777461</td>\n",
       "      <td>-0.483975</td>\n",
       "      <td>0.175924</td>\n",
       "      <td>0.866142</td>\n",
       "      <td>3.563639</td>\n",
       "    </tr>\n",
       "  </tbody>\n",
       "</table>\n",
       "</div>"
      ],
      "text/plain": [
       "             engagement_score                                          \\\n",
       "                        count      mean       std       min       25%   \n",
       "intervention                                                            \n",
       "0                      4780.0 -0.234678  0.955174 -3.111431 -0.913246   \n",
       "1                      5611.0  0.199921  0.993950 -2.777461 -0.483975   \n",
       "\n",
       "                                            \n",
       "                   50%       75%       max  \n",
       "intervention                                \n",
       "0            -0.270993  0.414000  3.042068  \n",
       "1             0.175924  0.866142  3.563639  "
      ]
     },
     "execution_count": 16,
     "metadata": {},
     "output_type": "execute_result"
    }
   ],
   "source": [
    "# --- Exploratory Data Analysis ---\n",
    "q2[['intervention', 'engagement_score']].groupby('intervention').describe()"
   ]
  },
  {
   "cell_type": "code",
   "execution_count": 17,
   "id": "3d245702",
   "metadata": {},
   "outputs": [
    {
     "data": {
      "image/png": "[encoded data removed]",
      "text/plain": [
       "<Figure size 700x400 with 1 Axes>"
      ]
     },
     "metadata": {},
     "output_type": "display_data"
    }
   ],
   "source": [
    "import matplotlib.pyplot as plt\n",
    "plt.figure(figsize=(7,4))\n",
    "for label, group in q2.groupby('intervention'):\n",
    "    plt.hist(group['engagement_score'], bins=20, alpha=0.6, label=f'Intervention={label}')\n",
    "plt.xlabel('Engagement Score')\n",
    "plt.ylabel('Count')\n",
    "plt.title('Distribution of Engagement Score by Intervention')\n",
    "plt.legend()\n",
    "plt.show()"
   ]
  },
  {
   "cell_type": "code",
   "execution_count": 18,
   "id": "c6a688a8",
   "metadata": {},
   "outputs": [
    {
     "name": "stdout",
     "output_type": "stream",
     "text": [
      "Estimated ATT (PSM): 0.239\n"
     ]
    }
   ],
   "source": [
    "# --- Propensity Score Matching (PSM) ---\n",
    "from sklearn.linear_model import LogisticRegression\n",
    "from sklearn.preprocessing import StandardScaler\n",
    "from sklearn.neighbors import NearestNeighbors\n",
    "\n",
    "# Select covariates for propensity score estimation\n",
    "covariates = ['tenure', 'n_of_reports', 'department_size', 'department_score', 'last_engagement_score']\n",
    "X = q2[covariates]\n",
    "scaler = StandardScaler()\n",
    "X_scaled = scaler.fit_transform(X)\n",
    "y = q2['intervention']\n",
    "\n",
    "# Estimate propensity scores\n",
    "logit = LogisticRegression()\n",
    "logit.fit(X_scaled, y)\n",
    "q2['propensity_score'] = logit.predict_proba(X_scaled)[:,1]\n",
    "\n",
    "# 1-to-1 Nearest Neighbor Matching on propensity score\n",
    "treated = q2[q2['intervention'] == 1]\n",
    "control = q2[q2['intervention'] == 0]\n",
    "\n",
    "nn = NearestNeighbors(n_neighbors=1)\n",
    "nn.fit(control[['propensity_score']])\n",
    "distances, indices = nn.kneighbors(treated[['propensity_score']])\n",
    "matched_control = control.iloc[indices.flatten()].copy()\n",
    "matched_control.index = treated.index  # align indices for concat\n",
    "\n",
    "matched = pd.concat([treated, matched_control])\n",
    "psm_effect = matched.groupby('intervention')['engagement_score'].mean().diff().iloc[-1]\n",
    "print(f\"Estimated ATT (PSM): {psm_effect:.3f}\")"
   ]
  },
  {
   "cell_type": "code",
   "execution_count": 19,
   "id": "f6fc3aef",
   "metadata": {},
   "outputs": [
    {
     "name": "stdout",
     "output_type": "stream",
     "text": [
      "Estimated ATE (IPW): 0.277\n"
     ]
    }
   ],
   "source": [
    "# --- Inverse Probability Weighting (IPW) ---\n",
    "q2['ipw'] = np.where(\n",
    "    q2['intervention'] == 1,\n",
    "    1 / q2['propensity_score'],\n",
    "    1 / (1 - q2['propensity_score'])\n",
    ")\n",
    "\n",
    "import statsmodels.api as sm\n",
    "X_ipw = sm.add_constant(q2['intervention'])\n",
    "y_ipw = q2['engagement_score']\n",
    "weights = q2['ipw']\n",
    "ipw_model = sm.WLS(y_ipw, X_ipw, weights=weights).fit()\n",
    "ipw_effect = ipw_model.params['intervention']\n",
    "print(f\"Estimated ATE (IPW): {ipw_effect:.3f}\")"
   ]
  },
  {
   "cell_type": "markdown",
   "id": "95b541c7",
   "metadata": {},
   "source": [
    "### <font color = red> Show the sensitivity analysis below using the stargazer library. </font>"
   ]
  },
  {
   "cell_type": "code",
   "execution_count": 20,
   "id": "b72e5a1a",
   "metadata": {},
   "outputs": [
    {
     "data": {
      "text/html": [
       "<table style=\"text-align:center\"><tr><td colspan=\"2\" style=\"border-bottom: 1px solid black\"></td></tr>\n",
       "<tr><td style=\"text-align:left\"></td><td colspan=\"1\"><em>Dependent variable: engagement_score</em></td></tr><tr><td style=\"text-align:left\"></td><tr><td style=\"text-align:left\"></td><td>(1)</td></tr>\n",
       "<tr><td colspan=\"2\" style=\"border-bottom: 1px solid black\"></td></tr>\n",
       "\n",
       "<tr><td style=\"text-align:left\">const</td><td>-0.155<sup>***</sup></td></tr>\n",
       "<tr><td style=\"text-align:left\"></td><td>(0.014)</td></tr>\n",
       "<tr><td style=\"text-align:left\">intervention</td><td>0.277<sup>***</sup></td></tr>\n",
       "<tr><td style=\"text-align:left\"></td><td>(0.019)</td></tr>\n",
       "\n",
       "<td colspan=\"2\" style=\"border-bottom: 1px solid black\"></td></tr>\n",
       "<tr><td style=\"text-align: left\">Observations</td><td>10391</td></tr><tr><td style=\"text-align: left\">R<sup>2</sup></td><td>0.020</td></tr><tr><td style=\"text-align: left\">Adjusted R<sup>2</sup></td><td>0.020</td></tr><tr><td style=\"text-align: left\">Residual Std. Error</td><td>0.979 (df=10389)</td></tr><tr><td style=\"text-align: left\">F Statistic</td><td>208.318<sup>***</sup> (df=1; 10389)</td></tr>\n",
       "<tr><td colspan=\"2\" style=\"border-bottom: 1px solid black\"></td></tr><tr><td style=\"text-align: left\">Note:</td><td colspan=\"1\" style=\"text-align: right\"><sup>*</sup>p&lt;0.1; <sup>**</sup>p&lt;0.05; <sup>***</sup>p&lt;0.01</td></tr></table>"
      ],
      "text/plain": [
       "<stargazer.stargazer.Stargazer at 0x1300b6120>"
      ]
     },
     "metadata": {},
     "output_type": "display_data"
    }
   ],
   "source": [
    "from stargazer.stargazer import Stargazer\n",
    "stargazer = Stargazer([ipw_model])\n",
    "display(stargazer)"
   ]
  },
  {
   "cell_type": "markdown",
   "id": "13a26728",
   "metadata": {},
   "source": [
    "### <font color = red> What are the causal effects obtained from the two? </font>"
   ]
  },
  {
   "cell_type": "code",
   "execution_count": 21,
   "id": "65c949e3",
   "metadata": {},
   "outputs": [
    {
     "name": "stdout",
     "output_type": "stream",
     "text": [
      "PSM ATT: 0.239\n",
      "IPW ATE: 0.277\n"
     ]
    }
   ],
   "source": [
    "print(f\"PSM ATT: {psm_effect:.3f}\")\n",
    "print(f\"IPW ATE: {ipw_effect:.3f}\")"
   ]
  },
  {
   "cell_type": "markdown",
   "id": "d7a21276",
   "metadata": {},
   "source": [
    "## <a id = \"p3\"></a><font color = blue> 👉 Big Questions 3</font>  [back to table of contents](#top)\n",
    "\n",
    "> One of the perennial questions you must have pondered from elementary school up to now, as you are on the verge of completing your master's degree (congrats again), is the causal effect of school attendance on performance.\n",
    "\n",
    "#### Current Question:\n",
    "\n",
    "    Assess the effect of a school program related to attendance on student grades.\n",
    "\n",
    "#### Context:\n",
    "\n",
    "    In this U.S. school program, high school students who have less than 80% attendance during their junior year (11th grade) are assigned to a mandatory school attendance program during their senior year (12th grade).\n",
    "\n",
    "- The program requires these students to attend school regularly.\n",
    "- It provides additional support and tutoring to help them maintain their attendance and succeed academically.\n",
    "- At the end of their senior year, students take a final test to assess their overall learning throughout high school."
   ]
  },
  {
   "cell_type": "markdown",
   "id": "6223fe5a",
   "metadata": {},
   "source": [
    "#### Data collected:\n",
    "\n",
    "- `id`: A randomly assigned student ID number\n",
    "- `attendance`: The proportion of days of school attended during a student's junior year (ranges from 0 to 100)\n",
    "- `treatment`: Binary variable indicating if a student was assigned to the attendance program during their senior year\n",
    "- `grade`: A student's final test grade at the end of their senior year"
   ]
  },
  {
   "cell_type": "markdown",
   "id": "224e36eb-a5a3-47a8-9981-a99786c7c8af",
   "metadata": {},
   "source": [
    "### <mark> Dataset </mark> https://talktoroh.com/s/school_turnout.csv"
   ]
  },
  {
   "cell_type": "markdown",
   "id": "8dc29206-5898-42b5-8e21-51cad57f3c10",
   "metadata": {},
   "source": [
    "### <font color = red> Using the function below, please begin by identifying the appropriate econometric method for causal inference for each question."
   ]
  },
  {
   "cell_type": "markdown",
   "id": "27554f96-3776-42a9-afce-55200c69605b",
   "metadata": {},
   "source": [
    "```python\n",
    "would_you_recommend_causal_inference_method()\n",
    "```"
   ]
  },
  {
   "cell_type": "markdown",
   "id": "25184c01",
   "metadata": {},
   "source": [
    "### <font color = red> Below are the lines of code that lead to an answer: </font>"
   ]
  },
  {
   "cell_type": "code",
   "execution_count": 22,
   "id": "51b14c49-c831-4e49-b72b-dc7080728e56",
   "metadata": {},
   "outputs": [
    {
     "name": "stdout",
     "output_type": "stream",
     "text": [
      "Welcome to the Causal Inference Recommender architected by Prof. Roh :)\n",
      "Please answer to the following questions with either 'yes' or 'no'.\n",
      "\n"
     ]
    },
    {
     "name": "stdin",
     "output_type": "stream",
     "text": [
      "Question 1: Can we RANDOMIZE the treatment assignment? (yes / no):  no\n",
      "Question 2: Is there a threshold that assigns treatment (e.g., cut-off) (yes / no): ? yes\n"
     ]
    },
    {
     "name": "stdout",
     "output_type": "stream",
     "text": [
      "\n",
      "Recommended Method: **RDD (Regression Discontinuity Design)\n"
     ]
    }
   ],
   "source": [
    "would_you_recommend_causal_inference_method()"
   ]
  },
  {
   "cell_type": "code",
   "execution_count": 23,
   "id": "ed467803-da59-4a80-9ec9-fb0883c7b579",
   "metadata": {},
   "outputs": [
    {
     "name": "stdout",
     "output_type": "stream",
     "text": [
      "<class 'pandas.core.frame.DataFrame'>\n",
      "RangeIndex: 1200 entries, 0 to 1199\n",
      "Data columns (total 4 columns):\n",
      " #   Column      Non-Null Count  Dtype  \n",
      "---  ------      --------------  -----  \n",
      " 0   id          1200 non-null   int64  \n",
      " 1   attendance  1200 non-null   float64\n",
      " 2   treatment   1200 non-null   bool   \n",
      " 3   grade       1200 non-null   float64\n",
      "dtypes: bool(1), float64(2), int64(1)\n",
      "memory usage: 29.4 KB\n"
     ]
    }
   ],
   "source": [
    "# --- IMPORT ---\n",
    "q3 =\\\n",
    "(\n",
    "    pd\n",
    "    .read_csv(\"https://talktoroh.com/s/school_turnout.csv\")\n",
    ")\n",
    "\n",
    "q3.info()"
   ]
  },
  {
   "cell_type": "code",
   "execution_count": 24,
   "id": "369d39d3",
   "metadata": {},
   "outputs": [
    {
     "data": {
      "text/html": [
       "<div>\n",
       "<style scoped>\n",
       "    .dataframe tbody tr th:only-of-type {\n",
       "        vertical-align: middle;\n",
       "    }\n",
       "\n",
       "    .dataframe tbody tr th {\n",
       "        vertical-align: top;\n",
       "    }\n",
       "\n",
       "    .dataframe thead th {\n",
       "        text-align: right;\n",
       "    }\n",
       "</style>\n",
       "<table border=\"1\" class=\"dataframe\">\n",
       "  <thead>\n",
       "    <tr style=\"text-align: right;\">\n",
       "      <th></th>\n",
       "      <th>id</th>\n",
       "      <th>attendance</th>\n",
       "      <th>grade</th>\n",
       "    </tr>\n",
       "  </thead>\n",
       "  <tbody>\n",
       "    <tr>\n",
       "      <th>count</th>\n",
       "      <td>1200.000000</td>\n",
       "      <td>1200.000000</td>\n",
       "      <td>1200.000000</td>\n",
       "    </tr>\n",
       "    <tr>\n",
       "      <th>mean</th>\n",
       "      <td>600.500000</td>\n",
       "      <td>75.172542</td>\n",
       "      <td>62.001708</td>\n",
       "    </tr>\n",
       "    <tr>\n",
       "      <th>std</th>\n",
       "      <td>346.554469</td>\n",
       "      <td>14.484282</td>\n",
       "      <td>21.464886</td>\n",
       "    </tr>\n",
       "    <tr>\n",
       "      <th>min</th>\n",
       "      <td>1.000000</td>\n",
       "      <td>20.000000</td>\n",
       "      <td>0.000000</td>\n",
       "    </tr>\n",
       "    <tr>\n",
       "      <th>25%</th>\n",
       "      <td>300.750000</td>\n",
       "      <td>66.485000</td>\n",
       "      <td>48.587500</td>\n",
       "    </tr>\n",
       "    <tr>\n",
       "      <th>50%</th>\n",
       "      <td>600.500000</td>\n",
       "      <td>77.200000</td>\n",
       "      <td>66.055000</td>\n",
       "    </tr>\n",
       "    <tr>\n",
       "      <th>75%</th>\n",
       "      <td>900.250000</td>\n",
       "      <td>86.170000</td>\n",
       "      <td>80.337500</td>\n",
       "    </tr>\n",
       "    <tr>\n",
       "      <th>max</th>\n",
       "      <td>1200.000000</td>\n",
       "      <td>100.000000</td>\n",
       "      <td>100.830000</td>\n",
       "    </tr>\n",
       "  </tbody>\n",
       "</table>\n",
       "</div>"
      ],
      "text/plain": [
       "                id   attendance        grade\n",
       "count  1200.000000  1200.000000  1200.000000\n",
       "mean    600.500000    75.172542    62.001708\n",
       "std     346.554469    14.484282    21.464886\n",
       "min       1.000000    20.000000     0.000000\n",
       "25%     300.750000    66.485000    48.587500\n",
       "50%     600.500000    77.200000    66.055000\n",
       "75%     900.250000    86.170000    80.337500\n",
       "max    1200.000000   100.000000   100.830000"
      ]
     },
     "execution_count": 24,
     "metadata": {},
     "output_type": "execute_result"
    }
   ],
   "source": [
    "q3.describe()"
   ]
  },
  {
   "cell_type": "code",
   "execution_count": 25,
   "id": "ee5018b3",
   "metadata": {},
   "outputs": [
    {
     "data": {
      "text/plain": [
       "id            0\n",
       "attendance    0\n",
       "treatment     0\n",
       "grade         0\n",
       "dtype: int64"
      ]
     },
     "execution_count": 25,
     "metadata": {},
     "output_type": "execute_result"
    }
   ],
   "source": [
    "# --- WRANGLE ---\n",
    "# Check for missing values\n",
    "q3.isnull().sum()"
   ]
  },
  {
   "cell_type": "code",
   "execution_count": 26,
   "id": "148f71a7",
   "metadata": {},
   "outputs": [
    {
     "data": {
      "text/html": [
       "<div>\n",
       "<style scoped>\n",
       "    .dataframe tbody tr th:only-of-type {\n",
       "        vertical-align: middle;\n",
       "    }\n",
       "\n",
       "    .dataframe tbody tr th {\n",
       "        vertical-align: top;\n",
       "    }\n",
       "\n",
       "    .dataframe thead tr th {\n",
       "        text-align: left;\n",
       "    }\n",
       "\n",
       "    .dataframe thead tr:last-of-type th {\n",
       "        text-align: right;\n",
       "    }\n",
       "</style>\n",
       "<table border=\"1\" class=\"dataframe\">\n",
       "  <thead>\n",
       "    <tr>\n",
       "      <th></th>\n",
       "      <th colspan=\"8\" halign=\"left\">grade</th>\n",
       "    </tr>\n",
       "    <tr>\n",
       "      <th></th>\n",
       "      <th>count</th>\n",
       "      <th>mean</th>\n",
       "      <th>std</th>\n",
       "      <th>min</th>\n",
       "      <th>25%</th>\n",
       "      <th>50%</th>\n",
       "      <th>75%</th>\n",
       "      <th>max</th>\n",
       "    </tr>\n",
       "    <tr>\n",
       "      <th>treatment</th>\n",
       "      <th></th>\n",
       "      <th></th>\n",
       "      <th></th>\n",
       "      <th></th>\n",
       "      <th></th>\n",
       "      <th></th>\n",
       "      <th></th>\n",
       "      <th></th>\n",
       "    </tr>\n",
       "  </thead>\n",
       "  <tbody>\n",
       "    <tr>\n",
       "      <th>False</th>\n",
       "      <td>519.0</td>\n",
       "      <td>78.479229</td>\n",
       "      <td>9.963914</td>\n",
       "      <td>49.84</td>\n",
       "      <td>71.56</td>\n",
       "      <td>80.73</td>\n",
       "      <td>85.03</td>\n",
       "      <td>100.83</td>\n",
       "    </tr>\n",
       "    <tr>\n",
       "      <th>True</th>\n",
       "      <td>681.0</td>\n",
       "      <td>49.443950</td>\n",
       "      <td>19.277280</td>\n",
       "      <td>0.00</td>\n",
       "      <td>36.10</td>\n",
       "      <td>51.14</td>\n",
       "      <td>64.75</td>\n",
       "      <td>89.21</td>\n",
       "    </tr>\n",
       "  </tbody>\n",
       "</table>\n",
       "</div>"
      ],
      "text/plain": [
       "           grade                                                          \n",
       "           count       mean        std    min    25%    50%    75%     max\n",
       "treatment                                                                 \n",
       "False      519.0  78.479229   9.963914  49.84  71.56  80.73  85.03  100.83\n",
       "True       681.0  49.443950  19.277280   0.00  36.10  51.14  64.75   89.21"
      ]
     },
     "execution_count": 26,
     "metadata": {},
     "output_type": "execute_result"
    }
   ],
   "source": [
    "# --- Exploratory Data Analysis ---\n",
    "q3[['treatment', 'grade']].groupby('treatment').describe()"
   ]
  },
  {
   "cell_type": "code",
   "execution_count": 27,
   "id": "bd672c6c",
   "metadata": {},
   "outputs": [
    {
     "data": {
      "image/png": "[encoded data removed]",
      "text/plain": [
       "<Figure size 700x400 with 1 Axes>"
      ]
     },
     "metadata": {},
     "output_type": "display_data"
    }
   ],
   "source": [
    "import matplotlib.pyplot as plt\n",
    "plt.figure(figsize=(7,4))\n",
    "for label, group in q3.groupby('treatment'):\n",
    "    plt.hist(group['grade'], bins=20, alpha=0.6, label=f'Treatment={label}')\n",
    "plt.xlabel('Final Grade')\n",
    "plt.ylabel('Count')\n",
    "plt.title('Distribution of Final Grade by Treatment')\n",
    "plt.legend()\n",
    "plt.show()"
   ]
  },
  {
   "cell_type": "code",
   "execution_count": 28,
   "id": "2ea8beac",
   "metadata": {},
   "outputs": [
    {
     "data": {
      "text/html": [
       "<table class=\"simpletable\">\n",
       "<caption>OLS Regression Results</caption>\n",
       "<tr>\n",
       "  <th>Dep. Variable:</th>          <td>grade</td>      <th>  R-squared:         </th> <td>   0.907</td>\n",
       "</tr>\n",
       "<tr>\n",
       "  <th>Model:</th>                   <td>OLS</td>       <th>  Adj. R-squared:    </th> <td>   0.907</td>\n",
       "</tr>\n",
       "<tr>\n",
       "  <th>Method:</th>             <td>Least Squares</td>  <th>  F-statistic:       </th> <td>   5823.</td>\n",
       "</tr>\n",
       "<tr>\n",
       "  <th>Date:</th>             <td>Fri, 06 Jun 2025</td> <th>  Prob (F-statistic):</th>  <td>  0.00</td> \n",
       "</tr>\n",
       "<tr>\n",
       "  <th>Time:</th>                 <td>14:31:00</td>     <th>  Log-Likelihood:    </th> <td> -3958.1</td>\n",
       "</tr>\n",
       "<tr>\n",
       "  <th>No. Observations:</th>      <td>  1200</td>      <th>  AIC:               </th> <td>   7922.</td>\n",
       "</tr>\n",
       "<tr>\n",
       "  <th>Df Residuals:</th>          <td>  1197</td>      <th>  BIC:               </th> <td>   7938.</td>\n",
       "</tr>\n",
       "<tr>\n",
       "  <th>Df Model:</th>              <td>     2</td>      <th>                     </th>     <td> </td>   \n",
       "</tr>\n",
       "<tr>\n",
       "  <th>Covariance Type:</th>      <td>nonrobust</td>    <th>                     </th>     <td> </td>   \n",
       "</tr>\n",
       "</table>\n",
       "<table class=\"simpletable\">\n",
       "<tr>\n",
       "          <td></td>             <th>coef</th>     <th>std err</th>      <th>t</th>      <th>P>|t|</th>  <th>[0.025</th>    <th>0.975]</th>  \n",
       "</tr>\n",
       "<tr>\n",
       "  <th>Intercept</th>         <td>   66.1911</td> <td>    0.330</td> <td>  200.868</td> <td> 0.000</td> <td>   65.545</td> <td>   66.838</td>\n",
       "</tr>\n",
       "<tr>\n",
       "  <th>treatment[T.True]</th> <td>    5.8838</td> <td>    0.595</td> <td>    9.894</td> <td> 0.000</td> <td>    4.717</td> <td>    7.051</td>\n",
       "</tr>\n",
       "<tr>\n",
       "  <th>running</th>           <td>    1.5595</td> <td>    0.020</td> <td>   76.638</td> <td> 0.000</td> <td>    1.520</td> <td>    1.599</td>\n",
       "</tr>\n",
       "</table>\n",
       "<table class=\"simpletable\">\n",
       "<tr>\n",
       "  <th>Omnibus:</th>       <td>14.652</td> <th>  Durbin-Watson:     </th> <td>   1.994</td>\n",
       "</tr>\n",
       "<tr>\n",
       "  <th>Prob(Omnibus):</th> <td> 0.001</td> <th>  Jarque-Bera (JB):  </th> <td>  16.310</td>\n",
       "</tr>\n",
       "<tr>\n",
       "  <th>Skew:</th>          <td> 0.209</td> <th>  Prob(JB):          </th> <td>0.000287</td>\n",
       "</tr>\n",
       "<tr>\n",
       "  <th>Kurtosis:</th>      <td> 3.388</td> <th>  Cond. No.          </th> <td>    52.9</td>\n",
       "</tr>\n",
       "</table><br/><br/>Notes:<br/>[1] Standard Errors assume that the covariance matrix of the errors is correctly specified."
      ],
      "text/latex": [
       "\\begin{center}\n",
       "\\begin{tabular}{lclc}\n",
       "\\toprule\n",
       "\\textbf{Dep. Variable:}    &      grade       & \\textbf{  R-squared:         } &     0.907   \\\\\n",
       "\\textbf{Model:}            &       OLS        & \\textbf{  Adj. R-squared:    } &     0.907   \\\\\n",
       "\\textbf{Method:}           &  Least Squares   & \\textbf{  F-statistic:       } &     5823.   \\\\\n",
       "\\textbf{Date:}             & Fri, 06 Jun 2025 & \\textbf{  Prob (F-statistic):} &     0.00    \\\\\n",
       "\\textbf{Time:}             &     14:31:00     & \\textbf{  Log-Likelihood:    } &   -3958.1   \\\\\n",
       "\\textbf{No. Observations:} &        1200      & \\textbf{  AIC:               } &     7922.   \\\\\n",
       "\\textbf{Df Residuals:}     &        1197      & \\textbf{  BIC:               } &     7938.   \\\\\n",
       "\\textbf{Df Model:}         &           2      & \\textbf{                     } &             \\\\\n",
       "\\textbf{Covariance Type:}  &    nonrobust     & \\textbf{                     } &             \\\\\n",
       "\\bottomrule\n",
       "\\end{tabular}\n",
       "\\begin{tabular}{lcccccc}\n",
       "                           & \\textbf{coef} & \\textbf{std err} & \\textbf{t} & \\textbf{P$> |$t$|$} & \\textbf{[0.025} & \\textbf{0.975]}  \\\\\n",
       "\\midrule\n",
       "\\textbf{Intercept}         &      66.1911  &        0.330     &   200.868  &         0.000        &       65.545    &       66.838     \\\\\n",
       "\\textbf{treatment[T.True]} &       5.8838  &        0.595     &     9.894  &         0.000        &        4.717    &        7.051     \\\\\n",
       "\\textbf{running}           &       1.5595  &        0.020     &    76.638  &         0.000        &        1.520    &        1.599     \\\\\n",
       "\\bottomrule\n",
       "\\end{tabular}\n",
       "\\begin{tabular}{lclc}\n",
       "\\textbf{Omnibus:}       & 14.652 & \\textbf{  Durbin-Watson:     } &    1.994  \\\\\n",
       "\\textbf{Prob(Omnibus):} &  0.001 & \\textbf{  Jarque-Bera (JB):  } &   16.310  \\\\\n",
       "\\textbf{Skew:}          &  0.209 & \\textbf{  Prob(JB):          } & 0.000287  \\\\\n",
       "\\textbf{Kurtosis:}      &  3.388 & \\textbf{  Cond. No.          } &     52.9  \\\\\n",
       "\\bottomrule\n",
       "\\end{tabular}\n",
       "%\\caption{OLS Regression Results}\n",
       "\\end{center}\n",
       "\n",
       "Notes: \\newline\n",
       " [1] Standard Errors assume that the covariance matrix of the errors is correctly specified."
      ],
      "text/plain": [
       "<class 'statsmodels.iolib.summary.Summary'>\n",
       "\"\"\"\n",
       "                            OLS Regression Results                            \n",
       "==============================================================================\n",
       "Dep. Variable:                  grade   R-squared:                       0.907\n",
       "Model:                            OLS   Adj. R-squared:                  0.907\n",
       "Method:                 Least Squares   F-statistic:                     5823.\n",
       "Date:                Fri, 06 Jun 2025   Prob (F-statistic):               0.00\n",
       "Time:                        14:31:00   Log-Likelihood:                -3958.1\n",
       "No. Observations:                1200   AIC:                             7922.\n",
       "Df Residuals:                    1197   BIC:                             7938.\n",
       "Df Model:                           2                                         \n",
       "Covariance Type:            nonrobust                                         \n",
       "=====================================================================================\n",
       "                        coef    std err          t      P>|t|      [0.025      0.975]\n",
       "-------------------------------------------------------------------------------------\n",
       "Intercept            66.1911      0.330    200.868      0.000      65.545      66.838\n",
       "treatment[T.True]     5.8838      0.595      9.894      0.000       4.717       7.051\n",
       "running               1.5595      0.020     76.638      0.000       1.520       1.599\n",
       "==============================================================================\n",
       "Omnibus:                       14.652   Durbin-Watson:                   1.994\n",
       "Prob(Omnibus):                  0.001   Jarque-Bera (JB):               16.310\n",
       "Skew:                           0.209   Prob(JB):                     0.000287\n",
       "Kurtosis:                       3.388   Cond. No.                         52.9\n",
       "==============================================================================\n",
       "\n",
       "Notes:\n",
       "[1] Standard Errors assume that the covariance matrix of the errors is correctly specified.\n",
       "\"\"\""
      ]
     },
     "execution_count": 28,
     "metadata": {},
     "output_type": "execute_result"
    }
   ],
   "source": [
    "# --- Modeling (RDD: Regression Discontinuity Design) ---\n",
    "import statsmodels.formula.api as smf\n",
    "\n",
    "# The cutoff for assignment is attendance = 80\n",
    "q3['running'] = q3['attendance'] - 80\n",
    "\n",
    "# Local linear regression with treatment and running variable\n",
    "model = smf.ols('grade ~ treatment + running', data=q3).fit()\n",
    "model.summary()"
   ]
  },
  {
   "cell_type": "code",
   "execution_count": 29,
   "id": "43c75342",
   "metadata": {},
   "outputs": [
    {
     "data": {
      "image/png": "[encoded data removed]",
      "text/plain": [
       "<Figure size 800x500 with 1 Axes>"
      ]
     },
     "metadata": {},
     "output_type": "display_data"
    }
   ],
   "source": [
    "# --- Visualization ---\n",
    "plt.figure(figsize=(8,5))\n",
    "plt.scatter(q3['attendance'], q3['grade'], alpha=0.3, label='Students')\n",
    "plt.axvline(80, color='black', linestyle='--', label='Cutoff (80%)')\n",
    "plt.xlabel('Attendance (Junior Year %)')\n",
    "plt.ylabel('Final Grade')\n",
    "plt.title('Final Grade vs. Attendance (RDD)')\n",
    "plt.legend()\n",
    "plt.show()"
   ]
  },
  {
   "cell_type": "markdown",
   "id": "40ce9134",
   "metadata": {},
   "source": [
    "### <font color = red> What is your econometric assessment of the causal effects? </font>"
   ]
  },
  {
   "cell_type": "code",
   "execution_count": 30,
   "id": "ed323912",
   "metadata": {},
   "outputs": [
    {
     "name": "stdout",
     "output_type": "stream",
     "text": [
      "Estimated causal effect of attendance program at cutoff (RDD): 5.88 points\n"
     ]
    }
   ],
   "source": [
    "rdd_effect = model.params['treatment[T.True]']\n",
    "print(f\"Estimated causal effect of attendance program at cutoff (RDD): {rdd_effect:.2f} points\")"
   ]
  },
  {
   "cell_type": "markdown",
   "id": "4711df69",
   "metadata": {},
   "source": [
    "    IMPORTANT NOTE: \n",
    "\n",
    "### <font color = purple> <center> Prior to submitting, ensure that you execute the following command to present your workspace.\n",
    "\n",
    "### <font color = purple> <center> Before submission, ensure that your responses are entered into the designated cells provided for answering."
   ]
  },
  {
   "cell_type": "code",
   "execution_count": 31,
   "id": "f2713ce8",
   "metadata": {},
   "outputs": [
    {
     "name": "stdout",
     "output_type": "stream",
     "text": [
      "Variable                                      Type                        Data/Info\n",
      "-----------------------------------------------------------------------------------\n",
      "LogisticRegression                            type                        <class 'sklearn.linear_mo<...>stic.LogisticRegression'>\n",
      "NearestNeighbors                              ABCMeta                     <class 'sklearn.neighbors<...>rvised.NearestNeighbors'>\n",
      "StandardScaler                                type                        <class 'sklearn.preproces<...>ng._data.StandardScaler'>\n",
      "Stargazer                                     type                        <class 'stargazer.stargazer.Stargazer'>\n",
      "X                                             DataFrame                          tenure  n_of_repor<...>n[10391 rows x 5 columns]\n",
      "X_ipw                                         DataFrame                          const  interventio<...>n[10391 rows x 2 columns]\n",
      "X_scaled                                      ndarray                     10391x5: 51955 elems, type `float64`, 415640 bytes (405.8984375 kb)\n",
      "control                                       DataFrame                          departament_id  in<...>n[4780 rows x 11 columns]\n",
      "covariates                                    list                        n=5\n",
      "data                                          DataFrame                         high_earning  durat<...>n[1161 rows x 11 columns]\n",
      "did_effect                                    float64                     0.19060120065869893\n",
      "distances                                     ndarray                     5611x1: 5611 elems, type `float64`, 44888 bytes\n",
      "group                                         DataFrame                           id  attendance  t<...>n\\n[681 rows x 4 columns]\n",
      "indices                                       ndarray                     5611x1: 5611 elems, type `int64`, 44888 bytes\n",
      "ipw_effect                                    float64                     0.2770112057623144\n",
      "ipw_model                                     RegressionResultsWrapper    <statsmodels.regression.l<...>er object at 0x1300f8550>\n",
      "label                                         bool                        True\n",
      "logit                                         LogisticRegression          LogisticRegression()\n",
      "matched                                       DataFrame                          departament_id  in<...>[11222 rows x 11 columns]\n",
      "matched_control                               DataFrame                          departament_id  in<...>n[5611 rows x 11 columns]\n",
      "means                                         DataFrame                   high_earning         0   <...>       1.133273  1.580352\n",
      "model                                         RegressionResultsWrapper    <statsmodels.regression.l<...>er object at 0x130374e10>\n",
      "mpl                                           module                      <module 'matplotlib' from<...>/matplotlib/__init__.py'>\n",
      "nn                                            NearestNeighbors            NearestNeighbors(n_neighbors=1)\n",
      "np                                            module                      <module 'numpy' from '/op<...>kages/numpy/__init__.py'>\n",
      "pd                                            module                      <module 'pandas' from '/o<...>ages/pandas/__init__.py'>\n",
      "plt                                           module                      <module 'matplotlib.pyplo<...>es/matplotlib/pyplot.py'>\n",
      "psm_effect                                    float64                     0.23894212649475285\n",
      "q1                                            DataFrame                         high_earning  durat<...>n[5626 rows x 12 columns]\n",
      "q2                                            DataFrame                          departament_id  in<...>[10391 rows x 12 columns]\n",
      "q3                                            DataFrame                           id  attendance  t<...>\\n[1200 rows x 5 columns]\n",
      "rdd_effect                                    float64                     5.883803295594169\n",
      "scaler                                        StandardScaler              StandardScaler()\n",
      "sm                                            module                      <module 'statsmodels.api'<...>ages/statsmodels/api.py'>\n",
      "smf                                           module                      <module 'statsmodels.form<...>tsmodels/formula/api.py'>\n",
      "stargazer                                     Stargazer                   <stargazer.stargazer.Star<...>er object at 0x1300b6120>\n",
      "treated                                       DataFrame                          departament_id  in<...>n[5611 rows x 11 columns]\n",
      "weights                                       Series                      0        1.624926\\n1     <...>th: 10391, dtype: float64\n",
      "would_you_recommend_causal_inference_method   function                    <function would_you_recom<...>ce_method at 0x11cc714e0>\n",
      "y                                             Series                      0        1\\n1        1\\n2<...>ngth: 10391, dtype: int64\n",
      "y_ipw                                         Series                      0        0.277359\\n1     <...>th: 10391, dtype: float64\n"
     ]
    }
   ],
   "source": [
    "%whos"
   ]
  },
  {
   "cell_type": "markdown",
   "id": "a398b38f",
   "metadata": {},
   "source": [
    "### <font color = green> 💯 Thank you for putting effort into the analytics exercise problem set 😊"
   ]
  }
 ],
 "metadata": {
  "kernelspec": {
   "display_name": "Python 3 (ipykernel)",
   "language": "python",
   "name": "python3"
  },
  "language_info": {
   "codemirror_mode": {
    "name": "ipython",
    "version": 3
   },
   "file_extension": ".py",
   "mimetype": "text/x-python",
   "name": "python",
   "nbconvert_exporter": "python",
   "pygments_lexer": "ipython3",
   "version": "3.13.3"
  }
 },
 "nbformat": 4,
 "nbformat_minor": 5
}
