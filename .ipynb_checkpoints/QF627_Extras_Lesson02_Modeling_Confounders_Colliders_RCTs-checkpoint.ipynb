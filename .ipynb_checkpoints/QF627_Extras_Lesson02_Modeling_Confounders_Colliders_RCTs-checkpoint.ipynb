{
 "cells": [
  {
   "attachments": {},
   "cell_type": "markdown",
   "metadata": {},
   "source": [
    "# QF 627 Extras - Financial Analytics\n",
    "## Lesson 2 | The Two Worlds of Statistical Modeling, Confounders, Colliders, and RCTs"
   ]
  },
  {
   "cell_type": "markdown",
   "metadata": {},
   "source": [
    "> Hi, Team 👋 Thank you for opening the lecture note 🙂"
   ]
  },
  {
   "cell_type": "markdown",
   "metadata": {},
   "source": [
    "<table style=\"width: 100%;\">\n",
    "  <tr>\n",
    "    <td style=\"width: 25%; text-align: center; padding-right: 20px;\">\n",
    "      <img src=\"https://images.squarespace-cdn.com/content/v1/53f3eb3ce4b077de0318f4ea/1705649199392-2MVU89VL4DTZM4HCYC2B/thankyou_prof_roh.gif\" alt=\"Prof. Roh\" width=\"100%\" height=\"auto\">\n",
    "    </td>\n",
    "    <td style=\"vertical-align: top;\">\n",
    "\n",
    "> Tonight, we will first explore the differences between models for `explanation` and models for `prediction`. Understanding this distinction is crucial as it can significantly influence the modeling strategy you use. Without a clear understanding of the question you're asking, you might apply the wrong method, leading to incorrect conclusions from your data. This chapter will demonstrate the consequences of confusing these two types of questions.\n",
    "\n",
    "> In modeling for explanation purposes (`b-hat` questions), the objective is to estimate the association between a predictor of interest and the outcome. Typically, there are a few key predictors, but numerous potential confounding variables that must be accounted for. The primary goal is to estimate the association while adjusting for these confounders. Sensitivity analyses are often conducted to check if the associations of interest remain stable across different sets of confounding variables.\n",
    "\n",
    "> In modeling for prediction purposes (`y-hat` questions), the goal is to identify a model that best predicts the outcome. The focus isn't on the predictors per se, as long as they effectively predict the outcome. There is no concern about `confounding` or `predictors of interest`—all predictors are potential contributors to the outcome prediction. Detailed explanations of the predictors or the workings of the model are NOT necessary. The main objective is to develop a model with strong predictive capabilities and to accurately estimate an error rate from the data.\n",
    "\n",
    "> After establishing a solid understanding of these two primary modeling types, we will dive into the implications of `confounders` and `colliders` in causal inference (modeling for explanatory purposes). You will also learn how to conduct `simulations`—an essential toolkit for real-world problem-solving in financial analytics—to create `synthetic data`.\n",
    "\n",
    "> Next, we will discuss the gold standard of causal inference: `Randomized Controlled Trials` (`RCTs`). This section of the lecture notes will include a companion Python script and supplementary materials from our textbook, Causal Inference for the Brave and True.\n",
    "\n",
    "> One key lesson for tonight will focus on the `decomposition of variance` that underpins modeling processes. This lesson will deepen your understanding of what regression truly involves.\n",
    "\n",
    "> Let's embark on this informative journey together 🙂\n",
    "    </td>\n",
    "  </tr>\n",
    "</table>"
   ]
  },
  {
   "cell_type": "markdown",
   "metadata": {},
   "source": [
    "## DEPENDENCIES"
   ]
  },
  {
   "cell_type": "code",
   "execution_count": 1,
   "metadata": {},
   "outputs": [],
   "source": [
    "# Load libraries.\n",
    "\n",
    "import numpy as np\n",
    "import pandas as pd\n",
    "\n",
    "import matplotlib.pyplot as plt\n",
    "import matplotlib as mpl\n",
    "\n",
    "import seaborn as sns\n",
    "\n",
    "import time\n",
    "\n",
    "import datetime\n",
    "import re\n",
    "\n",
    "import warnings\n",
    "warnings.filterwarnings(\"ignore\")\n",
    "\n",
    "# Setting baseline seed\n",
    "np.random.seed(2005)\n",
    "\n",
    "# Set print options.\n",
    "\n",
    "np.set_printoptions(precision = 3)\n",
    "\n",
    "plt.style.use(\"ggplot\")\n",
    "\n",
    "mpl.rcParams[\"axes.grid\"] = True\n",
    "mpl.rcParams[\"grid.color\"] = \"grey\"\n",
    "mpl.rcParams[\"grid.alpha\"] = 0.25\n",
    "\n",
    "mpl.rcParams[\"axes.facecolor\"] = \"white\"\n",
    "\n",
    "mpl.rcParams[\"legend.fontsize\"] = 14\n",
    "\n",
    "%matplotlib inline\n",
    "\n",
    "# Define our customized timer function\n",
    "\n",
    "def countdown(Time):\n",
    "    \n",
    "    while Time:\n",
    "        minutes, seconds = divmod(Time, 60)\n",
    "        timer = \"{:02d}:{:02d}\".format(minutes, seconds)\n",
    "        \n",
    "        print(timer, end = \"\\r\")\n",
    "        time.sleep(1)\n",
    "        Time -= 1\n",
    "        \n",
    "    print(\"Let us solve the problem above together :)\")"
   ]
  },
  {
   "cell_type": "markdown",
   "metadata": {},
   "source": [
    "## 👉 <a id = \"top\">Learning Pointers</a> 👈 "
   ]
  },
  {
   "cell_type": "markdown",
   "metadata": {},
   "source": [
    "## [1. Two Worlds of Models](#p1)\n",
    "\n",
    "> ### <font color = red> To model for explanation or for prediction, that is the question. </font>\n",
    "\n",
    "## [2. Solving a Business/Policy Question in the Field](#p2)\n",
    "\n",
    "> ### <font color = red> Air Pollution and Mortality in New York. </font>\n",
    "\n",
    "## [3. Model for Explanation](#p3)\n",
    "\n",
    "> ### <font color = red> The B-hat Problem </font>\n",
    "\n",
    "## [4. Model for Prediction](#p4)\n",
    "\n",
    "> ### <font color = red> The Y-hat Problem </font>\n",
    "\n",
    "## [5. Confounders vs. Colliders](#p5)\n",
    "\n",
    "> ### <font color = red> Simulation with Synthetic Data </font>\n",
    "\n",
    "## [6. Randomized Controlled Trials](#p6)\n",
    "\n",
    "> ### <font color = red> The Golden Standard for Causal Inference: RCTs </font>\n",
    "\n",
    "## [7. What We Learned](#p7)\n",
    "\n",
    "> ### <font color = red> Revisiting Learning Pointers </font>\n"
   ]
  },
  {
   "cell_type": "markdown",
   "metadata": {},
   "source": [
    "## <a id = \"p1\">1. </a> <font color = \"green\"> Two Worlds of Models </font>  [back to table of contents](#top)"
   ]
  },
  {
   "cell_type": "markdown",
   "metadata": {},
   "source": [
    "### Analytics Contexts\n",
    "\n",
    "> `To model for explanation or for prediction, that is the question.` \n",
    "\n",
    "> Understanding the difference between answering a model for explanation question versus a model for prediction question is important, as it can greatly impact the modeling strategy used. If you do not clearly understand the type of question you are asking, you may use the wrong modeling approach and arrive at incorrect conclusions from your data. The purpose of this chapter is to demonstrate the consequences of confusing one question for another."
   ]
  },
  {
   "cell_type": "markdown",
   "metadata": {},
   "source": [
    "### The key points to remember are:\n",
    "\n",
    "- For model for ***explanation*** questions, the goal is to estimate the association between a predictor of interest and the outcome. Typically, there are a few predictors of interest (or just one), but many potential confounding variables to consider. The main objective of modeling is to estimate the association while adjusting for any potential confounding factors. Sensitivity analyses are often performed to determine if the associations of interest are robust to different sets of confounding variables.\n",
    "<br>\n",
    "\n",
    "- For model for ***prediction*** questions, the goal is to identify a model that best predicts the outcome. There is no prior emphasis on the predictors, so long as they are effective at predicting the outcome. There is no concept of \"confounding\" or \"predictors of interest\" as all predictors have the potential to be useful for predicting the outcome. Additionally, the details of \"how the model works\" or a detailed explanation of the predictors are not necessary. The main objective is to develop a model with good prediction ability and estimate a reasonable error rate from the data."
   ]
  },
  {
   "cell_type": "markdown",
   "metadata": {},
   "source": [
    "## <a id = \"p2\">2.</a>  <font color = \"green\"> Solving a Business/Policy Question in the Field: Air Pollution and Mortality in New York. </font>  [back to table of contents](#top)"
   ]
  },
  {
   "cell_type": "markdown",
   "metadata": {},
   "source": [
    "> Our analysis will illustrate how different types of questions and corresponding modeling approaches can result in different conclusions. The data used is air pollution and mortality data for New York City."
   ]
  },
  {
   "cell_type": "code",
   "execution_count": 2,
   "metadata": {},
   "outputs": [],
   "source": [
    "# build your customized function to solve the problem\n",
    "\n",
    "def read_dropbox(url):\n",
    "    if \"?dl=0\" in url:\n",
    "        return url.replace(\"?dl=0\", \"?raw=1\")\n",
    "    return url"
   ]
  },
  {
   "cell_type": "markdown",
   "metadata": {},
   "source": [
    "#### IMPORT"
   ]
  },
  {
   "cell_type": "code",
   "execution_count": 3,
   "metadata": {},
   "outputs": [],
   "source": [
    "data =\\\n",
    "    pd \\\n",
    "    .read_csv(read_dropbox(\"https://www.dropbox.com/s/yxqnrlp9z1ify2p/new_york.csv?dl=0\")\n",
    "              )"
   ]
  },
  {
   "cell_type": "code",
   "execution_count": 4,
   "metadata": {},
   "outputs": [
    {
     "name": "stdout",
     "output_type": "stream",
     "text": [
      "<class 'pandas.core.frame.DataFrame'>\n",
      "RangeIndex: 20820 entries, 0 to 20819\n",
      "Columns: 114 entries, city to dow\n",
      "dtypes: float64(94), int64(16), object(4)\n",
      "memory usage: 18.1+ MB\n"
     ]
    }
   ],
   "source": [
    "data.info()"
   ]
  },
  {
   "cell_type": "code",
   "execution_count": 5,
   "metadata": {},
   "outputs": [
    {
     "data": {
      "text/html": [
       "<div>\n",
       "<style scoped>\n",
       "    .dataframe tbody tr th:only-of-type {\n",
       "        vertical-align: middle;\n",
       "    }\n",
       "\n",
       "    .dataframe tbody tr th {\n",
       "        vertical-align: top;\n",
       "    }\n",
       "\n",
       "    .dataframe thead th {\n",
       "        text-align: right;\n",
       "    }\n",
       "</style>\n",
       "<table border=\"1\" class=\"dataframe\">\n",
       "  <thead>\n",
       "    <tr style=\"text-align: right;\">\n",
       "      <th></th>\n",
       "      <th>alldeath</th>\n",
       "      <th>accident</th>\n",
       "      <th>copd</th>\n",
       "      <th>cvd</th>\n",
       "      <th>death</th>\n",
       "      <th>Inf</th>\n",
       "      <th>pne_inf</th>\n",
       "      <th>pneu</th>\n",
       "      <th>resp</th>\n",
       "      <th>suicide</th>\n",
       "      <th>...</th>\n",
       "      <th>cotmean</th>\n",
       "      <th>cotmean2</th>\n",
       "      <th>con</th>\n",
       "      <th>comax1</th>\n",
       "      <th>comax2</th>\n",
       "      <th>comax3</th>\n",
       "      <th>comax4</th>\n",
       "      <th>comax5</th>\n",
       "      <th>rmtmpd</th>\n",
       "      <th>rmdptp</th>\n",
       "    </tr>\n",
       "  </thead>\n",
       "  <tbody>\n",
       "    <tr>\n",
       "      <th>count</th>\n",
       "      <td>20820.000000</td>\n",
       "      <td>20820.000000</td>\n",
       "      <td>20820.000000</td>\n",
       "      <td>20820.000000</td>\n",
       "      <td>20820.000000</td>\n",
       "      <td>20820.000000</td>\n",
       "      <td>20820.000000</td>\n",
       "      <td>20820.000000</td>\n",
       "      <td>20820.000000</td>\n",
       "      <td>20820.000000</td>\n",
       "      <td>...</td>\n",
       "      <td>20811.000000</td>\n",
       "      <td>20811.000000</td>\n",
       "      <td>20820.000000</td>\n",
       "      <td>20811.000000</td>\n",
       "      <td>20811.000000</td>\n",
       "      <td>20811.000000</td>\n",
       "      <td>20811.000000</td>\n",
       "      <td>20808.000000</td>\n",
       "      <td>20811.000000</td>\n",
       "      <td>20811.000000</td>\n",
       "    </tr>\n",
       "    <tr>\n",
       "      <th>mean</th>\n",
       "      <td>64.460423</td>\n",
       "      <td>1.822622</td>\n",
       "      <td>1.723583</td>\n",
       "      <td>29.418252</td>\n",
       "      <td>60.890682</td>\n",
       "      <td>0.005908</td>\n",
       "      <td>2.808405</td>\n",
       "      <td>2.802498</td>\n",
       "      <td>4.531988</td>\n",
       "      <td>0.463737</td>\n",
       "      <td>...</td>\n",
       "      <td>-14.772740</td>\n",
       "      <td>1493.333973</td>\n",
       "      <td>5.715706</td>\n",
       "      <td>5074.873865</td>\n",
       "      <td>4505.809428</td>\n",
       "      <td>4189.808274</td>\n",
       "      <td>3962.361251</td>\n",
       "      <td>3789.158016</td>\n",
       "      <td>55.184582</td>\n",
       "      <td>42.814142</td>\n",
       "    </tr>\n",
       "    <tr>\n",
       "      <th>std</th>\n",
       "      <td>29.364291</td>\n",
       "      <td>2.348272</td>\n",
       "      <td>1.597771</td>\n",
       "      <td>21.597851</td>\n",
       "      <td>27.830558</td>\n",
       "      <td>0.077880</td>\n",
       "      <td>2.956371</td>\n",
       "      <td>2.948587</td>\n",
       "      <td>3.933667</td>\n",
       "      <td>0.839935</td>\n",
       "      <td>...</td>\n",
       "      <td>396.653766</td>\n",
       "      <td>753.670578</td>\n",
       "      <td>1.024937</td>\n",
       "      <td>3405.782399</td>\n",
       "      <td>2909.388336</td>\n",
       "      <td>2642.879405</td>\n",
       "      <td>2451.004242</td>\n",
       "      <td>2304.687666</td>\n",
       "      <td>16.408586</td>\n",
       "      <td>17.443515</td>\n",
       "    </tr>\n",
       "    <tr>\n",
       "      <th>min</th>\n",
       "      <td>10.000000</td>\n",
       "      <td>0.000000</td>\n",
       "      <td>0.000000</td>\n",
       "      <td>1.000000</td>\n",
       "      <td>10.000000</td>\n",
       "      <td>0.000000</td>\n",
       "      <td>0.000000</td>\n",
       "      <td>0.000000</td>\n",
       "      <td>0.000000</td>\n",
       "      <td>0.000000</td>\n",
       "      <td>...</td>\n",
       "      <td>-2013.449611</td>\n",
       "      <td>245.833333</td>\n",
       "      <td>0.000000</td>\n",
       "      <td>400.000000</td>\n",
       "      <td>200.000000</td>\n",
       "      <td>0.000000</td>\n",
       "      <td>0.000000</td>\n",
       "      <td>0.000000</td>\n",
       "      <td>8.750000</td>\n",
       "      <td>-4.402778</td>\n",
       "    </tr>\n",
       "    <tr>\n",
       "      <th>25%</th>\n",
       "      <td>40.000000</td>\n",
       "      <td>0.000000</td>\n",
       "      <td>1.000000</td>\n",
       "      <td>13.000000</td>\n",
       "      <td>37.000000</td>\n",
       "      <td>0.000000</td>\n",
       "      <td>1.000000</td>\n",
       "      <td>1.000000</td>\n",
       "      <td>2.000000</td>\n",
       "      <td>0.000000</td>\n",
       "      <td>...</td>\n",
       "      <td>-230.343346</td>\n",
       "      <td>912.651515</td>\n",
       "      <td>5.000000</td>\n",
       "      <td>2500.000000</td>\n",
       "      <td>2200.000000</td>\n",
       "      <td>2100.000000</td>\n",
       "      <td>2000.000000</td>\n",
       "      <td>2000.000000</td>\n",
       "      <td>41.833333</td>\n",
       "      <td>29.104167</td>\n",
       "    </tr>\n",
       "    <tr>\n",
       "      <th>50%</th>\n",
       "      <td>62.000000</td>\n",
       "      <td>1.000000</td>\n",
       "      <td>1.000000</td>\n",
       "      <td>18.000000</td>\n",
       "      <td>54.000000</td>\n",
       "      <td>0.000000</td>\n",
       "      <td>2.000000</td>\n",
       "      <td>2.000000</td>\n",
       "      <td>3.000000</td>\n",
       "      <td>0.000000</td>\n",
       "      <td>...</td>\n",
       "      <td>-57.843446</td>\n",
       "      <td>1335.416667</td>\n",
       "      <td>6.000000</td>\n",
       "      <td>4300.000000</td>\n",
       "      <td>3900.000000</td>\n",
       "      <td>3600.000000</td>\n",
       "      <td>3500.000000</td>\n",
       "      <td>3300.000000</td>\n",
       "      <td>55.222222</td>\n",
       "      <td>42.979167</td>\n",
       "    </tr>\n",
       "    <tr>\n",
       "      <th>75%</th>\n",
       "      <td>87.000000</td>\n",
       "      <td>3.000000</td>\n",
       "      <td>3.000000</td>\n",
       "      <td>51.000000</td>\n",
       "      <td>85.000000</td>\n",
       "      <td>0.000000</td>\n",
       "      <td>4.000000</td>\n",
       "      <td>4.000000</td>\n",
       "      <td>7.000000</td>\n",
       "      <td>1.000000</td>\n",
       "      <td>...</td>\n",
       "      <td>144.606851</td>\n",
       "      <td>1882.291667</td>\n",
       "      <td>6.000000</td>\n",
       "      <td>6800.000000</td>\n",
       "      <td>6100.000000</td>\n",
       "      <td>5600.000000</td>\n",
       "      <td>5300.000000</td>\n",
       "      <td>5100.000000</td>\n",
       "      <td>70.333333</td>\n",
       "      <td>58.166667</td>\n",
       "    </tr>\n",
       "    <tr>\n",
       "      <th>max</th>\n",
       "      <td>1304.000000</td>\n",
       "      <td>168.000000</td>\n",
       "      <td>13.000000</td>\n",
       "      <td>127.000000</td>\n",
       "      <td>182.000000</td>\n",
       "      <td>2.000000</td>\n",
       "      <td>23.000000</td>\n",
       "      <td>23.000000</td>\n",
       "      <td>27.000000</td>\n",
       "      <td>6.000000</td>\n",
       "      <td>...</td>\n",
       "      <td>3024.501660</td>\n",
       "      <td>5227.717391</td>\n",
       "      <td>8.000000</td>\n",
       "      <td>37400.000000</td>\n",
       "      <td>31500.000000</td>\n",
       "      <td>24800.000000</td>\n",
       "      <td>24800.000000</td>\n",
       "      <td>20400.000000</td>\n",
       "      <td>90.666667</td>\n",
       "      <td>74.770833</td>\n",
       "    </tr>\n",
       "  </tbody>\n",
       "</table>\n",
       "<p>8 rows × 110 columns</p>\n",
       "</div>"
      ],
      "text/plain": [
       "           alldeath      accident          copd           cvd         death  \\\n",
       "count  20820.000000  20820.000000  20820.000000  20820.000000  20820.000000   \n",
       "mean      64.460423      1.822622      1.723583     29.418252     60.890682   \n",
       "std       29.364291      2.348272      1.597771     21.597851     27.830558   \n",
       "min       10.000000      0.000000      0.000000      1.000000     10.000000   \n",
       "25%       40.000000      0.000000      1.000000     13.000000     37.000000   \n",
       "50%       62.000000      1.000000      1.000000     18.000000     54.000000   \n",
       "75%       87.000000      3.000000      3.000000     51.000000     85.000000   \n",
       "max     1304.000000    168.000000     13.000000    127.000000    182.000000   \n",
       "\n",
       "                Inf       pne_inf          pneu          resp       suicide  \\\n",
       "count  20820.000000  20820.000000  20820.000000  20820.000000  20820.000000   \n",
       "mean       0.005908      2.808405      2.802498      4.531988      0.463737   \n",
       "std        0.077880      2.956371      2.948587      3.933667      0.839935   \n",
       "min        0.000000      0.000000      0.000000      0.000000      0.000000   \n",
       "25%        0.000000      1.000000      1.000000      2.000000      0.000000   \n",
       "50%        0.000000      2.000000      2.000000      3.000000      0.000000   \n",
       "75%        0.000000      4.000000      4.000000      7.000000      1.000000   \n",
       "max        2.000000     23.000000     23.000000     27.000000      6.000000   \n",
       "\n",
       "       ...       cotmean      cotmean2           con        comax1  \\\n",
       "count  ...  20811.000000  20811.000000  20820.000000  20811.000000   \n",
       "mean   ...    -14.772740   1493.333973      5.715706   5074.873865   \n",
       "std    ...    396.653766    753.670578      1.024937   3405.782399   \n",
       "min    ...  -2013.449611    245.833333      0.000000    400.000000   \n",
       "25%    ...   -230.343346    912.651515      5.000000   2500.000000   \n",
       "50%    ...    -57.843446   1335.416667      6.000000   4300.000000   \n",
       "75%    ...    144.606851   1882.291667      6.000000   6800.000000   \n",
       "max    ...   3024.501660   5227.717391      8.000000  37400.000000   \n",
       "\n",
       "             comax2        comax3        comax4        comax5        rmtmpd  \\\n",
       "count  20811.000000  20811.000000  20811.000000  20808.000000  20811.000000   \n",
       "mean    4505.809428   4189.808274   3962.361251   3789.158016     55.184582   \n",
       "std     2909.388336   2642.879405   2451.004242   2304.687666     16.408586   \n",
       "min      200.000000      0.000000      0.000000      0.000000      8.750000   \n",
       "25%     2200.000000   2100.000000   2000.000000   2000.000000     41.833333   \n",
       "50%     3900.000000   3600.000000   3500.000000   3300.000000     55.222222   \n",
       "75%     6100.000000   5600.000000   5300.000000   5100.000000     70.333333   \n",
       "max    31500.000000  24800.000000  24800.000000  20400.000000     90.666667   \n",
       "\n",
       "             rmdptp  \n",
       "count  20811.000000  \n",
       "mean      42.814142  \n",
       "std       17.443515  \n",
       "min       -4.402778  \n",
       "25%       29.104167  \n",
       "50%       42.979167  \n",
       "75%       58.166667  \n",
       "max       74.770833  \n",
       "\n",
       "[8 rows x 110 columns]"
      ]
     },
     "execution_count": 5,
     "metadata": {},
     "output_type": "execute_result"
    }
   ],
   "source": [
    "data.describe()"
   ]
  },
  {
   "cell_type": "code",
   "execution_count": 6,
   "metadata": {},
   "outputs": [
    {
     "data": {
      "text/plain": [
       "Index(['city', 'alldeath', 'accident', 'copd', 'cvd', 'death', 'Inf',\n",
       "       'pne_inf', 'pneu', 'resp',\n",
       "       ...\n",
       "       'cotmean2', 'con', 'comax1', 'comax2', 'comax3', 'comax4', 'comax5',\n",
       "       'rmtmpd', 'rmdptp', 'dow'],\n",
       "      dtype='object', length=114)"
      ]
     },
     "execution_count": 6,
     "metadata": {},
     "output_type": "execute_result"
    }
   ],
   "source": [
    "data.columns"
   ]
  },
  {
   "cell_type": "code",
   "execution_count": 7,
   "metadata": {},
   "outputs": [
    {
     "data": {
      "text/plain": [
       "(20820, 114)"
      ]
     },
     "execution_count": 7,
     "metadata": {},
     "output_type": "execute_result"
    }
   ],
   "source": [
    "data.shape"
   ]
  },
  {
   "cell_type": "code",
   "execution_count": 8,
   "metadata": {},
   "outputs": [
    {
     "data": {
      "text/html": [
       "<div>\n",
       "<style scoped>\n",
       "    .dataframe tbody tr th:only-of-type {\n",
       "        vertical-align: middle;\n",
       "    }\n",
       "\n",
       "    .dataframe tbody tr th {\n",
       "        vertical-align: top;\n",
       "    }\n",
       "\n",
       "    .dataframe thead th {\n",
       "        text-align: right;\n",
       "    }\n",
       "</style>\n",
       "<table border=\"1\" class=\"dataframe\">\n",
       "  <thead>\n",
       "    <tr style=\"text-align: right;\">\n",
       "      <th></th>\n",
       "      <th>city</th>\n",
       "      <th>alldeath</th>\n",
       "      <th>accident</th>\n",
       "      <th>copd</th>\n",
       "      <th>cvd</th>\n",
       "      <th>death</th>\n",
       "      <th>Inf</th>\n",
       "      <th>pne_inf</th>\n",
       "      <th>pneu</th>\n",
       "      <th>resp</th>\n",
       "      <th>...</th>\n",
       "      <th>cotmean2</th>\n",
       "      <th>con</th>\n",
       "      <th>comax1</th>\n",
       "      <th>comax2</th>\n",
       "      <th>comax3</th>\n",
       "      <th>comax4</th>\n",
       "      <th>comax5</th>\n",
       "      <th>rmtmpd</th>\n",
       "      <th>rmdptp</th>\n",
       "      <th>dow</th>\n",
       "    </tr>\n",
       "  </thead>\n",
       "  <tbody>\n",
       "    <tr>\n",
       "      <th>0</th>\n",
       "      <td>ny</td>\n",
       "      <td>93</td>\n",
       "      <td>10</td>\n",
       "      <td>3</td>\n",
       "      <td>22</td>\n",
       "      <td>73</td>\n",
       "      <td>0</td>\n",
       "      <td>3</td>\n",
       "      <td>3</td>\n",
       "      <td>6</td>\n",
       "      <td>...</td>\n",
       "      <td>2088.352273</td>\n",
       "      <td>6</td>\n",
       "      <td>8100.0</td>\n",
       "      <td>6800.0</td>\n",
       "      <td>6000.0</td>\n",
       "      <td>5200.0</td>\n",
       "      <td>5100.0</td>\n",
       "      <td>NaN</td>\n",
       "      <td>NaN</td>\n",
       "      <td>Thursday</td>\n",
       "    </tr>\n",
       "    <tr>\n",
       "      <th>1</th>\n",
       "      <td>ny</td>\n",
       "      <td>77</td>\n",
       "      <td>4</td>\n",
       "      <td>4</td>\n",
       "      <td>20</td>\n",
       "      <td>68</td>\n",
       "      <td>0</td>\n",
       "      <td>1</td>\n",
       "      <td>1</td>\n",
       "      <td>5</td>\n",
       "      <td>...</td>\n",
       "      <td>2049.031385</td>\n",
       "      <td>6</td>\n",
       "      <td>9500.0</td>\n",
       "      <td>9000.0</td>\n",
       "      <td>8800.0</td>\n",
       "      <td>8400.0</td>\n",
       "      <td>8000.0</td>\n",
       "      <td>NaN</td>\n",
       "      <td>NaN</td>\n",
       "      <td>Friday</td>\n",
       "    </tr>\n",
       "    <tr>\n",
       "      <th>2</th>\n",
       "      <td>ny</td>\n",
       "      <td>64</td>\n",
       "      <td>5</td>\n",
       "      <td>0</td>\n",
       "      <td>17</td>\n",
       "      <td>56</td>\n",
       "      <td>0</td>\n",
       "      <td>3</td>\n",
       "      <td>3</td>\n",
       "      <td>3</td>\n",
       "      <td>...</td>\n",
       "      <td>1875.815217</td>\n",
       "      <td>6</td>\n",
       "      <td>8400.0</td>\n",
       "      <td>7700.0</td>\n",
       "      <td>6700.0</td>\n",
       "      <td>6200.0</td>\n",
       "      <td>6000.0</td>\n",
       "      <td>NaN</td>\n",
       "      <td>NaN</td>\n",
       "      <td>Saturday</td>\n",
       "    </tr>\n",
       "  </tbody>\n",
       "</table>\n",
       "<p>3 rows × 114 columns</p>\n",
       "</div>"
      ],
      "text/plain": [
       "  city  alldeath  accident  copd  cvd  death  Inf  pne_inf  pneu  resp  ...  \\\n",
       "0   ny        93        10     3   22     73    0        3     3     6  ...   \n",
       "1   ny        77         4     4   20     68    0        1     1     5  ...   \n",
       "2   ny        64         5     0   17     56    0        3     3     3  ...   \n",
       "\n",
       "      cotmean2 con  comax1  comax2  comax3  comax4  comax5  rmtmpd  rmdptp  \\\n",
       "0  2088.352273   6  8100.0  6800.0  6000.0  5200.0  5100.0     NaN     NaN   \n",
       "1  2049.031385   6  9500.0  9000.0  8800.0  8400.0  8000.0     NaN     NaN   \n",
       "2  1875.815217   6  8400.0  7700.0  6700.0  6200.0  6000.0     NaN     NaN   \n",
       "\n",
       "        dow  \n",
       "0  Thursday  \n",
       "1    Friday  \n",
       "2  Saturday  \n",
       "\n",
       "[3 rows x 114 columns]"
      ]
     },
     "execution_count": 8,
     "metadata": {},
     "output_type": "execute_result"
    }
   ],
   "source": [
    "data.head(3)"
   ]
  },
  {
   "cell_type": "markdown",
   "metadata": {},
   "source": [
    "#### WRANGLE"
   ]
  },
  {
   "cell_type": "code",
   "execution_count": 9,
   "metadata": {},
   "outputs": [],
   "source": [
    "subset_DF =\\\n",
    "data[[\"date\"]].tail()"
   ]
  },
  {
   "cell_type": "code",
   "execution_count": 10,
   "metadata": {},
   "outputs": [
    {
     "data": {
      "text/html": [
       "<div>\n",
       "<style scoped>\n",
       "    .dataframe tbody tr th:only-of-type {\n",
       "        vertical-align: middle;\n",
       "    }\n",
       "\n",
       "    .dataframe tbody tr th {\n",
       "        vertical-align: top;\n",
       "    }\n",
       "\n",
       "    .dataframe thead th {\n",
       "        text-align: right;\n",
       "    }\n",
       "</style>\n",
       "<table border=\"1\" class=\"dataframe\">\n",
       "  <thead>\n",
       "    <tr style=\"text-align: right;\">\n",
       "      <th></th>\n",
       "      <th>date</th>\n",
       "    </tr>\n",
       "  </thead>\n",
       "  <tbody>\n",
       "    <tr>\n",
       "      <th>20815</th>\n",
       "      <td>2005-12-27</td>\n",
       "    </tr>\n",
       "    <tr>\n",
       "      <th>20816</th>\n",
       "      <td>2005-12-28</td>\n",
       "    </tr>\n",
       "    <tr>\n",
       "      <th>20817</th>\n",
       "      <td>2005-12-29</td>\n",
       "    </tr>\n",
       "    <tr>\n",
       "      <th>20818</th>\n",
       "      <td>2005-12-30</td>\n",
       "    </tr>\n",
       "    <tr>\n",
       "      <th>20819</th>\n",
       "      <td>2005-12-31</td>\n",
       "    </tr>\n",
       "  </tbody>\n",
       "</table>\n",
       "</div>"
      ],
      "text/plain": [
       "             date\n",
       "20815  2005-12-27\n",
       "20816  2005-12-28\n",
       "20817  2005-12-29\n",
       "20818  2005-12-30\n",
       "20819  2005-12-31"
      ]
     },
     "execution_count": 10,
     "metadata": {},
     "output_type": "execute_result"
    }
   ],
   "source": [
    "subset_DF"
   ]
  },
  {
   "cell_type": "code",
   "execution_count": 11,
   "metadata": {},
   "outputs": [
    {
     "data": {
      "text/html": [
       "<div>\n",
       "<style scoped>\n",
       "    .dataframe tbody tr th:only-of-type {\n",
       "        vertical-align: middle;\n",
       "    }\n",
       "\n",
       "    .dataframe tbody tr th {\n",
       "        vertical-align: top;\n",
       "    }\n",
       "\n",
       "    .dataframe thead th {\n",
       "        text-align: right;\n",
       "    }\n",
       "</style>\n",
       "<table border=\"1\" class=\"dataframe\">\n",
       "  <thead>\n",
       "    <tr style=\"text-align: right;\">\n",
       "      <th></th>\n",
       "      <th>death</th>\n",
       "    </tr>\n",
       "  </thead>\n",
       "  <tbody>\n",
       "    <tr>\n",
       "      <th>0</th>\n",
       "      <td>73</td>\n",
       "    </tr>\n",
       "    <tr>\n",
       "      <th>1</th>\n",
       "      <td>68</td>\n",
       "    </tr>\n",
       "    <tr>\n",
       "      <th>2</th>\n",
       "      <td>56</td>\n",
       "    </tr>\n",
       "    <tr>\n",
       "      <th>3</th>\n",
       "      <td>55</td>\n",
       "    </tr>\n",
       "    <tr>\n",
       "      <th>4</th>\n",
       "      <td>60</td>\n",
       "    </tr>\n",
       "    <tr>\n",
       "      <th>...</th>\n",
       "      <td>...</td>\n",
       "    </tr>\n",
       "    <tr>\n",
       "      <th>20815</th>\n",
       "      <td>92</td>\n",
       "    </tr>\n",
       "    <tr>\n",
       "      <th>20816</th>\n",
       "      <td>79</td>\n",
       "    </tr>\n",
       "    <tr>\n",
       "      <th>20817</th>\n",
       "      <td>107</td>\n",
       "    </tr>\n",
       "    <tr>\n",
       "      <th>20818</th>\n",
       "      <td>98</td>\n",
       "    </tr>\n",
       "    <tr>\n",
       "      <th>20819</th>\n",
       "      <td>81</td>\n",
       "    </tr>\n",
       "  </tbody>\n",
       "</table>\n",
       "<p>20820 rows × 1 columns</p>\n",
       "</div>"
      ],
      "text/plain": [
       "       death\n",
       "0         73\n",
       "1         68\n",
       "2         56\n",
       "3         55\n",
       "4         60\n",
       "...      ...\n",
       "20815     92\n",
       "20816     79\n",
       "20817    107\n",
       "20818     98\n",
       "20819     81\n",
       "\n",
       "[20820 rows x 1 columns]"
      ]
     },
     "execution_count": 11,
     "metadata": {},
     "output_type": "execute_result"
    }
   ],
   "source": [
    "data[[\"death\"]]"
   ]
  },
  {
   "cell_type": "code",
   "execution_count": 12,
   "metadata": {},
   "outputs": [
    {
     "name": "stdout",
     "output_type": "stream",
     "text": [
      "The Zen of Python, by Tim Peters\n",
      "\n",
      "Beautiful is better than ugly.\n",
      "Explicit is better than implicit.\n",
      "Simple is better than complex.\n",
      "Complex is better than complicated.\n",
      "Flat is better than nested.\n",
      "Sparse is better than dense.\n",
      "Readability counts.\n",
      "Special cases aren't special enough to break the rules.\n",
      "Although practicality beats purity.\n",
      "Errors should never pass silently.\n",
      "Unless explicitly silenced.\n",
      "In the face of ambiguity, refuse the temptation to guess.\n",
      "There should be one-- and preferably only one --obvious way to do it.\n",
      "Although that way may not be obvious at first unless you're Dutch.\n",
      "Now is better than never.\n",
      "Although never is often better than *right* now.\n",
      "If the implementation is hard to explain, it's a bad idea.\n",
      "If the implementation is easy to explain, it may be a good idea.\n",
      "Namespaces are one honking great idea -- let's do more of those!\n"
     ]
    }
   ],
   "source": [
    "import this"
   ]
  },
  {
   "cell_type": "code",
   "execution_count": 13,
   "metadata": {},
   "outputs": [],
   "source": [
    "subset_DF =\\\n",
    "(\n",
    " data\n",
    " [[\"date\", \"death\"]]\n",
    " .loc[data[\"date\"] >= \"2001-01-01\"]\n",
    " .groupby(\"date\")\n",
    " .sum()\n",
    " .reset_index()\n",
    ")"
   ]
  },
  {
   "cell_type": "code",
   "execution_count": 14,
   "metadata": {},
   "outputs": [
    {
     "data": {
      "text/html": [
       "<div>\n",
       "<style scoped>\n",
       "    .dataframe tbody tr th:only-of-type {\n",
       "        vertical-align: middle;\n",
       "    }\n",
       "\n",
       "    .dataframe tbody tr th {\n",
       "        vertical-align: top;\n",
       "    }\n",
       "\n",
       "    .dataframe thead th {\n",
       "        text-align: right;\n",
       "    }\n",
       "</style>\n",
       "<table border=\"1\" class=\"dataframe\">\n",
       "  <thead>\n",
       "    <tr style=\"text-align: right;\">\n",
       "      <th></th>\n",
       "      <th>date</th>\n",
       "      <th>death</th>\n",
       "    </tr>\n",
       "  </thead>\n",
       "  <tbody>\n",
       "    <tr>\n",
       "      <th>0</th>\n",
       "      <td>2001-01-01</td>\n",
       "      <td>186</td>\n",
       "    </tr>\n",
       "    <tr>\n",
       "      <th>1</th>\n",
       "      <td>2001-01-02</td>\n",
       "      <td>225</td>\n",
       "    </tr>\n",
       "    <tr>\n",
       "      <th>2</th>\n",
       "      <td>2001-01-03</td>\n",
       "      <td>202</td>\n",
       "    </tr>\n",
       "    <tr>\n",
       "      <th>3</th>\n",
       "      <td>2001-01-04</td>\n",
       "      <td>186</td>\n",
       "    </tr>\n",
       "    <tr>\n",
       "      <th>4</th>\n",
       "      <td>2001-01-05</td>\n",
       "      <td>226</td>\n",
       "    </tr>\n",
       "    <tr>\n",
       "      <th>...</th>\n",
       "      <td>...</td>\n",
       "      <td>...</td>\n",
       "    </tr>\n",
       "    <tr>\n",
       "      <th>1821</th>\n",
       "      <td>2005-12-27</td>\n",
       "      <td>162</td>\n",
       "    </tr>\n",
       "    <tr>\n",
       "      <th>1822</th>\n",
       "      <td>2005-12-28</td>\n",
       "      <td>152</td>\n",
       "    </tr>\n",
       "    <tr>\n",
       "      <th>1823</th>\n",
       "      <td>2005-12-29</td>\n",
       "      <td>176</td>\n",
       "    </tr>\n",
       "    <tr>\n",
       "      <th>1824</th>\n",
       "      <td>2005-12-30</td>\n",
       "      <td>163</td>\n",
       "    </tr>\n",
       "    <tr>\n",
       "      <th>1825</th>\n",
       "      <td>2005-12-31</td>\n",
       "      <td>136</td>\n",
       "    </tr>\n",
       "  </tbody>\n",
       "</table>\n",
       "<p>1826 rows × 2 columns</p>\n",
       "</div>"
      ],
      "text/plain": [
       "            date  death\n",
       "0     2001-01-01    186\n",
       "1     2001-01-02    225\n",
       "2     2001-01-03    202\n",
       "3     2001-01-04    186\n",
       "4     2001-01-05    226\n",
       "...          ...    ...\n",
       "1821  2005-12-27    162\n",
       "1822  2005-12-28    152\n",
       "1823  2005-12-29    176\n",
       "1824  2005-12-30    163\n",
       "1825  2005-12-31    136\n",
       "\n",
       "[1826 rows x 2 columns]"
      ]
     },
     "execution_count": 14,
     "metadata": {},
     "output_type": "execute_result"
    }
   ],
   "source": [
    "subset_DF"
   ]
  },
  {
   "cell_type": "code",
   "execution_count": 15,
   "metadata": {},
   "outputs": [
    {
     "data": {
      "text/html": [
       "<div>\n",
       "<style scoped>\n",
       "    .dataframe tbody tr th:only-of-type {\n",
       "        vertical-align: middle;\n",
       "    }\n",
       "\n",
       "    .dataframe tbody tr th {\n",
       "        vertical-align: top;\n",
       "    }\n",
       "\n",
       "    .dataframe thead th {\n",
       "        text-align: right;\n",
       "    }\n",
       "</style>\n",
       "<table border=\"1\" class=\"dataframe\">\n",
       "  <thead>\n",
       "    <tr style=\"text-align: right;\">\n",
       "      <th></th>\n",
       "      <th>0</th>\n",
       "    </tr>\n",
       "  </thead>\n",
       "  <tbody>\n",
       "    <tr>\n",
       "      <th>city</th>\n",
       "      <td>city</td>\n",
       "    </tr>\n",
       "    <tr>\n",
       "      <th>alldeath</th>\n",
       "      <td>alldeath</td>\n",
       "    </tr>\n",
       "    <tr>\n",
       "      <th>accident</th>\n",
       "      <td>accident</td>\n",
       "    </tr>\n",
       "    <tr>\n",
       "      <th>copd</th>\n",
       "      <td>copd</td>\n",
       "    </tr>\n",
       "    <tr>\n",
       "      <th>cvd</th>\n",
       "      <td>cvd</td>\n",
       "    </tr>\n",
       "    <tr>\n",
       "      <th>...</th>\n",
       "      <td>...</td>\n",
       "    </tr>\n",
       "    <tr>\n",
       "      <th>comax4</th>\n",
       "      <td>comax4</td>\n",
       "    </tr>\n",
       "    <tr>\n",
       "      <th>comax5</th>\n",
       "      <td>comax5</td>\n",
       "    </tr>\n",
       "    <tr>\n",
       "      <th>rmtmpd</th>\n",
       "      <td>rmtmpd</td>\n",
       "    </tr>\n",
       "    <tr>\n",
       "      <th>rmdptp</th>\n",
       "      <td>rmdptp</td>\n",
       "    </tr>\n",
       "    <tr>\n",
       "      <th>dow</th>\n",
       "      <td>dow</td>\n",
       "    </tr>\n",
       "  </tbody>\n",
       "</table>\n",
       "<p>114 rows × 1 columns</p>\n",
       "</div>"
      ],
      "text/plain": [
       "                 0\n",
       "city          city\n",
       "alldeath  alldeath\n",
       "accident  accident\n",
       "copd          copd\n",
       "cvd            cvd\n",
       "...            ...\n",
       "comax4      comax4\n",
       "comax5      comax5\n",
       "rmtmpd      rmtmpd\n",
       "rmdptp      rmdptp\n",
       "dow            dow\n",
       "\n",
       "[114 rows x 1 columns]"
      ]
     },
     "execution_count": 15,
     "metadata": {},
     "output_type": "execute_result"
    }
   ],
   "source": [
    "(data\n",
    " .columns\n",
    " .to_frame()\n",
    ")"
   ]
  },
  {
   "cell_type": "code",
   "execution_count": 16,
   "metadata": {},
   "outputs": [],
   "source": [
    "exposure =\\\n",
    "(    data \n",
    "     .drop([\"death\"],\n",
    "           axis = 1)\n",
    "     .loc[(data[\"agecat\"] == \"under65\") & (data[\"date\"] >= \"2001-01-01\")                 \n",
    "         ]\n",
    ")"
   ]
  },
  {
   "cell_type": "code",
   "execution_count": 17,
   "metadata": {},
   "outputs": [
    {
     "data": {
      "text/html": [
       "<div>\n",
       "<style scoped>\n",
       "    .dataframe tbody tr th:only-of-type {\n",
       "        vertical-align: middle;\n",
       "    }\n",
       "\n",
       "    .dataframe tbody tr th {\n",
       "        vertical-align: top;\n",
       "    }\n",
       "\n",
       "    .dataframe thead th {\n",
       "        text-align: right;\n",
       "    }\n",
       "</style>\n",
       "<table border=\"1\" class=\"dataframe\">\n",
       "  <thead>\n",
       "    <tr style=\"text-align: right;\">\n",
       "      <th></th>\n",
       "      <th>city</th>\n",
       "      <th>alldeath</th>\n",
       "      <th>accident</th>\n",
       "      <th>copd</th>\n",
       "      <th>cvd</th>\n",
       "      <th>Inf</th>\n",
       "      <th>pne_inf</th>\n",
       "      <th>pneu</th>\n",
       "      <th>resp</th>\n",
       "      <th>suicide</th>\n",
       "      <th>...</th>\n",
       "      <th>cotmean2</th>\n",
       "      <th>con</th>\n",
       "      <th>comax1</th>\n",
       "      <th>comax2</th>\n",
       "      <th>comax3</th>\n",
       "      <th>comax4</th>\n",
       "      <th>comax5</th>\n",
       "      <th>rmtmpd</th>\n",
       "      <th>rmdptp</th>\n",
       "      <th>dow</th>\n",
       "    </tr>\n",
       "  </thead>\n",
       "  <tbody>\n",
       "    <tr>\n",
       "      <th>5114</th>\n",
       "      <td>ny</td>\n",
       "      <td>67</td>\n",
       "      <td>7</td>\n",
       "      <td>2</td>\n",
       "      <td>13</td>\n",
       "      <td>0</td>\n",
       "      <td>0</td>\n",
       "      <td>0</td>\n",
       "      <td>2</td>\n",
       "      <td>2</td>\n",
       "      <td>...</td>\n",
       "      <td>730.000000</td>\n",
       "      <td>7</td>\n",
       "      <td>1800.0</td>\n",
       "      <td>1700.0</td>\n",
       "      <td>1600.0</td>\n",
       "      <td>1600.0</td>\n",
       "      <td>1600.0</td>\n",
       "      <td>26.888889</td>\n",
       "      <td>17.444444</td>\n",
       "      <td>Monday</td>\n",
       "    </tr>\n",
       "    <tr>\n",
       "      <th>5115</th>\n",
       "      <td>ny</td>\n",
       "      <td>64</td>\n",
       "      <td>5</td>\n",
       "      <td>1</td>\n",
       "      <td>13</td>\n",
       "      <td>0</td>\n",
       "      <td>1</td>\n",
       "      <td>1</td>\n",
       "      <td>2</td>\n",
       "      <td>0</td>\n",
       "      <td>...</td>\n",
       "      <td>934.762846</td>\n",
       "      <td>7</td>\n",
       "      <td>2900.0</td>\n",
       "      <td>2500.0</td>\n",
       "      <td>2300.0</td>\n",
       "      <td>2200.0</td>\n",
       "      <td>2200.0</td>\n",
       "      <td>28.111111</td>\n",
       "      <td>17.955556</td>\n",
       "      <td>Tuesday</td>\n",
       "    </tr>\n",
       "    <tr>\n",
       "      <th>5116</th>\n",
       "      <td>ny</td>\n",
       "      <td>55</td>\n",
       "      <td>1</td>\n",
       "      <td>1</td>\n",
       "      <td>12</td>\n",
       "      <td>0</td>\n",
       "      <td>2</td>\n",
       "      <td>2</td>\n",
       "      <td>3</td>\n",
       "      <td>1</td>\n",
       "      <td>...</td>\n",
       "      <td>1207.500000</td>\n",
       "      <td>7</td>\n",
       "      <td>2600.0</td>\n",
       "      <td>2400.0</td>\n",
       "      <td>2400.0</td>\n",
       "      <td>2300.0</td>\n",
       "      <td>2300.0</td>\n",
       "      <td>26.333333</td>\n",
       "      <td>13.655556</td>\n",
       "      <td>Wednesday</td>\n",
       "    </tr>\n",
       "    <tr>\n",
       "      <th>5117</th>\n",
       "      <td>ny</td>\n",
       "      <td>55</td>\n",
       "      <td>4</td>\n",
       "      <td>4</td>\n",
       "      <td>10</td>\n",
       "      <td>0</td>\n",
       "      <td>0</td>\n",
       "      <td>0</td>\n",
       "      <td>4</td>\n",
       "      <td>2</td>\n",
       "      <td>...</td>\n",
       "      <td>1249.206192</td>\n",
       "      <td>7</td>\n",
       "      <td>2600.0</td>\n",
       "      <td>2500.0</td>\n",
       "      <td>2500.0</td>\n",
       "      <td>2300.0</td>\n",
       "      <td>2200.0</td>\n",
       "      <td>25.444444</td>\n",
       "      <td>13.355556</td>\n",
       "      <td>Thursday</td>\n",
       "    </tr>\n",
       "    <tr>\n",
       "      <th>5118</th>\n",
       "      <td>ny</td>\n",
       "      <td>64</td>\n",
       "      <td>2</td>\n",
       "      <td>2</td>\n",
       "      <td>21</td>\n",
       "      <td>0</td>\n",
       "      <td>0</td>\n",
       "      <td>0</td>\n",
       "      <td>2</td>\n",
       "      <td>0</td>\n",
       "      <td>...</td>\n",
       "      <td>1350.000000</td>\n",
       "      <td>6</td>\n",
       "      <td>3000.0</td>\n",
       "      <td>2900.0</td>\n",
       "      <td>2500.0</td>\n",
       "      <td>2400.0</td>\n",
       "      <td>2300.0</td>\n",
       "      <td>25.888889</td>\n",
       "      <td>15.077778</td>\n",
       "      <td>Friday</td>\n",
       "    </tr>\n",
       "    <tr>\n",
       "      <th>...</th>\n",
       "      <td>...</td>\n",
       "      <td>...</td>\n",
       "      <td>...</td>\n",
       "      <td>...</td>\n",
       "      <td>...</td>\n",
       "      <td>...</td>\n",
       "      <td>...</td>\n",
       "      <td>...</td>\n",
       "      <td>...</td>\n",
       "      <td>...</td>\n",
       "      <td>...</td>\n",
       "      <td>...</td>\n",
       "      <td>...</td>\n",
       "      <td>...</td>\n",
       "      <td>...</td>\n",
       "      <td>...</td>\n",
       "      <td>...</td>\n",
       "      <td>...</td>\n",
       "      <td>...</td>\n",
       "      <td>...</td>\n",
       "      <td>...</td>\n",
       "    </tr>\n",
       "    <tr>\n",
       "      <th>6935</th>\n",
       "      <td>ny</td>\n",
       "      <td>47</td>\n",
       "      <td>2</td>\n",
       "      <td>0</td>\n",
       "      <td>13</td>\n",
       "      <td>0</td>\n",
       "      <td>1</td>\n",
       "      <td>1</td>\n",
       "      <td>1</td>\n",
       "      <td>2</td>\n",
       "      <td>...</td>\n",
       "      <td>494.507576</td>\n",
       "      <td>4</td>\n",
       "      <td>1400.0</td>\n",
       "      <td>900.0</td>\n",
       "      <td>900.0</td>\n",
       "      <td>900.0</td>\n",
       "      <td>800.0</td>\n",
       "      <td>46.000000</td>\n",
       "      <td>36.444444</td>\n",
       "      <td>Tuesday</td>\n",
       "    </tr>\n",
       "    <tr>\n",
       "      <th>6936</th>\n",
       "      <td>ny</td>\n",
       "      <td>48</td>\n",
       "      <td>2</td>\n",
       "      <td>0</td>\n",
       "      <td>11</td>\n",
       "      <td>0</td>\n",
       "      <td>0</td>\n",
       "      <td>0</td>\n",
       "      <td>0</td>\n",
       "      <td>0</td>\n",
       "      <td>...</td>\n",
       "      <td>704.464286</td>\n",
       "      <td>4</td>\n",
       "      <td>1600.0</td>\n",
       "      <td>1500.0</td>\n",
       "      <td>1300.0</td>\n",
       "      <td>1300.0</td>\n",
       "      <td>1300.0</td>\n",
       "      <td>43.555556</td>\n",
       "      <td>35.522222</td>\n",
       "      <td>Wednesday</td>\n",
       "    </tr>\n",
       "    <tr>\n",
       "      <th>6937</th>\n",
       "      <td>ny</td>\n",
       "      <td>45</td>\n",
       "      <td>2</td>\n",
       "      <td>1</td>\n",
       "      <td>10</td>\n",
       "      <td>0</td>\n",
       "      <td>0</td>\n",
       "      <td>0</td>\n",
       "      <td>1</td>\n",
       "      <td>2</td>\n",
       "      <td>...</td>\n",
       "      <td>783.333333</td>\n",
       "      <td>4</td>\n",
       "      <td>2200.0</td>\n",
       "      <td>2200.0</td>\n",
       "      <td>1800.0</td>\n",
       "      <td>1700.0</td>\n",
       "      <td>1600.0</td>\n",
       "      <td>42.333333</td>\n",
       "      <td>33.644444</td>\n",
       "      <td>Thursday</td>\n",
       "    </tr>\n",
       "    <tr>\n",
       "      <th>6938</th>\n",
       "      <td>ny</td>\n",
       "      <td>47</td>\n",
       "      <td>4</td>\n",
       "      <td>2</td>\n",
       "      <td>16</td>\n",
       "      <td>0</td>\n",
       "      <td>1</td>\n",
       "      <td>1</td>\n",
       "      <td>3</td>\n",
       "      <td>1</td>\n",
       "      <td>...</td>\n",
       "      <td>533.333333</td>\n",
       "      <td>4</td>\n",
       "      <td>1100.0</td>\n",
       "      <td>1100.0</td>\n",
       "      <td>1000.0</td>\n",
       "      <td>800.0</td>\n",
       "      <td>800.0</td>\n",
       "      <td>43.111111</td>\n",
       "      <td>35.566667</td>\n",
       "      <td>Friday</td>\n",
       "    </tr>\n",
       "    <tr>\n",
       "      <th>6939</th>\n",
       "      <td>ny</td>\n",
       "      <td>40</td>\n",
       "      <td>4</td>\n",
       "      <td>0</td>\n",
       "      <td>14</td>\n",
       "      <td>0</td>\n",
       "      <td>3</td>\n",
       "      <td>3</td>\n",
       "      <td>3</td>\n",
       "      <td>1</td>\n",
       "      <td>...</td>\n",
       "      <td>602.083333</td>\n",
       "      <td>4</td>\n",
       "      <td>1300.0</td>\n",
       "      <td>1300.0</td>\n",
       "      <td>1300.0</td>\n",
       "      <td>1300.0</td>\n",
       "      <td>1300.0</td>\n",
       "      <td>43.333333</td>\n",
       "      <td>36.444444</td>\n",
       "      <td>Saturday</td>\n",
       "    </tr>\n",
       "  </tbody>\n",
       "</table>\n",
       "<p>1826 rows × 113 columns</p>\n",
       "</div>"
      ],
      "text/plain": [
       "     city  alldeath  accident  copd  cvd  Inf  pne_inf  pneu  resp  suicide  \\\n",
       "5114   ny        67         7     2   13    0        0     0     2        2   \n",
       "5115   ny        64         5     1   13    0        1     1     2        0   \n",
       "5116   ny        55         1     1   12    0        2     2     3        1   \n",
       "5117   ny        55         4     4   10    0        0     0     4        2   \n",
       "5118   ny        64         2     2   21    0        0     0     2        0   \n",
       "...   ...       ...       ...   ...  ...  ...      ...   ...   ...      ...   \n",
       "6935   ny        47         2     0   13    0        1     1     1        2   \n",
       "6936   ny        48         2     0   11    0        0     0     0        0   \n",
       "6937   ny        45         2     1   10    0        0     0     1        2   \n",
       "6938   ny        47         4     2   16    0        1     1     3        1   \n",
       "6939   ny        40         4     0   14    0        3     3     3        1   \n",
       "\n",
       "      ...     cotmean2 con  comax1  comax2  comax3  comax4  comax5     rmtmpd  \\\n",
       "5114  ...   730.000000   7  1800.0  1700.0  1600.0  1600.0  1600.0  26.888889   \n",
       "5115  ...   934.762846   7  2900.0  2500.0  2300.0  2200.0  2200.0  28.111111   \n",
       "5116  ...  1207.500000   7  2600.0  2400.0  2400.0  2300.0  2300.0  26.333333   \n",
       "5117  ...  1249.206192   7  2600.0  2500.0  2500.0  2300.0  2200.0  25.444444   \n",
       "5118  ...  1350.000000   6  3000.0  2900.0  2500.0  2400.0  2300.0  25.888889   \n",
       "...   ...          ...  ..     ...     ...     ...     ...     ...        ...   \n",
       "6935  ...   494.507576   4  1400.0   900.0   900.0   900.0   800.0  46.000000   \n",
       "6936  ...   704.464286   4  1600.0  1500.0  1300.0  1300.0  1300.0  43.555556   \n",
       "6937  ...   783.333333   4  2200.0  2200.0  1800.0  1700.0  1600.0  42.333333   \n",
       "6938  ...   533.333333   4  1100.0  1100.0  1000.0   800.0   800.0  43.111111   \n",
       "6939  ...   602.083333   4  1300.0  1300.0  1300.0  1300.0  1300.0  43.333333   \n",
       "\n",
       "         rmdptp        dow  \n",
       "5114  17.444444     Monday  \n",
       "5115  17.955556    Tuesday  \n",
       "5116  13.655556  Wednesday  \n",
       "5117  13.355556   Thursday  \n",
       "5118  15.077778     Friday  \n",
       "...         ...        ...  \n",
       "6935  36.444444    Tuesday  \n",
       "6936  35.522222  Wednesday  \n",
       "6937  33.644444   Thursday  \n",
       "6938  35.566667     Friday  \n",
       "6939  36.444444   Saturday  \n",
       "\n",
       "[1826 rows x 113 columns]"
      ]
     },
     "execution_count": 17,
     "metadata": {},
     "output_type": "execute_result"
    }
   ],
   "source": [
    "exposure"
   ]
  },
  {
   "cell_type": "code",
   "execution_count": 18,
   "metadata": {},
   "outputs": [],
   "source": [
    "data_for_analysis =\\\n",
    "(    pd\n",
    "     .merge(subset_DF, exposure,\n",
    "            on = \"date\")\n",
    ")"
   ]
  },
  {
   "cell_type": "code",
   "execution_count": 19,
   "metadata": {},
   "outputs": [
    {
     "name": "stdout",
     "output_type": "stream",
     "text": [
      "(1826, 2)\n",
      "(1826, 113)\n",
      "(1826, 114)\n"
     ]
    }
   ],
   "source": [
    "print(subset_DF.shape);print(exposure.shape);print(data_for_analysis.shape)"
   ]
  },
  {
   "cell_type": "code",
   "execution_count": 20,
   "metadata": {},
   "outputs": [
    {
     "data": {
      "text/plain": [
       "date         object\n",
       "death         int64\n",
       "city         object\n",
       "alldeath      int64\n",
       "accident      int64\n",
       "             ...   \n",
       "comax4      float64\n",
       "comax5      float64\n",
       "rmtmpd      float64\n",
       "rmdptp      float64\n",
       "dow          object\n",
       "Length: 114, dtype: object"
      ]
     },
     "execution_count": 20,
     "metadata": {},
     "output_type": "execute_result"
    }
   ],
   "source": [
    "data_for_analysis.dtypes"
   ]
  },
  {
   "cell_type": "code",
   "execution_count": 21,
   "metadata": {},
   "outputs": [
    {
     "data": {
      "text/plain": [
       "0       2001-01-01\n",
       "1       2001-01-02\n",
       "2       2001-01-03\n",
       "3       2001-01-04\n",
       "4       2001-01-05\n",
       "           ...    \n",
       "1821    2005-12-27\n",
       "1822    2005-12-28\n",
       "1823    2005-12-29\n",
       "1824    2005-12-30\n",
       "1825    2005-12-31\n",
       "Name: date, Length: 1826, dtype: object"
      ]
     },
     "execution_count": 21,
     "metadata": {},
     "output_type": "execute_result"
    }
   ],
   "source": [
    "data_for_analysis \\\n",
    "    .date"
   ]
  },
  {
   "cell_type": "code",
   "execution_count": 22,
   "metadata": {},
   "outputs": [
    {
     "data": {
      "text/plain": [
       "date        datetime64[ns]\n",
       "death                int64\n",
       "city                object\n",
       "alldeath             int64\n",
       "accident             int64\n",
       "                 ...      \n",
       "comax4             float64\n",
       "comax5             float64\n",
       "rmtmpd             float64\n",
       "rmdptp             float64\n",
       "dow                 object\n",
       "Length: 114, dtype: object"
      ]
     },
     "execution_count": 22,
     "metadata": {},
     "output_type": "execute_result"
    }
   ],
   "source": [
    "data_for_analysis[\"date\"] =\\\n",
    "(\n",
    "    pd\n",
    "    .to_datetime(data_for_analysis[\"date\"]\n",
    "                )\n",
    ")\n",
    "\n",
    "data_for_analysis \\\n",
    "    .dtypes"
   ]
  },
  {
   "cell_type": "code",
   "execution_count": 23,
   "metadata": {},
   "outputs": [
    {
     "data": {
      "text/plain": [
       "array([1, 2, 3, 4], dtype=int32)"
      ]
     },
     "execution_count": 23,
     "metadata": {},
     "output_type": "execute_result"
    }
   ],
   "source": [
    "data_for_analysis[\"season\"] =\\\n",
    "(    data_for_analysis\n",
    "     [\"date\"]\n",
    "     .dt\n",
    "     .quarter\n",
    ")\n",
    "\n",
    "(\n",
    "    data_for_analysis \n",
    "    .season\n",
    "    .unique()\n",
    ")"
   ]
  },
  {
   "cell_type": "code",
   "execution_count": 24,
   "metadata": {},
   "outputs": [
    {
     "data": {
      "text/plain": [
       "0       1\n",
       "1       1\n",
       "2       1\n",
       "3       1\n",
       "4       1\n",
       "       ..\n",
       "1821    4\n",
       "1822    4\n",
       "1823    4\n",
       "1824    4\n",
       "1825    4\n",
       "Name: season, Length: 1826, dtype: category\n",
       "Categories (4, int32): [1, 2, 3, 4]"
      ]
     },
     "execution_count": 24,
     "metadata": {},
     "output_type": "execute_result"
    }
   ],
   "source": [
    "data_for_analysis[\"season\"] =\\\n",
    "(\n",
    "    data_for_analysis\n",
    "    [\"season\"]\n",
    "    .astype(\"category\")\n",
    ")\n",
    "\n",
    "data_for_analysis \\\n",
    "    .season"
   ]
  },
  {
   "cell_type": "code",
   "execution_count": 25,
   "metadata": {},
   "outputs": [],
   "source": [
    "data_for_analysis[\"dow\"] =\\\n",
    "(\n",
    "    data_for_analysis\n",
    "    [\"date\"] \n",
    "    .dt\n",
    "    .weekday\n",
    ")"
   ]
  },
  {
   "cell_type": "code",
   "execution_count": 26,
   "metadata": {},
   "outputs": [
    {
     "data": {
      "text/plain": [
       "array([0, 1, 2, 3, 4, 5, 6], dtype=int32)"
      ]
     },
     "execution_count": 26,
     "metadata": {},
     "output_type": "execute_result"
    }
   ],
   "source": [
    "data_for_analysis \\\n",
    "    .dow \\\n",
    "    .unique()"
   ]
  },
  {
   "cell_type": "markdown",
   "metadata": {},
   "source": [
    "#### VISUALIZE"
   ]
  },
  {
   "cell_type": "markdown",
   "metadata": {},
   "source": [
    "> Let's visualize the daily mortality data from all causes for the years 2001 to 2005."
   ]
  },
  {
   "cell_type": "code",
   "execution_count": 27,
   "metadata": {},
   "outputs": [
    {
     "data": {
      "text/html": [
       "<div>\n",
       "<style scoped>\n",
       "    .dataframe tbody tr th:only-of-type {\n",
       "        vertical-align: middle;\n",
       "    }\n",
       "\n",
       "    .dataframe tbody tr th {\n",
       "        vertical-align: top;\n",
       "    }\n",
       "\n",
       "    .dataframe thead th {\n",
       "        text-align: right;\n",
       "    }\n",
       "</style>\n",
       "<table border=\"1\" class=\"dataframe\">\n",
       "  <thead>\n",
       "    <tr style=\"text-align: right;\">\n",
       "      <th></th>\n",
       "      <th>0</th>\n",
       "    </tr>\n",
       "  </thead>\n",
       "  <tbody>\n",
       "    <tr>\n",
       "      <th>date</th>\n",
       "      <td>date</td>\n",
       "    </tr>\n",
       "    <tr>\n",
       "      <th>death</th>\n",
       "      <td>death</td>\n",
       "    </tr>\n",
       "    <tr>\n",
       "      <th>city</th>\n",
       "      <td>city</td>\n",
       "    </tr>\n",
       "    <tr>\n",
       "      <th>alldeath</th>\n",
       "      <td>alldeath</td>\n",
       "    </tr>\n",
       "    <tr>\n",
       "      <th>accident</th>\n",
       "      <td>accident</td>\n",
       "    </tr>\n",
       "    <tr>\n",
       "      <th>...</th>\n",
       "      <td>...</td>\n",
       "    </tr>\n",
       "    <tr>\n",
       "      <th>comax5</th>\n",
       "      <td>comax5</td>\n",
       "    </tr>\n",
       "    <tr>\n",
       "      <th>rmtmpd</th>\n",
       "      <td>rmtmpd</td>\n",
       "    </tr>\n",
       "    <tr>\n",
       "      <th>rmdptp</th>\n",
       "      <td>rmdptp</td>\n",
       "    </tr>\n",
       "    <tr>\n",
       "      <th>dow</th>\n",
       "      <td>dow</td>\n",
       "    </tr>\n",
       "    <tr>\n",
       "      <th>season</th>\n",
       "      <td>season</td>\n",
       "    </tr>\n",
       "  </tbody>\n",
       "</table>\n",
       "<p>115 rows × 1 columns</p>\n",
       "</div>"
      ],
      "text/plain": [
       "                 0\n",
       "date          date\n",
       "death        death\n",
       "city          city\n",
       "alldeath  alldeath\n",
       "accident  accident\n",
       "...            ...\n",
       "comax5      comax5\n",
       "rmtmpd      rmtmpd\n",
       "rmdptp      rmdptp\n",
       "dow            dow\n",
       "season      season\n",
       "\n",
       "[115 rows x 1 columns]"
      ]
     },
     "execution_count": 27,
     "metadata": {},
     "output_type": "execute_result"
    }
   ],
   "source": [
    "data_for_analysis \\\n",
    "    .columns \\\n",
    "    .to_frame()"
   ]
  },
  {
   "cell_type": "code",
   "execution_count": 28,
   "metadata": {},
   "outputs": [
    {
     "data": {
      "image/png": "[encoded data removed]",
      "text/plain": [
       "<Figure size 640x480 with 1 Axes>"
      ]
     },
     "metadata": {},
     "output_type": "display_data"
    }
   ],
   "source": [
    "sns \\\n",
    "    .scatterplot(x = \"date\",\n",
    "                 y = \"death\",\n",
    "                 data = data_for_analysis,\n",
    "                 alpha = 0.80)\n",
    "\n",
    "plt \\\n",
    "    .xlabel(\"Date\")\n",
    "\n",
    "plt \\\n",
    "    .ylabel(\"Mortality\")\n",
    "\n",
    "plt \\\n",
    "    .show()"
   ]
  },
  {
   "cell_type": "markdown",
   "metadata": {},
   "source": [
    "> Next, let's visualize a plot of the 24-hour average levels of particulate matter with aerodynamic diameter less than or equal to 10 microns (PM10)."
   ]
  },
  {
   "cell_type": "code",
   "execution_count": 29,
   "metadata": {},
   "outputs": [],
   "source": [
    "data_for_analysis =\\\n",
    "    data_for_analysis \\\n",
    "    .rename(columns = {\"no2tmean\": \"no2\",\n",
    "                       \"pm10tmean\": \"pm10\"}\n",
    "           )"
   ]
  },
  {
   "cell_type": "code",
   "execution_count": 30,
   "metadata": {},
   "outputs": [],
   "source": [
    "pm10_array =\\\n",
    "(\n",
    "    np\n",
    "    .array(data_for_analysis[\"pm10\"]\n",
    "           .values)\n",
    ")"
   ]
  },
  {
   "cell_type": "code",
   "execution_count": 31,
   "metadata": {},
   "outputs": [
    {
     "data": {
      "text/plain": [
       "numpy.ndarray"
      ]
     },
     "execution_count": 31,
     "metadata": {},
     "output_type": "execute_result"
    }
   ],
   "source": [
    "type(pm10_array)"
   ]
  },
  {
   "cell_type": "code",
   "execution_count": 32,
   "metadata": {},
   "outputs": [
    {
     "data": {
      "text/plain": [
       "array(['2001-01-01T00:00:00.000000000', '2001-01-02T00:00:00.000000000',\n",
       "       '2001-01-03T00:00:00.000000000', ...,\n",
       "       '2005-12-29T00:00:00.000000000', '2005-12-30T00:00:00.000000000',\n",
       "       '2005-12-31T00:00:00.000000000'],\n",
       "      shape=(1826,), dtype='datetime64[ns]')"
      ]
     },
     "execution_count": 32,
     "metadata": {},
     "output_type": "execute_result"
    }
   ],
   "source": [
    "data_for_analysis[\"date\"].values"
   ]
  },
  {
   "cell_type": "code",
   "execution_count": 33,
   "metadata": {},
   "outputs": [],
   "source": [
    "date_array =\\\n",
    "(\n",
    "    np\n",
    "    .array(data_for_analysis[\"date\"]\n",
    "           .values)\n",
    ")"
   ]
  },
  {
   "cell_type": "code",
   "execution_count": 34,
   "metadata": {},
   "outputs": [
    {
     "data": {
      "text/plain": [
       "array(['2001-01-01T00:00:00.000000000', '2001-01-02T00:00:00.000000000',\n",
       "       '2001-01-03T00:00:00.000000000', ...,\n",
       "       '2005-12-29T00:00:00.000000000', '2005-12-30T00:00:00.000000000',\n",
       "       '2005-12-31T00:00:00.000000000'],\n",
       "      shape=(1826,), dtype='datetime64[ns]')"
      ]
     },
     "execution_count": 34,
     "metadata": {},
     "output_type": "execute_result"
    }
   ],
   "source": [
    "date_array"
   ]
  },
  {
   "cell_type": "code",
   "execution_count": 35,
   "metadata": {},
   "outputs": [
    {
     "data": {
      "text/html": [
       "<div>\n",
       "<style scoped>\n",
       "    .dataframe tbody tr th:only-of-type {\n",
       "        vertical-align: middle;\n",
       "    }\n",
       "\n",
       "    .dataframe tbody tr th {\n",
       "        vertical-align: top;\n",
       "    }\n",
       "\n",
       "    .dataframe thead th {\n",
       "        text-align: right;\n",
       "    }\n",
       "</style>\n",
       "<table border=\"1\" class=\"dataframe\">\n",
       "  <thead>\n",
       "    <tr style=\"text-align: right;\">\n",
       "      <th></th>\n",
       "      <th>pm10</th>\n",
       "    </tr>\n",
       "  </thead>\n",
       "  <tbody>\n",
       "    <tr>\n",
       "      <th>0</th>\n",
       "      <td>-11.303571</td>\n",
       "    </tr>\n",
       "    <tr>\n",
       "      <th>1</th>\n",
       "      <td>NaN</td>\n",
       "    </tr>\n",
       "    <tr>\n",
       "      <th>2</th>\n",
       "      <td>NaN</td>\n",
       "    </tr>\n",
       "    <tr>\n",
       "      <th>3</th>\n",
       "      <td>NaN</td>\n",
       "    </tr>\n",
       "    <tr>\n",
       "      <th>4</th>\n",
       "      <td>NaN</td>\n",
       "    </tr>\n",
       "    <tr>\n",
       "      <th>...</th>\n",
       "      <td>...</td>\n",
       "    </tr>\n",
       "    <tr>\n",
       "      <th>1821</th>\n",
       "      <td>NaN</td>\n",
       "    </tr>\n",
       "    <tr>\n",
       "      <th>1822</th>\n",
       "      <td>NaN</td>\n",
       "    </tr>\n",
       "    <tr>\n",
       "      <th>1823</th>\n",
       "      <td>NaN</td>\n",
       "    </tr>\n",
       "    <tr>\n",
       "      <th>1824</th>\n",
       "      <td>NaN</td>\n",
       "    </tr>\n",
       "    <tr>\n",
       "      <th>1825</th>\n",
       "      <td>NaN</td>\n",
       "    </tr>\n",
       "  </tbody>\n",
       "</table>\n",
       "<p>1826 rows × 1 columns</p>\n",
       "</div>"
      ],
      "text/plain": [
       "           pm10\n",
       "0    -11.303571\n",
       "1           NaN\n",
       "2           NaN\n",
       "3           NaN\n",
       "4           NaN\n",
       "...         ...\n",
       "1821        NaN\n",
       "1822        NaN\n",
       "1823        NaN\n",
       "1824        NaN\n",
       "1825        NaN\n",
       "\n",
       "[1826 rows x 1 columns]"
      ]
     },
     "execution_count": 35,
     "metadata": {},
     "output_type": "execute_result"
    }
   ],
   "source": [
    "data_for_analysis[[\"pm10\"]]"
   ]
  },
  {
   "cell_type": "code",
   "execution_count": 36,
   "metadata": {},
   "outputs": [
    {
     "data": {
      "image/png": "[encoded data removed]",
      "text/plain": [
       "<Figure size 640x480 with 1 Axes>"
      ]
     },
     "metadata": {},
     "output_type": "display_data"
    }
   ],
   "source": [
    "sns \\\n",
    "    .lineplot(x = \"date\",\n",
    "              y = \"pm10\",\n",
    "              data = data_for_analysis)\n",
    "\n",
    "plt \\\n",
    "    .ylabel(\"Average PM10 (24-hour)\")\n",
    "\n",
    "plt \\\n",
    "    .xlabel(\"Date\")\n",
    "\n",
    "plt \\\n",
    "    .show()"
   ]
  },
  {
   "cell_type": "markdown",
   "metadata": {},
   "source": [
    "> Note that there are fewer points on the PM10 plot compared to the mortality data plot. This is because PM10 is not measured every day. Additionally, note that there are negative values in the PM10 plot - this is due to the PM10 data being mean-subtracted. In general, negative values of PM10 are not possible."
   ]
  },
  {
   "cell_type": "markdown",
   "metadata": {},
   "source": [
    "## <a id = \"p3\">3.</a>  <font color = \"green\"> Model for Explanation </font>  [back to table of contents](#top)"
   ]
  },
  {
   "cell_type": "markdown",
   "metadata": {},
   "source": [
    "> The first step we will take is to determine if there is a correlation between the daily 24-hour average PM10 levels and daily mortality. This is an inference question, and we aim to estimate the association. Additionally, we must consider potential confounding variables while addressing this question."
   ]
  },
  {
   "cell_type": "markdown",
   "metadata": {},
   "source": [
    "> We will start by analyzing the bivariate association between PM10 and mortality, using a scatterplot of the two variables. The plot does not show a significant relationship, and the results from a linear regression model of the log of daily mortality and PM10 support this observation."
   ]
  },
  {
   "cell_type": "code",
   "execution_count": 37,
   "metadata": {},
   "outputs": [
    {
     "data": {
      "image/png": "[encoded data removed]",
      "text/plain": [
       "<Figure size 600x600 with 3 Axes>"
      ]
     },
     "metadata": {},
     "output_type": "display_data"
    }
   ],
   "source": [
    "sns \\\n",
    "    .jointplot(x = \"pm10\",\n",
    "               y = \"death\",\n",
    "               data = data_for_analysis)\n",
    "\n",
    "plt.show()"
   ]
  },
  {
   "cell_type": "code",
   "execution_count": 38,
   "metadata": {},
   "outputs": [],
   "source": [
    "import statsmodels.formula.api as smf"
   ]
  },
  {
   "cell_type": "code",
   "execution_count": 39,
   "metadata": {},
   "outputs": [],
   "source": [
    "regression_0 =\\\n",
    "(\n",
    "    smf\n",
    "    .ols(\"np.log(death) ~ pm10\",\n",
    "         data = data_for_analysis)\n",
    "    .fit()\n",
    ")"
   ]
  },
  {
   "cell_type": "code",
   "execution_count": 40,
   "metadata": {},
   "outputs": [
    {
     "data": {
      "text/html": [
       "<table class=\"simpletable\">\n",
       "<tr>\n",
       "      <td></td>         <th>coef</th>     <th>std err</th>      <th>t</th>      <th>P>|t|</th>  <th>[0.025</th>    <th>0.975]</th>  \n",
       "</tr>\n",
       "<tr>\n",
       "  <th>Intercept</th> <td>    5.0888</td> <td>    0.007</td> <td>  733.751</td> <td> 0.000</td> <td>    5.075</td> <td>    5.103</td>\n",
       "</tr>\n",
       "<tr>\n",
       "  <th>pm10</th>      <td> 4.033e-05</td> <td>    0.001</td> <td>    0.058</td> <td> 0.954</td> <td>   -0.001</td> <td>    0.001</td>\n",
       "</tr>\n",
       "</table>"
      ],
      "text/latex": [
       "\\begin{center}\n",
       "\\begin{tabular}{lcccccc}\n",
       "\\toprule\n",
       "                   & \\textbf{coef} & \\textbf{std err} & \\textbf{t} & \\textbf{P$> |$t$|$} & \\textbf{[0.025} & \\textbf{0.975]}  \\\\\n",
       "\\midrule\n",
       "\\textbf{Intercept} &       5.0888  &        0.007     &   733.751  &         0.000        &        5.075    &        5.103     \\\\\n",
       "\\textbf{pm10}      &    4.033e-05  &        0.001     &     0.058  &         0.954        &       -0.001    &        0.001     \\\\\n",
       "\\bottomrule\n",
       "\\end{tabular}\n",
       "\\end{center}"
      ],
      "text/plain": [
       "<class 'statsmodels.iolib.table.SimpleTable'>"
      ]
     },
     "execution_count": 40,
     "metadata": {},
     "output_type": "execute_result"
    }
   ],
   "source": [
    "(regression_0\n",
    "    .summary()\n",
    "    .tables[1]\n",
    ")"
   ]
  },
  {
   "cell_type": "markdown",
   "metadata": {},
   "source": [
    "> In the table of coefficients, the PM10 coefficient is small and has a large standard error, implying that the estimate of the association is zero. However, both PM10 and daily mortality are influenced by season. Mortality is typically higher in winter and lower in summer, while PM10 shows the opposite pattern, being higher in summer and lower in winter. As season affects both PM10 and mortality, it can be considered a confounder and must be adjusted for in the model."
   ]
  },
  {
   "cell_type": "code",
   "execution_count": 41,
   "metadata": {},
   "outputs": [],
   "source": [
    "regression_1 =\\\n",
    "(\n",
    "    smf\n",
    "    .ols(\"np.log(death) ~ pm10 + season\",\n",
    "         data = data_for_analysis)\n",
    "    .fit()\n",
    ")    "
   ]
  },
  {
   "cell_type": "code",
   "execution_count": 42,
   "metadata": {},
   "outputs": [
    {
     "data": {
      "text/html": [
       "<table class=\"simpletable\">\n",
       "<tr>\n",
       "       <td></td>          <th>coef</th>     <th>std err</th>      <th>t</th>      <th>P>|t|</th>  <th>[0.025</th>    <th>0.975]</th>  \n",
       "</tr>\n",
       "<tr>\n",
       "  <th>Intercept</th>   <td>    5.1665</td> <td>    0.011</td> <td>  458.715</td> <td> 0.000</td> <td>    5.144</td> <td>    5.189</td>\n",
       "</tr>\n",
       "<tr>\n",
       "  <th>season[T.2]</th> <td>   -0.1093</td> <td>    0.017</td> <td>   -6.547</td> <td> 0.000</td> <td>   -0.142</td> <td>   -0.076</td>\n",
       "</tr>\n",
       "<tr>\n",
       "  <th>season[T.3]</th> <td>   -0.1555</td> <td>    0.017</td> <td>   -9.162</td> <td> 0.000</td> <td>   -0.189</td> <td>   -0.122</td>\n",
       "</tr>\n",
       "<tr>\n",
       "  <th>season[T.4]</th> <td>   -0.0603</td> <td>    0.017</td> <td>   -3.608</td> <td> 0.000</td> <td>   -0.093</td> <td>   -0.027</td>\n",
       "</tr>\n",
       "<tr>\n",
       "  <th>pm10</th>        <td>    0.0015</td> <td>    0.001</td> <td>    2.435</td> <td> 0.016</td> <td>    0.000</td> <td>    0.003</td>\n",
       "</tr>\n",
       "</table>"
      ],
      "text/latex": [
       "\\begin{center}\n",
       "\\begin{tabular}{lcccccc}\n",
       "\\toprule\n",
       "                     & \\textbf{coef} & \\textbf{std err} & \\textbf{t} & \\textbf{P$> |$t$|$} & \\textbf{[0.025} & \\textbf{0.975]}  \\\\\n",
       "\\midrule\n",
       "\\textbf{Intercept}   &       5.1665  &        0.011     &   458.715  &         0.000        &        5.144    &        5.189     \\\\\n",
       "\\textbf{season[T.2]} &      -0.1093  &        0.017     &    -6.547  &         0.000        &       -0.142    &       -0.076     \\\\\n",
       "\\textbf{season[T.3]} &      -0.1555  &        0.017     &    -9.162  &         0.000        &       -0.189    &       -0.122     \\\\\n",
       "\\textbf{season[T.4]} &      -0.0603  &        0.017     &    -3.608  &         0.000        &       -0.093    &       -0.027     \\\\\n",
       "\\textbf{pm10}        &       0.0015  &        0.001     &     2.435  &         0.016        &        0.000    &        0.003     \\\\\n",
       "\\bottomrule\n",
       "\\end{tabular}\n",
       "\\end{center}"
      ],
      "text/plain": [
       "<class 'statsmodels.iolib.table.SimpleTable'>"
      ]
     },
     "execution_count": 42,
     "metadata": {},
     "output_type": "execute_result"
    }
   ],
   "source": [
    "regression_1 \\\n",
    "    .summary() \\\n",
    "    .tables[1]"
   ]
  },
  {
   "cell_type": "markdown",
   "metadata": {},
   "source": [
    "> In the second model, we include PM10 and season as a categorical variable with four levels. The PM10 coefficient is now larger, and the t-value suggests a strong association. This result is due to Simpson's Paradox, where the overall relationship between PM10 and mortality is null, but after considering the seasonal variation in both variables, the association becomes positive."
   ]
  },
  {
   "cell_type": "code",
   "execution_count": 43,
   "metadata": {},
   "outputs": [
    {
     "data": {
      "text/html": [
       "<div>\n",
       "<style scoped>\n",
       "    .dataframe tbody tr th:only-of-type {\n",
       "        vertical-align: middle;\n",
       "    }\n",
       "\n",
       "    .dataframe tbody tr th {\n",
       "        vertical-align: top;\n",
       "    }\n",
       "\n",
       "    .dataframe thead th {\n",
       "        text-align: right;\n",
       "    }\n",
       "</style>\n",
       "<table border=\"1\" class=\"dataframe\">\n",
       "  <thead>\n",
       "    <tr style=\"text-align: right;\">\n",
       "      <th></th>\n",
       "      <th>date</th>\n",
       "    </tr>\n",
       "  </thead>\n",
       "  <tbody>\n",
       "    <tr>\n",
       "      <th>0</th>\n",
       "      <td>2001-01-01</td>\n",
       "    </tr>\n",
       "    <tr>\n",
       "      <th>1</th>\n",
       "      <td>2001-01-02</td>\n",
       "    </tr>\n",
       "    <tr>\n",
       "      <th>2</th>\n",
       "      <td>2001-01-03</td>\n",
       "    </tr>\n",
       "    <tr>\n",
       "      <th>3</th>\n",
       "      <td>2001-01-04</td>\n",
       "    </tr>\n",
       "    <tr>\n",
       "      <th>4</th>\n",
       "      <td>2001-01-05</td>\n",
       "    </tr>\n",
       "    <tr>\n",
       "      <th>...</th>\n",
       "      <td>...</td>\n",
       "    </tr>\n",
       "    <tr>\n",
       "      <th>1821</th>\n",
       "      <td>2005-12-27</td>\n",
       "    </tr>\n",
       "    <tr>\n",
       "      <th>1822</th>\n",
       "      <td>2005-12-28</td>\n",
       "    </tr>\n",
       "    <tr>\n",
       "      <th>1823</th>\n",
       "      <td>2005-12-29</td>\n",
       "    </tr>\n",
       "    <tr>\n",
       "      <th>1824</th>\n",
       "      <td>2005-12-30</td>\n",
       "    </tr>\n",
       "    <tr>\n",
       "      <th>1825</th>\n",
       "      <td>2005-12-31</td>\n",
       "    </tr>\n",
       "  </tbody>\n",
       "</table>\n",
       "<p>1826 rows × 1 columns</p>\n",
       "</div>"
      ],
      "text/plain": [
       "           date\n",
       "0    2001-01-01\n",
       "1    2001-01-02\n",
       "2    2001-01-03\n",
       "3    2001-01-04\n",
       "4    2001-01-05\n",
       "...         ...\n",
       "1821 2005-12-27\n",
       "1822 2005-12-28\n",
       "1823 2005-12-29\n",
       "1824 2005-12-30\n",
       "1825 2005-12-31\n",
       "\n",
       "[1826 rows x 1 columns]"
      ]
     },
     "execution_count": 43,
     "metadata": {},
     "output_type": "execute_result"
    }
   ],
   "source": [
    "data_for_analysis[[\"date\"]]"
   ]
  },
  {
   "cell_type": "code",
   "execution_count": 44,
   "metadata": {},
   "outputs": [],
   "source": [
    "# This is what you do when dealing with date in regression\n",
    "\n",
    "data_for_analysis[\"date\"] =\\\n",
    "(    data_for_analysis\n",
    "     [\"date\"]\n",
    "     .astype(int)\n",
    "     /\n",
    "     10\n",
    "     **\n",
    "     9\n",
    ")"
   ]
  },
  {
   "cell_type": "code",
   "execution_count": 45,
   "metadata": {},
   "outputs": [
    {
     "data": {
      "text/plain": [
       "0       9.783072e+08\n",
       "1       9.783936e+08\n",
       "2       9.784800e+08\n",
       "3       9.785664e+08\n",
       "4       9.786528e+08\n",
       "            ...     \n",
       "1821    1.135642e+09\n",
       "1822    1.135728e+09\n",
       "1823    1.135814e+09\n",
       "1824    1.135901e+09\n",
       "1825    1.135987e+09\n",
       "Name: date, Length: 1826, dtype: float64"
      ]
     },
     "execution_count": 45,
     "metadata": {},
     "output_type": "execute_result"
    }
   ],
   "source": [
    "data_for_analysis.date"
   ]
  },
  {
   "cell_type": "code",
   "execution_count": 46,
   "metadata": {},
   "outputs": [
    {
     "data": {
      "text/html": [
       "<table class=\"simpletable\">\n",
       "<tr>\n",
       "       <td></td>          <th>coef</th>     <th>std err</th>      <th>t</th>      <th>P>|t|</th>  <th>[0.025</th>    <th>0.975]</th>  \n",
       "</tr>\n",
       "<tr>\n",
       "  <th>Intercept</th>   <td>    5.6207</td> <td>    0.165</td> <td>   34.124</td> <td> 0.000</td> <td>    5.296</td> <td>    5.945</td>\n",
       "</tr>\n",
       "<tr>\n",
       "  <th>season[T.2]</th> <td>   -0.0581</td> <td>    0.023</td> <td>   -2.525</td> <td> 0.012</td> <td>   -0.103</td> <td>   -0.013</td>\n",
       "</tr>\n",
       "<tr>\n",
       "  <th>season[T.3]</th> <td>   -0.0766</td> <td>    0.029</td> <td>   -2.636</td> <td> 0.009</td> <td>   -0.134</td> <td>   -0.019</td>\n",
       "</tr>\n",
       "<tr>\n",
       "  <th>season[T.4]</th> <td>   -0.0315</td> <td>    0.018</td> <td>   -1.721</td> <td> 0.086</td> <td>   -0.068</td> <td>    0.005</td>\n",
       "</tr>\n",
       "<tr>\n",
       "  <th>pm10</th>        <td>    0.0024</td> <td>    0.001</td> <td>    3.600</td> <td> 0.000</td> <td>    0.001</td> <td>    0.004</td>\n",
       "</tr>\n",
       "<tr>\n",
       "  <th>date</th>        <td>-3.454e-10</td> <td> 1.52e-10</td> <td>   -2.269</td> <td> 0.024</td> <td>-6.45e-10</td> <td>-4.56e-11</td>\n",
       "</tr>\n",
       "<tr>\n",
       "  <th>tmpd</th>        <td>   -0.0030</td> <td>    0.001</td> <td>   -2.297</td> <td> 0.022</td> <td>   -0.005</td> <td>   -0.000</td>\n",
       "</tr>\n",
       "<tr>\n",
       "  <th>dptp</th>        <td>    0.0007</td> <td>    0.001</td> <td>    0.660</td> <td> 0.510</td> <td>   -0.001</td> <td>    0.003</td>\n",
       "</tr>\n",
       "</table>"
      ],
      "text/latex": [
       "\\begin{center}\n",
       "\\begin{tabular}{lcccccc}\n",
       "\\toprule\n",
       "                     & \\textbf{coef} & \\textbf{std err} & \\textbf{t} & \\textbf{P$> |$t$|$} & \\textbf{[0.025} & \\textbf{0.975]}  \\\\\n",
       "\\midrule\n",
       "\\textbf{Intercept}   &       5.6207  &        0.165     &    34.124  &         0.000        &        5.296    &        5.945     \\\\\n",
       "\\textbf{season[T.2]} &      -0.0581  &        0.023     &    -2.525  &         0.012        &       -0.103    &       -0.013     \\\\\n",
       "\\textbf{season[T.3]} &      -0.0766  &        0.029     &    -2.636  &         0.009        &       -0.134    &       -0.019     \\\\\n",
       "\\textbf{season[T.4]} &      -0.0315  &        0.018     &    -1.721  &         0.086        &       -0.068    &        0.005     \\\\\n",
       "\\textbf{pm10}        &       0.0024  &        0.001     &     3.600  &         0.000        &        0.001    &        0.004     \\\\\n",
       "\\textbf{date}        &   -3.454e-10  &     1.52e-10     &    -2.269  &         0.024        &    -6.45e-10    &    -4.56e-11     \\\\\n",
       "\\textbf{tmpd}        &      -0.0030  &        0.001     &    -2.297  &         0.022        &       -0.005    &       -0.000     \\\\\n",
       "\\textbf{dptp}        &       0.0007  &        0.001     &     0.660  &         0.510        &       -0.001    &        0.003     \\\\\n",
       "\\bottomrule\n",
       "\\end{tabular}\n",
       "\\end{center}"
      ],
      "text/plain": [
       "<class 'statsmodels.iolib.table.SimpleTable'>"
      ]
     },
     "execution_count": 46,
     "metadata": {},
     "output_type": "execute_result"
    }
   ],
   "source": [
    "regression_2 =\\\n",
    "(\n",
    "    smf\n",
    "    .ols(\"np.log(death) ~ pm10 + season + date + tmpd + dptp\",\n",
    "         data = data_for_analysis) \n",
    "    .fit()\n",
    ")\n",
    "\n",
    "regression_2 \\\n",
    "    .summary() \\\n",
    "    .tables[1]"
   ]
  },
  {
   "cell_type": "markdown",
   "metadata": {},
   "source": [
    "> Temperature (`tmpd`) and dew point temperature (`dptp`) are additional weather variables that may impact both PM10 formation and mortality. Thus, we include these variables, along with the date, in the third model. The PM10 coefficient increases again, indicating a continued association between PM10 and mortality."
   ]
  },
  {
   "cell_type": "code",
   "execution_count": 47,
   "metadata": {},
   "outputs": [
    {
     "data": {
      "text/html": [
       "<table class=\"simpletable\">\n",
       "<tr>\n",
       "       <td></td>          <th>coef</th>     <th>std err</th>      <th>t</th>      <th>P>|t|</th>  <th>[0.025</th>    <th>0.975]</th>  \n",
       "</tr>\n",
       "<tr>\n",
       "  <th>Intercept</th>   <td>    5.6138</td> <td>    0.164</td> <td>   34.147</td> <td> 0.000</td> <td>    5.290</td> <td>    5.938</td>\n",
       "</tr>\n",
       "<tr>\n",
       "  <th>season[T.2]</th> <td>   -0.0514</td> <td>    0.023</td> <td>   -2.200</td> <td> 0.029</td> <td>   -0.097</td> <td>   -0.005</td>\n",
       "</tr>\n",
       "<tr>\n",
       "  <th>season[T.3]</th> <td>   -0.0657</td> <td>    0.030</td> <td>   -2.197</td> <td> 0.029</td> <td>   -0.125</td> <td>   -0.007</td>\n",
       "</tr>\n",
       "<tr>\n",
       "  <th>season[T.4]</th> <td>   -0.0275</td> <td>    0.018</td> <td>   -1.487</td> <td> 0.138</td> <td>   -0.064</td> <td>    0.009</td>\n",
       "</tr>\n",
       "<tr>\n",
       "  <th>pm10</th>        <td>    0.0017</td> <td>    0.001</td> <td>    2.221</td> <td> 0.027</td> <td>    0.000</td> <td>    0.003</td>\n",
       "</tr>\n",
       "<tr>\n",
       "  <th>date</th>        <td>-3.442e-10</td> <td> 1.52e-10</td> <td>   -2.266</td> <td> 0.024</td> <td>-6.43e-10</td> <td> -4.5e-11</td>\n",
       "</tr>\n",
       "<tr>\n",
       "  <th>tmpd</th>        <td>   -0.0030</td> <td>    0.001</td> <td>   -2.309</td> <td> 0.022</td> <td>   -0.005</td> <td>   -0.000</td>\n",
       "</tr>\n",
       "<tr>\n",
       "  <th>dptp</th>        <td>    0.0007</td> <td>    0.001</td> <td>    0.681</td> <td> 0.497</td> <td>   -0.001</td> <td>    0.003</td>\n",
       "</tr>\n",
       "<tr>\n",
       "  <th>no2</th>         <td>    0.0013</td> <td>    0.001</td> <td>    1.468</td> <td> 0.143</td> <td>   -0.000</td> <td>    0.003</td>\n",
       "</tr>\n",
       "</table>"
      ],
      "text/latex": [
       "\\begin{center}\n",
       "\\begin{tabular}{lcccccc}\n",
       "\\toprule\n",
       "                     & \\textbf{coef} & \\textbf{std err} & \\textbf{t} & \\textbf{P$> |$t$|$} & \\textbf{[0.025} & \\textbf{0.975]}  \\\\\n",
       "\\midrule\n",
       "\\textbf{Intercept}   &       5.6138  &        0.164     &    34.147  &         0.000        &        5.290    &        5.938     \\\\\n",
       "\\textbf{season[T.2]} &      -0.0514  &        0.023     &    -2.200  &         0.029        &       -0.097    &       -0.005     \\\\\n",
       "\\textbf{season[T.3]} &      -0.0657  &        0.030     &    -2.197  &         0.029        &       -0.125    &       -0.007     \\\\\n",
       "\\textbf{season[T.4]} &      -0.0275  &        0.018     &    -1.487  &         0.138        &       -0.064    &        0.009     \\\\\n",
       "\\textbf{pm10}        &       0.0017  &        0.001     &     2.221  &         0.027        &        0.000    &        0.003     \\\\\n",
       "\\textbf{date}        &   -3.442e-10  &     1.52e-10     &    -2.266  &         0.024        &    -6.43e-10    &     -4.5e-11     \\\\\n",
       "\\textbf{tmpd}        &      -0.0030  &        0.001     &    -2.309  &         0.022        &       -0.005    &       -0.000     \\\\\n",
       "\\textbf{dptp}        &       0.0007  &        0.001     &     0.681  &         0.497        &       -0.001    &        0.003     \\\\\n",
       "\\textbf{no2}         &       0.0013  &        0.001     &     1.468  &         0.143        &       -0.000    &        0.003     \\\\\n",
       "\\bottomrule\n",
       "\\end{tabular}\n",
       "\\end{center}"
      ],
      "text/plain": [
       "<class 'statsmodels.iolib.table.SimpleTable'>"
      ]
     },
     "execution_count": 47,
     "metadata": {},
     "output_type": "execute_result"
    }
   ],
   "source": [
    "regression_3 =\\\n",
    "(\n",
    "    smf \n",
    "    .ols(\"np.log(death) ~ pm10 + season + date + tmpd + dptp + no2\",\n",
    "         data = data_for_analysis)\n",
    "    .fit()\n",
    ")\n",
    "\n",
    "regression_3 \\\n",
    "    .summary() \\\n",
    "    .tables[1]"
   ]
  },
  {
   "cell_type": "code",
   "execution_count": 48,
   "metadata": {},
   "outputs": [
    {
     "data": {
      "text/plain": [
       "np.float64(0.002)"
      ]
     },
     "execution_count": 48,
     "metadata": {},
     "output_type": "execute_result"
    }
   ],
   "source": [
    "(regression_3 \n",
    "    .params # returns b (unstandardized regression coeffecients)\n",
    "    [\"pm10\"] # returns regression coefficient for pm10\n",
    "    .round(3)\n",
    ")"
   ]
  },
  {
   "cell_type": "code",
   "execution_count": 49,
   "metadata": {},
   "outputs": [
    {
     "data": {
      "text/plain": [
       "0    0.000197\n",
       "1    0.003287\n",
       "Name: pm10, dtype: float64"
      ]
     },
     "execution_count": 49,
     "metadata": {},
     "output_type": "execute_result"
    }
   ],
   "source": [
    "(\n",
    "    regression_3\n",
    "    .conf_int()\n",
    "    .loc[\"pm10\"]\n",
    ")"
   ]
  },
  {
   "cell_type": "markdown",
   "metadata": {},
   "source": [
    "> Another class of confounding variables is other pollutants, such as NO2, which shares some sources with PM10 and has been linked to mortality. The final model includes NO2, and the results show that the NO2 coefficient is similar in magnitude to the PM10 coefficient, but with a smaller t-value. The PM10 coefficient remains statistically significant, although its magnitude decreases."
   ]
  },
  {
   "cell_type": "code",
   "execution_count": 50,
   "metadata": {},
   "outputs": [
    {
     "data": {
      "image/png": "[encoded data removed]",
      "text/plain": [
       "<Figure size 640x480 with 1 Axes>"
      ]
     },
     "metadata": {},
     "output_type": "display_data"
    }
   ],
   "source": [
    "# Let's build a plot to compare the above four regression models\n",
    "\n",
    "# point estimation of the effects within our available data\n",
    "\n",
    "effects_of_pm10_within_data =\\\n",
    "(    \n",
    "    np\n",
    "    .array([regression_0.params[\"pm10\"],\n",
    "            regression_1.params[\"pm10\"],\n",
    "            regression_2.params[\"pm10\"],\n",
    "            regression_3.params[\"pm10\"]\n",
    "           ]\n",
    "          )\n",
    "\n",
    ")\n",
    "\n",
    "# take into account confidence intervals (uncertainty) in estimation above\n",
    "\n",
    "effects_of_pm10_out_of_data =\\\n",
    "(\n",
    "    np\n",
    "    .array([regression_0.conf_int().loc[\"pm10\"],\n",
    "            regression_1.conf_int().loc[\"pm10\"],\n",
    "            regression_2.conf_int().loc[\"pm10\"],\n",
    "            regression_3.conf_int().loc[\"pm10\"]\n",
    "           ]\n",
    "          )\n",
    ")\n",
    "\n",
    "# four regression models\n",
    "\n",
    "regression_models =\\\n",
    "    np \\\n",
    "    .arange(1, 5)\n",
    "\n",
    "# Let's visualize\n",
    "\n",
    "plt \\\n",
    "    .plot(regression_models,\n",
    "          effects_of_pm10_within_data,\n",
    "          \"*\",\n",
    "          markersize = 10,\n",
    "          label = \"b-hat (average effects) of PM10 on mortality\\nafter controlling for confounders\"\n",
    "          )\n",
    "\n",
    "plt \\\n",
    "    .fill_between(regression_models,\n",
    "                  effects_of_pm10_out_of_data[ : , 0],\n",
    "                  effects_of_pm10_out_of_data[ : , 1],\n",
    "                  color = \"orange\",\n",
    "                  alpha = 0.20)\n",
    "\n",
    "# setting a marker for NULL effects\n",
    "\n",
    "plt \\\n",
    "    .axhline(0,\n",
    "             color = \"red\",\n",
    "             linestyle = \"-.\")\n",
    "\n",
    "# ticks for each model\n",
    "\n",
    "plt \\\n",
    "    .xticks(regression_models,\n",
    "            regression_models)\n",
    "\n",
    "# add labels for your information\n",
    "\n",
    "plt \\\n",
    "    .xlabel(\"Regression Models\")\n",
    "\n",
    "plt.legend()\n",
    "\n",
    "plt.show()"
   ]
  },
  {
   "cell_type": "markdown",
   "metadata": {},
   "source": [
    "> A plot of the PM10 coefficient from all four models demonstrates a positive association between PM10 and mortality in Models 2-4, with a small effect size. It is essential to consider the impact of the small effect size, as everyone in New York City breathes and even a small effect can have a significant impact. The appropriate course of action will depend on the ultimate goal and is beyond the scope of this discussion."
   ]
  },
  {
   "cell_type": "markdown",
   "metadata": {},
   "source": [
    "## <a id = \"p4\">4.</a>  <font color = \"green\"> Model for Prediction </font>  [back to table of contents](#top)"
   ]
  },
  {
   "cell_type": "markdown",
   "metadata": {},
   "source": [
    "> An alternative strategy we could have adopted is asking, \"What best predicts mortality in New York City?\" Since this is a prediction question, we can use available data to construct a model. In this case, we'll utilize the random forests modeling technique, a machine learning method that is effective when there are many predictors. One of the outputs we can obtain from the random forest method is a measure of variable importance, which roughly indicates how crucial a particular variable is in enhancing the prediction accuracy of the model."
   ]
  },
  {
   "cell_type": "markdown",
   "metadata": {},
   "source": [
    "> The following is a variable importance plot generated after fitting a random forest model. Larger values on the x-axis represent higher importance."
   ]
  },
  {
   "cell_type": "code",
   "execution_count": 51,
   "metadata": {},
   "outputs": [],
   "source": [
    "data_without_missing_values =\\\n",
    "    data_for_analysis \\\n",
    "    .dropna() # list-wise deletion"
   ]
  },
  {
   "cell_type": "code",
   "execution_count": 52,
   "metadata": {},
   "outputs": [
    {
     "data": {
      "text/plain": [
       "(1826, 115)"
      ]
     },
     "execution_count": 52,
     "metadata": {},
     "output_type": "execute_result"
    }
   ],
   "source": [
    "data_for_analysis.shape"
   ]
  },
  {
   "cell_type": "code",
   "execution_count": 53,
   "metadata": {},
   "outputs": [
    {
     "data": {
      "text/plain": [
       "(151, 115)"
      ]
     },
     "execution_count": 53,
     "metadata": {},
     "output_type": "execute_result"
    }
   ],
   "source": [
    "data_without_missing_values.shape"
   ]
  },
  {
   "cell_type": "code",
   "execution_count": 54,
   "metadata": {},
   "outputs": [],
   "source": [
    "# Machine Learning for Prediction"
   ]
  },
  {
   "cell_type": "code",
   "execution_count": 55,
   "metadata": {},
   "outputs": [],
   "source": [
    "from sklearn.model_selection import train_test_split\n",
    "from sklearn.ensemble import RandomForestRegressor\n",
    "from sklearn.metrics import mean_squared_error"
   ]
  },
  {
   "cell_type": "code",
   "execution_count": 56,
   "metadata": {},
   "outputs": [],
   "source": [
    "Xs =\\\n",
    "    data_without_missing_values[[\"date\",\n",
    "                                 \"season\",\n",
    "                                 \"no2\",\n",
    "                                 \"dptp\",\n",
    "                                 \"o3tmean\",\n",
    "                                 \"pm10\",\n",
    "                                 \"tmpd\"]\n",
    "                               ]\n",
    "\n",
    "Y = data_without_missing_values[\"death\"]"
   ]
  },
  {
   "cell_type": "code",
   "execution_count": 57,
   "metadata": {},
   "outputs": [],
   "source": [
    "# Step 1: Data Split\n",
    "\n",
    "X_train, X_test, Y_train, Y_test =\\\n",
    "    train_test_split(Xs, Y,\n",
    "                     test_size = 0.20,\n",
    "                     random_state = 240423)"
   ]
  },
  {
   "cell_type": "code",
   "execution_count": 58,
   "metadata": {},
   "outputs": [
    {
     "data": {
      "text/html": [
       "<style>#sk-container-id-1 {\n",
       "  /* Definition of color scheme common for light and dark mode */\n",
       "  --sklearn-color-text: #000;\n",
       "  --sklearn-color-text-muted: #666;\n",
       "  --sklearn-color-line: gray;\n",
       "  /* Definition of color scheme for unfitted estimators */\n",
       "  --sklearn-color-unfitted-level-0: #fff5e6;\n",
       "  --sklearn-color-unfitted-level-1: #f6e4d2;\n",
       "  --sklearn-color-unfitted-level-2: #ffe0b3;\n",
       "  --sklearn-color-unfitted-level-3: chocolate;\n",
       "  /* Definition of color scheme for fitted estimators */\n",
       "  --sklearn-color-fitted-level-0: #f0f8ff;\n",
       "  --sklearn-color-fitted-level-1: #d4ebff;\n",
       "  --sklearn-color-fitted-level-2: #b3dbfd;\n",
       "  --sklearn-color-fitted-level-3: cornflowerblue;\n",
       "\n",
       "  /* Specific color for light theme */\n",
       "  --sklearn-color-text-on-default-background: var(--sg-text-color, var(--theme-code-foreground, var(--jp-content-font-color1, black)));\n",
       "  --sklearn-color-background: var(--sg-background-color, var(--theme-background, var(--jp-layout-color0, white)));\n",
       "  --sklearn-color-border-box: var(--sg-text-color, var(--theme-code-foreground, var(--jp-content-font-color1, black)));\n",
       "  --sklearn-color-icon: #696969;\n",
       "\n",
       "  @media (prefers-color-scheme: dark) {\n",
       "    /* Redefinition of color scheme for dark theme */\n",
       "    --sklearn-color-text-on-default-background: var(--sg-text-color, var(--theme-code-foreground, var(--jp-content-font-color1, white)));\n",
       "    --sklearn-color-background: var(--sg-background-color, var(--theme-background, var(--jp-layout-color0, #111)));\n",
       "    --sklearn-color-border-box: var(--sg-text-color, var(--theme-code-foreground, var(--jp-content-font-color1, white)));\n",
       "    --sklearn-color-icon: #878787;\n",
       "  }\n",
       "}\n",
       "\n",
       "#sk-container-id-1 {\n",
       "  color: var(--sklearn-color-text);\n",
       "}\n",
       "\n",
       "#sk-container-id-1 pre {\n",
       "  padding: 0;\n",
       "}\n",
       "\n",
       "#sk-container-id-1 input.sk-hidden--visually {\n",
       "  border: 0;\n",
       "  clip: rect(1px 1px 1px 1px);\n",
       "  clip: rect(1px, 1px, 1px, 1px);\n",
       "  height: 1px;\n",
       "  margin: -1px;\n",
       "  overflow: hidden;\n",
       "  padding: 0;\n",
       "  position: absolute;\n",
       "  width: 1px;\n",
       "}\n",
       "\n",
       "#sk-container-id-1 div.sk-dashed-wrapped {\n",
       "  border: 1px dashed var(--sklearn-color-line);\n",
       "  margin: 0 0.4em 0.5em 0.4em;\n",
       "  box-sizing: border-box;\n",
       "  padding-bottom: 0.4em;\n",
       "  background-color: var(--sklearn-color-background);\n",
       "}\n",
       "\n",
       "#sk-container-id-1 div.sk-container {\n",
       "  /* jupyter's `normalize.less` sets `[hidden] { display: none; }`\n",
       "     but bootstrap.min.css set `[hidden] { display: none !important; }`\n",
       "     so we also need the `!important` here to be able to override the\n",
       "     default hidden behavior on the sphinx rendered scikit-learn.org.\n",
       "     See: https://github.com/scikit-learn/scikit-learn/issues/21755 */\n",
       "  display: inline-block !important;\n",
       "  position: relative;\n",
       "}\n",
       "\n",
       "#sk-container-id-1 div.sk-text-repr-fallback {\n",
       "  display: none;\n",
       "}\n",
       "\n",
       "div.sk-parallel-item,\n",
       "div.sk-serial,\n",
       "div.sk-item {\n",
       "  /* draw centered vertical line to link estimators */\n",
       "  background-image: linear-gradient(var(--sklearn-color-text-on-default-background), var(--sklearn-color-text-on-default-background));\n",
       "  background-size: 2px 100%;\n",
       "  background-repeat: no-repeat;\n",
       "  background-position: center center;\n",
       "}\n",
       "\n",
       "/* Parallel-specific style estimator block */\n",
       "\n",
       "#sk-container-id-1 div.sk-parallel-item::after {\n",
       "  content: \"\";\n",
       "  width: 100%;\n",
       "  border-bottom: 2px solid var(--sklearn-color-text-on-default-background);\n",
       "  flex-grow: 1;\n",
       "}\n",
       "\n",
       "#sk-container-id-1 div.sk-parallel {\n",
       "  display: flex;\n",
       "  align-items: stretch;\n",
       "  justify-content: center;\n",
       "  background-color: var(--sklearn-color-background);\n",
       "  position: relative;\n",
       "}\n",
       "\n",
       "#sk-container-id-1 div.sk-parallel-item {\n",
       "  display: flex;\n",
       "  flex-direction: column;\n",
       "}\n",
       "\n",
       "#sk-container-id-1 div.sk-parallel-item:first-child::after {\n",
       "  align-self: flex-end;\n",
       "  width: 50%;\n",
       "}\n",
       "\n",
       "#sk-container-id-1 div.sk-parallel-item:last-child::after {\n",
       "  align-self: flex-start;\n",
       "  width: 50%;\n",
       "}\n",
       "\n",
       "#sk-container-id-1 div.sk-parallel-item:only-child::after {\n",
       "  width: 0;\n",
       "}\n",
       "\n",
       "/* Serial-specific style estimator block */\n",
       "\n",
       "#sk-container-id-1 div.sk-serial {\n",
       "  display: flex;\n",
       "  flex-direction: column;\n",
       "  align-items: center;\n",
       "  background-color: var(--sklearn-color-background);\n",
       "  padding-right: 1em;\n",
       "  padding-left: 1em;\n",
       "}\n",
       "\n",
       "\n",
       "/* Toggleable style: style used for estimator/Pipeline/ColumnTransformer box that is\n",
       "clickable and can be expanded/collapsed.\n",
       "- Pipeline and ColumnTransformer use this feature and define the default style\n",
       "- Estimators will overwrite some part of the style using the `sk-estimator` class\n",
       "*/\n",
       "\n",
       "/* Pipeline and ColumnTransformer style (default) */\n",
       "\n",
       "#sk-container-id-1 div.sk-toggleable {\n",
       "  /* Default theme specific background. It is overwritten whether we have a\n",
       "  specific estimator or a Pipeline/ColumnTransformer */\n",
       "  background-color: var(--sklearn-color-background);\n",
       "}\n",
       "\n",
       "/* Toggleable label */\n",
       "#sk-container-id-1 label.sk-toggleable__label {\n",
       "  cursor: pointer;\n",
       "  display: flex;\n",
       "  width: 100%;\n",
       "  margin-bottom: 0;\n",
       "  padding: 0.5em;\n",
       "  box-sizing: border-box;\n",
       "  text-align: center;\n",
       "  align-items: start;\n",
       "  justify-content: space-between;\n",
       "  gap: 0.5em;\n",
       "}\n",
       "\n",
       "#sk-container-id-1 label.sk-toggleable__label .caption {\n",
       "  font-size: 0.6rem;\n",
       "  font-weight: lighter;\n",
       "  color: var(--sklearn-color-text-muted);\n",
       "}\n",
       "\n",
       "#sk-container-id-1 label.sk-toggleable__label-arrow:before {\n",
       "  /* Arrow on the left of the label */\n",
       "  content: \"▸\";\n",
       "  float: left;\n",
       "  margin-right: 0.25em;\n",
       "  color: var(--sklearn-color-icon);\n",
       "}\n",
       "\n",
       "#sk-container-id-1 label.sk-toggleable__label-arrow:hover:before {\n",
       "  color: var(--sklearn-color-text);\n",
       "}\n",
       "\n",
       "/* Toggleable content - dropdown */\n",
       "\n",
       "#sk-container-id-1 div.sk-toggleable__content {\n",
       "  max-height: 0;\n",
       "  max-width: 0;\n",
       "  overflow: hidden;\n",
       "  text-align: left;\n",
       "  /* unfitted */\n",
       "  background-color: var(--sklearn-color-unfitted-level-0);\n",
       "}\n",
       "\n",
       "#sk-container-id-1 div.sk-toggleable__content.fitted {\n",
       "  /* fitted */\n",
       "  background-color: var(--sklearn-color-fitted-level-0);\n",
       "}\n",
       "\n",
       "#sk-container-id-1 div.sk-toggleable__content pre {\n",
       "  margin: 0.2em;\n",
       "  border-radius: 0.25em;\n",
       "  color: var(--sklearn-color-text);\n",
       "  /* unfitted */\n",
       "  background-color: var(--sklearn-color-unfitted-level-0);\n",
       "}\n",
       "\n",
       "#sk-container-id-1 div.sk-toggleable__content.fitted pre {\n",
       "  /* unfitted */\n",
       "  background-color: var(--sklearn-color-fitted-level-0);\n",
       "}\n",
       "\n",
       "#sk-container-id-1 input.sk-toggleable__control:checked~div.sk-toggleable__content {\n",
       "  /* Expand drop-down */\n",
       "  max-height: 200px;\n",
       "  max-width: 100%;\n",
       "  overflow: auto;\n",
       "}\n",
       "\n",
       "#sk-container-id-1 input.sk-toggleable__control:checked~label.sk-toggleable__label-arrow:before {\n",
       "  content: \"▾\";\n",
       "}\n",
       "\n",
       "/* Pipeline/ColumnTransformer-specific style */\n",
       "\n",
       "#sk-container-id-1 div.sk-label input.sk-toggleable__control:checked~label.sk-toggleable__label {\n",
       "  color: var(--sklearn-color-text);\n",
       "  background-color: var(--sklearn-color-unfitted-level-2);\n",
       "}\n",
       "\n",
       "#sk-container-id-1 div.sk-label.fitted input.sk-toggleable__control:checked~label.sk-toggleable__label {\n",
       "  background-color: var(--sklearn-color-fitted-level-2);\n",
       "}\n",
       "\n",
       "/* Estimator-specific style */\n",
       "\n",
       "/* Colorize estimator box */\n",
       "#sk-container-id-1 div.sk-estimator input.sk-toggleable__control:checked~label.sk-toggleable__label {\n",
       "  /* unfitted */\n",
       "  background-color: var(--sklearn-color-unfitted-level-2);\n",
       "}\n",
       "\n",
       "#sk-container-id-1 div.sk-estimator.fitted input.sk-toggleable__control:checked~label.sk-toggleable__label {\n",
       "  /* fitted */\n",
       "  background-color: var(--sklearn-color-fitted-level-2);\n",
       "}\n",
       "\n",
       "#sk-container-id-1 div.sk-label label.sk-toggleable__label,\n",
       "#sk-container-id-1 div.sk-label label {\n",
       "  /* The background is the default theme color */\n",
       "  color: var(--sklearn-color-text-on-default-background);\n",
       "}\n",
       "\n",
       "/* On hover, darken the color of the background */\n",
       "#sk-container-id-1 div.sk-label:hover label.sk-toggleable__label {\n",
       "  color: var(--sklearn-color-text);\n",
       "  background-color: var(--sklearn-color-unfitted-level-2);\n",
       "}\n",
       "\n",
       "/* Label box, darken color on hover, fitted */\n",
       "#sk-container-id-1 div.sk-label.fitted:hover label.sk-toggleable__label.fitted {\n",
       "  color: var(--sklearn-color-text);\n",
       "  background-color: var(--sklearn-color-fitted-level-2);\n",
       "}\n",
       "\n",
       "/* Estimator label */\n",
       "\n",
       "#sk-container-id-1 div.sk-label label {\n",
       "  font-family: monospace;\n",
       "  font-weight: bold;\n",
       "  display: inline-block;\n",
       "  line-height: 1.2em;\n",
       "}\n",
       "\n",
       "#sk-container-id-1 div.sk-label-container {\n",
       "  text-align: center;\n",
       "}\n",
       "\n",
       "/* Estimator-specific */\n",
       "#sk-container-id-1 div.sk-estimator {\n",
       "  font-family: monospace;\n",
       "  border: 1px dotted var(--sklearn-color-border-box);\n",
       "  border-radius: 0.25em;\n",
       "  box-sizing: border-box;\n",
       "  margin-bottom: 0.5em;\n",
       "  /* unfitted */\n",
       "  background-color: var(--sklearn-color-unfitted-level-0);\n",
       "}\n",
       "\n",
       "#sk-container-id-1 div.sk-estimator.fitted {\n",
       "  /* fitted */\n",
       "  background-color: var(--sklearn-color-fitted-level-0);\n",
       "}\n",
       "\n",
       "/* on hover */\n",
       "#sk-container-id-1 div.sk-estimator:hover {\n",
       "  /* unfitted */\n",
       "  background-color: var(--sklearn-color-unfitted-level-2);\n",
       "}\n",
       "\n",
       "#sk-container-id-1 div.sk-estimator.fitted:hover {\n",
       "  /* fitted */\n",
       "  background-color: var(--sklearn-color-fitted-level-2);\n",
       "}\n",
       "\n",
       "/* Specification for estimator info (e.g. \"i\" and \"?\") */\n",
       "\n",
       "/* Common style for \"i\" and \"?\" */\n",
       "\n",
       ".sk-estimator-doc-link,\n",
       "a:link.sk-estimator-doc-link,\n",
       "a:visited.sk-estimator-doc-link {\n",
       "  float: right;\n",
       "  font-size: smaller;\n",
       "  line-height: 1em;\n",
       "  font-family: monospace;\n",
       "  background-color: var(--sklearn-color-background);\n",
       "  border-radius: 1em;\n",
       "  height: 1em;\n",
       "  width: 1em;\n",
       "  text-decoration: none !important;\n",
       "  margin-left: 0.5em;\n",
       "  text-align: center;\n",
       "  /* unfitted */\n",
       "  border: var(--sklearn-color-unfitted-level-1) 1pt solid;\n",
       "  color: var(--sklearn-color-unfitted-level-1);\n",
       "}\n",
       "\n",
       ".sk-estimator-doc-link.fitted,\n",
       "a:link.sk-estimator-doc-link.fitted,\n",
       "a:visited.sk-estimator-doc-link.fitted {\n",
       "  /* fitted */\n",
       "  border: var(--sklearn-color-fitted-level-1) 1pt solid;\n",
       "  color: var(--sklearn-color-fitted-level-1);\n",
       "}\n",
       "\n",
       "/* On hover */\n",
       "div.sk-estimator:hover .sk-estimator-doc-link:hover,\n",
       ".sk-estimator-doc-link:hover,\n",
       "div.sk-label-container:hover .sk-estimator-doc-link:hover,\n",
       ".sk-estimator-doc-link:hover {\n",
       "  /* unfitted */\n",
       "  background-color: var(--sklearn-color-unfitted-level-3);\n",
       "  color: var(--sklearn-color-background);\n",
       "  text-decoration: none;\n",
       "}\n",
       "\n",
       "div.sk-estimator.fitted:hover .sk-estimator-doc-link.fitted:hover,\n",
       ".sk-estimator-doc-link.fitted:hover,\n",
       "div.sk-label-container:hover .sk-estimator-doc-link.fitted:hover,\n",
       ".sk-estimator-doc-link.fitted:hover {\n",
       "  /* fitted */\n",
       "  background-color: var(--sklearn-color-fitted-level-3);\n",
       "  color: var(--sklearn-color-background);\n",
       "  text-decoration: none;\n",
       "}\n",
       "\n",
       "/* Span, style for the box shown on hovering the info icon */\n",
       ".sk-estimator-doc-link span {\n",
       "  display: none;\n",
       "  z-index: 9999;\n",
       "  position: relative;\n",
       "  font-weight: normal;\n",
       "  right: .2ex;\n",
       "  padding: .5ex;\n",
       "  margin: .5ex;\n",
       "  width: min-content;\n",
       "  min-width: 20ex;\n",
       "  max-width: 50ex;\n",
       "  color: var(--sklearn-color-text);\n",
       "  box-shadow: 2pt 2pt 4pt #999;\n",
       "  /* unfitted */\n",
       "  background: var(--sklearn-color-unfitted-level-0);\n",
       "  border: .5pt solid var(--sklearn-color-unfitted-level-3);\n",
       "}\n",
       "\n",
       ".sk-estimator-doc-link.fitted span {\n",
       "  /* fitted */\n",
       "  background: var(--sklearn-color-fitted-level-0);\n",
       "  border: var(--sklearn-color-fitted-level-3);\n",
       "}\n",
       "\n",
       ".sk-estimator-doc-link:hover span {\n",
       "  display: block;\n",
       "}\n",
       "\n",
       "/* \"?\"-specific style due to the `<a>` HTML tag */\n",
       "\n",
       "#sk-container-id-1 a.estimator_doc_link {\n",
       "  float: right;\n",
       "  font-size: 1rem;\n",
       "  line-height: 1em;\n",
       "  font-family: monospace;\n",
       "  background-color: var(--sklearn-color-background);\n",
       "  border-radius: 1rem;\n",
       "  height: 1rem;\n",
       "  width: 1rem;\n",
       "  text-decoration: none;\n",
       "  /* unfitted */\n",
       "  color: var(--sklearn-color-unfitted-level-1);\n",
       "  border: var(--sklearn-color-unfitted-level-1) 1pt solid;\n",
       "}\n",
       "\n",
       "#sk-container-id-1 a.estimator_doc_link.fitted {\n",
       "  /* fitted */\n",
       "  border: var(--sklearn-color-fitted-level-1) 1pt solid;\n",
       "  color: var(--sklearn-color-fitted-level-1);\n",
       "}\n",
       "\n",
       "/* On hover */\n",
       "#sk-container-id-1 a.estimator_doc_link:hover {\n",
       "  /* unfitted */\n",
       "  background-color: var(--sklearn-color-unfitted-level-3);\n",
       "  color: var(--sklearn-color-background);\n",
       "  text-decoration: none;\n",
       "}\n",
       "\n",
       "#sk-container-id-1 a.estimator_doc_link.fitted:hover {\n",
       "  /* fitted */\n",
       "  background-color: var(--sklearn-color-fitted-level-3);\n",
       "}\n",
       "</style><div id=\"sk-container-id-1\" class=\"sk-top-container\"><div class=\"sk-text-repr-fallback\"><pre>RandomForestRegressor(random_state=240423)</pre><b>In a Jupyter environment, please rerun this cell to show the HTML representation or trust the notebook. <br />On GitHub, the HTML representation is unable to render, please try loading this page with nbviewer.org.</b></div><div class=\"sk-container\" hidden><div class=\"sk-item\"><div class=\"sk-estimator fitted sk-toggleable\"><input class=\"sk-toggleable__control sk-hidden--visually\" id=\"sk-estimator-id-1\" type=\"checkbox\" checked><label for=\"sk-estimator-id-1\" class=\"sk-toggleable__label fitted sk-toggleable__label-arrow\"><div><div>RandomForestRegressor</div></div><div><a class=\"sk-estimator-doc-link fitted\" rel=\"noreferrer\" target=\"_blank\" href=\"https://scikit-learn.org/1.6/modules/generated/sklearn.ensemble.RandomForestRegressor.html\">?<span>Documentation for RandomForestRegressor</span></a><span class=\"sk-estimator-doc-link fitted\">i<span>Fitted</span></span></div></label><div class=\"sk-toggleable__content fitted\"><pre>RandomForestRegressor(random_state=240423)</pre></div> </div></div></div></div>"
      ],
      "text/plain": [
       "RandomForestRegressor(random_state=240423)"
      ]
     },
     "execution_count": 58,
     "metadata": {},
     "output_type": "execute_result"
    }
   ],
   "source": [
    "# Step 3: Model Specification (with Random Forest)\n",
    "\n",
    "rf =\\\n",
    "    RandomForestRegressor(n_estimators = 100,\n",
    "                          random_state = 240423)\n",
    "\n",
    "rf \\\n",
    "    .fit(X_train, Y_train)"
   ]
  },
  {
   "cell_type": "code",
   "execution_count": 59,
   "metadata": {},
   "outputs": [
    {
     "name": "stdout",
     "output_type": "stream",
     "text": [
      "Model Performance based on MSE: 192.2\n"
     ]
    }
   ],
   "source": [
    "Y_hat =\\\n",
    "    rf \\\n",
    "    .predict(X_test)\n",
    "                                                            # Actual Y vs. Predicted Y \n",
    "print(\"Model Performance based on MSE: %.1f\" % mean_squared_error(Y_test, Y_hat)\n",
    "     )"
   ]
  },
  {
   "cell_type": "markdown",
   "metadata": {},
   "source": [
    "### Feature Importance"
   ]
  },
  {
   "cell_type": "code",
   "execution_count": 60,
   "metadata": {},
   "outputs": [
    {
     "data": {
      "text/plain": [
       "array([0.113, 0.017, 0.152, 0.161, 0.112, 0.094, 0.35 ])"
      ]
     },
     "execution_count": 60,
     "metadata": {},
     "output_type": "execute_result"
    }
   ],
   "source": [
    "# How to access feature importance in algorithm\n",
    "rf \\\n",
    "    .feature_importances_"
   ]
  },
  {
   "cell_type": "code",
   "execution_count": 61,
   "metadata": {},
   "outputs": [
    {
     "data": {
      "text/html": [
       "<div>\n",
       "<style scoped>\n",
       "    .dataframe tbody tr th:only-of-type {\n",
       "        vertical-align: middle;\n",
       "    }\n",
       "\n",
       "    .dataframe tbody tr th {\n",
       "        vertical-align: top;\n",
       "    }\n",
       "\n",
       "    .dataframe thead th {\n",
       "        text-align: right;\n",
       "    }\n",
       "</style>\n",
       "<table border=\"1\" class=\"dataframe\">\n",
       "  <thead>\n",
       "    <tr style=\"text-align: right;\">\n",
       "      <th></th>\n",
       "      <th>date</th>\n",
       "      <th>season</th>\n",
       "      <th>no2</th>\n",
       "      <th>dptp</th>\n",
       "      <th>o3tmean</th>\n",
       "      <th>pm10</th>\n",
       "      <th>tmpd</th>\n",
       "    </tr>\n",
       "  </thead>\n",
       "  <tbody>\n",
       "    <tr>\n",
       "      <th>522</th>\n",
       "      <td>1.023408e+09</td>\n",
       "      <td>2</td>\n",
       "      <td>-11.888542</td>\n",
       "      <td>53.166667</td>\n",
       "      <td>6.643837</td>\n",
       "      <td>-8.849769</td>\n",
       "      <td>62.333333</td>\n",
       "    </tr>\n",
       "    <tr>\n",
       "      <th>528</th>\n",
       "      <td>1.023926e+09</td>\n",
       "      <td>2</td>\n",
       "      <td>-9.464918</td>\n",
       "      <td>54.733333</td>\n",
       "      <td>-4.692630</td>\n",
       "      <td>-6.711598</td>\n",
       "      <td>61.666667</td>\n",
       "    </tr>\n",
       "    <tr>\n",
       "      <th>534</th>\n",
       "      <td>1.024445e+09</td>\n",
       "      <td>2</td>\n",
       "      <td>17.677537</td>\n",
       "      <td>59.866667</td>\n",
       "      <td>5.000090</td>\n",
       "      <td>4.461802</td>\n",
       "      <td>71.333333</td>\n",
       "    </tr>\n",
       "    <tr>\n",
       "      <th>540</th>\n",
       "      <td>1.024963e+09</td>\n",
       "      <td>2</td>\n",
       "      <td>6.879710</td>\n",
       "      <td>60.866667</td>\n",
       "      <td>13.367200</td>\n",
       "      <td>7.086800</td>\n",
       "      <td>78.333333</td>\n",
       "    </tr>\n",
       "    <tr>\n",
       "      <th>546</th>\n",
       "      <td>1.025482e+09</td>\n",
       "      <td>3</td>\n",
       "      <td>6.889079</td>\n",
       "      <td>64.633333</td>\n",
       "      <td>25.230881</td>\n",
       "      <td>17.766239</td>\n",
       "      <td>80.333333</td>\n",
       "    </tr>\n",
       "    <tr>\n",
       "      <th>...</th>\n",
       "      <td>...</td>\n",
       "      <td>...</td>\n",
       "      <td>...</td>\n",
       "      <td>...</td>\n",
       "      <td>...</td>\n",
       "      <td>...</td>\n",
       "      <td>...</td>\n",
       "    </tr>\n",
       "    <tr>\n",
       "      <th>1434</th>\n",
       "      <td>1.102205e+09</td>\n",
       "      <td>4</td>\n",
       "      <td>-0.618634</td>\n",
       "      <td>30.633333</td>\n",
       "      <td>-8.918673</td>\n",
       "      <td>-3.542251</td>\n",
       "      <td>46.666667</td>\n",
       "    </tr>\n",
       "    <tr>\n",
       "      <th>1440</th>\n",
       "      <td>1.102723e+09</td>\n",
       "      <td>4</td>\n",
       "      <td>-3.214733</td>\n",
       "      <td>42.833333</td>\n",
       "      <td>-15.179999</td>\n",
       "      <td>-6.403284</td>\n",
       "      <td>47.666667</td>\n",
       "    </tr>\n",
       "    <tr>\n",
       "      <th>1446</th>\n",
       "      <td>1.103242e+09</td>\n",
       "      <td>4</td>\n",
       "      <td>2.234568</td>\n",
       "      <td>19.966667</td>\n",
       "      <td>-10.721559</td>\n",
       "      <td>-3.541585</td>\n",
       "      <td>39.000000</td>\n",
       "    </tr>\n",
       "    <tr>\n",
       "      <th>1452</th>\n",
       "      <td>1.103760e+09</td>\n",
       "      <td>4</td>\n",
       "      <td>2.157841</td>\n",
       "      <td>47.400000</td>\n",
       "      <td>-5.735633</td>\n",
       "      <td>-4.576011</td>\n",
       "      <td>50.333333</td>\n",
       "    </tr>\n",
       "    <tr>\n",
       "      <th>1458</th>\n",
       "      <td>1.104278e+09</td>\n",
       "      <td>4</td>\n",
       "      <td>7.916466</td>\n",
       "      <td>24.866667</td>\n",
       "      <td>-15.603102</td>\n",
       "      <td>8.544297</td>\n",
       "      <td>38.000000</td>\n",
       "    </tr>\n",
       "  </tbody>\n",
       "</table>\n",
       "<p>151 rows × 7 columns</p>\n",
       "</div>"
      ],
      "text/plain": [
       "              date season        no2       dptp    o3tmean       pm10  \\\n",
       "522   1.023408e+09      2 -11.888542  53.166667   6.643837  -8.849769   \n",
       "528   1.023926e+09      2  -9.464918  54.733333  -4.692630  -6.711598   \n",
       "534   1.024445e+09      2  17.677537  59.866667   5.000090   4.461802   \n",
       "540   1.024963e+09      2   6.879710  60.866667  13.367200   7.086800   \n",
       "546   1.025482e+09      3   6.889079  64.633333  25.230881  17.766239   \n",
       "...            ...    ...        ...        ...        ...        ...   \n",
       "1434  1.102205e+09      4  -0.618634  30.633333  -8.918673  -3.542251   \n",
       "1440  1.102723e+09      4  -3.214733  42.833333 -15.179999  -6.403284   \n",
       "1446  1.103242e+09      4   2.234568  19.966667 -10.721559  -3.541585   \n",
       "1452  1.103760e+09      4   2.157841  47.400000  -5.735633  -4.576011   \n",
       "1458  1.104278e+09      4   7.916466  24.866667 -15.603102   8.544297   \n",
       "\n",
       "           tmpd  \n",
       "522   62.333333  \n",
       "528   61.666667  \n",
       "534   71.333333  \n",
       "540   78.333333  \n",
       "546   80.333333  \n",
       "...         ...  \n",
       "1434  46.666667  \n",
       "1440  47.666667  \n",
       "1446  39.000000  \n",
       "1452  50.333333  \n",
       "1458  38.000000  \n",
       "\n",
       "[151 rows x 7 columns]"
      ]
     },
     "execution_count": 61,
     "metadata": {},
     "output_type": "execute_result"
    }
   ],
   "source": [
    "Xs"
   ]
  },
  {
   "cell_type": "code",
   "execution_count": 62,
   "metadata": {},
   "outputs": [
    {
     "data": {
      "text/plain": [
       "Text(0.5, 0, 'Feature Importance')"
      ]
     },
     "execution_count": 62,
     "metadata": {},
     "output_type": "execute_result"
    },
    {
     "data": {
      "image/png": "[encoded data removed]",
      "text/plain": [
       "<Figure size 640x480 with 1 Axes>"
      ]
     },
     "metadata": {},
     "output_type": "display_data"
    }
   ],
   "source": [
    "plt \\\n",
    "    .barh(Xs.columns,\n",
    "          rf.feature_importances_)\n",
    "\n",
    "plt.title(\"Visualization of feature importance\")\n",
    "\n",
    "plt.xlabel(\"Feature Importance\")"
   ]
  },
  {
   "cell_type": "markdown",
   "metadata": {},
   "source": [
    "> As seen in the plot, the variable pm10 has a low importance, as it doesn't contribute much to predicting mortality. This aligns with our observation from the previous section that the effect size was small, meaning it didn't explain much variability in mortality. Predictors like temperature and dew point temperature are more helpful in predicting daily mortality, with even NO2 being a better predictor than PM10."
   ]
  },
  {
   "cell_type": "markdown",
   "metadata": {},
   "source": [
    "> However, just because PM10 isn't a strong predictor of mortality, it doesn't imply that it has no association with mortality. Given the limitations that come with developing a prediction model, PM10 is not a priority among the predictors we would consider including - it's not feasible to include every predictor."
   ]
  },
  {
   "cell_type": "markdown",
   "metadata": {},
   "source": [
    "> In any business analytics task, it's crucial to determine beforehand whether you're seeking a model for explanation or prediction. This decision can shape the entire modeling strategy. In this example, if we had taken a prediction approach, we might have wrongly assumed that PM10 was not related to mortality. However, the inferential approach revealed a statistically significant association with mortality. Properly framing the question and applying the appropriate modeling approach can significantly impact the conclusions drawn from the data."
   ]
  },
  {
   "cell_type": "markdown",
   "metadata": {},
   "source": [
    "## <a id = \"p5\">5. </a> <font color = \"green\"> Confounders vs. Colliders </font>  [back to table of contents](#top)"
   ]
  },
  {
   "cell_type": "markdown",
   "metadata": {},
   "source": [
    "### Analytics Contexts\n",
    "\n",
    "> One of the very first things you might hear in field practice is the concept of controlling variables. Controlling for variables is of crucial importance during the modeling process for explanation (b-hat problem solving). Before diving into learning causal inference with econometric methods and techniques, it is essential to understand what it means to control variables, why it is important, and under which circumstances you should not control variables."
   ]
  },
  {
   "cell_type": "markdown",
   "metadata": {},
   "source": [
    "### Problem of Omitted Variable\n",
    "\n",
    "> When a variable that affects your dependent variable (y) is missing from the model, and at the same time it is correlated with your independent variable (x), you will face omitted variable bias. We call that variable z.\n",
    "\n",
    "> The problem of omitted variable is in play when you consider the causal relationship between x and y variables. It is referred to as `endogenous.`"
   ]
  },
  {
   "cell_type": "code",
   "execution_count": 63,
   "metadata": {},
   "outputs": [],
   "source": [
    "# Team, we are building synthetic (simulated) data by ourselves.\n",
    "\n",
    "np \\\n",
    "    .random \\\n",
    "    .seed(240423)\n",
    "\n",
    "N = 4000\n",
    "\n",
    "x =\\\n",
    "(\n",
    "    np\n",
    "    .random\n",
    "    .normal(size = N)\n",
    ")\n",
    "\n",
    "# Let's set TRUE average treatment effects (ATE) of X at 0.40\n",
    "\n",
    "y = 0.40 * x + np.random.normal(size = N)"
   ]
  },
  {
   "cell_type": "code",
   "execution_count": 64,
   "metadata": {},
   "outputs": [
    {
     "name": "stdout",
     "output_type": "stream",
     "text": [
      "Variable                      Type                        Data/Info\n",
      "-------------------------------------------------------------------\n",
      "N                             int                         4000\n",
      "RandomForestRegressor         ABCMeta                     <class 'sklearn.ensemble.<...>t.RandomForestRegressor'>\n",
      "X_test                        DataFrame                                 date season<...>0000  \\n1374  55.666667  \n",
      "X_train                       DataFrame                                 date season<...>n\\n[120 rows x 7 columns]\n",
      "Xs                            DataFrame                                 date season<...>n\\n[151 rows x 7 columns]\n",
      "Y                             Series                      522     139\\n528     136\\<...>Length: 151, dtype: int64\n",
      "Y_hat                         ndarray                     31: 31 elems, type `float64`, 248 bytes\n",
      "Y_test                        Series                      1230    158\\n1320    149\\<...>Name: death, dtype: int64\n",
      "Y_train                       Series                      612     163\\n1446    174\\<...>Length: 120, dtype: int64\n",
      "countdown                     function                    <function countdown at 0x168de5120>\n",
      "data                          DataFrame                         city  alldeath  acc<...>20820 rows x 114 columns]\n",
      "data_for_analysis             DataFrame                                 date  death<...>[1826 rows x 115 columns]\n",
      "data_without_missing_values   DataFrame                                 date  death<...>n[151 rows x 115 columns]\n",
      "date_array                    ndarray                     1826: 1826 elems, type `datetime64[ns]`, 14608 bytes\n",
      "datetime                      module                      <module 'datetime' from '<...>/python3.13/datetime.py'>\n",
      "effects_of_pm10_out_of_data   ndarray                     4x2: 8 elems, type `float64`, 64 bytes\n",
      "effects_of_pm10_within_data   ndarray                     4: 4 elems, type `float64`, 32 bytes\n",
      "exposure                      DataFrame                        city  alldeath  acci<...>[1826 rows x 113 columns]\n",
      "mean_squared_error            function                    <function mean_squared_error at 0x1788ac720>\n",
      "mpl                           module                      <module 'matplotlib' from<...>/matplotlib/__init__.py'>\n",
      "np                            module                      <module 'numpy' from '/op<...>kages/numpy/__init__.py'>\n",
      "pd                            module                      <module 'pandas' from '/o<...>ages/pandas/__init__.py'>\n",
      "plt                           module                      <module 'matplotlib.pyplo<...>es/matplotlib/pyplot.py'>\n",
      "pm10_array                    ndarray                     1826: 1826 elems, type `float64`, 14608 bytes\n",
      "re                            module                      <module 're' from '/opt/h<...>thon3.13/re/__init__.py'>\n",
      "read_dropbox                  function                    <function read_dropbox at 0x168dfda80>\n",
      "regression_0                  RegressionResultsWrapper    <statsmodels.regression.l<...>er object at 0x16a4ef4d0>\n",
      "regression_1                  RegressionResultsWrapper    <statsmodels.regression.l<...>er object at 0x16a4f2e90>\n",
      "regression_2                  RegressionResultsWrapper    <statsmodels.regression.l<...>er object at 0x16a4f3250>\n",
      "regression_3                  RegressionResultsWrapper    <statsmodels.regression.l<...>er object at 0x16a51ab10>\n",
      "regression_models             ndarray                     4: 4 elems, type `int64`, 32 bytes\n",
      "rf                            RandomForestRegressor       RandomForestRegressor(random_state=240423)\n",
      "smf                           module                      <module 'statsmodels.form<...>tsmodels/formula/api.py'>\n",
      "sns                           module                      <module 'seaborn' from '/<...>ges/seaborn/__init__.py'>\n",
      "subset_DF                     DataFrame                               date  death\\n<...>\\n[1826 rows x 2 columns]\n",
      "this                          module                      <module 'this' from '/opt<...>/lib/python3.13/this.py'>\n",
      "time                          module                      <module 'time' (built-in)>\n",
      "train_test_split              function                    <function train_test_split at 0x1788eaac0>\n",
      "warnings                      module                      <module 'warnings' from '<...>/python3.13/warnings.py'>\n",
      "x                             ndarray                     4000: 4000 elems, type `float64`, 32000 bytes\n",
      "y                             ndarray                     4000: 4000 elems, type `float64`, 32000 bytes\n"
     ]
    }
   ],
   "source": [
    "%whos"
   ]
  },
  {
   "cell_type": "code",
   "execution_count": 65,
   "metadata": {},
   "outputs": [],
   "source": [
    "data =\\\n",
    "    {\"x\": x,\n",
    "     \"y\": y}"
   ]
  },
  {
   "cell_type": "code",
   "execution_count": 66,
   "metadata": {},
   "outputs": [
    {
     "data": {
      "text/plain": [
       "{'x': array([ 0.381, -1.493, -0.438, ...,  0.311, -0.368, -0.352], shape=(4000,)),\n",
       " 'y': array([ 0.434, -0.719, -1.115, ..., -1.421,  0.543,  1.091], shape=(4000,))}"
      ]
     },
     "execution_count": 66,
     "metadata": {},
     "output_type": "execute_result"
    }
   ],
   "source": [
    "data"
   ]
  },
  {
   "cell_type": "code",
   "execution_count": 67,
   "metadata": {},
   "outputs": [
    {
     "data": {
      "text/plain": [
       "dict"
      ]
     },
     "execution_count": 67,
     "metadata": {},
     "output_type": "execute_result"
    }
   ],
   "source": [
    "type(data)"
   ]
  },
  {
   "cell_type": "code",
   "execution_count": 68,
   "metadata": {},
   "outputs": [],
   "source": [
    "import statsmodels.formula.api as smf"
   ]
  },
  {
   "cell_type": "code",
   "execution_count": 69,
   "metadata": {},
   "outputs": [
    {
     "name": "stdout",
     "output_type": "stream",
     "text": [
      "==============================================================================\n",
      "                 coef    std err          t      P>|t|      [0.025      0.975]\n",
      "------------------------------------------------------------------------------\n",
      "Intercept      0.0065      0.016      0.415      0.678      -0.024       0.037\n",
      "x              0.3825      0.016     24.301      0.000       0.352       0.413\n",
      "==============================================================================\n"
     ]
    }
   ],
   "source": [
    "correct_model =\\\n",
    "(\n",
    "    smf\n",
    "    .ols(\"y ~ x\",\n",
    "        data = data)\n",
    "    .fit()\n",
    ")\n",
    "\n",
    "print(correct_model\n",
    "      .summary()\n",
    "      .tables[1]\n",
    "     )"
   ]
  },
  {
   "cell_type": "markdown",
   "metadata": {},
   "source": [
    "### A Case for Confounders"
   ]
  },
  {
   "cell_type": "markdown",
   "metadata": {},
   "source": [
    "> Let's first look at a case where your confounding variable can bias regression results if you fail to include it in the regression model.\n",
    "\n",
    "> The model below will engender the problem of omitted variable bias."
   ]
  },
  {
   "cell_type": "code",
   "execution_count": 70,
   "metadata": {},
   "outputs": [],
   "source": [
    "np.random.seed(2005)\n",
    "\n",
    "N = 2000\n",
    "\n",
    "confounder = np.random.normal(size = N)\n",
    "\n",
    "x = 0.50 * confounder + np.random.normal(size = N)\n",
    "\n",
    "y = 0.40 * x + 0.30 * confounder + np.random.normal(size = N)"
   ]
  },
  {
   "cell_type": "code",
   "execution_count": 71,
   "metadata": {},
   "outputs": [],
   "source": [
    "data =\\\n",
    "    {\"x\": x,\n",
    "     \"y\": y,\n",
    "    \"confounder\": confounder}"
   ]
  },
  {
   "cell_type": "code",
   "execution_count": 72,
   "metadata": {},
   "outputs": [
    {
     "data": {
      "text/plain": [
       "{'x': array([ 1.555, -1.173,  0.758, ..., -0.685,  0.074, -1.123], shape=(2000,)),\n",
       " 'y': array([ 1.502, -1.14 , -0.126, ..., -0.041,  0.369, -0.59 ], shape=(2000,)),\n",
       " 'confounder': array([ 0.482, -0.654, -0.487, ..., -1.375,  1.213, -0.132], shape=(2000,))}"
      ]
     },
     "execution_count": 72,
     "metadata": {},
     "output_type": "execute_result"
    }
   ],
   "source": [
    "data"
   ]
  },
  {
   "cell_type": "code",
   "execution_count": 73,
   "metadata": {},
   "outputs": [
    {
     "data": {
      "text/html": [
       "<div>\n",
       "<style scoped>\n",
       "    .dataframe tbody tr th:only-of-type {\n",
       "        vertical-align: middle;\n",
       "    }\n",
       "\n",
       "    .dataframe tbody tr th {\n",
       "        vertical-align: top;\n",
       "    }\n",
       "\n",
       "    .dataframe thead th {\n",
       "        text-align: right;\n",
       "    }\n",
       "</style>\n",
       "<table border=\"1\" class=\"dataframe\">\n",
       "  <thead>\n",
       "    <tr style=\"text-align: right;\">\n",
       "      <th></th>\n",
       "      <th>x</th>\n",
       "      <th>y</th>\n",
       "      <th>confounder</th>\n",
       "    </tr>\n",
       "  </thead>\n",
       "  <tbody>\n",
       "    <tr>\n",
       "      <th>0</th>\n",
       "      <td>1.555205</td>\n",
       "      <td>1.501817</td>\n",
       "      <td>0.482246</td>\n",
       "    </tr>\n",
       "    <tr>\n",
       "      <th>1</th>\n",
       "      <td>-1.172580</td>\n",
       "      <td>-1.139859</td>\n",
       "      <td>-0.654406</td>\n",
       "    </tr>\n",
       "    <tr>\n",
       "      <th>2</th>\n",
       "      <td>0.758073</td>\n",
       "      <td>-0.125802</td>\n",
       "      <td>-0.486757</td>\n",
       "    </tr>\n",
       "    <tr>\n",
       "      <th>3</th>\n",
       "      <td>1.362006</td>\n",
       "      <td>1.680506</td>\n",
       "      <td>0.922679</td>\n",
       "    </tr>\n",
       "    <tr>\n",
       "      <th>4</th>\n",
       "      <td>-0.541325</td>\n",
       "      <td>0.376012</td>\n",
       "      <td>0.958124</td>\n",
       "    </tr>\n",
       "    <tr>\n",
       "      <th>...</th>\n",
       "      <td>...</td>\n",
       "      <td>...</td>\n",
       "      <td>...</td>\n",
       "    </tr>\n",
       "    <tr>\n",
       "      <th>1995</th>\n",
       "      <td>-1.122245</td>\n",
       "      <td>-0.721435</td>\n",
       "      <td>1.011351</td>\n",
       "    </tr>\n",
       "    <tr>\n",
       "      <th>1996</th>\n",
       "      <td>-0.905404</td>\n",
       "      <td>-1.061981</td>\n",
       "      <td>-0.435902</td>\n",
       "    </tr>\n",
       "    <tr>\n",
       "      <th>1997</th>\n",
       "      <td>-0.684634</td>\n",
       "      <td>-0.040606</td>\n",
       "      <td>-1.375172</td>\n",
       "    </tr>\n",
       "    <tr>\n",
       "      <th>1998</th>\n",
       "      <td>0.073811</td>\n",
       "      <td>0.368533</td>\n",
       "      <td>1.213087</td>\n",
       "    </tr>\n",
       "    <tr>\n",
       "      <th>1999</th>\n",
       "      <td>-1.123035</td>\n",
       "      <td>-0.590271</td>\n",
       "      <td>-0.132398</td>\n",
       "    </tr>\n",
       "  </tbody>\n",
       "</table>\n",
       "<p>2000 rows × 3 columns</p>\n",
       "</div>"
      ],
      "text/plain": [
       "             x         y  confounder\n",
       "0     1.555205  1.501817    0.482246\n",
       "1    -1.172580 -1.139859   -0.654406\n",
       "2     0.758073 -0.125802   -0.486757\n",
       "3     1.362006  1.680506    0.922679\n",
       "4    -0.541325  0.376012    0.958124\n",
       "...        ...       ...         ...\n",
       "1995 -1.122245 -0.721435    1.011351\n",
       "1996 -0.905404 -1.061981   -0.435902\n",
       "1997 -0.684634 -0.040606   -1.375172\n",
       "1998  0.073811  0.368533    1.213087\n",
       "1999 -1.123035 -0.590271   -0.132398\n",
       "\n",
       "[2000 rows x 3 columns]"
      ]
     },
     "execution_count": 73,
     "metadata": {},
     "output_type": "execute_result"
    }
   ],
   "source": [
    "pd \\\n",
    "    .DataFrame(data)"
   ]
  },
  {
   "cell_type": "code",
   "execution_count": 74,
   "metadata": {},
   "outputs": [
    {
     "name": "stdout",
     "output_type": "stream",
     "text": [
      "==============================================================================\n",
      "                 coef    std err          t      P>|t|      [0.025      0.975]\n",
      "------------------------------------------------------------------------------\n",
      "Intercept      0.0164      0.023      0.727      0.467      -0.028       0.061\n",
      "x              0.5257      0.020     25.892      0.000       0.486       0.566\n",
      "==============================================================================\n"
     ]
    }
   ],
   "source": [
    "regression_without_controlling_for_confounder =\\\n",
    "(\n",
    "    smf\n",
    "    .ols(formula = \"y ~ x\",\n",
    "         data = data)\n",
    "    .fit()\n",
    ")\n",
    "\n",
    "print(regression_without_controlling_for_confounder\n",
    "      .summary()\n",
    "      .tables[1]\n",
    "     )"
   ]
  },
  {
   "cell_type": "markdown",
   "metadata": {},
   "source": [
    "> Here, you only included (measured) x, and the influence of the omitted variable, z, was attributed to x in your model.\n",
    "\n",
    "> If you re-run the regression with the confounder in the model, you can avoid getting biased estimates."
   ]
  },
  {
   "cell_type": "markdown",
   "metadata": {},
   "source": [
    "> Here the regression errors (a.k.a. residuals) are correlated with z (confounder)."
   ]
  },
  {
   "cell_type": "code",
   "execution_count": 75,
   "metadata": {},
   "outputs": [
    {
     "name": "stdout",
     "output_type": "stream",
     "text": [
      "==============================================================================\n",
      "                 coef    std err          t      P>|t|      [0.025      0.975]\n",
      "------------------------------------------------------------------------------\n",
      "Intercept      0.0076      0.022      0.346      0.729      -0.035       0.050\n",
      "x              0.4114      0.022     18.965      0.000       0.369       0.454\n",
      "confounder     0.3110      0.025     12.255      0.000       0.261       0.361\n",
      "==============================================================================\n"
     ]
    }
   ],
   "source": [
    "# Run model with confounder\n",
    "\n",
    "regression_controlling_for_confounder =\\\n",
    "(\n",
    "    smf\n",
    "    .ols(formula = \"y ~ x + confounder\",\n",
    "         data = data)\n",
    "    .fit()\n",
    ")\n",
    "\n",
    "print(regression_controlling_for_confounder\n",
    "      .summary()\n",
    "      .tables[1])"
   ]
  },
  {
   "cell_type": "code",
   "execution_count": 76,
   "metadata": {},
   "outputs": [
    {
     "name": "stdout",
     "output_type": "stream",
     "text": [
      "Variable                                        Type                        Data/Info\n",
      "-------------------------------------------------------------------------------------\n",
      "N                                               int                         2000\n",
      "RandomForestRegressor                           ABCMeta                     <class 'sklearn.ensemble.<...>t.RandomForestRegressor'>\n",
      "X_test                                          DataFrame                                 date season<...>0000  \\n1374  55.666667  \n",
      "X_train                                         DataFrame                                 date season<...>n\\n[120 rows x 7 columns]\n",
      "Xs                                              DataFrame                                 date season<...>n\\n[151 rows x 7 columns]\n",
      "Y                                               Series                      522     139\\n528     136\\<...>Length: 151, dtype: int64\n",
      "Y_hat                                           ndarray                     31: 31 elems, type `float64`, 248 bytes\n",
      "Y_test                                          Series                      1230    158\\n1320    149\\<...>Name: death, dtype: int64\n",
      "Y_train                                         Series                      612     163\\n1446    174\\<...>Length: 120, dtype: int64\n",
      "confounder                                      ndarray                     2000: 2000 elems, type `float64`, 16000 bytes\n",
      "correct_model                                   RegressionResultsWrapper    <statsmodels.regression.l<...>er object at 0x1790fb5c0>\n",
      "countdown                                       function                    <function countdown at 0x168de5120>\n",
      "data                                            dict                        n=3\n",
      "data_for_analysis                               DataFrame                                 date  death<...>[1826 rows x 115 columns]\n",
      "data_without_missing_values                     DataFrame                                 date  death<...>n[151 rows x 115 columns]\n",
      "date_array                                      ndarray                     1826: 1826 elems, type `datetime64[ns]`, 14608 bytes\n",
      "datetime                                        module                      <module 'datetime' from '<...>/python3.13/datetime.py'>\n",
      "effects_of_pm10_out_of_data                     ndarray                     4x2: 8 elems, type `float64`, 64 bytes\n",
      "effects_of_pm10_within_data                     ndarray                     4: 4 elems, type `float64`, 32 bytes\n",
      "exposure                                        DataFrame                        city  alldeath  acci<...>[1826 rows x 113 columns]\n",
      "mean_squared_error                              function                    <function mean_squared_error at 0x1788ac720>\n",
      "mpl                                             module                      <module 'matplotlib' from<...>/matplotlib/__init__.py'>\n",
      "np                                              module                      <module 'numpy' from '/op<...>kages/numpy/__init__.py'>\n",
      "pd                                              module                      <module 'pandas' from '/o<...>ages/pandas/__init__.py'>\n",
      "plt                                             module                      <module 'matplotlib.pyplo<...>es/matplotlib/pyplot.py'>\n",
      "pm10_array                                      ndarray                     1826: 1826 elems, type `float64`, 14608 bytes\n",
      "re                                              module                      <module 're' from '/opt/h<...>thon3.13/re/__init__.py'>\n",
      "read_dropbox                                    function                    <function read_dropbox at 0x168dfda80>\n",
      "regression_0                                    RegressionResultsWrapper    <statsmodels.regression.l<...>er object at 0x16a4ef4d0>\n",
      "regression_1                                    RegressionResultsWrapper    <statsmodels.regression.l<...>er object at 0x16a4f2e90>\n",
      "regression_2                                    RegressionResultsWrapper    <statsmodels.regression.l<...>er object at 0x16a4f3250>\n",
      "regression_3                                    RegressionResultsWrapper    <statsmodels.regression.l<...>er object at 0x16a51ab10>\n",
      "regression_controlling_for_confounder           RegressionResultsWrapper    <statsmodels.regression.l<...>er object at 0x179782be0>\n",
      "regression_models                               ndarray                     4: 4 elems, type `int64`, 32 bytes\n",
      "regression_without_controlling_for_confounder   RegressionResultsWrapper    <statsmodels.regression.l<...>er object at 0x179d76570>\n",
      "rf                                              RandomForestRegressor       RandomForestRegressor(random_state=240423)\n",
      "smf                                             module                      <module 'statsmodels.form<...>tsmodels/formula/api.py'>\n",
      "sns                                             module                      <module 'seaborn' from '/<...>ges/seaborn/__init__.py'>\n",
      "subset_DF                                       DataFrame                               date  death\\n<...>\\n[1826 rows x 2 columns]\n",
      "this                                            module                      <module 'this' from '/opt<...>/lib/python3.13/this.py'>\n",
      "time                                            module                      <module 'time' (built-in)>\n",
      "train_test_split                                function                    <function train_test_split at 0x1788eaac0>\n",
      "warnings                                        module                      <module 'warnings' from '<...>/python3.13/warnings.py'>\n",
      "x                                               ndarray                     2000: 2000 elems, type `float64`, 16000 bytes\n",
      "y                                               ndarray                     2000: 2000 elems, type `float64`, 16000 bytes\n"
     ]
    }
   ],
   "source": [
    "%whos"
   ]
  },
  {
   "cell_type": "code",
   "execution_count": 77,
   "metadata": {},
   "outputs": [
    {
     "data": {
      "text/plain": [
       "np.float64(0.2387721900330935)"
      ]
     },
     "execution_count": 77,
     "metadata": {},
     "output_type": "execute_result"
    }
   ],
   "source": [
    "np \\\n",
    "    .corrcoef(confounder,\n",
    "              regression_without_controlling_for_confounder.resid)[0, 1]"
   ]
  },
  {
   "cell_type": "markdown",
   "metadata": {},
   "source": [
    "> It is important to know that omitted variable bias does NOT necessarily arise when your omitted variable is simply correlated with both the x and y variables.\n",
    "\n",
    "> As you will see, the confounder, x and z, and y are all correlated in this model."
   ]
  },
  {
   "cell_type": "markdown",
   "metadata": {},
   "source": [
    "> You might want to know why omitted variable bias does NOT arise when your omitted variable is simply correlated with both the x and y variables."
   ]
  },
  {
   "cell_type": "markdown",
   "metadata": {},
   "source": [
    "### The Case of Collider(s)"
   ]
  },
  {
   "cell_type": "markdown",
   "metadata": {},
   "source": [
    "#### Analytics Context \n",
    "\n",
    "> A confounder should cause both the x and y variables. There could be cases where you see this kind of correlation even without causality when x and y both cause the third variable.\n",
    "\n",
    "#### Business Context\n",
    "\n",
    "> Let's consider an example where we are interested in the effect of Skillsfuture credit use on labor market performance. One factor that may cause both the use of Skillsfuture credit and job performance is the level of education people have. If you only measure credit use and performance, the level of education is likely to confound your estimates.\n",
    "\n",
    "> However, an alternative argument suggests that the causality could be reversed: Skillsfuture credit use might be determined primarily by other factors, and use of Skillsfuture credit might lead people to become more educated in the future. Similarly, job performance might make people pursue further education. Let's assume that the second argument is valid. In this case, your simulated data will look like the following:\n",
    "\n",
    "> Level of education increases after using credit and performing better in the labor market and, in this simulated data, does not increase credit use and job performance.\n",
    "\n",
    "> As you can see, all variables are correlated with each other again. Yet this time, if you only include x (Skillsfuture credit use) and y (job performance) in your regression equation, you will obtain the correct estimate.\n",
    "\n",
    "> The point here is that you should not simply throw in as many control variables into your regression as you can just because you think there are correlations. There is a peril here. If you now include the third variable (education), you will face a different type of bias, namely, endogenous selection bias (also known as collider bias)."
   ]
  },
  {
   "cell_type": "code",
   "execution_count": 78,
   "metadata": {},
   "outputs": [],
   "source": [
    "# Here's the truth behind the scene\n",
    "\n",
    "np \\\n",
    "    .random \\\n",
    "    .seed(2005)\n",
    "\n",
    "N = 4000\n",
    "\n",
    "X_skillsfuture = np.random.normal(size = N)\n",
    "\n",
    "Y_performance = 0.10 * X_skillsfuture + np.random.normal(size = N)\n",
    "\n",
    "COLLIDER_education = 1.2 * X_skillsfuture + 0.60 * Y_performance + np.random.normal(size = N)"
   ]
  },
  {
   "cell_type": "code",
   "execution_count": 79,
   "metadata": {},
   "outputs": [],
   "source": [
    "data_with_collider =\\\n",
    "(\n",
    "    pd\n",
    "    .DataFrame(\n",
    "               {\"X_skillsfuture\": X_skillsfuture,\n",
    "                \"Y_performance\": Y_performance,\n",
    "                \"COLLIDER_education\": COLLIDER_education}\n",
    "              )\n",
    ")"
   ]
  },
  {
   "cell_type": "code",
   "execution_count": 80,
   "metadata": {},
   "outputs": [
    {
     "data": {
      "text/html": [
       "<div>\n",
       "<style scoped>\n",
       "    .dataframe tbody tr th:only-of-type {\n",
       "        vertical-align: middle;\n",
       "    }\n",
       "\n",
       "    .dataframe tbody tr th {\n",
       "        vertical-align: top;\n",
       "    }\n",
       "\n",
       "    .dataframe thead th {\n",
       "        text-align: right;\n",
       "    }\n",
       "</style>\n",
       "<table border=\"1\" class=\"dataframe\">\n",
       "  <thead>\n",
       "    <tr style=\"text-align: right;\">\n",
       "      <th></th>\n",
       "      <th>X_skillsfuture</th>\n",
       "      <th>Y_performance</th>\n",
       "      <th>COLLIDER_education</th>\n",
       "    </tr>\n",
       "  </thead>\n",
       "  <tbody>\n",
       "    <tr>\n",
       "      <th>0</th>\n",
       "      <td>0.482246</td>\n",
       "      <td>0.783286</td>\n",
       "      <td>0.586781</td>\n",
       "    </tr>\n",
       "    <tr>\n",
       "      <th>1</th>\n",
       "      <td>-0.654406</td>\n",
       "      <td>-0.539946</td>\n",
       "      <td>-0.163383</td>\n",
       "    </tr>\n",
       "    <tr>\n",
       "      <th>2</th>\n",
       "      <td>-0.486757</td>\n",
       "      <td>-0.331679</td>\n",
       "      <td>-1.632038</td>\n",
       "    </tr>\n",
       "    <tr>\n",
       "      <th>3</th>\n",
       "      <td>0.922679</td>\n",
       "      <td>0.951168</td>\n",
       "      <td>2.256983</td>\n",
       "    </tr>\n",
       "    <tr>\n",
       "      <th>4</th>\n",
       "      <td>0.958124</td>\n",
       "      <td>0.400918</td>\n",
       "      <td>1.519181</td>\n",
       "    </tr>\n",
       "    <tr>\n",
       "      <th>...</th>\n",
       "      <td>...</td>\n",
       "      <td>...</td>\n",
       "      <td>...</td>\n",
       "    </tr>\n",
       "    <tr>\n",
       "      <th>3995</th>\n",
       "      <td>-1.627920</td>\n",
       "      <td>0.415059</td>\n",
       "      <td>-0.408729</td>\n",
       "    </tr>\n",
       "    <tr>\n",
       "      <th>3996</th>\n",
       "      <td>-0.687453</td>\n",
       "      <td>-0.861176</td>\n",
       "      <td>-1.388096</td>\n",
       "    </tr>\n",
       "    <tr>\n",
       "      <th>3997</th>\n",
       "      <td>0.002952</td>\n",
       "      <td>0.487171</td>\n",
       "      <td>1.044024</td>\n",
       "    </tr>\n",
       "    <tr>\n",
       "      <th>3998</th>\n",
       "      <td>-0.532732</td>\n",
       "      <td>-0.579635</td>\n",
       "      <td>-2.543455</td>\n",
       "    </tr>\n",
       "    <tr>\n",
       "      <th>3999</th>\n",
       "      <td>-1.056836</td>\n",
       "      <td>-0.185570</td>\n",
       "      <td>-2.137282</td>\n",
       "    </tr>\n",
       "  </tbody>\n",
       "</table>\n",
       "<p>4000 rows × 3 columns</p>\n",
       "</div>"
      ],
      "text/plain": [
       "      X_skillsfuture  Y_performance  COLLIDER_education\n",
       "0           0.482246       0.783286            0.586781\n",
       "1          -0.654406      -0.539946           -0.163383\n",
       "2          -0.486757      -0.331679           -1.632038\n",
       "3           0.922679       0.951168            2.256983\n",
       "4           0.958124       0.400918            1.519181\n",
       "...              ...            ...                 ...\n",
       "3995       -1.627920       0.415059           -0.408729\n",
       "3996       -0.687453      -0.861176           -1.388096\n",
       "3997        0.002952       0.487171            1.044024\n",
       "3998       -0.532732      -0.579635           -2.543455\n",
       "3999       -1.056836      -0.185570           -2.137282\n",
       "\n",
       "[4000 rows x 3 columns]"
      ]
     },
     "execution_count": 80,
     "metadata": {},
     "output_type": "execute_result"
    }
   ],
   "source": [
    "data_with_collider"
   ]
  },
  {
   "cell_type": "code",
   "execution_count": 81,
   "metadata": {},
   "outputs": [],
   "source": [
    "corr_matrix =\\\n",
    "    data_with_collider \\\n",
    "    .corr()"
   ]
  },
  {
   "cell_type": "code",
   "execution_count": 82,
   "metadata": {},
   "outputs": [
    {
     "data": {
      "text/html": [
       "<div>\n",
       "<style scoped>\n",
       "    .dataframe tbody tr th:only-of-type {\n",
       "        vertical-align: middle;\n",
       "    }\n",
       "\n",
       "    .dataframe tbody tr th {\n",
       "        vertical-align: top;\n",
       "    }\n",
       "\n",
       "    .dataframe thead th {\n",
       "        text-align: right;\n",
       "    }\n",
       "</style>\n",
       "<table border=\"1\" class=\"dataframe\">\n",
       "  <thead>\n",
       "    <tr style=\"text-align: right;\">\n",
       "      <th></th>\n",
       "      <th>X_skillsfuture</th>\n",
       "      <th>Y_performance</th>\n",
       "      <th>COLLIDER_education</th>\n",
       "    </tr>\n",
       "  </thead>\n",
       "  <tbody>\n",
       "    <tr>\n",
       "      <th>X_skillsfuture</th>\n",
       "      <td>1.000000</td>\n",
       "      <td>0.114827</td>\n",
       "      <td>0.734931</td>\n",
       "    </tr>\n",
       "    <tr>\n",
       "      <th>Y_performance</th>\n",
       "      <td>0.114827</td>\n",
       "      <td>1.000000</td>\n",
       "      <td>0.433815</td>\n",
       "    </tr>\n",
       "    <tr>\n",
       "      <th>COLLIDER_education</th>\n",
       "      <td>0.734931</td>\n",
       "      <td>0.433815</td>\n",
       "      <td>1.000000</td>\n",
       "    </tr>\n",
       "  </tbody>\n",
       "</table>\n",
       "</div>"
      ],
      "text/plain": [
       "                    X_skillsfuture  Y_performance  COLLIDER_education\n",
       "X_skillsfuture            1.000000       0.114827            0.734931\n",
       "Y_performance             0.114827       1.000000            0.433815\n",
       "COLLIDER_education        0.734931       0.433815            1.000000"
      ]
     },
     "execution_count": 82,
     "metadata": {},
     "output_type": "execute_result"
    }
   ],
   "source": [
    "corr_matrix"
   ]
  },
  {
   "cell_type": "code",
   "execution_count": 83,
   "metadata": {},
   "outputs": [],
   "source": [
    "regression_with_endogeneous_selection_bias =\\\n",
    "(\n",
    "    smf\n",
    "    .ols(formula = \"Y_performance ~ X_skillsfuture + COLLIDER_education\",\n",
    "         data = data_with_collider)\n",
    "    .fit()\n",
    ")"
   ]
  },
  {
   "cell_type": "code",
   "execution_count": 84,
   "metadata": {},
   "outputs": [
    {
     "name": "stdout",
     "output_type": "stream",
     "text": [
      "======================================================================================\n",
      "                         coef    std err          t      P>|t|      [0.025      0.975]\n",
      "--------------------------------------------------------------------------------------\n",
      "Intercept              0.0010      0.013      0.075      0.940      -0.025       0.027\n",
      "X_skillsfuture        -0.4514      0.020    -22.393      0.000      -0.491      -0.412\n",
      "COLLIDER_education     0.4421      0.012     38.356      0.000       0.420       0.465\n",
      "======================================================================================\n"
     ]
    }
   ],
   "source": [
    "# True Average Treatment Effects of Using SkillsFuture Credit on Performance\n",
    "# b = 0.10\n",
    "\n",
    "print(regression_with_endogeneous_selection_bias\n",
    "      .summary()\n",
    "      .tables[1]\n",
    "     )"
   ]
  },
  {
   "cell_type": "code",
   "execution_count": 85,
   "metadata": {},
   "outputs": [],
   "source": [
    "valid_regression =\\\n",
    "(\n",
    "    smf\n",
    "    .ols(formula = \"Y_performance ~ X_skillsfuture\",\n",
    "         data = data_with_collider)\n",
    "    .fit()\n",
    ")"
   ]
  },
  {
   "cell_type": "code",
   "execution_count": 86,
   "metadata": {},
   "outputs": [
    {
     "name": "stdout",
     "output_type": "stream",
     "text": [
      "==================================================================================\n",
      "                     coef    std err          t      P>|t|      [0.025      0.975]\n",
      "----------------------------------------------------------------------------------\n",
      "Intercept         -0.0051      0.016     -0.325      0.745      -0.036       0.026\n",
      "X_skillsfuture     0.1169      0.016      7.309      0.000       0.086       0.148\n",
      "==================================================================================\n"
     ]
    }
   ],
   "source": [
    "print(valid_regression \n",
    "      .summary()\n",
    "      .tables[1]\n",
    "     )"
   ]
  },
  {
   "cell_type": "code",
   "execution_count": 87,
   "metadata": {},
   "outputs": [],
   "source": [
    "even_more_costly_data_with_collider =\\\n",
    "(\n",
    "    pd\n",
    "    .DataFrame(\n",
    "               {\"X_financial_health\": X_skillsfuture,\n",
    "                \"Y_stock_return\": Y_performance,\n",
    "                \"COLLIDER_leverage\": COLLIDER_education}\n",
    "              )\n",
    ")"
   ]
  },
  {
   "cell_type": "code",
   "execution_count": 88,
   "metadata": {},
   "outputs": [
    {
     "data": {
      "text/html": [
       "<div>\n",
       "<style scoped>\n",
       "    .dataframe tbody tr th:only-of-type {\n",
       "        vertical-align: middle;\n",
       "    }\n",
       "\n",
       "    .dataframe tbody tr th {\n",
       "        vertical-align: top;\n",
       "    }\n",
       "\n",
       "    .dataframe thead th {\n",
       "        text-align: right;\n",
       "    }\n",
       "</style>\n",
       "<table border=\"1\" class=\"dataframe\">\n",
       "  <thead>\n",
       "    <tr style=\"text-align: right;\">\n",
       "      <th></th>\n",
       "      <th>X_financial_health</th>\n",
       "      <th>Y_stock_return</th>\n",
       "      <th>COLLIDER_leverage</th>\n",
       "    </tr>\n",
       "  </thead>\n",
       "  <tbody>\n",
       "    <tr>\n",
       "      <th>0</th>\n",
       "      <td>0.482246</td>\n",
       "      <td>0.783286</td>\n",
       "      <td>0.586781</td>\n",
       "    </tr>\n",
       "    <tr>\n",
       "      <th>1</th>\n",
       "      <td>-0.654406</td>\n",
       "      <td>-0.539946</td>\n",
       "      <td>-0.163383</td>\n",
       "    </tr>\n",
       "    <tr>\n",
       "      <th>2</th>\n",
       "      <td>-0.486757</td>\n",
       "      <td>-0.331679</td>\n",
       "      <td>-1.632038</td>\n",
       "    </tr>\n",
       "    <tr>\n",
       "      <th>3</th>\n",
       "      <td>0.922679</td>\n",
       "      <td>0.951168</td>\n",
       "      <td>2.256983</td>\n",
       "    </tr>\n",
       "    <tr>\n",
       "      <th>4</th>\n",
       "      <td>0.958124</td>\n",
       "      <td>0.400918</td>\n",
       "      <td>1.519181</td>\n",
       "    </tr>\n",
       "    <tr>\n",
       "      <th>...</th>\n",
       "      <td>...</td>\n",
       "      <td>...</td>\n",
       "      <td>...</td>\n",
       "    </tr>\n",
       "    <tr>\n",
       "      <th>3995</th>\n",
       "      <td>-1.627920</td>\n",
       "      <td>0.415059</td>\n",
       "      <td>-0.408729</td>\n",
       "    </tr>\n",
       "    <tr>\n",
       "      <th>3996</th>\n",
       "      <td>-0.687453</td>\n",
       "      <td>-0.861176</td>\n",
       "      <td>-1.388096</td>\n",
       "    </tr>\n",
       "    <tr>\n",
       "      <th>3997</th>\n",
       "      <td>0.002952</td>\n",
       "      <td>0.487171</td>\n",
       "      <td>1.044024</td>\n",
       "    </tr>\n",
       "    <tr>\n",
       "      <th>3998</th>\n",
       "      <td>-0.532732</td>\n",
       "      <td>-0.579635</td>\n",
       "      <td>-2.543455</td>\n",
       "    </tr>\n",
       "    <tr>\n",
       "      <th>3999</th>\n",
       "      <td>-1.056836</td>\n",
       "      <td>-0.185570</td>\n",
       "      <td>-2.137282</td>\n",
       "    </tr>\n",
       "  </tbody>\n",
       "</table>\n",
       "<p>4000 rows × 3 columns</p>\n",
       "</div>"
      ],
      "text/plain": [
       "      X_financial_health  Y_stock_return  COLLIDER_leverage\n",
       "0               0.482246        0.783286           0.586781\n",
       "1              -0.654406       -0.539946          -0.163383\n",
       "2              -0.486757       -0.331679          -1.632038\n",
       "3               0.922679        0.951168           2.256983\n",
       "4               0.958124        0.400918           1.519181\n",
       "...                  ...             ...                ...\n",
       "3995           -1.627920        0.415059          -0.408729\n",
       "3996           -0.687453       -0.861176          -1.388096\n",
       "3997            0.002952        0.487171           1.044024\n",
       "3998           -0.532732       -0.579635          -2.543455\n",
       "3999           -1.056836       -0.185570          -2.137282\n",
       "\n",
       "[4000 rows x 3 columns]"
      ]
     },
     "execution_count": 88,
     "metadata": {},
     "output_type": "execute_result"
    }
   ],
   "source": [
    "even_more_costly_data_with_collider"
   ]
  },
  {
   "cell_type": "markdown",
   "metadata": {},
   "source": [
    "## <a id = \"p7\">7. </a> <font color = \"green\"> Randomized Controlled Trials <font color = \"blue\"> [from the Textbook] </font>  [back to table of contents](#top)"
   ]
  },
  {
   "cell_type": "markdown",
   "metadata": {},
   "source": [
    "## The Golden Standard"
   ]
  },
  {
   "cell_type": "markdown",
   "metadata": {},
   "source": [
    "> In the lesson above, we learned why and how association differs from causation. We also explored what is required for an association to imply causation. Importantly, we discovered that identifying all possible confounders and colliders is not an easy task."
   ]
  },
  {
   "cell_type": "markdown",
   "metadata": {},
   "source": [
    "$\n",
    "E[Y|T=1] - E[Y|T=0] = \\underbrace{E[Y_1 - Y_0|T=1]}_{ATT} + \\underbrace{\\{ E[Y_0|T=1] - E[Y_0|T=0] \\}}_{BIAS}\n",
    "$\n",
    "\n",
    "Association becomes causation if there is no bias. There will be no bias if $E[Y_0|T=0]=E[Y_0|T=1]$. In words, association will be causation if the treated and control are equal or comparable, except for their treatment. Or, in more technical words, when the outcome of the untreated is equal to the counterfactual outcome of the treated. Remember that this counterfactual outcome is the outcome of the treated group if they had not received the treatment.\n",
    "\n",
    "I think we did an OK job explaining how to make association equal to causation in math terms. But that was only in theory. Now, we look at the first tool we have to make the bias vanish: **Randomised Experiments**. Randomised experiments randomly assign individuals in a population to a treatment or to a control group. The proportion that receives the treatment doesn't have to be 50%. You could have an experiment where only 10% of your samples get the treatment.\n",
    "\n",
    "Randomisation annihilates bias by making the potential outcomes independent of the treatment.\n",
    "\n",
    "$\n",
    "(Y_0, Y_1) \\perp\\!\\!\\!\\perp T\n",
    "$\n",
    "\n",
    "This can be confusing at first (it was for me). But don't worry, my brave and true fellow, I'll explain it further. If the outcome is independent of the treatment, doesn't this also imply that the treatment has no effect? Well, yes! But notice I'm not talking about the outcomes. Instead, I'm talking about the **potential** outcomes. The potential outcome is how the outcome **would have been** under treatment ($Y_1$) or under control ($Y_0$). In randomized trials, we **don't** want the outcome to be **independent** of the treatment since we think **the treatment causes** the outcome. But we want the **potential** outcomes to be independent of the treatment. \n",
    "\n",
    "![image1](https://matheusfacure.github.io/python-causality-handbook/_images/indep.png)\n",
    "\n",
    "Saying that the potential outcomes are independent of the treatment is saying that they would be, in expectation, the same in the treatment or the control group. In simpler terms, it means that treatment and control groups are comparable. Or that knowing the treatment assignment doesn't give me any information on how the outcome was previous to the treatment. Consequently, $(Y_0, Y_1)\\perp T$ means that the treatment is the only thing generating a difference between the outcome in the treated and in the control group. To see this, notice that independence implies precisely that\n",
    "\n",
    "$\n",
    "E[Y_0|T=0]=E[Y_0|T=1]=E[Y_0]\n",
    "$\n",
    "\n",
    "Which, as we've seen, makes it so that\n",
    "\n",
    "$\n",
    "E[Y|T=1] - E[Y|T=0] = E[Y_1 - Y_0]=ATE\n",
    "$\n",
    "\n",
    "So, randomization gives us a way to use a simple difference in means between treatment and control and call that the treatment effect."
   ]
  },
  {
   "cell_type": "markdown",
   "metadata": {},
   "source": [
    "## In a School Far, Far Away"
   ]
  },
  {
   "cell_type": "markdown",
   "metadata": {},
   "source": [
    "In 2020, the Coronavirus Pandemic forced businesses to adapt to social distancing. Delivery services became widespread, and big corporations shifted to a remote work strategy. With schools, it wasn't different. Many started their own online repository of classes. \n",
    "\n",
    "Four months into the crisis, many wonder if the introduced changes could be maintained. There is no question that online learning has its benefits. It is cheaper since it can save on real estate and transportation. It can also be more digital, leveraging world-class content from around the globe, not just from a fixed set of teachers. Despite all of that, we still need to answer if online learning has a negative or positive impact on the student's academic performance.\n",
    "\n",
    "One way to answer this is to take students from schools that give mostly online classes and compare them with students from schools that provide lectures in traditional classrooms. As we know by now, this is not the best approach. It could be that online schools attract only the well-disciplined students that do better than average even if the class were presential. In this case, we would have a positive bias, where the treated are academically better than the untreated: $E[Y_0|T=1] > E[Y_0|T=0]$.\n",
    "\n",
    "Or on the flip side, it could be that online classes are cheaper and are composed chiefly of less wealthy students, who might have to work besides studying. In this case, these students would do worse than those from the presential schools even if they took presential classes. If this was the case, we would have a bias in the other direction, where the treated are academically worse than the untreated:  $E[Y_0|T=1] < E[Y_0|T=0]$. \n",
    "\n",
    "So, although we could make simple comparisons, it wouldn't be compelling. One way or another, we could never be sure if there wasn't any bias lurking around and masking our causal effect.\n",
    "\n",
    "![image2](https://matheusfacure.github.io/python-causality-handbook/_images/lurking_bias.png)\n",
    "\n",
    "To solve that, we need to make the treated and untreated comparable $E[Y_0|T=1] = E[Y_0|T=0]$. One way to force this is by randomly assigning the online and presential classes to students. If we managed to do that, the treatment and untreated would be, on average, the same, except for the treatment they receive. \n",
    "\n",
    "Fortunately, some economists have done that for us. They've randomized classes so that some students were assigned to have face-to-face lectures, others to have only online lessons, and a third group to have a blended format of both online and face-to-face classes. They collected data on a standard exam at the end of the semester.\n",
    "\n",
    "Here is what the data looks like:"
   ]
  },
  {
   "cell_type": "code",
   "execution_count": 89,
   "metadata": {},
   "outputs": [],
   "source": [
    "data = pd.read_csv(\"https://talktoroh.squarespace.com/s/online_classroom.csv\")"
   ]
  },
  {
   "cell_type": "code",
   "execution_count": 90,
   "metadata": {},
   "outputs": [
    {
     "data": {
      "text/plain": [
       "(323, 10)"
      ]
     },
     "execution_count": 90,
     "metadata": {},
     "output_type": "execute_result"
    }
   ],
   "source": [
    "data.shape"
   ]
  },
  {
   "cell_type": "code",
   "execution_count": 91,
   "metadata": {},
   "outputs": [
    {
     "data": {
      "text/html": [
       "<div>\n",
       "<style scoped>\n",
       "    .dataframe tbody tr th:only-of-type {\n",
       "        vertical-align: middle;\n",
       "    }\n",
       "\n",
       "    .dataframe tbody tr th {\n",
       "        vertical-align: top;\n",
       "    }\n",
       "\n",
       "    .dataframe thead th {\n",
       "        text-align: right;\n",
       "    }\n",
       "</style>\n",
       "<table border=\"1\" class=\"dataframe\">\n",
       "  <thead>\n",
       "    <tr style=\"text-align: right;\">\n",
       "      <th></th>\n",
       "      <th>gender</th>\n",
       "      <th>asian</th>\n",
       "      <th>black</th>\n",
       "      <th>hawaiian</th>\n",
       "      <th>hispanic</th>\n",
       "      <th>unknown</th>\n",
       "      <th>white</th>\n",
       "      <th>format_ol</th>\n",
       "      <th>format_blended</th>\n",
       "      <th>falsexam</th>\n",
       "    </tr>\n",
       "  </thead>\n",
       "  <tbody>\n",
       "    <tr>\n",
       "      <th>0</th>\n",
       "      <td>0</td>\n",
       "      <td>0.0</td>\n",
       "      <td>0.0</td>\n",
       "      <td>0.0</td>\n",
       "      <td>0.0</td>\n",
       "      <td>0.0</td>\n",
       "      <td>1.0</td>\n",
       "      <td>0</td>\n",
       "      <td>0.0</td>\n",
       "      <td>63.29997</td>\n",
       "    </tr>\n",
       "    <tr>\n",
       "      <th>1</th>\n",
       "      <td>1</td>\n",
       "      <td>0.0</td>\n",
       "      <td>0.0</td>\n",
       "      <td>0.0</td>\n",
       "      <td>0.0</td>\n",
       "      <td>0.0</td>\n",
       "      <td>1.0</td>\n",
       "      <td>0</td>\n",
       "      <td>0.0</td>\n",
       "      <td>79.96000</td>\n",
       "    </tr>\n",
       "    <tr>\n",
       "      <th>2</th>\n",
       "      <td>1</td>\n",
       "      <td>0.0</td>\n",
       "      <td>0.0</td>\n",
       "      <td>0.0</td>\n",
       "      <td>0.0</td>\n",
       "      <td>0.0</td>\n",
       "      <td>1.0</td>\n",
       "      <td>0</td>\n",
       "      <td>1.0</td>\n",
       "      <td>83.37000</td>\n",
       "    </tr>\n",
       "    <tr>\n",
       "      <th>3</th>\n",
       "      <td>1</td>\n",
       "      <td>0.0</td>\n",
       "      <td>0.0</td>\n",
       "      <td>0.0</td>\n",
       "      <td>0.0</td>\n",
       "      <td>0.0</td>\n",
       "      <td>1.0</td>\n",
       "      <td>0</td>\n",
       "      <td>1.0</td>\n",
       "      <td>90.01994</td>\n",
       "    </tr>\n",
       "    <tr>\n",
       "      <th>4</th>\n",
       "      <td>1</td>\n",
       "      <td>0.0</td>\n",
       "      <td>0.0</td>\n",
       "      <td>0.0</td>\n",
       "      <td>0.0</td>\n",
       "      <td>0.0</td>\n",
       "      <td>1.0</td>\n",
       "      <td>1</td>\n",
       "      <td>0.0</td>\n",
       "      <td>83.30000</td>\n",
       "    </tr>\n",
       "  </tbody>\n",
       "</table>\n",
       "</div>"
      ],
      "text/plain": [
       "   gender  asian  black  hawaiian  hispanic  unknown  white  format_ol  \\\n",
       "0       0    0.0    0.0       0.0       0.0      0.0    1.0          0   \n",
       "1       1    0.0    0.0       0.0       0.0      0.0    1.0          0   \n",
       "2       1    0.0    0.0       0.0       0.0      0.0    1.0          0   \n",
       "3       1    0.0    0.0       0.0       0.0      0.0    1.0          0   \n",
       "4       1    0.0    0.0       0.0       0.0      0.0    1.0          1   \n",
       "\n",
       "   format_blended  falsexam  \n",
       "0             0.0  63.29997  \n",
       "1             0.0  79.96000  \n",
       "2             1.0  83.37000  \n",
       "3             1.0  90.01994  \n",
       "4             0.0  83.30000  "
      ]
     },
     "execution_count": 91,
     "metadata": {},
     "output_type": "execute_result"
    }
   ],
   "source": [
    "data.head()"
   ]
  },
  {
   "cell_type": "markdown",
   "metadata": {},
   "source": [
    "We can see that we have 323 samples. It's not exactly big data, but something we can work with. To estimate the causal effect, we can simply compute the mean score for each of the treatment groups."
   ]
  },
  {
   "cell_type": "code",
   "execution_count": 92,
   "metadata": {},
   "outputs": [
    {
     "data": {
      "text/html": [
       "<div>\n",
       "<style scoped>\n",
       "    .dataframe tbody tr th:only-of-type {\n",
       "        vertical-align: middle;\n",
       "    }\n",
       "\n",
       "    .dataframe tbody tr th {\n",
       "        vertical-align: top;\n",
       "    }\n",
       "\n",
       "    .dataframe thead th {\n",
       "        text-align: right;\n",
       "    }\n",
       "</style>\n",
       "<table border=\"1\" class=\"dataframe\">\n",
       "  <thead>\n",
       "    <tr style=\"text-align: right;\">\n",
       "      <th></th>\n",
       "      <th>gender</th>\n",
       "      <th>asian</th>\n",
       "      <th>black</th>\n",
       "      <th>hawaiian</th>\n",
       "      <th>hispanic</th>\n",
       "      <th>unknown</th>\n",
       "      <th>white</th>\n",
       "      <th>format_ol</th>\n",
       "      <th>format_blended</th>\n",
       "      <th>falsexam</th>\n",
       "    </tr>\n",
       "    <tr>\n",
       "      <th>class_format</th>\n",
       "      <th></th>\n",
       "      <th></th>\n",
       "      <th></th>\n",
       "      <th></th>\n",
       "      <th></th>\n",
       "      <th></th>\n",
       "      <th></th>\n",
       "      <th></th>\n",
       "      <th></th>\n",
       "      <th></th>\n",
       "    </tr>\n",
       "  </thead>\n",
       "  <tbody>\n",
       "    <tr>\n",
       "      <th>blended</th>\n",
       "      <td>0.550459</td>\n",
       "      <td>0.217949</td>\n",
       "      <td>0.102564</td>\n",
       "      <td>0.025641</td>\n",
       "      <td>0.012821</td>\n",
       "      <td>0.012821</td>\n",
       "      <td>0.628205</td>\n",
       "      <td>0.0</td>\n",
       "      <td>1.0</td>\n",
       "      <td>77.093731</td>\n",
       "    </tr>\n",
       "    <tr>\n",
       "      <th>face_to_face</th>\n",
       "      <td>0.633333</td>\n",
       "      <td>0.202020</td>\n",
       "      <td>0.070707</td>\n",
       "      <td>0.000000</td>\n",
       "      <td>0.010101</td>\n",
       "      <td>0.000000</td>\n",
       "      <td>0.717172</td>\n",
       "      <td>0.0</td>\n",
       "      <td>0.0</td>\n",
       "      <td>78.547485</td>\n",
       "    </tr>\n",
       "    <tr>\n",
       "      <th>online</th>\n",
       "      <td>0.542553</td>\n",
       "      <td>0.228571</td>\n",
       "      <td>0.028571</td>\n",
       "      <td>0.014286</td>\n",
       "      <td>0.028571</td>\n",
       "      <td>0.000000</td>\n",
       "      <td>0.700000</td>\n",
       "      <td>1.0</td>\n",
       "      <td>0.0</td>\n",
       "      <td>73.635263</td>\n",
       "    </tr>\n",
       "  </tbody>\n",
       "</table>\n",
       "</div>"
      ],
      "text/plain": [
       "                gender     asian     black  hawaiian  hispanic   unknown  \\\n",
       "class_format                                                               \n",
       "blended       0.550459  0.217949  0.102564  0.025641  0.012821  0.012821   \n",
       "face_to_face  0.633333  0.202020  0.070707  0.000000  0.010101  0.000000   \n",
       "online        0.542553  0.228571  0.028571  0.014286  0.028571  0.000000   \n",
       "\n",
       "                 white  format_ol  format_blended   falsexam  \n",
       "class_format                                                  \n",
       "blended       0.628205        0.0             1.0  77.093731  \n",
       "face_to_face  0.717172        0.0             0.0  78.547485  \n",
       "online        0.700000        1.0             0.0  73.635263  "
      ]
     },
     "execution_count": 92,
     "metadata": {},
     "output_type": "execute_result"
    }
   ],
   "source": [
    "(data\n",
    " .assign(class_format = \n",
    "              np\n",
    "              .select([data[\"format_ol\"].astype(bool), data[\"format_blended\"].astype(bool)], [\"online\", \"blended\"], \n",
    "                      default=\"face_to_face\"\n",
    "                     )\n",
    "        )\n",
    " .groupby([\"class_format\"]\n",
    "         )\n",
    " .mean()\n",
    ")"
   ]
  },
  {
   "cell_type": "markdown",
   "metadata": {},
   "source": [
    "Yup. It's that simple. We can see that face-to-face classes yield a 78.54 average score, while online courses yield a 73.63 average score. Not so good news for the proponents of online learning. The $ATE$ for an online class is thus -4.91. This means that **online classes cause students to perform about 5 points lower**, on average. That's it. You don't need to worry that online courses might have poorer students that can't afford face-to-face classes or, for that matter, you don't have to worry that the students from the different treatments are different in any way other than the treatment they received. By design, the random experiment is made to wipe out those differences. \n",
    "\n",
    "For this reason, a good sanity check to see if the randomisation was done right (or if you are looking at the correct data) is to check if the treated are equal to the untreated in pre-treatment variables. Our data has information on gender and ethnicity to see if they are similar across groups. We can say that they look pretty similar for the `gender`, `asian`, `hispanic`, and `white` variables. The `black` variable, however, seems a little bit different. This draws attention to what happens with a small dataset. Even under randomisation, it could be that, by chance, one group is different from another. In large samples, this difference tends to disappear.\n",
    "\n",
    "## The Ideal Experiment\n",
    "\n",
    "Randomised experiments or Randomised Controlled Trials (RCT) are the most reliable way to get causal effects. It's a straightforward technique and absurdly convincing. It is so powerful that most countries have it as a requirement for showing the effectiveness of new medicine. To make a terrible analogy, you can think of RCT as Aang, from Avatar: The Last Airbender, while other techniques are more like Sokka. Sokka is cool and can pull some neat tricks here and there, but Aang can bend the four elements and connect with the spiritual world. Think of it this way, if we could, RCT would be all we would ever do to uncover causality. A well designed RCT is the dream of any scientist.\n",
    "\n",
    "![image3](https://matheusfacure.github.io/python-causality-handbook/_images/science_dream.png)\n",
    "\n",
    "Unfortunately, they tend to be either very expensive or just plain unethical. Sometimes, we simply can't control the assignment mechanism. Imagine yourself as a physician trying to estimate the effect of smoking during pregnancy on baby weight at birth. You can't simply force a random portion of moms to smoke during pregnancy. Or say you work for a big bank, and you need to estimate the impact of the credit line on customer churn. It would be too expensive to give random credit lines to your customers. Or that you want to understand the impact of increasing the minimum wage on unemployment. You can't simply assign countries to have one or another minimum wage. You get the point.\n",
    "\n",
    "We will later see how to lower the randomisation cost by using conditional randomisation, but there is nothing we can do about unethical or unfeasible experiments. Still, whenever we deal with causal questions, it is worth thinking about the **ideal experiment**. Always ask yourself, if you could, **what would be the perfect experiment you would run to uncover this causal effect?** This tends to shed some light on the way how we can discover the causal effect even without the ideal experiment.\n",
    "\n",
    "\n",
    "## The Assignment Mechanism\n",
    "\n",
    "In a randomised experiment, the mechanism that assigns units to one treatment or the other is, well, random. As we will see later, all causal inference techniques will somehow try to identify the assignment mechanisms of the treatments. When we know for sure how this mechanism behaves, causal inference will be much more confident, even if the assignment mechanism isn't random.\n",
    "\n",
    "Unfortunately, the assignment mechanism can't be discovered by simply looking at the data. For example, if you have a dataset where higher education correlates with wealth, you can't know for sure which one caused which by just looking at the data. You will have to use your knowledge about how the world works to argue in favor of a plausible assignment mechanism: is it the case that schools educate people, making them more productive and leading them to higher-paying jobs. Or, if you are pessimistic about education, you can say that schools do nothing to increase productivity, and this is just a spurious correlation because only wealthy families can afford to have a kid get a higher degree.\n",
    "\n",
    "In causal questions, we usually can argue in both ways: that X causes Y, or that it is a third variable Z that causes both X and Y, and hence the X and Y correlation is just spurious. For this reason, knowing the assignment mechanism leads to a much more convincing causal answer. This is also what makes causal inference so exciting. While applied ML is usually just pressing some buttons in the proper order, applied causal inference requires you to seriously think about the mechanism generating that data. \n",
    "\n",
    "\n",
    "## Key Ideas\n",
    "\n",
    "We looked at how randomised experiments are the simplest and most effective way to uncover causal impact. It does this by making the treatment and control groups comparable. Unfortunately, we can't do randomised experiments all the time, but it is still helpful to think about what is the ideal experiment we would do if we could."
   ]
  },
  {
   "cell_type": "markdown",
   "metadata": {},
   "source": [
    "## <a id = \"p7\">7.</a>  <font color = \"green\"> What We Learned & What's Next </font>  [back to table of contents](#top)"
   ]
  },
  {
   "cell_type": "markdown",
   "metadata": {},
   "source": [
    "> It's always a good idea to reflect on what you've learned and put it into your own words.\n",
    "\n",
    "- Lessons learned 1:\n",
    "\n",
    "> \n",
    "\n",
    "- Lessons learned 2:\n",
    "\n",
    "> \n",
    "\n",
    "- Lessons learned 3:\n",
    "\n",
    "> \n",
    "\n",
    "- Lessons learned 4:\n",
    "\n",
    "> \n",
    "\n",
    "- Lessons learned 5:\n",
    "\n",
    "> "
   ]
  },
  {
   "cell_type": "markdown",
   "metadata": {},
   "source": [
    "> `Thank you for working with the script, Team 👍`"
   ]
  }
 ],
 "metadata": {
  "kernelspec": {
   "display_name": "Python 3 (ipykernel)",
   "language": "python",
   "name": "python3"
  },
  "language_info": {
   "codemirror_mode": {
    "name": "ipython",
    "version": 3
   },
   "file_extension": ".py",
   "mimetype": "text/x-python",
   "name": "python",
   "nbconvert_exporter": "python",
   "pygments_lexer": "ipython3",
   "version": "3.13.3"
  }
 },
 "nbformat": 4,
 "nbformat_minor": 4
}
