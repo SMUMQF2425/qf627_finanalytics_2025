{
 "cells": [
  {
   "cell_type": "markdown",
   "id": "6a66a07e",
   "metadata": {},
   "source": [
    "# QF 627 Extras - Financial Analytics\n",
    "## Lesson 5 | Difference-in-Differences (DiD)"
   ]
  },
  {
   "cell_type": "markdown",
   "id": "7e42dea2",
   "metadata": {},
   "source": [
    "> Hi, Team 👋 Thank you for opening the script 🙂\n",
    "\n",
    "> Tonight, we will learn the fundamentals techniques of causal inference, a critical aspect of financial analytics that allows us to understand the causal effects in our data. In particular, we will learn about difference-in-differences (`DiD`). We aim to equip you with the tools necessary to make informed decisions based on robust analytical frameworks."
   ]
  },
  {
   "cell_type": "markdown",
   "id": "ec6f5d19",
   "metadata": {},
   "source": [
    "## DEPENDENCIES"
   ]
  },
  {
   "cell_type": "code",
   "execution_count": 1,
   "id": "303d6cf4",
   "metadata": {},
   "outputs": [],
   "source": [
    "# Load libraries.\n",
    "\n",
    "import numpy as np\n",
    "import pandas as pd\n",
    "\n",
    "import matplotlib.pyplot as plt\n",
    "import matplotlib as mpl\n",
    "\n",
    "import seaborn as sns\n",
    "\n",
    "import time\n",
    "\n",
    "import datetime\n",
    "import re\n",
    "\n",
    "import statsmodels.api as sm\n",
    "\n",
    "import warnings\n",
    "warnings.filterwarnings(\"ignore\")\n",
    "\n",
    "# Setting baseline seed\n",
    "np.random.seed(2025)\n",
    "\n",
    "# Set print options.\n",
    "\n",
    "np.set_printoptions(precision = 3)\n",
    "\n",
    "plt.style.use(\"ggplot\")\n",
    "\n",
    "mpl.rcParams[\"axes.grid\"] = True\n",
    "mpl.rcParams[\"grid.color\"] = \"grey\"\n",
    "mpl.rcParams[\"grid.alpha\"] = 0.25\n",
    "\n",
    "mpl.rcParams[\"axes.facecolor\"] = \"white\"\n",
    "\n",
    "mpl.rcParams[\"legend.fontsize\"] = 14\n",
    "\n",
    "%matplotlib inline\n",
    "\n",
    "# Define our customized timer function\n",
    "\n",
    "def countdown(Time):\n",
    "    \n",
    "    while Time:\n",
    "        minutes, seconds = divmod(Time, 60)\n",
    "        timer = \"{:02d}:{:02d}\".format(minutes, seconds)\n",
    "        \n",
    "        print(timer, end = \"\\r\")\n",
    "        time.sleep(1)\n",
    "        Time -= 1\n",
    "        \n",
    "    print(\"Let us solve the problem above together :)\")"
   ]
  },
  {
   "cell_type": "markdown",
   "id": "88c7d48f",
   "metadata": {},
   "source": [
    "## 👉 <a id = \"top\">Learning Pointers</a> 👈 "
   ]
  },
  {
   "cell_type": "markdown",
   "id": "71706611",
   "metadata": {},
   "source": [
    "## [1. Difference-in-Differences](#p1)\n",
    "\n",
    "> ### <font color = red> How do we know if the effects are driven by what you `did`? </font>\n",
    "\n",
    "## [2. Further Exercise on DiD](#p2)\n",
    "\n",
    "> ### <font color = red> Practice Makes Perfect :) </font>\n",
    "\n",
    "## [3. Learning DiD with Textbook](#p3)\n",
    "\n",
    "> ### <font color = red> Chapter 13 </font>\n",
    "\n",
    "## [4. What We Learned & What's Next](#p4)\n",
    "\n",
    "> ### <font color = red> Revisiting Learning Pointers </font>\n"
   ]
  },
  {
   "cell_type": "markdown",
   "id": "31ca52b9",
   "metadata": {},
   "source": [
    "## <a id = \"p1\">1.</a>  <font color = \"green\"> Difference-in-Differences (DiD) </font>  [back to table of contents](#top)"
   ]
  },
  {
   "cell_type": "markdown",
   "id": "1596e76e",
   "metadata": {},
   "source": [
    "### Analytics Context"
   ]
  },
  {
   "cell_type": "markdown",
   "id": "9d4bf028",
   "metadata": {},
   "source": [
    "> DiD is used when a treatment, strategy, or policy is applied to a group of units (treatment group) while another group remains untreated (control group). \n",
    "\n",
    "> By comparing the changes in outcomes between the two groups before and after the treatment, DiD estimates the causal effect."
   ]
  },
  {
   "cell_type": "markdown",
   "id": "4e0e9ff8",
   "metadata": {},
   "source": [
    "### Business Contexts\n",
    "\n",
    "> DiD can be used to evaluate the impact of a training program on employee productivity or a marketing campaign on sales.\n",
    "\n",
    "> Let's say you and your friend both operate strawberry milkshake stands and sell milkshakes daily. You use ordinary strawberries while your friend uses a special variety. After a week, you both tally your earnings from selling milkshakes. Your friend earns more as their milkshakes are more popular due to their enhanced sweetness. This represents the difference between the two groups.\n",
    "\n",
    "> Next, after a week, you also begin using the special strawberries for making your milkshakes. After another week, both of you again record your earnings from selling milkshakes. This time, both of you earn the same amount as you are now using the same ingredients. This represents the difference-in-differences: the difference in the difference between the two groups before and after the change in ingredients."
   ]
  },
  {
   "cell_type": "markdown",
   "id": "0d29006d",
   "metadata": {},
   "source": [
    "### IMPORT"
   ]
  },
  {
   "cell_type": "code",
   "execution_count": 2,
   "id": "a1af4535",
   "metadata": {},
   "outputs": [],
   "source": [
    "did_df =\\\n",
    "(pd\n",
    " .read_csv(\"https://talktoroh.com/s/marketing_did.csv\")\n",
    ")"
   ]
  },
  {
   "cell_type": "code",
   "execution_count": 3,
   "id": "3d211fb5-88a5-4a47-bea0-b62caa4f4e31",
   "metadata": {},
   "outputs": [
    {
     "data": {
      "text/html": [
       "<div>\n",
       "<style scoped>\n",
       "    .dataframe tbody tr th:only-of-type {\n",
       "        vertical-align: middle;\n",
       "    }\n",
       "\n",
       "    .dataframe tbody tr th {\n",
       "        vertical-align: top;\n",
       "    }\n",
       "\n",
       "    .dataframe thead th {\n",
       "        text-align: right;\n",
       "    }\n",
       "</style>\n",
       "<table border=\"1\" class=\"dataframe\">\n",
       "  <thead>\n",
       "    <tr style=\"text-align: right;\">\n",
       "      <th></th>\n",
       "      <th>deposits</th>\n",
       "      <th>madrid</th>\n",
       "      <th>barcelona</th>\n",
       "    </tr>\n",
       "  </thead>\n",
       "  <tbody>\n",
       "    <tr>\n",
       "      <th>0</th>\n",
       "      <td>42</td>\n",
       "      <td>1</td>\n",
       "      <td>0</td>\n",
       "    </tr>\n",
       "    <tr>\n",
       "      <th>1</th>\n",
       "      <td>0</td>\n",
       "      <td>1</td>\n",
       "      <td>0</td>\n",
       "    </tr>\n",
       "    <tr>\n",
       "      <th>2</th>\n",
       "      <td>52</td>\n",
       "      <td>1</td>\n",
       "      <td>0</td>\n",
       "    </tr>\n",
       "  </tbody>\n",
       "</table>\n",
       "</div>"
      ],
      "text/plain": [
       "   deposits  madrid  barcelona\n",
       "0        42       1          0\n",
       "1         0       1          0\n",
       "2        52       1          0"
      ]
     },
     "execution_count": 3,
     "metadata": {},
     "output_type": "execute_result"
    }
   ],
   "source": [
    "did_df.head(3)"
   ]
  },
  {
   "cell_type": "code",
   "execution_count": 4,
   "id": "19591bc3-7215-42e3-870f-6fdc4ab73541",
   "metadata": {},
   "outputs": [
    {
     "name": "stdout",
     "output_type": "stream",
     "text": [
      "<class 'pandas.core.frame.DataFrame'>\n",
      "RangeIndex: 4600 entries, 0 to 4599\n",
      "Data columns (total 3 columns):\n",
      " #   Column     Non-Null Count  Dtype\n",
      "---  ------     --------------  -----\n",
      " 0   deposits   4600 non-null   int64\n",
      " 1   madrid     4600 non-null   int64\n",
      " 2   barcelona  4600 non-null   int64\n",
      "dtypes: int64(3)\n",
      "memory usage: 107.9 KB\n"
     ]
    }
   ],
   "source": [
    "did_df.info()"
   ]
  },
  {
   "cell_type": "markdown",
   "id": "54e24ec5",
   "metadata": {},
   "source": [
    "### WRANGLE"
   ]
  },
  {
   "cell_type": "code",
   "execution_count": 5,
   "id": "c6b376b6",
   "metadata": {},
   "outputs": [
    {
     "data": {
      "text/html": [
       "<div>\n",
       "<style scoped>\n",
       "    .dataframe tbody tr th:only-of-type {\n",
       "        vertical-align: middle;\n",
       "    }\n",
       "\n",
       "    .dataframe tbody tr th {\n",
       "        vertical-align: top;\n",
       "    }\n",
       "\n",
       "    .dataframe thead th {\n",
       "        text-align: right;\n",
       "    }\n",
       "</style>\n",
       "<table border=\"1\" class=\"dataframe\">\n",
       "  <thead>\n",
       "    <tr style=\"text-align: right;\">\n",
       "      <th></th>\n",
       "      <th>deposits</th>\n",
       "      <th>madrid</th>\n",
       "      <th>May</th>\n",
       "    </tr>\n",
       "  </thead>\n",
       "  <tbody>\n",
       "    <tr>\n",
       "      <th>0</th>\n",
       "      <td>42</td>\n",
       "      <td>1</td>\n",
       "      <td>0</td>\n",
       "    </tr>\n",
       "    <tr>\n",
       "      <th>1</th>\n",
       "      <td>0</td>\n",
       "      <td>1</td>\n",
       "      <td>0</td>\n",
       "    </tr>\n",
       "    <tr>\n",
       "      <th>2</th>\n",
       "      <td>52</td>\n",
       "      <td>1</td>\n",
       "      <td>0</td>\n",
       "    </tr>\n",
       "    <tr>\n",
       "      <th>3</th>\n",
       "      <td>119</td>\n",
       "      <td>1</td>\n",
       "      <td>0</td>\n",
       "    </tr>\n",
       "    <tr>\n",
       "      <th>4</th>\n",
       "      <td>21</td>\n",
       "      <td>1</td>\n",
       "      <td>0</td>\n",
       "    </tr>\n",
       "    <tr>\n",
       "      <th>5</th>\n",
       "      <td>0</td>\n",
       "      <td>1</td>\n",
       "      <td>0</td>\n",
       "    </tr>\n",
       "    <tr>\n",
       "      <th>6</th>\n",
       "      <td>0</td>\n",
       "      <td>1</td>\n",
       "      <td>0</td>\n",
       "    </tr>\n",
       "  </tbody>\n",
       "</table>\n",
       "</div>"
      ],
      "text/plain": [
       "   deposits  madrid  May\n",
       "0        42       1    0\n",
       "1         0       1    0\n",
       "2        52       1    0\n",
       "3       119       1    0\n",
       "4        21       1    0\n",
       "5         0       1    0\n",
       "6         0       1    0"
      ]
     },
     "execution_count": 5,
     "metadata": {},
     "output_type": "execute_result"
    }
   ],
   "source": [
    "did_df=\\\n",
    "(\n",
    "    did_df\n",
    "    .rename(columns = {\"barcelona\": \"May\"}\n",
    "           )\n",
    ")\n",
    "\n",
    "did_df.head(7)"
   ]
  },
  {
   "cell_type": "markdown",
   "id": "05de2633",
   "metadata": {},
   "source": [
    "### Another Look of `D`ifference-`i`n-`D`ifferences"
   ]
  },
  {
   "cell_type": "markdown",
   "id": "af6b0db8",
   "metadata": {},
   "source": [
    "> before (0) and after (1) the strategy (treatment)"
   ]
  },
  {
   "cell_type": "markdown",
   "id": "5091dba7",
   "metadata": {},
   "source": [
    "$$\n",
    "    \\widehat{ATE} = E[Y_1(1) - Y_0(1) | D = 1]\n",
    "$$"
   ]
  },
  {
   "cell_type": "markdown",
   "id": "670ad9d4",
   "metadata": {},
   "source": [
    "$$\n",
    "    \\widehat{ATE} = E[Y(1) | D = 1] - E[Y(0)|D=1]\n",
    "$$"
   ]
  },
  {
   "cell_type": "markdown",
   "id": "fb211455",
   "metadata": {},
   "source": [
    "#### Team, let's compare average deposits from Madrid before and after the campaign was implemented!"
   ]
  },
  {
   "cell_type": "code",
   "execution_count": 6,
   "id": "240f18d3-3c40-48ed-a072-b893f5c78dca",
   "metadata": {},
   "outputs": [
    {
     "data": {
      "text/plain": [
       "Index(['deposits', 'madrid', 'May'], dtype='object')"
      ]
     },
     "execution_count": 6,
     "metadata": {},
     "output_type": "execute_result"
    }
   ],
   "source": [
    "did_df.columns"
   ]
  },
  {
   "cell_type": "code",
   "execution_count": 7,
   "id": "6dfc656e",
   "metadata": {},
   "outputs": [
    {
     "data": {
      "text/plain": [
       "np.float64(41.04775)"
      ]
     },
     "execution_count": 7,
     "metadata": {},
     "output_type": "execute_result"
    }
   ],
   "source": [
    "# Average Deposit in Madrid before vs. after the marketing campaign\n",
    "\n",
    "before_treatment =\\\n",
    "(\n",
    "    did_df\n",
    "    .query(\"madrid == 1 & May == 0\") # denotes cell B\n",
    "    .deposits # deposits\n",
    "    .mean() # Average deposits from cell B\n",
    ")\n",
    "\n",
    "after_treatment =\\\n",
    "(\n",
    "    did_df\n",
    "    .query(\"madrid == 1 & May == 1\") # denotes cell A\n",
    "    .deposits # deposits\n",
    "    .mean() # Average deposits from cell A\n",
    ")\n",
    "\n",
    "# Rookie Mistakes\n",
    "\n",
    "naive_estimation_of_causal_effects = after_treatment - before_treatment\n",
    "                                    #        A       -       B \n",
    "\n",
    "naive_estimation_of_causal_effects"
   ]
  },
  {
   "cell_type": "markdown",
   "id": "492cf1db",
   "metadata": {},
   "source": [
    "#### `IN`VALID Estiation of Causal Effects (Average Treatment Effects)\n",
    "\n",
    "> `Because of the campaign (strategy) effects, you expect deposits to increase by 41 Euros per customer.`"
   ]
  },
  {
   "cell_type": "code",
   "execution_count": 8,
   "id": "dbef8422-6184-4319-9dfa-34ef7a9a0a14",
   "metadata": {},
   "outputs": [],
   "source": [
    "# Average Deposit in Barcelona before vs. after the marketing campaign\n",
    "\n",
    "before_control =\\\n",
    "(\n",
    "    did_df\n",
    "    .query(\"madrid == 0 & May == 0\") # denotes cell B\n",
    "    .deposits # deposits\n",
    "    .mean() # Average deposits from cell B\n",
    ")\n",
    "\n",
    "after_control =\\\n",
    "(\n",
    "    did_df\n",
    "    .query(\"madrid == 0 & May == 1\") # denotes cell A\n",
    "    .deposits # deposits\n",
    "    .mean() # Average deposits from cell A\n",
    ")\n",
    "\n",
    "changes_in_barcelona = after_control - before_control"
   ]
  },
  {
   "cell_type": "markdown",
   "id": "bb96eeaf-403f-4337-b74e-c010b0806191",
   "metadata": {},
   "source": [
    "#### `Valid` Estimation of Difference-in-Differences (`DiD`)"
   ]
  },
  {
   "cell_type": "code",
   "execution_count": 9,
   "id": "84d79aeb-b68a-4068-ba27-08b9984134c3",
   "metadata": {},
   "outputs": [
    {
     "data": {
      "text/plain": [
       "np.float64(6.524557692307688)"
      ]
     },
     "execution_count": 9,
     "metadata": {},
     "output_type": "execute_result"
    }
   ],
   "source": [
    "DiD =\\\n",
    "(\n",
    "    (after_treatment - before_treatment) - (after_control - before_control)\n",
    "    #             (A - B)                -            ( C - D )\n",
    ")\n",
    "\n",
    "DiD # 6.52 Euros"
   ]
  },
  {
   "cell_type": "markdown",
   "id": "895c56b4-c37d-4c21-a099-77938f94ac5b",
   "metadata": {},
   "source": [
    "> `Because of the campaign (strategy) effects, you expect deposits to increase by 6.52 Euros per customer.`"
   ]
  },
  {
   "cell_type": "markdown",
   "id": "0d62d34c",
   "metadata": {},
   "source": [
    "### VISUALIZE"
   ]
  },
  {
   "cell_type": "markdown",
   "id": "e8bdda79-57ac-4f9b-8b82-8d6fb05dedc5",
   "metadata": {},
   "source": [
    "#### Matplotlib (old school)"
   ]
  },
  {
   "cell_type": "code",
   "execution_count": 10,
   "id": "7ea0f693-df6d-45a0-9eb0-df35e647ae29",
   "metadata": {},
   "outputs": [
    {
     "data": {
      "text/plain": [
       "<matplotlib.legend.Legend at 0x160c7e270>"
      ]
     },
     "execution_count": 10,
     "metadata": {},
     "output_type": "execute_result"
    },
    {
     "data": {
      "image/png": "[encoded data removed]",
      "text/plain": [
       "<Figure size 640x480 with 1 Axes>"
      ]
     },
     "metadata": {},
     "output_type": "display_data"
    }
   ],
   "source": [
    "# CONTROL\n",
    "plt\\\n",
    "    .plot([\"Until April\", \"Since May\"], # x-axis \n",
    "          [before_control, after_control], # y-axis\n",
    "          label = \"Barcelona\"\n",
    "         )\n",
    "\n",
    "# TREATMENT\n",
    "plt\\\n",
    "    .plot([\"Until April\", \"Since May\"], # x-axis \n",
    "          [before_treatment, after_treatment], # y-axis\n",
    "          label = \"Madrid\"\n",
    "         )\n",
    "\n",
    "# COUNTER-FACTUAL \"Compared with What?\"\n",
    "plt\\\n",
    "    .plot([\"Until April\", \"Since May\"],\n",
    "          [before_treatment, before_treatment + (after_control - before_control)],\n",
    "           ls = \"--\",\n",
    "           label = \"Counterfactual\"\n",
    "                             # Counterfactual --> What would have happened in May at Madrid in the absence of your marketing strategy?\n",
    "\n",
    "          )\n",
    "\n",
    "\n",
    "\n",
    "plt.legend()\n",
    "\n"
   ]
  },
  {
   "cell_type": "markdown",
   "id": "f214dfed-b1da-48c4-9576-b2a71e2718db",
   "metadata": {},
   "source": [
    "#### Grammar of Graphics with lets-plot (cutting-edge)"
   ]
  },
  {
   "cell_type": "code",
   "execution_count": 11,
   "id": "4fab3456-279a-4847-bf9f-8965574673cb",
   "metadata": {},
   "outputs": [],
   "source": [
    "from lets_plot import *"
   ]
  },
  {
   "cell_type": "code",
   "execution_count": 12,
   "id": "1dfa4647-4c06-4088-a34b-2ff2a81d9da1",
   "metadata": {},
   "outputs": [
    {
     "data": {
      "text/html": [
       "<div>\n",
       "<style scoped>\n",
       "    .dataframe tbody tr th:only-of-type {\n",
       "        vertical-align: middle;\n",
       "    }\n",
       "\n",
       "    .dataframe tbody tr th {\n",
       "        vertical-align: top;\n",
       "    }\n",
       "\n",
       "    .dataframe thead th {\n",
       "        text-align: right;\n",
       "    }\n",
       "</style>\n",
       "<table border=\"1\" class=\"dataframe\">\n",
       "  <thead>\n",
       "    <tr style=\"text-align: right;\">\n",
       "      <th></th>\n",
       "      <th>treatment</th>\n",
       "      <th>timeframe</th>\n",
       "      <th>deposits</th>\n",
       "    </tr>\n",
       "  </thead>\n",
       "  <tbody>\n",
       "    <tr>\n",
       "      <th>0</th>\n",
       "      <td>Barcelona (Control)</td>\n",
       "      <td>Until April</td>\n",
       "      <td>171.642308</td>\n",
       "    </tr>\n",
       "    <tr>\n",
       "      <th>1</th>\n",
       "      <td>Barcelona (Control)</td>\n",
       "      <td>Since May</td>\n",
       "      <td>206.165500</td>\n",
       "    </tr>\n",
       "    <tr>\n",
       "      <th>2</th>\n",
       "      <td>Madrid (Treatment)</td>\n",
       "      <td>Until April</td>\n",
       "      <td>46.016000</td>\n",
       "    </tr>\n",
       "    <tr>\n",
       "      <th>3</th>\n",
       "      <td>Madrid (Treatment)</td>\n",
       "      <td>Since May</td>\n",
       "      <td>87.063750</td>\n",
       "    </tr>\n",
       "    <tr>\n",
       "      <th>4</th>\n",
       "      <td>Counterfactual</td>\n",
       "      <td>Until April</td>\n",
       "      <td>46.016000</td>\n",
       "    </tr>\n",
       "    <tr>\n",
       "      <th>5</th>\n",
       "      <td>Counterfactual</td>\n",
       "      <td>Since May</td>\n",
       "      <td>80.539192</td>\n",
       "    </tr>\n",
       "  </tbody>\n",
       "</table>\n",
       "</div>"
      ],
      "text/plain": [
       "             treatment    timeframe    deposits\n",
       "0  Barcelona (Control)  Until April  171.642308\n",
       "1  Barcelona (Control)    Since May  206.165500\n",
       "2   Madrid (Treatment)  Until April   46.016000\n",
       "3   Madrid (Treatment)    Since May   87.063750\n",
       "4       Counterfactual  Until April   46.016000\n",
       "5       Counterfactual    Since May   80.539192"
      ]
     },
     "execution_count": 12,
     "metadata": {},
     "output_type": "execute_result"
    }
   ],
   "source": [
    "# Wrangle your data for Grammar of Graphics Plot\n",
    "\n",
    "## matplotlib prefers wide-format data; grammar of graphics principle works better with long-format data\n",
    "\n",
    "df_for_ggplot =\\\n",
    "(\n",
    "    pd\n",
    "    .DataFrame(\n",
    "        {\"treatment\": [\"Barcelona (Control)\", \"Barcelona (Control)\",\n",
    "                       \"Madrid (Treatment)\", \"Madrid (Treatment)\",\n",
    "                       \"Counterfactual\", \"Counterfactual\"],\n",
    "         \"timeframe\": [\"Until April\", \"Since May\",\n",
    "                       \"Until April\", \"Since May\",\n",
    "                       \"Until April\", \"Since May\"],\n",
    "         \"deposits\": [before_control, after_control,\n",
    "                      before_treatment, after_treatment,\n",
    "                      before_treatment, before_treatment + (after_control - before_control)\n",
    "                     ]\n",
    "        }\n",
    "    )\n",
    ")\n",
    "\n",
    "df_for_ggplot"
   ]
  },
  {
   "cell_type": "code",
   "execution_count": 13,
   "id": "71912f16-21b9-4f6d-bc04-ae5931a64148",
   "metadata": {},
   "outputs": [
    {
     "data": {
      "text/html": [
       "\n",
       "            <div id=\"fSqQmx\"></div>\n",
       "            <script type=\"text/javascript\" data-lets-plot-script=\"library\">\n",
       "                if(!window.letsPlotCallQueue) {\n",
       "                    window.letsPlotCallQueue = [];\n",
       "                }; \n",
       "                window.letsPlotCall = function(f) {\n",
       "                    window.letsPlotCallQueue.push(f);\n",
       "                };\n",
       "                (function() {\n",
       "                    var script = document.createElement(\"script\");\n",
       "                    script.type = \"text/javascript\";\n",
       "                    script.src = \"https://cdn.jsdelivr.net/gh/JetBrains/lets-plot@v4.6.2/js-package/distr/lets-plot.min.js\";\n",
       "                    script.onload = function() {\n",
       "                        window.letsPlotCall = function(f) {f();};\n",
       "                        window.letsPlotCallQueue.forEach(function(f) {f();});\n",
       "                        window.letsPlotCallQueue = [];\n",
       "                        \n",
       "                    };\n",
       "                    script.onerror = function(event) {\n",
       "                        window.letsPlotCall = function(f) {};    // noop\n",
       "                        window.letsPlotCallQueue = [];\n",
       "                        var div = document.createElement(\"div\");\n",
       "                        div.style.color = 'darkred';\n",
       "                        div.textContent = 'Error loading Lets-Plot JS';\n",
       "                        document.getElementById(\"fSqQmx\").appendChild(div);\n",
       "                    };\n",
       "                    var e = document.getElementById(\"fSqQmx\");\n",
       "                    e.appendChild(script);\n",
       "                })()\n",
       "            </script>\n",
       "            "
      ]
     },
     "metadata": {},
     "output_type": "display_data"
    }
   ],
   "source": [
    "LetsPlot.setup_html()"
   ]
  },
  {
   "cell_type": "code",
   "execution_count": 14,
   "id": "51218830-92f7-4d0e-8372-49781bb6ba81",
   "metadata": {},
   "outputs": [],
   "source": [
    "DiD_ggplot =\\\n",
    "(\n",
    "    ggplot(df_for_ggplot,\n",
    "           aes(x = \"timeframe\",\n",
    "               y = \"deposits\",\n",
    "               group = \"treatment\",\n",
    "               color = \"treatment\")\n",
    "          )\n",
    "    + geom_point()\n",
    "    + geom_line()\n",
    "    + labs(title = \"Difference-in-Differences Estimates for Marketing Effects\",\n",
    "           y = \"Deposits (Unit: Euros)\")\n",
    ")"
   ]
  },
  {
   "cell_type": "code",
   "execution_count": 15,
   "id": "b1c9e4e2-30b3-49ee-bd7d-3af7cf60f405",
   "metadata": {},
   "outputs": [
    {
     "data": {
      "text/html": [
       "   <div id=\"t5kKeJ\"></div>\n",
       "   <script type=\"text/javascript\" data-lets-plot-script=\"plot\">\n",
       "   \n",
       "   (function() {\n",
       "   // ----------\n",
       "   \n",
       "   const forceImmediateRender = false;\n",
       "   const responsive = false;\n",
       "   \n",
       "   let sizing = {\n",
       "       width_mode: \"MIN\",\n",
       "       height_mode: \"SCALED\",\n",
       "       width: null, \n",
       "       height: null \n",
       "   };\n",
       "   \n",
       "   const preferredWidth = document.body.dataset.letsPlotPreferredWidth;\n",
       "   if (preferredWidth !== undefined) {\n",
       "       sizing = {\n",
       "           width_mode: 'FIXED',\n",
       "           height_mode: 'SCALED',\n",
       "           width: parseFloat(preferredWidth)\n",
       "       };\n",
       "   }\n",
       "   \n",
       "   const containerDiv = document.getElementById(\"t5kKeJ\");\n",
       "   let fig = null;\n",
       "   \n",
       "   function renderPlot() {\n",
       "       if (fig === null) {\n",
       "           const plotSpec = {\n",
       "\"data\":{\n",
       "\"treatment\":[\"Barcelona (Control)\",\"Barcelona (Control)\",\"Madrid (Treatment)\",\"Madrid (Treatment)\",\"Counterfactual\",\"Counterfactual\"],\n",
       "\"timeframe\":[\"Until April\",\"Since May\",\"Until April\",\"Since May\",\"Until April\",\"Since May\"],\n",
       "\"deposits\":[171.6423076923077,206.1655,46.016,87.06375,46.016,80.5391923076923]\n",
       "},\n",
       "\"mapping\":{\n",
       "\"x\":\"timeframe\",\n",
       "\"y\":\"deposits\",\n",
       "\"group\":\"treatment\",\n",
       "\"color\":\"treatment\"\n",
       "},\n",
       "\"data_meta\":{\n",
       "\"series_annotations\":[{\n",
       "\"type\":\"str\",\n",
       "\"column\":\"treatment\"\n",
       "},{\n",
       "\"type\":\"str\",\n",
       "\"column\":\"timeframe\"\n",
       "},{\n",
       "\"type\":\"float\",\n",
       "\"column\":\"deposits\"\n",
       "}]\n",
       "},\n",
       "\"ggtitle\":{\n",
       "\"text\":\"Difference-in-Differences Estimates for Marketing Effects\"\n",
       "},\n",
       "\"guides\":{\n",
       "\"y\":{\n",
       "\"title\":\"Deposits (Unit: Euros)\"\n",
       "}\n",
       "},\n",
       "\"kind\":\"plot\",\n",
       "\"scales\":[],\n",
       "\"layers\":[{\n",
       "\"geom\":\"point\",\n",
       "\"mapping\":{\n",
       "},\n",
       "\"data_meta\":{\n",
       "},\n",
       "\"data\":{\n",
       "}\n",
       "},{\n",
       "\"geom\":\"line\",\n",
       "\"mapping\":{\n",
       "},\n",
       "\"data_meta\":{\n",
       "},\n",
       "\"data\":{\n",
       "}\n",
       "}],\n",
       "\"metainfo_list\":[],\n",
       "\"spec_id\":\"1\"\n",
       "};\n",
       "           window.letsPlotCall(function() { fig = LetsPlot.buildPlotFromProcessedSpecs(plotSpec, containerDiv, sizing); });\n",
       "       } else {\n",
       "           fig.updateView({});\n",
       "       }\n",
       "   }\n",
       "   \n",
       "   const renderImmediately = \n",
       "       forceImmediateRender || (\n",
       "           sizing.width_mode === 'FIXED' && \n",
       "           (sizing.height_mode === 'FIXED' || sizing.height_mode === 'SCALED')\n",
       "       );\n",
       "   \n",
       "   if (renderImmediately) {\n",
       "       renderPlot();\n",
       "   }\n",
       "   \n",
       "   if (!renderImmediately || responsive) {\n",
       "       // Set up observer for initial sizing or continuous monitoring\n",
       "       var observer = new ResizeObserver(function(entries) {\n",
       "           for (let entry of entries) {\n",
       "               if (entry.contentBoxSize && \n",
       "                   entry.contentBoxSize[0].inlineSize > 0) {\n",
       "                   if (!responsive && observer) {\n",
       "                       observer.disconnect();\n",
       "                       observer = null;\n",
       "                   }\n",
       "                   renderPlot();\n",
       "                   if (!responsive) {\n",
       "                       break;\n",
       "                   }\n",
       "               }\n",
       "           }\n",
       "       });\n",
       "       \n",
       "       observer.observe(containerDiv);\n",
       "   }\n",
       "   \n",
       "   // ----------\n",
       "   })();\n",
       "   \n",
       "   </script>"
      ]
     },
     "metadata": {},
     "output_type": "display_data"
    }
   ],
   "source": [
    "DiD_ggplot.show()"
   ]
  },
  {
   "cell_type": "markdown",
   "id": "319a11f0",
   "metadata": {},
   "source": [
    "### MODEL (`How to Model DiD?`)"
   ]
  },
  {
   "cell_type": "code",
   "execution_count": 16,
   "id": "009ef280",
   "metadata": {},
   "outputs": [
    {
     "data": {
      "text/plain": [
       "Index(['deposits', 'madrid', 'May'], dtype='object')"
      ]
     },
     "execution_count": 16,
     "metadata": {},
     "output_type": "execute_result"
    }
   ],
   "source": [
    "did_df.columns"
   ]
  },
  {
   "cell_type": "code",
   "execution_count": 17,
   "id": "2785f288-8f24-4d21-94c4-943543f48cbe",
   "metadata": {},
   "outputs": [
    {
     "data": {
      "text/html": [
       "<table class=\"simpletable\">\n",
       "<tr>\n",
       "       <td></td>         <th>coef</th>     <th>std err</th>      <th>t</th>      <th>P>|t|</th>  <th>[0.025</th>    <th>0.975]</th>  \n",
       "</tr>\n",
       "<tr>\n",
       "  <th>Intercept</th>  <td>  171.6423</td> <td>    2.363</td> <td>   72.625</td> <td> 0.000</td> <td>  167.009</td> <td>  176.276</td>\n",
       "</tr>\n",
       "<tr>\n",
       "  <th>madrid</th>     <td> -125.6263</td> <td>    4.484</td> <td>  -28.015</td> <td> 0.000</td> <td> -134.418</td> <td> -116.835</td>\n",
       "</tr>\n",
       "<tr>\n",
       "  <th>May</th>        <td>   34.5232</td> <td>    3.036</td> <td>   11.372</td> <td> 0.000</td> <td>   28.571</td> <td>   40.475</td>\n",
       "</tr>\n",
       "<tr>\n",
       "  <th>madrid:May</th> <td>    6.5246</td> <td>    5.729</td> <td>    1.139</td> <td> 0.255</td> <td>   -4.706</td> <td>   17.755</td>\n",
       "</tr>\n",
       "</table>"
      ],
      "text/latex": [
       "\\begin{center}\n",
       "\\begin{tabular}{lcccccc}\n",
       "\\toprule\n",
       "                    & \\textbf{coef} & \\textbf{std err} & \\textbf{t} & \\textbf{P$> |$t$|$} & \\textbf{[0.025} & \\textbf{0.975]}  \\\\\n",
       "\\midrule\n",
       "\\textbf{Intercept}  &     171.6423  &        2.363     &    72.625  &         0.000        &      167.009    &      176.276     \\\\\n",
       "\\textbf{madrid}     &    -125.6263  &        4.484     &   -28.015  &         0.000        &     -134.418    &     -116.835     \\\\\n",
       "\\textbf{May}        &      34.5232  &        3.036     &    11.372  &         0.000        &       28.571    &       40.475     \\\\\n",
       "\\textbf{madrid:May} &       6.5246  &        5.729     &     1.139  &         0.255        &       -4.706    &       17.755     \\\\\n",
       "\\bottomrule\n",
       "\\end{tabular}\n",
       "\\end{center}"
      ],
      "text/plain": [
       "<class 'statsmodels.iolib.table.SimpleTable'>"
      ]
     },
     "execution_count": 17,
     "metadata": {},
     "output_type": "execute_result"
    }
   ],
   "source": [
    "import statsmodels.formula.api as smf\n",
    "\n",
    "formal_model_of_DiD =\\\n",
    "(\n",
    "    smf\n",
    "    .ols(formula = \"deposits ~ madrid * May\",\n",
    "         data = did_df)\n",
    "    .fit()\n",
    ")\n",
    "\n",
    "formal_model_of_DiD \\\n",
    "    .summary()\\\n",
    "    .tables[1]"
   ]
  },
  {
   "cell_type": "markdown",
   "id": "aff3959d",
   "metadata": {},
   "source": [
    "### How to formally estimate Difference-in-Differences (DiD) Estimation (with Interaction Effects)"
   ]
  },
  {
   "cell_type": "markdown",
   "id": "ed980c82-77d3-4037-997e-065014c9ef13",
   "metadata": {},
   "source": [
    "$$\n",
    "    Deposit = \\alpha + \\beta \\text{Treatment} + \\gamma \\text{TimeFrame} + \\delta (\\text{Treatment} \\times \\text{TimeFrame}) + \\epsilon\n",
    "$$"
   ]
  },
  {
   "cell_type": "markdown",
   "id": "f63eb481",
   "metadata": {},
   "source": [
    "### Advantages:\n",
    "\n",
    "- Controls for unobserved time-invariant confounders.\n",
    "<br>\n",
    "\n",
    "- Applicable to panel data settings with treatment and control groups.\n",
    "\n",
    "### Disadvantages:\n",
    "\n",
    "- Assumes `parallel trends` between treatment and control groups in the absence of treatment.\n",
    "<br>\n",
    "\n",
    "- Sensitive to the choice of control group and time period."
   ]
  },
  {
   "cell_type": "markdown",
   "id": "b3ff06da-3875-4fb6-bb02-608610dea20e",
   "metadata": {},
   "source": [
    "### Team, in this circumstance, you cannot use difference-in-differences estimatation."
   ]
  },
  {
   "cell_type": "code",
   "execution_count": 18,
   "id": "517ed38f-9070-41be-9cfa-adcd3e79b029",
   "metadata": {},
   "outputs": [
    {
     "data": {
      "text/plain": [
       "<matplotlib.legend.Legend at 0x1610f7c50>"
      ]
     },
     "execution_count": 18,
     "metadata": {},
     "output_type": "execute_result"
    },
    {
     "data": {
      "image/png": "[encoded data removed]",
      "text/plain": [
       "<Figure size 1600x600 with 1 Axes>"
      ]
     },
     "metadata": {},
     "output_type": "display_data"
    }
   ],
   "source": [
    "plt\\\n",
    "    .figure(figsize = [16, 6]\n",
    "           )\n",
    "\n",
    "month = [\"January\", \"March\", \"April\", \"May\"]\n",
    "\n",
    "\n",
    "# CONTROL\n",
    "plt\\\n",
    "    .plot(month, # x-axis \n",
    "          [100, 130, before_control, after_control], # y-axis\n",
    "          label = \"Barcelona\"\n",
    "         )\n",
    "\n",
    "# TREATMENT\n",
    "plt\\\n",
    "    .plot(month, # x-axis \n",
    "          [80, 60, before_treatment, after_treatment], # y-axis\n",
    "          label = \"Madrid\"\n",
    "         )\n",
    "\n",
    "# COUNTER-FACTUAL \"Compared with What?\"\n",
    "plt\\\n",
    "    .plot([\"April\", \"May\"],\n",
    "          [before_treatment, before_treatment + (after_control - before_control)],\n",
    "           ls = \"--\",\n",
    "           label = \"Counterfactual\"\n",
    "                             # Counterfactual --> What would have happened in May at Madrid in the absence of your marketing strategy?\n",
    "\n",
    "          )\n",
    "\n",
    "plt.legend()\n"
   ]
  },
  {
   "cell_type": "markdown",
   "id": "fca9eca4-06a2-4bae-95eb-b2736002eefb",
   "metadata": {},
   "source": [
    "## <a id = \"p2\">2.</a>  <font color = \"green\"> Further Exercise on DiD </font>  [back to table of contents](#top)"
   ]
  },
  {
   "cell_type": "markdown",
   "id": "662f31f3",
   "metadata": {},
   "source": [
    "### Business Context"
   ]
  },
  {
   "cell_type": "markdown",
   "id": "c508af6c",
   "metadata": {},
   "source": [
    "Suppose the largest city in Thailand, Bangkok, institutes a free lunch program in its elementary schools in 2015. We want to evaluate the impact of this program on students' math test scores. We also observe another large city, Ho Chi Minh City in Vietnam, which did not implement the program. Both cities' students take a standardized math test at the end of each year."
   ]
  },
  {
   "cell_type": "markdown",
   "id": "cd5d08b2",
   "metadata": {},
   "source": [
    "### Analytic Question"
   ]
  },
  {
   "cell_type": "markdown",
   "id": "dfae6c5e",
   "metadata": {},
   "source": [
    "The Difference-in-Differences (DiD) method is a statistical technique used to estimate causal relationships in non-randomized settings. It compares the changes in outcomes over time between a treatment group (e.g., Bangkok) and a control group (e.g., Ho Chi Minh City)."
   ]
  },
  {
   "cell_type": "markdown",
   "id": "af8d2d2e",
   "metadata": {},
   "source": [
    "> Key Assumptions:\n",
    "\n",
    "* `Parallel Trends Assumption`: The treatment and control groups would have followed the same trend over time in the absence of the treatment. This means any differences between the groups before the treatment should remain constant over time if the treatment had not occurred.\n",
    "\n",
    "* `No Other Confounding Changes`: There should be no other changes or events affecting the outcomes differently in the treatment and control groups over the study period."
   ]
  },
  {
   "cell_type": "markdown",
   "id": "cce9ada5",
   "metadata": {},
   "source": [
    "### Steps to Implement DiD:\n",
    "\n",
    "    Step 1: Define Groups and Time Periods\n",
    "\n",
    "* `Treatment` Group: Students in Bangkok.\n",
    "* `Control` Group: Students in Ho Chi Minh City.\n",
    "* `Pre-Treatment` Period: 2014.\n",
    "* `Post-Treatment` Period: 2016."
   ]
  },
  {
   "cell_type": "markdown",
   "id": "6ca72007",
   "metadata": {},
   "source": [
    "    Step 2: Calculate Mean Outcomes\n",
    "\n",
    "> Compute the average test scores for each group in both periods.\n",
    "\n",
    "    Step 3: Compute Differences\n",
    "\n",
    "> Calculate the change in test scores over time for both groups.\n",
    "\n",
    "    Step 4: Difference-in-Differences Estimate:\n",
    "\n",
    "> Subtract the change in the control group from the change in the treatment group to isolate the effect of the program."
   ]
  },
  {
   "cell_type": "code",
   "execution_count": 19,
   "id": "3a2b130b",
   "metadata": {},
   "outputs": [],
   "source": [
    "import statsmodels.formula.api as smf"
   ]
  },
  {
   "cell_type": "code",
   "execution_count": 20,
   "id": "352a54f7",
   "metadata": {},
   "outputs": [],
   "source": [
    "# Generate synthetic data\n",
    "\n",
    "np.random.seed(2025)\n",
    "\n",
    "data =\\\n",
    "(\n",
    "    pd\n",
    "    .DataFrame(\n",
    "        {\"city\": [\"Bangkok\"] * 100 + [\"Ho Chi Minh City\"] * 100,\n",
    "         \"year\": [2014] * 50 + [2016] * 50 + [2014] * 50 + [2016] * 50,\n",
    "         \"test_score\": np.concatenate(\n",
    "             [np.random.normal(50, 10, 50),  # Bangkok 2014\n",
    "              np.random.normal(120, 10, 50),  # Bangkok 2016 (after program)\n",
    "              np.random.normal(50, 10, 50),  # Ho Chi Minh City 2014\n",
    "              np.random.normal(90, 10, 50)   # Ho Chi Minh City 2016\n",
    "             ]\n",
    "         )\n",
    "        }\n",
    "    )\n",
    ")"
   ]
  },
  {
   "cell_type": "markdown",
   "id": "090d2d4f",
   "metadata": {},
   "source": [
    "### Manual calculation of DiD\n",
    "\n",
    "> Calculate the average test scores for Bangkok in 2014 and 2016, and for Ho Chi Minh City in 2014 and 2016.\n",
    "\n",
    "> Compute the differences (d1 for Bangkok and d2 for Ho Chi Minh City).\n",
    "\n",
    "> The DiD estimate is the difference between d1 and d2, isolating the effect of the free lunch program."
   ]
  },
  {
   "cell_type": "code",
   "execution_count": 21,
   "id": "5ae11376-418e-47bb-b540-a5b759e9ecb6",
   "metadata": {},
   "outputs": [
    {
     "name": "stdout",
     "output_type": "stream",
     "text": [
      "<class 'pandas.core.frame.DataFrame'>\n",
      "RangeIndex: 200 entries, 0 to 199\n",
      "Data columns (total 3 columns):\n",
      " #   Column      Non-Null Count  Dtype  \n",
      "---  ------      --------------  -----  \n",
      " 0   city        200 non-null    object \n",
      " 1   year        200 non-null    int64  \n",
      " 2   test_score  200 non-null    float64\n",
      "dtypes: float64(1), int64(1), object(1)\n",
      "memory usage: 4.8+ KB\n"
     ]
    }
   ],
   "source": [
    "data.info()"
   ]
  },
  {
   "cell_type": "code",
   "execution_count": 22,
   "id": "37efc138-afe9-4527-88ac-cb449e591b2b",
   "metadata": {},
   "outputs": [
    {
     "data": {
      "text/html": [
       "<div>\n",
       "<style scoped>\n",
       "    .dataframe tbody tr th:only-of-type {\n",
       "        vertical-align: middle;\n",
       "    }\n",
       "\n",
       "    .dataframe tbody tr th {\n",
       "        vertical-align: top;\n",
       "    }\n",
       "\n",
       "    .dataframe thead th {\n",
       "        text-align: right;\n",
       "    }\n",
       "</style>\n",
       "<table border=\"1\" class=\"dataframe\">\n",
       "  <thead>\n",
       "    <tr style=\"text-align: right;\">\n",
       "      <th></th>\n",
       "      <th>city</th>\n",
       "      <th>year</th>\n",
       "      <th>test_score</th>\n",
       "    </tr>\n",
       "  </thead>\n",
       "  <tbody>\n",
       "    <tr>\n",
       "      <th>0</th>\n",
       "      <td>Bangkok</td>\n",
       "      <td>2014</td>\n",
       "      <td>49.076098</td>\n",
       "    </tr>\n",
       "    <tr>\n",
       "      <th>1</th>\n",
       "      <td>Bangkok</td>\n",
       "      <td>2014</td>\n",
       "      <td>57.342856</td>\n",
       "    </tr>\n",
       "    <tr>\n",
       "      <th>2</th>\n",
       "      <td>Bangkok</td>\n",
       "      <td>2014</td>\n",
       "      <td>35.611180</td>\n",
       "    </tr>\n",
       "  </tbody>\n",
       "</table>\n",
       "</div>"
      ],
      "text/plain": [
       "      city  year  test_score\n",
       "0  Bangkok  2014   49.076098\n",
       "1  Bangkok  2014   57.342856\n",
       "2  Bangkok  2014   35.611180"
      ]
     },
     "execution_count": 22,
     "metadata": {},
     "output_type": "execute_result"
    }
   ],
   "source": [
    "data.head(3)"
   ]
  },
  {
   "cell_type": "code",
   "execution_count": 23,
   "id": "a6fc5526-ddbd-4849-8442-d1bd4e63aff6",
   "metadata": {},
   "outputs": [],
   "source": [
    "toy_df =\\\n",
    "(\n",
    "    pd\n",
    "    .DataFrame(\n",
    "        {\"A\": [1,2,3],\n",
    "         \"A A A\": [1,2,3]\n",
    "        }\n",
    "    )\n",
    ")"
   ]
  },
  {
   "cell_type": "code",
   "execution_count": 24,
   "id": "0859439b-c199-4451-a56a-087febc6c8ed",
   "metadata": {},
   "outputs": [
    {
     "data": {
      "text/html": [
       "<div>\n",
       "<style scoped>\n",
       "    .dataframe tbody tr th:only-of-type {\n",
       "        vertical-align: middle;\n",
       "    }\n",
       "\n",
       "    .dataframe tbody tr th {\n",
       "        vertical-align: top;\n",
       "    }\n",
       "\n",
       "    .dataframe thead th {\n",
       "        text-align: right;\n",
       "    }\n",
       "</style>\n",
       "<table border=\"1\" class=\"dataframe\">\n",
       "  <thead>\n",
       "    <tr style=\"text-align: right;\">\n",
       "      <th></th>\n",
       "      <th>A</th>\n",
       "      <th>A A A</th>\n",
       "    </tr>\n",
       "  </thead>\n",
       "  <tbody>\n",
       "    <tr>\n",
       "      <th>0</th>\n",
       "      <td>1</td>\n",
       "      <td>1</td>\n",
       "    </tr>\n",
       "    <tr>\n",
       "      <th>1</th>\n",
       "      <td>2</td>\n",
       "      <td>2</td>\n",
       "    </tr>\n",
       "    <tr>\n",
       "      <th>2</th>\n",
       "      <td>3</td>\n",
       "      <td>3</td>\n",
       "    </tr>\n",
       "  </tbody>\n",
       "</table>\n",
       "</div>"
      ],
      "text/plain": [
       "   A  A A A\n",
       "0  1      1\n",
       "1  2      2\n",
       "2  3      3"
      ]
     },
     "execution_count": 24,
     "metadata": {},
     "output_type": "execute_result"
    }
   ],
   "source": [
    "toy_df"
   ]
  },
  {
   "cell_type": "code",
   "execution_count": 25,
   "id": "9f548a87-36cc-40bf-ab96-3a09c5608f6e",
   "metadata": {},
   "outputs": [
    {
     "data": {
      "text/html": [
       "<div>\n",
       "<style scoped>\n",
       "    .dataframe tbody tr th:only-of-type {\n",
       "        vertical-align: middle;\n",
       "    }\n",
       "\n",
       "    .dataframe tbody tr th {\n",
       "        vertical-align: top;\n",
       "    }\n",
       "\n",
       "    .dataframe thead th {\n",
       "        text-align: right;\n",
       "    }\n",
       "</style>\n",
       "<table border=\"1\" class=\"dataframe\">\n",
       "  <thead>\n",
       "    <tr style=\"text-align: right;\">\n",
       "      <th></th>\n",
       "      <th>A</th>\n",
       "      <th>A A A</th>\n",
       "    </tr>\n",
       "  </thead>\n",
       "  <tbody>\n",
       "    <tr>\n",
       "      <th>0</th>\n",
       "      <td>1</td>\n",
       "      <td>1</td>\n",
       "    </tr>\n",
       "    <tr>\n",
       "      <th>1</th>\n",
       "      <td>2</td>\n",
       "      <td>2</td>\n",
       "    </tr>\n",
       "    <tr>\n",
       "      <th>2</th>\n",
       "      <td>3</td>\n",
       "      <td>3</td>\n",
       "    </tr>\n",
       "  </tbody>\n",
       "</table>\n",
       "</div>"
      ],
      "text/plain": [
       "   A  A A A\n",
       "0  1      1\n",
       "1  2      2\n",
       "2  3      3"
      ]
     },
     "execution_count": 25,
     "metadata": {},
     "output_type": "execute_result"
    }
   ],
   "source": [
    "toy_df[toy_df.A == toy_df[\"A A A\"]]"
   ]
  },
  {
   "cell_type": "code",
   "execution_count": 26,
   "id": "63ea1ab8-79fb-4f39-a79a-5421510c10dc",
   "metadata": {},
   "outputs": [
    {
     "data": {
      "text/html": [
       "<div>\n",
       "<style scoped>\n",
       "    .dataframe tbody tr th:only-of-type {\n",
       "        vertical-align: middle;\n",
       "    }\n",
       "\n",
       "    .dataframe tbody tr th {\n",
       "        vertical-align: top;\n",
       "    }\n",
       "\n",
       "    .dataframe thead th {\n",
       "        text-align: right;\n",
       "    }\n",
       "</style>\n",
       "<table border=\"1\" class=\"dataframe\">\n",
       "  <thead>\n",
       "    <tr style=\"text-align: right;\">\n",
       "      <th></th>\n",
       "      <th>A</th>\n",
       "      <th>A A A</th>\n",
       "    </tr>\n",
       "  </thead>\n",
       "  <tbody>\n",
       "    <tr>\n",
       "      <th>0</th>\n",
       "      <td>1</td>\n",
       "      <td>1</td>\n",
       "    </tr>\n",
       "    <tr>\n",
       "      <th>1</th>\n",
       "      <td>2</td>\n",
       "      <td>2</td>\n",
       "    </tr>\n",
       "    <tr>\n",
       "      <th>2</th>\n",
       "      <td>3</td>\n",
       "      <td>3</td>\n",
       "    </tr>\n",
       "  </tbody>\n",
       "</table>\n",
       "</div>"
      ],
      "text/plain": [
       "   A  A A A\n",
       "0  1      1\n",
       "1  2      2\n",
       "2  3      3"
      ]
     },
     "execution_count": 26,
     "metadata": {},
     "output_type": "execute_result"
    }
   ],
   "source": [
    "toy_df.query(\"A == `A A A`\")"
   ]
  },
  {
   "cell_type": "code",
   "execution_count": 27,
   "id": "1ad4cf93-50c9-46f7-aa43-37077248cbe0",
   "metadata": {},
   "outputs": [],
   "source": [
    "# Control\n",
    "\n",
    "h_2014 =\\\n",
    "(\n",
    "    data\n",
    "    [(data[\"city\"] == \"Ho Chi Minh City\") & (data[\"year\"] == 2014)\n",
    "    ]\n",
    "    .test_score\n",
    "    .mean()\n",
    ")\n",
    "\n",
    "h_2016 =\\\n",
    "(\n",
    "    data\n",
    "    [(data[\"city\"] == \"Ho Chi Minh City\") & (data[\"year\"] == 2016)\n",
    "    ]\n",
    "    .test_score\n",
    "    .mean()\n",
    ")\n",
    "\n"
   ]
  },
  {
   "cell_type": "code",
   "execution_count": 28,
   "id": "26976043-745f-4708-a919-ef8ea0a191ef",
   "metadata": {},
   "outputs": [],
   "source": [
    "# Treatment\n",
    "\n",
    "b_2014 =\\\n",
    "(\n",
    "    data\n",
    "    [(data[\"city\"] == \"Bangkok\") & (data[\"year\"] == 2014) # use .query()\n",
    "    ]\n",
    "    .test_score\n",
    "    .mean()\n",
    ")\n",
    "\n",
    "b_2016 =\\\n",
    "(\n",
    "    data\n",
    "    [(data[\"city\"] == \"Bangkok\") & (data[\"year\"] == 2016)\n",
    "    ]\n",
    "    .test_score\n",
    "    .mean()\n",
    ")"
   ]
  },
  {
   "cell_type": "code",
   "execution_count": 29,
   "id": "608fb79a-344d-475b-ad6e-2159a8601c5c",
   "metadata": {},
   "outputs": [
    {
     "data": {
      "text/plain": [
       "np.float64(23.488462022333223)"
      ]
     },
     "execution_count": 29,
     "metadata": {},
     "output_type": "execute_result"
    }
   ],
   "source": [
    "# difference-in-DIFFERENCES\n",
    "\n",
    "# DIFFERENCES\n",
    "\n",
    "difference_0 = h_2016 - h_2014\n",
    "\n",
    "difference_1 = b_2016 - b_2014\n",
    "\n",
    "# difference\n",
    "\n",
    "did_manual = difference_1 - difference_0\n",
    "\n",
    "did_manual"
   ]
  },
  {
   "cell_type": "markdown",
   "id": "3cceba7d",
   "metadata": {},
   "source": [
    "### Regression-based calculation of DiD\n",
    "\n",
    "> Dummy variables (post, treatment, and their interaction) are added to the dataset.\n",
    "\n",
    "> An Ordinary Least Squares (OLS) regression is performed with test_score as the dependent variable.\n",
    "\n",
    "> The coefficient of the interaction term (interaction) represents the DiD estimate."
   ]
  },
  {
   "cell_type": "code",
   "execution_count": 30,
   "id": "9ca61c72-7948-4328-82ed-c2fca04aaf57",
   "metadata": {},
   "outputs": [
    {
     "data": {
      "text/plain": [
       "city           object\n",
       "year            int64\n",
       "test_score    float64\n",
       "dtype: object"
      ]
     },
     "execution_count": 30,
     "metadata": {},
     "output_type": "execute_result"
    }
   ],
   "source": [
    "data.dtypes"
   ]
  },
  {
   "cell_type": "code",
   "execution_count": 31,
   "id": "32b9bd8f-c47c-428a-9a79-8ccaa9158749",
   "metadata": {},
   "outputs": [
    {
     "data": {
      "text/html": [
       "<div>\n",
       "<style scoped>\n",
       "    .dataframe tbody tr th:only-of-type {\n",
       "        vertical-align: middle;\n",
       "    }\n",
       "\n",
       "    .dataframe tbody tr th {\n",
       "        vertical-align: top;\n",
       "    }\n",
       "\n",
       "    .dataframe thead th {\n",
       "        text-align: right;\n",
       "    }\n",
       "</style>\n",
       "<table border=\"1\" class=\"dataframe\">\n",
       "  <thead>\n",
       "    <tr style=\"text-align: right;\">\n",
       "      <th></th>\n",
       "      <th>year</th>\n",
       "    </tr>\n",
       "  </thead>\n",
       "  <tbody>\n",
       "    <tr>\n",
       "      <th>0</th>\n",
       "      <td>0</td>\n",
       "    </tr>\n",
       "    <tr>\n",
       "      <th>1</th>\n",
       "      <td>0</td>\n",
       "    </tr>\n",
       "    <tr>\n",
       "      <th>2</th>\n",
       "      <td>0</td>\n",
       "    </tr>\n",
       "    <tr>\n",
       "      <th>3</th>\n",
       "      <td>0</td>\n",
       "    </tr>\n",
       "    <tr>\n",
       "      <th>4</th>\n",
       "      <td>0</td>\n",
       "    </tr>\n",
       "    <tr>\n",
       "      <th>...</th>\n",
       "      <td>...</td>\n",
       "    </tr>\n",
       "    <tr>\n",
       "      <th>195</th>\n",
       "      <td>1</td>\n",
       "    </tr>\n",
       "    <tr>\n",
       "      <th>196</th>\n",
       "      <td>1</td>\n",
       "    </tr>\n",
       "    <tr>\n",
       "      <th>197</th>\n",
       "      <td>1</td>\n",
       "    </tr>\n",
       "    <tr>\n",
       "      <th>198</th>\n",
       "      <td>1</td>\n",
       "    </tr>\n",
       "    <tr>\n",
       "      <th>199</th>\n",
       "      <td>1</td>\n",
       "    </tr>\n",
       "  </tbody>\n",
       "</table>\n",
       "<p>200 rows × 1 columns</p>\n",
       "</div>"
      ],
      "text/plain": [
       "     year\n",
       "0       0\n",
       "1       0\n",
       "2       0\n",
       "3       0\n",
       "4       0\n",
       "..    ...\n",
       "195     1\n",
       "196     1\n",
       "197     1\n",
       "198     1\n",
       "199     1\n",
       "\n",
       "[200 rows x 1 columns]"
      ]
     },
     "execution_count": 31,
     "metadata": {},
     "output_type": "execute_result"
    }
   ],
   "source": [
    "data[\"year\"] =\\\n",
    "(\n",
    "    (data[\"year\"] == 2016) # returns bool --> True ==> 1; False ==> 0\n",
    "    .astype(int) # dummification\n",
    ")\n",
    "\n",
    "data[[\"year\"]]"
   ]
  },
  {
   "cell_type": "code",
   "execution_count": 32,
   "id": "ce2afa69-2fd8-4750-9af1-84a105c8e1b6",
   "metadata": {},
   "outputs": [
    {
     "data": {
      "text/html": [
       "<div>\n",
       "<style scoped>\n",
       "    .dataframe tbody tr th:only-of-type {\n",
       "        vertical-align: middle;\n",
       "    }\n",
       "\n",
       "    .dataframe tbody tr th {\n",
       "        vertical-align: top;\n",
       "    }\n",
       "\n",
       "    .dataframe thead th {\n",
       "        text-align: right;\n",
       "    }\n",
       "</style>\n",
       "<table border=\"1\" class=\"dataframe\">\n",
       "  <thead>\n",
       "    <tr style=\"text-align: right;\">\n",
       "      <th></th>\n",
       "      <th>city</th>\n",
       "    </tr>\n",
       "  </thead>\n",
       "  <tbody>\n",
       "    <tr>\n",
       "      <th>0</th>\n",
       "      <td>1</td>\n",
       "    </tr>\n",
       "    <tr>\n",
       "      <th>1</th>\n",
       "      <td>1</td>\n",
       "    </tr>\n",
       "    <tr>\n",
       "      <th>2</th>\n",
       "      <td>1</td>\n",
       "    </tr>\n",
       "    <tr>\n",
       "      <th>3</th>\n",
       "      <td>1</td>\n",
       "    </tr>\n",
       "    <tr>\n",
       "      <th>4</th>\n",
       "      <td>1</td>\n",
       "    </tr>\n",
       "    <tr>\n",
       "      <th>...</th>\n",
       "      <td>...</td>\n",
       "    </tr>\n",
       "    <tr>\n",
       "      <th>195</th>\n",
       "      <td>0</td>\n",
       "    </tr>\n",
       "    <tr>\n",
       "      <th>196</th>\n",
       "      <td>0</td>\n",
       "    </tr>\n",
       "    <tr>\n",
       "      <th>197</th>\n",
       "      <td>0</td>\n",
       "    </tr>\n",
       "    <tr>\n",
       "      <th>198</th>\n",
       "      <td>0</td>\n",
       "    </tr>\n",
       "    <tr>\n",
       "      <th>199</th>\n",
       "      <td>0</td>\n",
       "    </tr>\n",
       "  </tbody>\n",
       "</table>\n",
       "<p>200 rows × 1 columns</p>\n",
       "</div>"
      ],
      "text/plain": [
       "     city\n",
       "0       1\n",
       "1       1\n",
       "2       1\n",
       "3       1\n",
       "4       1\n",
       "..    ...\n",
       "195     0\n",
       "196     0\n",
       "197     0\n",
       "198     0\n",
       "199     0\n",
       "\n",
       "[200 rows x 1 columns]"
      ]
     },
     "execution_count": 32,
     "metadata": {},
     "output_type": "execute_result"
    }
   ],
   "source": [
    "data[\"city\"] =\\\n",
    "(\n",
    "    (data[\"city\"] == \"Bangkok\") # returns bool --> True ==> 1; False ==> 0\n",
    "    .astype(int) # dummification\n",
    ")\n",
    "\n",
    "data[[\"city\"]]"
   ]
  },
  {
   "cell_type": "code",
   "execution_count": 33,
   "id": "6398b136-d4c5-453f-ab05-537436a9fa60",
   "metadata": {},
   "outputs": [],
   "source": [
    "did_model =\\\n",
    "(\n",
    "    smf\n",
    "    .ols(formula = \"test_score ~ city * year\",\n",
    "                                         # 2014\n",
    "                                         # 2016\n",
    "         data = data)\n",
    "    .fit()\n",
    ")"
   ]
  },
  {
   "cell_type": "code",
   "execution_count": 34,
   "id": "c9cda973-9fc3-432f-8b52-1d0ab7da4f27",
   "metadata": {},
   "outputs": [
    {
     "data": {
      "text/html": [
       "<table class=\"simpletable\">\n",
       "<tr>\n",
       "      <td></td>         <th>coef</th>     <th>std err</th>      <th>t</th>      <th>P>|t|</th>  <th>[0.025</th>    <th>0.975]</th>  \n",
       "</tr>\n",
       "<tr>\n",
       "  <th>Intercept</th> <td>   49.8031</td> <td>    1.329</td> <td>   37.462</td> <td> 0.000</td> <td>   47.181</td> <td>   52.425</td>\n",
       "</tr>\n",
       "<tr>\n",
       "  <th>city</th>      <td>    1.0096</td> <td>    1.880</td> <td>    0.537</td> <td> 0.592</td> <td>   -2.698</td> <td>    4.717</td>\n",
       "</tr>\n",
       "<tr>\n",
       "  <th>year</th>      <td>   41.8887</td> <td>    1.880</td> <td>   22.280</td> <td> 0.000</td> <td>   38.181</td> <td>   45.596</td>\n",
       "</tr>\n",
       "<tr>\n",
       "  <th>city:year</th> <td>   23.4885</td> <td>    2.659</td> <td>    8.834</td> <td> 0.000</td> <td>   18.245</td> <td>   28.732</td>\n",
       "</tr>\n",
       "</table>"
      ],
      "text/latex": [
       "\\begin{center}\n",
       "\\begin{tabular}{lcccccc}\n",
       "\\toprule\n",
       "                   & \\textbf{coef} & \\textbf{std err} & \\textbf{t} & \\textbf{P$> |$t$|$} & \\textbf{[0.025} & \\textbf{0.975]}  \\\\\n",
       "\\midrule\n",
       "\\textbf{Intercept} &      49.8031  &        1.329     &    37.462  &         0.000        &       47.181    &       52.425     \\\\\n",
       "\\textbf{city}      &       1.0096  &        1.880     &     0.537  &         0.592        &       -2.698    &        4.717     \\\\\n",
       "\\textbf{year}      &      41.8887  &        1.880     &    22.280  &         0.000        &       38.181    &       45.596     \\\\\n",
       "\\textbf{city:year} &      23.4885  &        2.659     &     8.834  &         0.000        &       18.245    &       28.732     \\\\\n",
       "\\bottomrule\n",
       "\\end{tabular}\n",
       "\\end{center}"
      ],
      "text/plain": [
       "<class 'statsmodels.iolib.table.SimpleTable'>"
      ]
     },
     "execution_count": 34,
     "metadata": {},
     "output_type": "execute_result"
    }
   ],
   "source": [
    "did_model\\\n",
    "    .summary()\\\n",
    "    .tables[1]"
   ]
  },
  {
   "cell_type": "code",
   "execution_count": 35,
   "id": "3e1f0778-2db9-4a9a-a790-b9828562f06e",
   "metadata": {},
   "outputs": [
    {
     "data": {
      "text/plain": [
       "np.float64(23.488462022333223)"
      ]
     },
     "execution_count": 35,
     "metadata": {},
     "output_type": "execute_result"
    }
   ],
   "source": [
    "did_manual"
   ]
  },
  {
   "cell_type": "code",
   "execution_count": 36,
   "id": "41a7798d-7601-4a23-9045-93cfd056c15e",
   "metadata": {},
   "outputs": [
    {
     "data": {
      "text/plain": [
       "np.float64(23.488462022333298)"
      ]
     },
     "execution_count": 36,
     "metadata": {},
     "output_type": "execute_result"
    }
   ],
   "source": [
    "did_est_from_regression =\\\n",
    "(\n",
    "    did_model\n",
    "    .params[\"city:year\"]\n",
    ")\n",
    "\n",
    "did_est_from_regression"
   ]
  },
  {
   "cell_type": "markdown",
   "id": "aa579bd0",
   "metadata": {},
   "source": [
    "### Cross-validation of your analysis\n",
    "\n",
    "> To assess if the manual and regression-based DiD estimates are consistent."
   ]
  },
  {
   "cell_type": "code",
   "execution_count": 37,
   "id": "96a278ad-09c4-4f53-9208-c29020783fc0",
   "metadata": {},
   "outputs": [
    {
     "name": "stdout",
     "output_type": "stream",
     "text": [
      "\n",
      "The manual and regression-based DiD esimations DO MATCH! :)\n"
     ]
    }
   ],
   "source": [
    "assert np.isclose(did_manual, did_est_from_regression), \\\n",
    "    \"The manual and regression-based DiD estimations do NOT match!!!\"\n",
    "\n",
    "print(\"\\nThe manual and regression-based DiD esimations DO MATCH! :)\")"
   ]
  },
  {
   "cell_type": "markdown",
   "id": "85d45bee",
   "metadata": {},
   "source": [
    "### The Big Picture\n",
    "\n",
    "#### Difference-in-Differences (DiD) Conditions\n",
    "\n",
    "The table below summarizes the four conditions used in the Difference-in-Differences (DiD) analysis for evaluating the free lunch program in Bangkok and Ho Chi Minh City.\n",
    "\n",
    "| City              | Year | Test Scores | Pre/Post Period | Treatment/Control Group |\n",
    "|-------------------|------|-------------|-----------------|-------------------------|\n",
    "| Bangkok           | 2014 | 50          | Pre             | Treatment               |\n",
    "| Bangkok           | 2016 | 120         | Post            | Treatment               |\n",
    "| Ho Chi Minh City  | 2014 | 50          | Pre             | Control                 |\n",
    "| Ho Chi Minh City  | 2016 | 90          | Post            | Control                 |\n",
    "\n",
    "### The Four Groups:\n",
    "\n",
    "- **`Pre`-Treatment Period (`2014`)**: Before the implementation of the free lunch program.\n",
    "  - `Bangkok` (`Treatment` Group): Average test score is 50.\n",
    "  - Ho Chi Minh City (Control Group)**: Average test score is 50.\n",
    "- **`Post`-Treatment Period (`2016`)**: After the implementation of the free lunch program.\n",
    "  - `Bangkok` (`Treatment` Group): Average test score is 120.\n",
    "  - Ho Chi Minh City (Control Group): Average test score is 90.\n",
    "\n",
    "### Differences Calculated:\n",
    "- **Difference in Bangkok (D1)**: \n",
    "  - Post (2016) - Pre (2014) = 120 - 50 = 70\n",
    "- **Difference in Ho Chi Minh City (D2)**: \n",
    "  - Post (2016) - Pre (2014) = 90 - 50 = 40\n",
    "\n",
    "### Difference-in-Differences Estimate:\n",
    "- **DiD Estimate**: \n",
    "  - D1 - D2 = 70 - 40 = 30\n",
    "\n",
    "This estimate suggests that the free lunch program led to an average increase of 30 points in test scores for students in Bangkok, after accounting for the changes observed in the control group (Ho Chi Minh City).\n"
   ]
  },
  {
   "cell_type": "markdown",
   "id": "c513f1d0",
   "metadata": {},
   "source": [
    "> The Difference-in-Differences method leverages the parallel trends assumption to control for unobserved factors that could influence the outcome.\n",
    "\n",
    "> By comparing changes over time between treatment and control groups, it aims to isolate the causal effect of the intervention (free lunch program) on the outcome (test scores).\n",
    "\n",
    "> This method is particularly valuable in observational studies where randomization is not possible.\n",
    "\n",
    "> By applying DiD, we assume that any difference in trends between the groups is attributable to the intervention, provided the key assumptions hold.\n",
    "\n",
    "> This allows us to make more robust causal inferences about the program's impact."
   ]
  },
  {
   "cell_type": "markdown",
   "id": "e693912e",
   "metadata": {},
   "source": [
    "## <a id = \"p3\">3. </a> <font color = \"green\"> Learning DiD with the Textbook </font>  [back to table of contents](#top)"
   ]
  },
  {
   "cell_type": "markdown",
   "id": "a9f33b11",
   "metadata": {},
   "source": [
    "## Chapter 13 | Difference-in-Differences\n",
    "\n",
    "## Three Billboards in the South of Brazil\n",
    "\n",
    "I remember when I worked with marketing and a great way to do it was with internet advertisement. Not because it is very efficient (although it is), but because it is very easy to know if it's effective or not. With online marketing, you have a way of knowing which customers saw the ad and you can track them with cookies to see if they ended up on your landing page or clicked some download button. You can also use machine learning to find prospects that are very similar to your customers and present the ad only to them. In this sense, online marketing is very precise: you target only those you want to and you can see if they respond as you would like them to. \n",
    "\n",
    "But not everyone is susceptible to online marketing. Sometimes you have to resort to less precise techniques, like a TV campaign or placing a billboard down the street. Usually, diversity of marketing channels is something marketing departments look for. But if online marketing is a professional fishing rod to catch that specific type of tuna, billboard and TV are giant nets you throw at a fish shoal and hope to catch at least some big ones. Another problem with billboard and TV ads is that it is much harder to know how effective they are. Sure, you could measure the purchase volume, or whatever you want to drive, before and after placing a billboard somewhere. If there is an increase, there is some evidence that the marketing is effective. But how would you know if this increase is not just some natural trend in the awareness of your product? In other words, how would you know the counterfactual $Y_0$ of what would have happened if you didn't set up the billboards in the first place? \n",
    "\n",
    "One technique to answer these types of questions is Difference-in-Difference, or diff-in-diff for close friends. Diff-in-diff is commonly used to assess the effect of macro interventions, like the effect of immigration on unemployment, the effect of gun law changes in crime rates or simply the difference in user engagement due to a marketing campaign. In all these cases, you have a period before and after the intervention and you wish to untangle the impact of the intervention from a general trend. As a motivating example, let's look at a question similar to the one I had to answer.\n",
    "\n",
    "In order to figure out how good billboards were as a marketing channel, we placed 3 billboards in the city of Porto Alegre, the capital of the state of Rio Grande do Sul. We wanted to see if that boosted deposits into our savings account. As a note for those not very familiar with Brazilian geography, Rio Grande do Sul is part of the south of the country, one of the most developed regions. \n",
    "\n",
    "Having this in mind, we decided to also look at data from another capital from the south, Florianopolis, the capital city of the state of Santa Catarina. The idea is that we could use Florianopolis as a control sample to estimate the counterfactual $Y_0$ when compared to Porto Alegre (by the way, this was not the true experiment, which is confidential, but the idea is very similar). We placed the billboard in Porto Alegre for the entire month of June. The data we have looks like this:"
   ]
  },
  {
   "cell_type": "code",
   "execution_count": 38,
   "id": "7180733b",
   "metadata": {
    "tags": [
     "hide-input"
    ]
   },
   "outputs": [],
   "source": [
    "import warnings\n",
    "warnings.filterwarnings('ignore')\n",
    "\n",
    "import pandas as pd\n",
    "import numpy as np\n",
    "from matplotlib import style\n",
    "from matplotlib import pyplot as plt\n",
    "import seaborn as sns\n",
    "import statsmodels.formula.api as smf\n",
    "\n",
    "\n",
    "%matplotlib inline\n",
    "\n",
    "style.use(\"fivethirtyeight\")"
   ]
  },
  {
   "cell_type": "code",
   "execution_count": 39,
   "id": "b904f83f",
   "metadata": {},
   "outputs": [
    {
     "data": {
      "text/html": [
       "<div>\n",
       "<style scoped>\n",
       "    .dataframe tbody tr th:only-of-type {\n",
       "        vertical-align: middle;\n",
       "    }\n",
       "\n",
       "    .dataframe tbody tr th {\n",
       "        vertical-align: top;\n",
       "    }\n",
       "\n",
       "    .dataframe thead th {\n",
       "        text-align: right;\n",
       "    }\n",
       "</style>\n",
       "<table border=\"1\" class=\"dataframe\">\n",
       "  <thead>\n",
       "    <tr style=\"text-align: right;\">\n",
       "      <th></th>\n",
       "      <th>deposits</th>\n",
       "      <th>poa</th>\n",
       "      <th>jul</th>\n",
       "    </tr>\n",
       "  </thead>\n",
       "  <tbody>\n",
       "    <tr>\n",
       "      <th>0</th>\n",
       "      <td>42</td>\n",
       "      <td>1</td>\n",
       "      <td>0</td>\n",
       "    </tr>\n",
       "    <tr>\n",
       "      <th>1</th>\n",
       "      <td>0</td>\n",
       "      <td>1</td>\n",
       "      <td>0</td>\n",
       "    </tr>\n",
       "    <tr>\n",
       "      <th>2</th>\n",
       "      <td>52</td>\n",
       "      <td>1</td>\n",
       "      <td>0</td>\n",
       "    </tr>\n",
       "    <tr>\n",
       "      <th>3</th>\n",
       "      <td>119</td>\n",
       "      <td>1</td>\n",
       "      <td>0</td>\n",
       "    </tr>\n",
       "    <tr>\n",
       "      <th>4</th>\n",
       "      <td>21</td>\n",
       "      <td>1</td>\n",
       "      <td>0</td>\n",
       "    </tr>\n",
       "  </tbody>\n",
       "</table>\n",
       "</div>"
      ],
      "text/plain": [
       "   deposits  poa  jul\n",
       "0        42    1    0\n",
       "1         0    1    0\n",
       "2        52    1    0\n",
       "3       119    1    0\n",
       "4        21    1    0"
      ]
     },
     "execution_count": 39,
     "metadata": {},
     "output_type": "execute_result"
    }
   ],
   "source": [
    "data = pd.read_csv(\"https://talktoroh.com/s/billboard_impact.csv\")\n",
    "data.head()"
   ]
  },
  {
   "cell_type": "markdown",
   "id": "c97a9352",
   "metadata": {},
   "source": [
    "Remember that deposits are our outcome variable, the one we wish to increase with the billboards. POA is a dummy indicator for the city of Porto Alegre. When it is zero, it means the samples are from Florianopolis. Jul is a dummy for the month of July, or for the post intervention period. When it is zero it refers to samples from May, the pre-intervention period.\n",
    "\n",
    "## DID Estimator\n",
    "\n",
    "To avoid confusion between Time and Treatment, from now on, I'll use D to denote treatment and T to denote time. Let $Y_D(T)$ be the potential outcome for treatment D on period T. In an ideal world where we have the ability to observe the counterfactual, we would estimate the treatment effect of an intervention the following way:\n",
    "\n",
    "$\n",
    "\\hat{ATET} = E[Y_1(1) - Y_0(1)|D=1]\n",
    "$\n",
    "\n",
    "In words, the causal effect is the outcome in the period post intervention in case of a treatment minus the outcome in also in the period after the intervention, but in the case of no treatment. Of course, we can't measure this because $Y_0(1)$ is counterfactual. \n",
    "\n",
    "One way around this is a before and after comparison.\n",
    "\n",
    "$\n",
    "\\hat{ATET} = E[Y(1)|D=1] - E[Y(0)|D=1]\n",
    "$\n",
    "\n",
    "In our example, we would compare the average deposits from POA before and after the billboard was placed."
   ]
  },
  {
   "cell_type": "code",
   "execution_count": 40,
   "id": "c3a6a9f2",
   "metadata": {},
   "outputs": [
    {
     "data": {
      "text/plain": [
       "np.float64(41.04775)"
      ]
     },
     "execution_count": 40,
     "metadata": {},
     "output_type": "execute_result"
    }
   ],
   "source": [
    "poa_before = data.query(\"poa==1 & jul==0\")[\"deposits\"].mean()\n",
    "\n",
    "poa_after = data.query(\"poa==1 & jul==1\")[\"deposits\"].mean()\n",
    "\n",
    "poa_after - poa_before"
   ]
  },
  {
   "cell_type": "markdown",
   "id": "364971de",
   "metadata": {},
   "source": [
    "This estimator is telling us that we should expect deposits to increase R$ 41,04 after the intervention. But can we trust this?\n",
    "\n",
    "Notice that $E[Y(0)|D=1]=E[Y_0(0)|D=1]$, that is, the observed outcome for the treated unit **before the intervention** is equal to the counterfactual outcome for the treated unit also before the intervention. Since we are using this to estimate the counterfactual **after the intervention**  $E[Y_0(1)|D=1]$, this estimation above assumes that $E[Y_0(1)|D=1] = E[Y_0(0)|D=1]$. \n",
    "\n",
    "It is saying that in the case of no intervention, the outcome in the latter period would be the same as the outcome from the starting period. This would obviously be false if your outcome variable follows any kind of trend. For example, if deposits are going up in POA, $E[Y_0(1)|D=1] > E[Y_0(0)|D=1]$, i.e. the outcome of the latter period would be greater than that of the starting period even in the absence of the intervention. With a similar argument, if the trend in Y is going down, $E[Y_0(1)|D=1] < E[Y_0(0)|D=1]$. This is to show that this before and after thing is not a great estimator. \n",
    "\n",
    "Another idea is to compare the treated group with an untreated group that didn't get the intervention:\n",
    "\n",
    "$\n",
    "\\hat{ATET} = E[Y(1)|D=1] - E[Y(1)|D=0]\n",
    "$\n",
    "\n",
    "In our example, it would be to compare the deposits from POA to that of Florianopolis in the post intervention period."
   ]
  },
  {
   "cell_type": "code",
   "execution_count": 41,
   "id": "de9d8184",
   "metadata": {},
   "outputs": [
    {
     "data": {
      "text/plain": [
       "np.float64(-119.10175000000001)"
      ]
     },
     "execution_count": 41,
     "metadata": {},
     "output_type": "execute_result"
    }
   ],
   "source": [
    "fl_after = data.query(\"poa==0 & jul==1\")[\"deposits\"].mean()\n",
    "poa_after - fl_after"
   ]
  },
  {
   "cell_type": "markdown",
   "id": "d6286255",
   "metadata": {},
   "source": [
    "This estimator is telling us that the campaign is detrimental and that customers will decrease deposits by R$ 119.10. \n",
    "\n",
    "Notice that $E[Y(1)|D=0]=E[Y_0(1)|D=0]$. And since we are using $E[Y(1)|D=0]$ to estimate the counterfactual for the treated after the intervention, we are assuming we can replace the missing counterfactual like this: $E[Y_0(1)|D=0] = E[Y_0(1)|D=1]$. But notice that this would only be true if both groups have a very similar baseline level. For instance, if Florianopolis has way more deposits than Porto Alegre, this would not be true because $E[Y_0(1)|D=0] > E[Y_0(1)|D=1]$. On the other hand, if the level of deposits are lower in Florianopolis, we would have $E[Y_0(1)|D=0] < E[Y_0(1)|D=1]$. \n",
    "\n",
    "Again, this is not a great idea. To solve this, we can use both space and time comparison. This is the idea of the difference in difference approach. It works by replacing the missing counterfactual the following way:\n",
    "\n",
    "$\n",
    "E[Y_0(1)|D=1] = E[Y_0(0)|D=1] + (E[Y_0(1)|D=0] - E[Y_0(0)|D=0])\n",
    "$\n",
    "\n",
    "What this does is take the treated unit **before the intervention** and adds a trend component to it, which is estimated using the control $E[Y_0(1)|D=0] - E[Y_0(0)|D=0]$. In words, it is saying that the treated **after the intervention**, had it not been treated, would look like the **treated before the treatment** plus a growth factor that is the same as the growth of the control. \n",
    "\n",
    "It is important to notice that this assumes that the trends in the treatment and control are the same:\n",
    "\n",
    "$\n",
    "E[Y_0(1) − Y_0(0)|D=1] = E[Y_0(1) − Y_0(0)|D=0]\n",
    "$\n",
    "\n",
    "where the left hand side is the counterfactual trend. Now, we can replace the estimated counterfactual in the treatment effect definition $E[Y_1(1)|D=1] - E[Y_0(1)|D=1]$\n",
    "\n",
    "$\n",
    "\\hat{ATET} = E[Y(1)|D=1] - (E[Y(0)|D=1] + (E[Y(1)|D=0] - E[Y(0)|D=0])\n",
    "$\n",
    "\n",
    "If we rearrange the terms, we get the classical Diff-in-Diff estimator.\n",
    "\n",
    "$\n",
    "\\hat{ATET} = (E[Y(1)|D=1] - E[Y(1)|D=0]) - (E[Y(0)|D=1] - E[Y(0)|D=0])\n",
    "$\n",
    "\n",
    "It gets that name because it gets the difference between the difference between treatment and control after and before the treatment. \n",
    "\n",
    "Here is what that looks in code."
   ]
  },
  {
   "cell_type": "code",
   "execution_count": 42,
   "id": "092b0e62",
   "metadata": {},
   "outputs": [
    {
     "data": {
      "text/plain": [
       "np.float64(6.524557692307688)"
      ]
     },
     "execution_count": 42,
     "metadata": {},
     "output_type": "execute_result"
    }
   ],
   "source": [
    "fl_before = data.query(\"poa==0 & jul==0\")[\"deposits\"].mean()\n",
    "\n",
    "diff_in_diff = (poa_after-poa_before)-(fl_after-fl_before)\n",
    "diff_in_diff"
   ]
  },
  {
   "cell_type": "markdown",
   "id": "8ba8eb47",
   "metadata": {},
   "source": [
    "Diff-in-Diff is telling us that we should expect deposits to increase by R$ 6.52 per customer. Notice that the assumption that diff-in-diff makes is much more plausible than the other 2 estimators. It just assumes that the growth pattern between the 2 cities are the same. But it doesn't require them to have the same base level nor does it require the trend to be zero. \n",
    "\n",
    "To visualize what diff-in-diff is doing, we can project the growth trend from the untreated into the treated to see the counterfactual, that is, the number of deposits we should expect if there were no intervention."
   ]
  },
  {
   "cell_type": "code",
   "execution_count": 43,
   "id": "ae89395c",
   "metadata": {},
   "outputs": [
    {
     "data": {
      "image/png": "[encoded data removed]",
      "text/plain": [
       "<Figure size 1000x500 with 1 Axes>"
      ]
     },
     "metadata": {},
     "output_type": "display_data"
    }
   ],
   "source": [
    "plt.figure(figsize=(10,5))\n",
    "plt.plot([\"May\", \"Jul\"], [fl_before, fl_after], label=\"FL\", lw=2)\n",
    "plt.plot([\"May\", \"Jul\"], [poa_before, poa_after], label=\"POA\", lw=2)\n",
    "\n",
    "plt.plot([\"May\", \"Jul\"], [poa_before, poa_before+(fl_after-fl_before)],\n",
    "         label=\"Counterfactual\", lw=2, color=\"C2\", ls=\"-.\")\n",
    "\n",
    "plt.legend();"
   ]
  },
  {
   "cell_type": "markdown",
   "id": "0b16eb98",
   "metadata": {},
   "source": [
    "See that small difference between the red and the yellow dashed lines? If you really focus you can see the small treatment effect on Porto Alegre.\n",
    "\n",
    "Now, what you might be asking yourself is \"how much can I trust this estimator? It is my right to have standard errors reported to me!\". Which makes sense, since estimators without them look silly. To do so, we will use a neat trick that uses regression. Specifically, we will estimate the following linear model\n",
    "\n",
    "$\n",
    "Y_i = \\beta_0 + \\beta_1 POA_i + \\beta_2 Jul_i + \\beta_3 POA_i*Jul_i + e_i\n",
    "$\n",
    "\n",
    "Notice that $\\beta_0$ is the baseline of the control. In our case, is the level of deposits in Florianopolis in the month of May. If we turn on the treated city dummy, we get $\\beta_1$. So $\\beta_0 + \\beta_1$ is the baseline of Porto Alegre in May, before the intervention, and $\\beta_1$ is the increase of Porto Alegre baseline on top of Florianopolis. If we turn the POA dummy off and turn the July dummy on, we get $\\beta_0 + \\beta_2$, which is the level of Florianópolis in July, after the intervention period. $\\beta_2$ is then the trend of the control, since we add it on top of the baseline to get the level of the control at the period post intervention. As a recap, $\\beta_1$ is the increment we get by going from the control to the treated, $\\beta_2$ is the increment we get by going from the period before to the period after the intervention. Finally, if we turn both dummies on, we get $\\beta_3$. $\\beta_0 + \\beta_1 + \\beta_2 + \\beta_3$ is the level in Porto Alegre after the intervention. So $\\beta_3$ is the incremental impact when you go from May to July and from Florianopolis to POA. In other words, it is the Difference in Difference estimator. \n",
    "\n",
    "If you don't believe me, check for yourself. You should get the exact same number we got above. And also notice how we get our much wanted standard errors."
   ]
  },
  {
   "cell_type": "code",
   "execution_count": 44,
   "id": "0b38d050",
   "metadata": {},
   "outputs": [
    {
     "data": {
      "text/html": [
       "<table class=\"simpletable\">\n",
       "<tr>\n",
       "      <td></td>         <th>coef</th>     <th>std err</th>      <th>t</th>      <th>P>|t|</th>  <th>[0.025</th>    <th>0.975]</th>  \n",
       "</tr>\n",
       "<tr>\n",
       "  <th>Intercept</th> <td>  171.6423</td> <td>    2.363</td> <td>   72.625</td> <td> 0.000</td> <td>  167.009</td> <td>  176.276</td>\n",
       "</tr>\n",
       "<tr>\n",
       "  <th>poa</th>       <td> -125.6263</td> <td>    4.484</td> <td>  -28.015</td> <td> 0.000</td> <td> -134.418</td> <td> -116.835</td>\n",
       "</tr>\n",
       "<tr>\n",
       "  <th>jul</th>       <td>   34.5232</td> <td>    3.036</td> <td>   11.372</td> <td> 0.000</td> <td>   28.571</td> <td>   40.475</td>\n",
       "</tr>\n",
       "<tr>\n",
       "  <th>poa:jul</th>   <td>    6.5246</td> <td>    5.729</td> <td>    1.139</td> <td> 0.255</td> <td>   -4.706</td> <td>   17.755</td>\n",
       "</tr>\n",
       "</table>"
      ],
      "text/latex": [
       "\\begin{center}\n",
       "\\begin{tabular}{lcccccc}\n",
       "\\toprule\n",
       "                   & \\textbf{coef} & \\textbf{std err} & \\textbf{t} & \\textbf{P$> |$t$|$} & \\textbf{[0.025} & \\textbf{0.975]}  \\\\\n",
       "\\midrule\n",
       "\\textbf{Intercept} &     171.6423  &        2.363     &    72.625  &         0.000        &      167.009    &      176.276     \\\\\n",
       "\\textbf{poa}       &    -125.6263  &        4.484     &   -28.015  &         0.000        &     -134.418    &     -116.835     \\\\\n",
       "\\textbf{jul}       &      34.5232  &        3.036     &    11.372  &         0.000        &       28.571    &       40.475     \\\\\n",
       "\\textbf{poa:jul}   &       6.5246  &        5.729     &     1.139  &         0.255        &       -4.706    &       17.755     \\\\\n",
       "\\bottomrule\n",
       "\\end{tabular}\n",
       "\\end{center}"
      ],
      "text/plain": [
       "<class 'statsmodels.iolib.table.SimpleTable'>"
      ]
     },
     "execution_count": 44,
     "metadata": {},
     "output_type": "execute_result"
    }
   ],
   "source": [
    "smf.ols('deposits ~ poa*jul', data=data).fit().summary().tables[1]"
   ]
  },
  {
   "cell_type": "markdown",
   "id": "51dd2ee5",
   "metadata": {},
   "source": [
    "## Non Parallel Trends\n",
    "\n",
    "One obvious problem with Diff-in-Diff is failure to satisfy the parallel trend assumption. If the growth trend from the treated is different from the trend of the control, diff-in-diff will be biased. This is a common problem with non-random data, where the decision to treat a region is based on its potential to respond well to the treatment, or when the treatment is targeted at regions that are not performing very well. Take our marketing example. We decided to test billboards in Porto Alegre not in order to check the effect of billboards in general. The reason is simply because sales perform poorly there. Perhaps online marketing is not working there. In this case, it could be that the growth we would see in Porto Alegre without a billboard would be lower than the growth we observe in other cities. This would cause us to underestimate the effect of the billboard there.\n",
    "\n",
    "One way to check if this is happening is to plot the trend using past periods. For example, let's suppose POA had a small decreasing trend but Florianopolis was on a steep ascent. In this case, showing periods from before would reveal those trends and we would know Diff-in-Diff is not a reliable estimator."
   ]
  },
  {
   "cell_type": "code",
   "execution_count": 45,
   "id": "2d74456c",
   "metadata": {
    "tags": [
     "hide-input"
    ]
   },
   "outputs": [
    {
     "data": {
      "image/png": "[encoded data removed]",
      "text/plain": [
       "<Figure size 1000x500 with 1 Axes>"
      ]
     },
     "metadata": {},
     "output_type": "display_data"
    }
   ],
   "source": [
    "plt.figure(figsize=(10,5))\n",
    "x = [\"Jan\", \"Mar\", \"May\", \"Jul\"]\n",
    "\n",
    "plt.plot(x, [120, 150, fl_before,  fl_after], label=\"FL\", lw=2)\n",
    "plt.plot(x, [60, 50, poa_before, poa_after], label=\"POA\", lw=2)\n",
    "\n",
    "plt.plot([\"May\", \"Jul\"], [poa_before, poa_before+(fl_after-fl_before)], label=\"Counterfactual\", lw=2, color=\"C2\", ls=\"-.\")\n",
    "\n",
    "plt.legend();"
   ]
  },
  {
   "cell_type": "markdown",
   "id": "0a2d7019",
   "metadata": {},
   "source": [
    "We will see how to solve this problem with synthetic control. It will use multiple cities to create a synthetic city that closely follows the trend of the city of interest. But for now, remember that you always need to check if you have parallel trends when applying diff-in-diff. \n",
    "\n",
    "One final issue that it's worth mentioning is that you won't be able to place confidence intervals around your Diff-in-Diff estimator if you only have aggregated data. Say for instance you don't have data on what each of our customers from Florianópolis or Porto Alegre did. Instead, you only have the average deposits before and after the intervention for both cities. In this case, you will still be able to estimate the causal effect by Diff-in-Diff, but you won't know the variance of it. That's because all the variability in your data got squashed out in aggregation.\n",
    "\n",
    "## Key Ideas\n",
    "\n",
    "We've explored a technique widely applied when we are estimating causal effects at more macro entities (schools, cities, states, countries...). Difference in Difference takes a treated unit before and after the treatment and compares the trend in the outcome to that of a control unit. Here, we've seen how this could be applied at estimating the effect of a city specific marketing campaign.\n",
    "\n",
    "Finally, we looked at how Diff-in-Diff fails if the trend between the treated and control unit is not the same. We also saw how diff-in-diff will be problematic if we only have aggregated data."
   ]
  },
  {
   "cell_type": "markdown",
   "id": "41d0b227",
   "metadata": {},
   "source": [
    "## <a id = \"p4\">4.</a>  <font color = \"green\"> What We Learned & What's Next </font>  [back to table of contents](#top)"
   ]
  },
  {
   "cell_type": "markdown",
   "id": "11ac084c",
   "metadata": {},
   "source": [
    "> As I've menteiond multiple times throughout our modules, it's always a good idea to reflect on what you've learned and put it into your own words. \n",
    "\n",
    "> For example, here are some potential takeaways from what we've learned above:\n",
    "\n",
    "1. Causal Inference Revisited: We started by revisiting the key concepts of causal inference, focusing on the differences between confounders and colliders. Understanding these elements is crucial for identifying and mitigating biases that can distort our analysis.\n",
    "\n",
    "2. A First Look at Matching with Propensity Score Matching (PSM): Next, we learned Propensity Score Matching, a popular method used to reduce bias in observational studies. PSM helps us create comparable groups based on observed characteristics, thereby approximating a randomized controlled trial (RCT).\n",
    "\n",
    "3. Comparing Methods of Matching for Causal Inference without RCTs: We then compared different matching methods, including Inverse Probability Weighting (IPW) and Sensitivity Analysis. These techniques offer alternative ways to address confounding and enhance the validity of our causal claims when RCTs are not feasible.\n",
    "\n",
    "4. Difference-in-Differences (DiD): Moving forward, we will discuss the Difference-in-Differences approach, which helps us determine whether observed effects are attributable to our interventions. This method leverages changes over time to isolate the impact of the intervention from other factors.\n",
    "\n",
    "5. Further Exercise on DiD: To solidify our understanding, we will engage in practical exercises on Difference-in-Differences. These exercises are designed to reinforce the concepts learned and provide hands-on experience in applying DiD analysis.\n",
    "\n",
    "> Throughout our lesson, we have explored various methods of causal inference, emphasizing their importance in deriving accurate conclusions from data. We began by distinguishing between confounders and colliders, laying the groundwork for understanding biases in causal analysis. Propensity Score Matching (PSM) was introduced as a technique to create balanced comparison groups, and we compared it with other methods such as Inverse Probability Weighting (IPW) and Sensitivity Analysis.\n",
    "\n",
    "> We then examined the Difference-in-Differences (DiD) approach, highlighting its utility in determining the causal effects of interventions. Practical exercises on DiD provided an opportunity to apply the theoretical concepts and gain hands-on experience."
   ]
  },
  {
   "cell_type": "code",
   "execution_count": null,
   "id": "d203f225",
   "metadata": {},
   "outputs": [],
   "source": []
  },
  {
   "cell_type": "markdown",
   "id": "1c66d66c",
   "metadata": {},
   "source": [
    "> `Thank you for working with the script, Team 👍`"
   ]
  }
 ],
 "metadata": {
  "kernelspec": {
   "display_name": "Python 3 (ipykernel)",
   "language": "python",
   "name": "python3"
  },
  "language_info": {
   "codemirror_mode": {
    "name": "ipython",
    "version": 3
   },
   "file_extension": ".py",
   "mimetype": "text/x-python",
   "name": "python",
   "nbconvert_exporter": "python",
   "pygments_lexer": "ipython3",
   "version": "3.13.3"
  }
 },
 "nbformat": 4,
 "nbformat_minor": 5
}
