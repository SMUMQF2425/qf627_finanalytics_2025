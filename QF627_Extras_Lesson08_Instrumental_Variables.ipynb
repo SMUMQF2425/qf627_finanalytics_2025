{
 "cells": [
  {
   "cell_type": "markdown",
   "id": "e3a45929",
   "metadata": {},
   "source": [
    "# QF 627 Extras - Financial Analytics\n",
    "## Lesson 8 | Instrumental Variables (IV)"
   ]
  },
  {
   "cell_type": "markdown",
   "id": "73ad4371",
   "metadata": {},
   "source": [
    "> Hi, Team 👋 Thank you for opening the script 🙂"
   ]
  },
  {
   "cell_type": "markdown",
   "id": "072e6360",
   "metadata": {},
   "source": [
    "## DEPENDENCIES"
   ]
  },
  {
   "cell_type": "code",
   "execution_count": 1,
   "id": "ed34a9eb",
   "metadata": {},
   "outputs": [],
   "source": [
    "# Load libraries\n",
    "\n",
    "import numpy as np\n",
    "import pandas as pd\n",
    "\n",
    "import matplotlib.pyplot as plt\n",
    "import matplotlib as mpl\n",
    "\n",
    "import seaborn as sns\n",
    "\n",
    "import time\n",
    "\n",
    "import datetime\n",
    "import re\n",
    "\n",
    "import statsmodels.api as sm\n",
    "import statsmodels.formula.api as smf\n",
    "\n",
    "import warnings\n",
    "warnings.filterwarnings(\"ignore\")\n",
    "\n",
    "# Set print options\n",
    "\n",
    "np.set_printoptions(precision = 3)\n",
    "\n",
    "plt.style.use(\"ggplot\")\n",
    "\n",
    "mpl.rcParams[\"axes.grid\"] = True\n",
    "mpl.rcParams[\"grid.color\"] = \"grey\"\n",
    "mpl.rcParams[\"grid.alpha\"] = 0.25\n",
    "\n",
    "mpl.rcParams[\"axes.facecolor\"] = \"white\"\n",
    "\n",
    "mpl.rcParams[\"legend.fontsize\"] = 14\n",
    "\n",
    "%matplotlib inline\n",
    "\n",
    "# Define our customized timer function\n",
    "\n",
    "def countdown(Time):\n",
    "    \n",
    "    while Time:\n",
    "        minutes, seconds = divmod(Time, 60)\n",
    "        timer = \"{:02d}:{:02d}\".format(minutes, seconds)\n",
    "        \n",
    "        print(timer, end = \"\\r\")\n",
    "        time.sleep(1)\n",
    "        Time -= 1\n",
    "        \n",
    "    print(\"Let us solve the problem above together :)\")"
   ]
  },
  {
   "cell_type": "markdown",
   "id": "ad9b08d8",
   "metadata": {},
   "source": [
    "## 👉 <a id = \"top\">Learning Pointers</a> 👈 "
   ]
  },
  {
   "cell_type": "markdown",
   "id": "a121dcec",
   "metadata": {},
   "source": [
    "## [1. How Instrumental Variables (IV) Help Causal Inference](#p1)\n",
    "\n",
    "> ### <font color = red> Learn with the Classic Econometric Solution </font>\n",
    "\n",
    "## [2. Revisiting IV](#p2)\n",
    "\n",
    "> ### <font color = red> Further Application of IV </font>\n",
    "\n",
    "## [3. Further Learning on Instrumental Variable](#p3)\n",
    "\n",
    "> ### <font color = red> Chapter 8 from of the Textbook </font>\n",
    "\n",
    "## [4. What We Learned & What's Next](#p4)\n",
    "\n",
    "> ### <font color = red> Revisiting Learning Pointers </font>"
   ]
  },
  {
   "cell_type": "markdown",
   "id": "98df0de4",
   "metadata": {},
   "source": [
    "## <a id = \"p1\">1. </a> <font color = \"green\"> How Instrumental Variables (IV) help Causal Inference </font>  [back to table of contents](#top)"
   ]
  },
  {
   "cell_type": "markdown",
   "id": "f56cf296",
   "metadata": {},
   "source": [
    "### Analytics Contexts"
   ]
  },
  {
   "cell_type": "markdown",
   "id": "ea5303f3",
   "metadata": {},
   "source": [
    "* When analyzing the effect of `military service` (`X`) on `lifetime earnings` (`Y`), a simple regression analysis might not yield accurate causal inferences due to selection bias. The decision to serve in the military is not random and might be influenced by various factors that also affect earnings. To address this issue, the Instrumental Variables (IV) approach is used."
   ]
  },
  {
   "cell_type": "markdown",
   "id": "7d723316",
   "metadata": {},
   "source": [
    "### How to Use Instrumental Variables (IVs)"
   ]
  },
  {
   "cell_type": "markdown",
   "id": "d08caf3b",
   "metadata": {},
   "source": [
    "> In the IV approach, we use a variable that is correlated with the treatment (military service) but not directly with the outcome (lifetime earnings). In the class econometric study of Joshua Angrist, the random assignment of draft lottery numbers based on birthdates was used as an instrumental variable."
   ]
  },
  {
   "cell_type": "markdown",
   "id": "4a4c93ee",
   "metadata": {},
   "source": [
    "### Import\n",
    "\n",
    "> We will use data set something similar to the data tht was to analyzed for the class econometric solution of IV on causal inference."
   ]
  },
  {
   "cell_type": "code",
   "execution_count": 2,
   "id": "ba29275b-fdc1-45e3-bb18-8b4b89aef21a",
   "metadata": {},
   "outputs": [],
   "source": [
    "df =\\\n",
    "(\n",
    "    pd\n",
    "    .read_csv(\"https://talktoroh.com/s/iv_data.csv\")\n",
    ")"
   ]
  },
  {
   "cell_type": "markdown",
   "id": "8a182ac0-42af-4b9b-9931-ec2c8698b545",
   "metadata": {},
   "source": [
    "### WRANGLE"
   ]
  },
  {
   "cell_type": "code",
   "execution_count": 3,
   "id": "7af73b6f-d340-419c-b805-e02cbaa4e26c",
   "metadata": {},
   "outputs": [
    {
     "data": {
      "text/html": [
       "<div>\n",
       "<style scoped>\n",
       "    .dataframe tbody tr th:only-of-type {\n",
       "        vertical-align: middle;\n",
       "    }\n",
       "\n",
       "    .dataframe tbody tr th {\n",
       "        vertical-align: top;\n",
       "    }\n",
       "\n",
       "    .dataframe thead th {\n",
       "        text-align: right;\n",
       "    }\n",
       "</style>\n",
       "<table border=\"1\" class=\"dataframe\">\n",
       "  <thead>\n",
       "    <tr style=\"text-align: right;\">\n",
       "      <th></th>\n",
       "      <th>Unnamed: 0</th>\n",
       "      <th>draft_number</th>\n",
       "      <th>military_service</th>\n",
       "      <th>lifetime_earnings</th>\n",
       "    </tr>\n",
       "  </thead>\n",
       "  <tbody>\n",
       "    <tr>\n",
       "      <th>0</th>\n",
       "      <td>0</td>\n",
       "      <td>0</td>\n",
       "      <td>0.034176</td>\n",
       "      <td>63700.924846</td>\n",
       "    </tr>\n",
       "    <tr>\n",
       "      <th>1</th>\n",
       "      <td>1</td>\n",
       "      <td>1</td>\n",
       "      <td>1.187617</td>\n",
       "      <td>89367.453646</td>\n",
       "    </tr>\n",
       "    <tr>\n",
       "      <th>2</th>\n",
       "      <td>2</td>\n",
       "      <td>0</td>\n",
       "      <td>0.095042</td>\n",
       "      <td>52220.889167</td>\n",
       "    </tr>\n",
       "    <tr>\n",
       "      <th>3</th>\n",
       "      <td>3</td>\n",
       "      <td>0</td>\n",
       "      <td>-0.057690</td>\n",
       "      <td>41312.013985</td>\n",
       "    </tr>\n",
       "    <tr>\n",
       "      <th>4</th>\n",
       "      <td>4</td>\n",
       "      <td>0</td>\n",
       "      <td>-0.089841</td>\n",
       "      <td>52802.892087</td>\n",
       "    </tr>\n",
       "    <tr>\n",
       "      <th>5</th>\n",
       "      <td>5</td>\n",
       "      <td>1</td>\n",
       "      <td>1.049192</td>\n",
       "      <td>64206.684645</td>\n",
       "    </tr>\n",
       "    <tr>\n",
       "      <th>6</th>\n",
       "      <td>6</td>\n",
       "      <td>0</td>\n",
       "      <td>-0.132023</td>\n",
       "      <td>67493.406061</td>\n",
       "    </tr>\n",
       "    <tr>\n",
       "      <th>7</th>\n",
       "      <td>7</td>\n",
       "      <td>0</td>\n",
       "      <td>0.183146</td>\n",
       "      <td>55028.270843</td>\n",
       "    </tr>\n",
       "    <tr>\n",
       "      <th>8</th>\n",
       "      <td>8</td>\n",
       "      <td>0</td>\n",
       "      <td>0.117944</td>\n",
       "      <td>48705.664728</td>\n",
       "    </tr>\n",
       "    <tr>\n",
       "      <th>9</th>\n",
       "      <td>9</td>\n",
       "      <td>1</td>\n",
       "      <td>0.953082</td>\n",
       "      <td>70908.451754</td>\n",
       "    </tr>\n",
       "  </tbody>\n",
       "</table>\n",
       "</div>"
      ],
      "text/plain": [
       "   Unnamed: 0  draft_number  military_service  lifetime_earnings\n",
       "0           0             0          0.034176       63700.924846\n",
       "1           1             1          1.187617       89367.453646\n",
       "2           2             0          0.095042       52220.889167\n",
       "3           3             0         -0.057690       41312.013985\n",
       "4           4             0         -0.089841       52802.892087\n",
       "5           5             1          1.049192       64206.684645\n",
       "6           6             0         -0.132023       67493.406061\n",
       "7           7             0          0.183146       55028.270843\n",
       "8           8             0          0.117944       48705.664728\n",
       "9           9             1          0.953082       70908.451754"
      ]
     },
     "execution_count": 3,
     "metadata": {},
     "output_type": "execute_result"
    }
   ],
   "source": [
    "df.head(10)"
   ]
  },
  {
   "cell_type": "markdown",
   "id": "2221c25c-3d6a-427d-923e-55e585ec72e2",
   "metadata": {},
   "source": [
    "### MODEL"
   ]
  },
  {
   "cell_type": "markdown",
   "id": "c93d2c12-548e-4ab9-b1ea-5647a21a78df",
   "metadata": {},
   "source": [
    "#### Step-by-Step Unpacking of Instrumental Variable Approach"
   ]
  },
  {
   "cell_type": "markdown",
   "id": "5f4e4526-9eaf-4c2d-9d9c-4da8314f83bd",
   "metadata": {},
   "source": [
    "* `Problem`: Simple OLS Regression\n",
    "\n",
    "> First, let's perform a simple OLS regression to see the effect of military service on earnings."
   ]
  },
  {
   "cell_type": "code",
   "execution_count": 4,
   "id": "c9f01ec9",
   "metadata": {},
   "outputs": [
    {
     "data": {
      "text/html": [
       "<table class=\"simpletable\">\n",
       "<tr>\n",
       "          <td></td>            <th>coef</th>     <th>std err</th>      <th>t</th>      <th>P>|t|</th>  <th>[0.025</th>    <th>0.975]</th>  \n",
       "</tr>\n",
       "<tr>\n",
       "  <th>const</th>            <td> 5.063e+04</td> <td>  442.056</td> <td>  114.522</td> <td> 0.000</td> <td> 4.98e+04</td> <td> 5.15e+04</td>\n",
       "</tr>\n",
       "<tr>\n",
       "  <th>military_service</th> <td> 1.952e+04</td> <td>  610.945</td> <td>   31.954</td> <td> 0.000</td> <td> 1.83e+04</td> <td> 2.07e+04</td>\n",
       "</tr>\n",
       "</table>"
      ],
      "text/latex": [
       "\\begin{center}\n",
       "\\begin{tabular}{lcccccc}\n",
       "\\toprule\n",
       "                           & \\textbf{coef} & \\textbf{std err} & \\textbf{t} & \\textbf{P$> |$t$|$} & \\textbf{[0.025} & \\textbf{0.975]}  \\\\\n",
       "\\midrule\n",
       "\\textbf{const}             &    5.063e+04  &      442.056     &   114.522  &         0.000        &     4.98e+04    &     5.15e+04     \\\\\n",
       "\\textbf{military\\_service} &    1.952e+04  &      610.945     &    31.954  &         0.000        &     1.83e+04    &     2.07e+04     \\\\\n",
       "\\bottomrule\n",
       "\\end{tabular}\n",
       "\\end{center}"
      ],
      "text/plain": [
       "<class 'statsmodels.iolib.table.SimpleTable'>"
      ]
     },
     "execution_count": 4,
     "metadata": {},
     "output_type": "execute_result"
    }
   ],
   "source": [
    "# OLS regression\n",
    "\n",
    "ols_model =\\\n",
    "(\n",
    "    sm\n",
    "    .OLS(df[\"lifetime_earnings\"], \n",
    "         sm.add_constant(df[\"military_service\"])\n",
    "        )\n",
    "    .fit()\n",
    ")\n",
    "\n",
    "ols_model \\\n",
    "    .summary() \\\n",
    "    .tables[1]"
   ]
  },
  {
   "cell_type": "markdown",
   "id": "26399eee-5956-4ae9-803e-4998ec402830",
   "metadata": {},
   "source": [
    "> The results of the simple OLS regression might not be reliable because the decision to serve in the military is not random, leading to potential selection bias."
   ]
  },
  {
   "cell_type": "markdown",
   "id": "1bc2d83b-f670-4b80-8fee-7a67c46beb1c",
   "metadata": {},
   "source": [
    "* `Solution`: Two-Stage Least Squares (2SLS) Using Instrumental Variables\n",
    "    \n",
    "> Now, let's use the draft number as an instrumental variable to perform 2SLS."
   ]
  },
  {
   "cell_type": "markdown",
   "id": "b763eec0-754b-483e-b6ad-1f04d0c43f24",
   "metadata": {},
   "source": [
    "> In the first stage, we regress the endogenous variable (military service) on the instrument (draft number). This provides us with the predicted values of military service, which are purged of endogeneity because they are based on the exogenous instrument."
   ]
  },
  {
   "cell_type": "code",
   "execution_count": 5,
   "id": "bdf7757c-608a-48fd-b282-2f8cfeefe6ef",
   "metadata": {},
   "outputs": [],
   "source": [
    "# First stage: Explain military service using the instrumental variable\n",
    "\n",
    "first_stage =\\\n",
    "(\n",
    "    sm\n",
    "    .OLS(df[\"military_service\"], \n",
    "         sm.add_constant(df[\"draft_number\"])\n",
    "        )\n",
    "    .fit()\n",
    ")\n",
    "\n",
    "df[\"predicted_service\"] =\\\n",
    "(\n",
    "    first_stage\n",
    "    .predict(sm.add_constant(df['draft_number'])\n",
    "            )\n",
    ")"
   ]
  },
  {
   "cell_type": "markdown",
   "id": "d6566a71-2e52-45ab-9bf3-e293299ec09e",
   "metadata": {},
   "source": [
    "> In the second stage, we use these predicted values from the first stage to regress the dependent variable (lifetime earnings). This ensures that the variation in military service used to explain lifetime earnings is exogenous, thus providing an unbiased and consistent estimate of the causal effect."
   ]
  },
  {
   "cell_type": "code",
   "execution_count": 6,
   "id": "034f4dba-0b90-4e3a-87a8-e407acc22a6a",
   "metadata": {},
   "outputs": [],
   "source": [
    "# Second stage: Explain earnings using the predicted military service\n",
    "\n",
    "second_stage =\\\n",
    "(\n",
    "    sm\n",
    "    .OLS(df[\"lifetime_earnings\"], \n",
    "         sm.add_constant(df[\"predicted_service\"])\n",
    "        )\n",
    "    .fit()\n",
    ")"
   ]
  },
  {
   "cell_type": "markdown",
   "id": "01e1cbb3",
   "metadata": {},
   "source": [
    "> The results obtained from the 2SLS method using the instrumental variable are more reliable than those from the simple OLS regression.\n",
    "\n",
    "> The instrumental variable ensures that the variation in military service is exogenous, allowing for a causal inference."
   ]
  },
  {
   "cell_type": "markdown",
   "id": "8de64366-371a-45d8-8966-9bdc6ca5dd9c",
   "metadata": {},
   "source": [
    "#### Why the Draft Number Helps in Causal Inference"
   ]
  },
  {
   "cell_type": "markdown",
   "id": "18f97c47-5335-4af2-9924-0aee285796f2",
   "metadata": {},
   "source": [
    "#### Instrumental Variable Conditions\n",
    "\n",
    "> An instrumental variable (IV) must satisfy two main conditions to be valid:\n",
    "\n",
    "* `Relevance`: The IV must be correlated with the endogenous explanatory variable (military service in this case). The draft number must influence the likelihood of military service.\n",
    "\n",
    "* `Exogeneity`: The IV must not be correlated with the error term in the outcome equation. \n",
    "\n",
    "    > In other words, the draft number should not directly affect lifetime earnings except through its effect on military service."
   ]
  },
  {
   "cell_type": "markdown",
   "id": "78d4e2da-51f6-40d9-8c94-824c3f8cb093",
   "metadata": {},
   "source": [
    "#### When these conditions are met, the IV helps to overcome the endogeneity problem and allows for causal inference.\n",
    "\n",
    "    Relevance\n",
    "\n",
    "    > Draft numbers were randomly assigned to males born on different dates. Individuals with low draft numbers were more likely to be drafted into the military, while those with high draft numbers were less likely. Therefore, the draft number is strongly correlated with the likelihood of military service.\n",
    "\n",
    "    > For example, individuals with draft numbers between 1 and 100 were mostly drafted, while those with numbers between 300 and 365 were mostly not drafted. This means the draft number is a good predictor of military service.\n",
    "\n",
    "    Exogeneity\n",
    "\n",
    "    > Because draft numbers were randomly assigned, they are not related to other personal characteristics (e.g., education level, family background, prior income level). This ensures that the draft number does not directly affect lifetime earnings. The draft number affects earnings only through its impact on military service.\n",
    "\n",
    "    > Therefore, the draft number can be considered an exogenous variable, allowing us to estimate the causal effect of military service on lifetime earnings."
   ]
  },
  {
   "cell_type": "markdown",
   "id": "e58c28c9-ee58-4518-97ff-dac9377fff72",
   "metadata": {},
   "source": [
    "### Unpacking Causal Inference Process "
   ]
  },
  {
   "cell_type": "markdown",
   "id": "be0cf984",
   "metadata": {},
   "source": [
    "### Stage 1: Predicting Military Service\n",
    "\n",
    "> We use the instrumental variable (draft number) to predict military service. This extracts the exogenous variation in military service."
   ]
  },
  {
   "cell_type": "markdown",
   "id": "3789dc3c-6fb4-4ac8-8503-b1630ae0078d",
   "metadata": {},
   "source": [
    "```python\n",
    "first_stage =\\\n",
    "(\n",
    "    sm\n",
    "    .OLS(df[\"military_service\"], \n",
    "         sm.add_constant(df[\"draft_number\"])\n",
    "        )\n",
    "    .fit()\n",
    ")\n",
    "\n",
    "df[\"predicted_service\"] =\\\n",
    "(\n",
    "    first_stage\n",
    "    .predict(sm.add_constant(df['draft_number'])\n",
    "            )\n",
    ")\n"
   ]
  },
  {
   "cell_type": "code",
   "execution_count": 7,
   "id": "c534419c",
   "metadata": {},
   "outputs": [
    {
     "data": {
      "text/html": [
       "<div>\n",
       "<style scoped>\n",
       "    .dataframe tbody tr th:only-of-type {\n",
       "        vertical-align: middle;\n",
       "    }\n",
       "\n",
       "    .dataframe tbody tr th {\n",
       "        vertical-align: top;\n",
       "    }\n",
       "\n",
       "    .dataframe thead th {\n",
       "        text-align: right;\n",
       "    }\n",
       "</style>\n",
       "<table border=\"1\" class=\"dataframe\">\n",
       "  <thead>\n",
       "    <tr style=\"text-align: right;\">\n",
       "      <th></th>\n",
       "      <th>Unnamed: 0</th>\n",
       "      <th>draft_number</th>\n",
       "      <th>military_service</th>\n",
       "      <th>lifetime_earnings</th>\n",
       "      <th>predicted_service</th>\n",
       "    </tr>\n",
       "  </thead>\n",
       "  <tbody>\n",
       "    <tr>\n",
       "      <th>0</th>\n",
       "      <td>0</td>\n",
       "      <td>0</td>\n",
       "      <td>0.034176</td>\n",
       "      <td>63700.924846</td>\n",
       "      <td>0.004618</td>\n",
       "    </tr>\n",
       "    <tr>\n",
       "      <th>1</th>\n",
       "      <td>1</td>\n",
       "      <td>1</td>\n",
       "      <td>1.187617</td>\n",
       "      <td>89367.453646</td>\n",
       "      <td>1.003439</td>\n",
       "    </tr>\n",
       "    <tr>\n",
       "      <th>2</th>\n",
       "      <td>2</td>\n",
       "      <td>0</td>\n",
       "      <td>0.095042</td>\n",
       "      <td>52220.889167</td>\n",
       "      <td>0.004618</td>\n",
       "    </tr>\n",
       "    <tr>\n",
       "      <th>3</th>\n",
       "      <td>3</td>\n",
       "      <td>0</td>\n",
       "      <td>-0.057690</td>\n",
       "      <td>41312.013985</td>\n",
       "      <td>0.004618</td>\n",
       "    </tr>\n",
       "    <tr>\n",
       "      <th>4</th>\n",
       "      <td>4</td>\n",
       "      <td>0</td>\n",
       "      <td>-0.089841</td>\n",
       "      <td>52802.892087</td>\n",
       "      <td>0.004618</td>\n",
       "    </tr>\n",
       "    <tr>\n",
       "      <th>...</th>\n",
       "      <td>...</td>\n",
       "      <td>...</td>\n",
       "      <td>...</td>\n",
       "      <td>...</td>\n",
       "      <td>...</td>\n",
       "    </tr>\n",
       "    <tr>\n",
       "      <th>995</th>\n",
       "      <td>995</td>\n",
       "      <td>0</td>\n",
       "      <td>-0.048791</td>\n",
       "      <td>39452.668035</td>\n",
       "      <td>0.004618</td>\n",
       "    </tr>\n",
       "    <tr>\n",
       "      <th>996</th>\n",
       "      <td>996</td>\n",
       "      <td>0</td>\n",
       "      <td>0.215731</td>\n",
       "      <td>57752.495242</td>\n",
       "      <td>0.004618</td>\n",
       "    </tr>\n",
       "    <tr>\n",
       "      <th>997</th>\n",
       "      <td>997</td>\n",
       "      <td>1</td>\n",
       "      <td>0.939429</td>\n",
       "      <td>68302.046638</td>\n",
       "      <td>1.003439</td>\n",
       "    </tr>\n",
       "    <tr>\n",
       "      <th>998</th>\n",
       "      <td>998</td>\n",
       "      <td>1</td>\n",
       "      <td>1.074210</td>\n",
       "      <td>71812.160698</td>\n",
       "      <td>1.003439</td>\n",
       "    </tr>\n",
       "    <tr>\n",
       "      <th>999</th>\n",
       "      <td>999</td>\n",
       "      <td>0</td>\n",
       "      <td>0.029929</td>\n",
       "      <td>43013.631814</td>\n",
       "      <td>0.004618</td>\n",
       "    </tr>\n",
       "  </tbody>\n",
       "</table>\n",
       "<p>1000 rows × 5 columns</p>\n",
       "</div>"
      ],
      "text/plain": [
       "     Unnamed: 0  draft_number  military_service  lifetime_earnings  \\\n",
       "0             0             0          0.034176       63700.924846   \n",
       "1             1             1          1.187617       89367.453646   \n",
       "2             2             0          0.095042       52220.889167   \n",
       "3             3             0         -0.057690       41312.013985   \n",
       "4             4             0         -0.089841       52802.892087   \n",
       "..          ...           ...               ...                ...   \n",
       "995         995             0         -0.048791       39452.668035   \n",
       "996         996             0          0.215731       57752.495242   \n",
       "997         997             1          0.939429       68302.046638   \n",
       "998         998             1          1.074210       71812.160698   \n",
       "999         999             0          0.029929       43013.631814   \n",
       "\n",
       "     predicted_service  \n",
       "0             0.004618  \n",
       "1             1.003439  \n",
       "2             0.004618  \n",
       "3             0.004618  \n",
       "4             0.004618  \n",
       "..                 ...  \n",
       "995           0.004618  \n",
       "996           0.004618  \n",
       "997           1.003439  \n",
       "998           1.003439  \n",
       "999           0.004618  \n",
       "\n",
       "[1000 rows x 5 columns]"
      ]
     },
     "execution_count": 7,
     "metadata": {},
     "output_type": "execute_result"
    }
   ],
   "source": [
    "df"
   ]
  },
  {
   "cell_type": "markdown",
   "id": "e9b173f1",
   "metadata": {},
   "source": [
    "### Stage 2: Predicting Earnings Using Predicted Military Service\n",
    "\n",
    "In the second stage, we use the predicted values of education from the first stage to estimate the effect on wages."
   ]
  },
  {
   "cell_type": "markdown",
   "id": "c9f4b10b-0d06-475c-b390-cffe3f4bf081",
   "metadata": {},
   "source": [
    "```python\n",
    "\n",
    "second_stage =\\\n",
    "(\n",
    "    sm\n",
    "    .OLS(df[\"lifetime_earnings\"], \n",
    "         sm.add_constant(df[\"predicted_service\"])\n",
    "        )\n",
    "    .fit()\n",
    ")"
   ]
  },
  {
   "cell_type": "code",
   "execution_count": 8,
   "id": "843974ef-47bb-4250-b3c9-fbdfdb1a4348",
   "metadata": {},
   "outputs": [
    {
     "data": {
      "text/html": [
       "<table class=\"simpletable\">\n",
       "<tr>\n",
       "          <td></td>             <th>coef</th>     <th>std err</th>      <th>t</th>      <th>P>|t|</th>  <th>[0.025</th>    <th>0.975]</th>  \n",
       "</tr>\n",
       "<tr>\n",
       "  <th>const</th>             <td> 5.056e+04</td> <td>  452.395</td> <td>  111.759</td> <td> 0.000</td> <td> 4.97e+04</td> <td> 5.14e+04</td>\n",
       "</tr>\n",
       "<tr>\n",
       "  <th>predicted_service</th> <td> 1.965e+04</td> <td>  631.302</td> <td>   31.127</td> <td> 0.000</td> <td> 1.84e+04</td> <td> 2.09e+04</td>\n",
       "</tr>\n",
       "</table>"
      ],
      "text/latex": [
       "\\begin{center}\n",
       "\\begin{tabular}{lcccccc}\n",
       "\\toprule\n",
       "                            & \\textbf{coef} & \\textbf{std err} & \\textbf{t} & \\textbf{P$> |$t$|$} & \\textbf{[0.025} & \\textbf{0.975]}  \\\\\n",
       "\\midrule\n",
       "\\textbf{const}              &    5.056e+04  &      452.395     &   111.759  &         0.000        &     4.97e+04    &     5.14e+04     \\\\\n",
       "\\textbf{predicted\\_service} &    1.965e+04  &      631.302     &    31.127  &         0.000        &     1.84e+04    &     2.09e+04     \\\\\n",
       "\\bottomrule\n",
       "\\end{tabular}\n",
       "\\end{center}"
      ],
      "text/plain": [
       "<class 'statsmodels.iolib.table.SimpleTable'>"
      ]
     },
     "execution_count": 8,
     "metadata": {},
     "output_type": "execute_result"
    }
   ],
   "source": [
    "second_stage \\\n",
    "    .summary() \\\n",
    "    .tables[1]"
   ]
  },
  {
   "cell_type": "markdown",
   "id": "de2011c5-f03b-4c02-b5f7-8f5f38d874e9",
   "metadata": {},
   "source": [
    "### Now, with this understanding, let's revisit the lecture note from our LESSON 5."
   ]
  },
  {
   "cell_type": "markdown",
   "id": "9dcfb0bb",
   "metadata": {},
   "source": [
    "#### How to INTERPRET?\n",
    "\n",
    "> The coefficient obtained from the second stage of 2SLS represents the causal effect of military service on lifetime earnings. This estimate is more reliable than that from a simple OLS regression because it addresses the endogeneity issue."
   ]
  },
  {
   "cell_type": "markdown",
   "id": "29d174e3",
   "metadata": {},
   "source": [
    "    Key Points and Considerations\n",
    "\n",
    "* `Weak Instruments`: One of the most important things to worry about when using IV is that your instrument is sufficiently correlated with your endogenous variable. This is often assessed using the F-statistic from the first-stage regression, which should be `at least 10` (`preferably 12`) to indicate a strong instrument.\n",
    "\n",
    "* `Local Average Treatment Effect` (`LATE`): IV estimates the local average treatment effect, which is the average effect for individuals whose treatment status is influenced by the instrument. This may differ from the average treatment effect for the entire population.\n",
    "\n",
    "* `Standard Errors`: When using a `two-stage` least squares (`2SLS`) approach, it's important to adjust for the correct standard errors. Using built-in functions like `IV2SLS` in statsmodels ensures that the standard errors are computed correctly."
   ]
  },
  {
   "cell_type": "markdown",
   "id": "c660e936",
   "metadata": {},
   "source": [
    "> Instrumental variables (IV) are a powerful tool for addressing endogeneity in causal inference. By carefully choosing and validating instruments, researchers can make credible causal inferences even when simple regression methods would fail.\n",
    "\n",
    "> However, the validity of IV estimates relies heavily on the strength and appropriateness of the instruments used, making it crucial to assess and validate instruments rigorously."
   ]
  },
  {
   "cell_type": "markdown",
   "id": "fbd1fc43-b775-49c6-910f-50e1808c2bc1",
   "metadata": {},
   "source": [
    "## <mark>The Big Picture :)</mark>"
   ]
  },
  {
   "cell_type": "code",
   "execution_count": 9,
   "id": "3949b671-109d-47ea-8671-ef33a9fe37e9",
   "metadata": {},
   "outputs": [],
   "source": [
    "def would_you_recommend_causal_inference_method():\n",
    "    print(\"Welcome to the Causal Inference Recommender architected by Prof. Roh :)\")\n",
    "    print(\"Please answer the following questions with either 'yes' or 'no'.\\n\")\n",
    "\n",
    "    # Question 1. RCT Feasibility\n",
    "    can_randomized = (\n",
    "        input(\"Question 1: Can we RANDOMIZE the treatment assignment? (yes / no): \")\n",
    "        .strip()\n",
    "        .lower()\n",
    "    )\n",
    "    if can_randomized == \"yes\":\n",
    "        print(\"\\nRecommended Method: **RCTs (Randomized Controlled Trials)**\")\n",
    "        return\n",
    "\n",
    "    # Question 2. Threshold for RDD\n",
    "    has_threshold = (\n",
    "        input(\n",
    "            \"Question 2: Is there a threshold that assigns treatment (e.g., cut-off)? (yes / no): \"\n",
    "        )\n",
    "        .strip()\n",
    "        .lower()\n",
    "    )\n",
    "    if has_threshold == \"yes\":\n",
    "        print(\"\\nRecommended Method: **RDD (Regression Discontinuity Design)**\")\n",
    "        return\n",
    "\n",
    "    # Question 3. Check for Panel (vs. Cross-sectional) Data\n",
    "    has_panel_data = (\n",
    "        input(\n",
    "            \"Question 3: Do we have panel (longitudinal) or repeated cross-sectional data over time? (yes / no): \"\n",
    "        )\n",
    "        .strip()\n",
    "        .lower()\n",
    "    )\n",
    "    if has_panel_data == \"yes\":\n",
    "        # ---- Panel path ----\n",
    "        single_treated = (\n",
    "            input(\n",
    "                \"Question 4: Do you have ONLY ONE treated unit (e.g., one city, one district)? (yes / no): \"\n",
    "            )\n",
    "            .strip()\n",
    "            .lower()\n",
    "        )\n",
    "\n",
    "        if single_treated == \"yes\":\n",
    "            parallel_trends = (\n",
    "                input(\n",
    "                    \"Question 5: Are we confident the 'parallel trends' assumption would hold if you used a DiD? (yes / no): \"\n",
    "                )\n",
    "                .strip()\n",
    "                .lower()\n",
    "            )\n",
    "            if parallel_trends == \"yes\":\n",
    "                print(\n",
    "                    \"\\nParallel trends might hold, but you still only have ONE TREATED UNIT...\"\n",
    "                )\n",
    "                print(\"\\nRecommended Method: **Difference-in-Differences (DiD)**\")\n",
    "            else:\n",
    "                print(\n",
    "                    \"\\nSince parallel trends are questionable and there's only ONE TREATED UNIT...\"\n",
    "                )\n",
    "                print(\"\\nRecommended Method: **Synthetic Control**\")\n",
    "            return\n",
    "        else:\n",
    "            parallel_trends = (\n",
    "                input(\n",
    "                    \"Question 5: Can we assume parallel trends with multiple treated units? (yes / no): \"\n",
    "                )\n",
    "                .strip()\n",
    "                .lower()\n",
    "            )\n",
    "            if parallel_trends == \"yes\":\n",
    "                print(\"\\nRecommended Method: **Difference-in-Differences (DiD)**\")\n",
    "                return\n",
    "            else:\n",
    "                print(\n",
    "                    \"\\nParallel trends are questionable for multiple treated units.\\n\"\n",
    "                    \"Consider more advanced methods:\"\n",
    "                )\n",
    "                print(\" - Matching + DiD to align pre-trends on a matched sample\")\n",
    "                print(\" - Synthetic Control for subsets if feasible\")\n",
    "                print(\" - More advanced methods ... call Prof. Roh :)\")\n",
    "                return\n",
    "\n",
    "    # ------------------------------------------------------------------\n",
    "    # If we reach here, we have cross-sectional (non-panel) data\n",
    "    # Ask about a potential Instrumental Variable before falling back\n",
    "    # ------------------------------------------------------------------\n",
    "    has_instrument = (\n",
    "        input(\n",
    "            \"\\nQuestion 4: Do you have a **valid INSTRUMENTAL VARIABLE** that is:\\n\"\n",
    "            \"  (a) strongly correlated with treatment, and\\n\"\n",
    "            \"  (b) affects the outcome *only* through treatment (exclusion restriction)? (yes / no): \"\n",
    "        )\n",
    "        .strip()\n",
    "        .lower()\n",
    "    )\n",
    "    if has_instrument == \"yes\":\n",
    "        strength_known = (\n",
    "            input(\n",
    "                \"Question 5: Is the instrument *strong* (i.e., passes a first-stage F-stat > 10)? (yes / no): \"\n",
    "            )\n",
    "            .strip()\n",
    "            .lower()\n",
    "        )\n",
    "        if strength_known == \"yes\":\n",
    "            print(\n",
    "                \"\\nRecommended Method: **Instrumental Variables / Two-Stage Least Squares (2SLS)**\"\n",
    "            )\n",
    "            return\n",
    "        else:\n",
    "            print(\n",
    "                \"\\nWarning: The instrument may be weak. IV methods can still be used, but results may be biased or imprecise.\"\n",
    "            )\n",
    "            print(\"Recommended Method: **IV / 2SLS with weak-instrument diagnostics**\")\n",
    "            return\n",
    "\n",
    "    # Final fallback: Matching\n",
    "    print(\n",
    "        \"\\nRecommended Method: **Matching** (Propensity Score Matching or Inverse Probability Weighting)\"\n",
    "    )"
   ]
  },
  {
   "cell_type": "markdown",
   "id": "dbb096ad",
   "metadata": {},
   "source": [
    "## <a id = \"p2\">2.</a> <font color = \"green\"> Further Learning on Instrumental Variables </font>  [back to table of contents](#top)"
   ]
  },
  {
   "cell_type": "markdown",
   "id": "c2ecf0dd",
   "metadata": {},
   "source": [
    "### Analytics Contexts"
   ]
  },
  {
   "cell_type": "markdown",
   "id": "dcd5c8b8",
   "metadata": {},
   "source": [
    "* Instrumental variables (IV) are a powerful statistical tool used to `address the issue of omitted variable bias`, particularly in cases where the variables included in a regression model are correlated with unobserved variables. Omitted variable bias occurs when the model omits a variable that influences both the independent and dependent variables, leading to biased and inconsistent estimates.\n",
    "\n",
    "* Instrumental variables help to circumvent this problem by providing a way to isolate the variation in the independent variable that is uncorrelated with the omitted variables. The key characteristics of an effective instrumental variable are:\n",
    "\n",
    "    - `Relevance`: The instrument must be correlated with the independent variable of interest (i.e., it must effectively predict the independent variable).\n",
    "\n",
    "    - `Exogeneity`: The instrument must not be correlated with the error term in the regression model, which means it should not be affected by the omitted variables that cause bias in the estimation of the dependent variable.\n",
    "\n",
    "> By satisfying these conditions, an instrumental variable can be used to provide a consistent estimator of the causal effect of the independent variable on the dependent variable, even in the presence of omitted variable bias. This approach is particularly valuable in econometrics and other social sciences where controlled experiments may not be feasible."
   ]
  },
  {
   "cell_type": "markdown",
   "id": "a80b0377",
   "metadata": {},
   "source": [
    "### Simulation with synthetic data generation"
   ]
  },
  {
   "cell_type": "markdown",
   "id": "e9b5f758",
   "metadata": {},
   "source": [
    "Let's enhance the explanation to incorporate the details about the instrumental variable approach and David Card's example from 1993. We'll also use the provided Python script to illustrate the two-stage least squares (2SLS) method in action."
   ]
  },
  {
   "cell_type": "markdown",
   "id": "25b5d438",
   "metadata": {},
   "source": [
    "#### Again, why Use Instrumental Variables (IV)?\n",
    "\n",
    "In causal inference, we are often interested in estimating the causal effect of one variable (the treatment or explanatory variable) on another variable (the outcome or response variable). \n",
    "\n",
    "However, simple regression methods like Ordinary Least Squares (OLS) can give biased estimates if the treatment variable is endogenous. \n",
    "\n",
    "`Endogeneity` occurs when the treatment variable is correlated with the error term in the regression model, often due to omitted variable bias, measurement error, or reverse causality."
   ]
  },
  {
   "cell_type": "markdown",
   "id": "38d73cb8",
   "metadata": {},
   "source": [
    "> `Instrumental variables` (IV) are used to address this endogeneity problem.\n",
    "\n",
    "> An IV is a variable that:\n",
    "\n",
    "* Is correlated with the endogenous treatment variable.\n",
    "* Affects the outcome variable only through its effect on the treatment variable and not through any other channel (exclusion restriction)."
   ]
  },
  {
   "cell_type": "markdown",
   "id": "e3f77b29",
   "metadata": {},
   "source": [
    "> By using an IV, we can isolate the variation in the treatment variable that is exogenous, allowing us to obtain unbiased estimates of the causal effect."
   ]
  },
  {
   "cell_type": "markdown",
   "id": "8a8140ac",
   "metadata": {},
   "source": [
    "    Causal Analytics Question in Hand: Does education affects wages?"
   ]
  },
  {
   "cell_type": "markdown",
   "id": "fe8b4aad",
   "metadata": {},
   "source": [
    "### Synthetic Data Generation\n",
    "\n",
    "We start by generating synthetic data to simulate a scenario where we want to estimate the causal effect of education on wages. In this example, distance_college serves as our instrumental variable."
   ]
  },
  {
   "cell_type": "code",
   "execution_count": 10,
   "id": "1bb4f193",
   "metadata": {},
   "outputs": [],
   "source": [
    "# Generate synthetic data\n",
    "\n",
    "np.random.seed(2005)\n",
    "\n",
    "# Parameters\n",
    "\n",
    "n = 1000\n",
    "\n",
    "beta0 = 2.0\n",
    "beta1 = 0.5\n",
    "\n",
    "gamma = 0.3\n",
    "\n",
    "# Variables\n",
    "\n",
    "## Years of education\n",
    "\n",
    "education =\\\n",
    "(\n",
    "    np\n",
    "    .random\n",
    "    .normal(12, 2, n)\n",
    "    )  \n",
    "\n",
    "## Distance to nearest college    \n",
    "    \n",
    "distance_college =\\\n",
    "(\n",
    "    np\n",
    "    .random\n",
    "    .normal(10, 5, n)\n",
    ")\n",
    "\n",
    "## Intelligence\n",
    "\n",
    "intelligence =\\\n",
    "(\n",
    "    np\n",
    "    .random\n",
    "    .normal(100, 15, n)\n",
    ")  \n",
    "\n",
    "## Error\n",
    "\n",
    "error =\\\n",
    "(\n",
    "    np\n",
    "    .random\n",
    "    .normal(0, 1, n)\n",
    ")\n",
    "\n",
    "# Wages (Response variable: SGD in annum, after the tax)\n",
    "\n",
    "wages = beta0 + beta1 * education + gamma * intelligence + error"
   ]
  },
  {
   "cell_type": "code",
   "execution_count": 11,
   "id": "b005f841-149f-4b85-98af-f87d51253f89",
   "metadata": {},
   "outputs": [
    {
     "name": "stdout",
     "output_type": "stream",
     "text": [
      "Variable                                      Type                        Data/Info\n",
      "-----------------------------------------------------------------------------------\n",
      "beta0                                         float                       2.0\n",
      "beta1                                         float                       0.5\n",
      "countdown                                     function                    <function countdown at 0x103e34040>\n",
      "datetime                                      module                      <module 'datetime' from '<...>/python3.13/datetime.py'>\n",
      "df                                            DataFrame                        Unnamed: 0  draft_nu<...>\\n[1000 rows x 5 columns]\n",
      "distance_college                              ndarray                     1000: 1000 elems, type `float64`, 8000 bytes\n",
      "education                                     ndarray                     1000: 1000 elems, type `float64`, 8000 bytes\n",
      "error                                         ndarray                     1000: 1000 elems, type `float64`, 8000 bytes\n",
      "first_stage                                   RegressionResultsWrapper    <statsmodels.regression.l<...>er object at 0x10f353390>\n",
      "gamma                                         float                       0.3\n",
      "intelligence                                  ndarray                     1000: 1000 elems, type `float64`, 8000 bytes\n",
      "mpl                                           module                      <module 'matplotlib' from<...>/matplotlib/__init__.py'>\n",
      "n                                             int                         1000\n",
      "np                                            module                      <module 'numpy' from '/op<...>kages/numpy/__init__.py'>\n",
      "ols_model                                     RegressionResultsWrapper    <statsmodels.regression.l<...>er object at 0x10f511a90>\n",
      "pd                                            module                      <module 'pandas' from '/o<...>ages/pandas/__init__.py'>\n",
      "plt                                           module                      <module 'matplotlib.pyplo<...>es/matplotlib/pyplot.py'>\n",
      "re                                            module                      <module 're' from '/opt/h<...>thon3.13/re/__init__.py'>\n",
      "second_stage                                  RegressionResultsWrapper    <statsmodels.regression.l<...>er object at 0x10f353890>\n",
      "sm                                            module                      <module 'statsmodels.api'<...>ages/statsmodels/api.py'>\n",
      "smf                                           module                      <module 'statsmodels.form<...>tsmodels/formula/api.py'>\n",
      "sns                                           module                      <module 'seaborn' from '/<...>ges/seaborn/__init__.py'>\n",
      "time                                          module                      <module 'time' (built-in)>\n",
      "wages                                         ndarray                     1000: 1000 elems, type `float64`, 8000 bytes\n",
      "warnings                                      module                      <module 'warnings' from '<...>/python3.13/warnings.py'>\n",
      "would_you_recommend_causal_inference_method   function                    <function would_you_recom<...>ce_method at 0x10f5171a0>\n"
     ]
    }
   ],
   "source": [
    "%whos"
   ]
  },
  {
   "cell_type": "code",
   "execution_count": 12,
   "id": "a643efce",
   "metadata": {},
   "outputs": [],
   "source": [
    "# Converting the above NumPy arrays into a DataFrame\n",
    "\n",
    "data =\\\n",
    "(\n",
    "    pd\n",
    "    .DataFrame(\n",
    "        {\"wages\": wages,\n",
    "         \"education\": education,\n",
    "         \"distance_college\": distance_college,\n",
    "         \"intelligence\": intelligence,\n",
    "         \"error\": error\n",
    "         }\n",
    "               )\n",
    ")\n",
    "\n",
    "# Add a constant term for the intercept\n",
    "\n",
    "data[\"constant\"] = 1"
   ]
  },
  {
   "cell_type": "code",
   "execution_count": 13,
   "id": "a8059bd1",
   "metadata": {},
   "outputs": [
    {
     "data": {
      "text/html": [
       "<div>\n",
       "<style scoped>\n",
       "    .dataframe tbody tr th:only-of-type {\n",
       "        vertical-align: middle;\n",
       "    }\n",
       "\n",
       "    .dataframe tbody tr th {\n",
       "        vertical-align: top;\n",
       "    }\n",
       "\n",
       "    .dataframe thead th {\n",
       "        text-align: right;\n",
       "    }\n",
       "</style>\n",
       "<table border=\"1\" class=\"dataframe\">\n",
       "  <thead>\n",
       "    <tr style=\"text-align: right;\">\n",
       "      <th></th>\n",
       "      <th>wages</th>\n",
       "      <th>education</th>\n",
       "      <th>distance_college</th>\n",
       "      <th>intelligence</th>\n",
       "      <th>error</th>\n",
       "      <th>constant</th>\n",
       "    </tr>\n",
       "  </thead>\n",
       "  <tbody>\n",
       "    <tr>\n",
       "      <th>0</th>\n",
       "      <td>45.038851</td>\n",
       "      <td>12.964491</td>\n",
       "      <td>14.032981</td>\n",
       "      <td>119.711228</td>\n",
       "      <td>0.643237</td>\n",
       "      <td>1</td>\n",
       "    </tr>\n",
       "    <tr>\n",
       "      <th>1</th>\n",
       "      <td>33.739149</td>\n",
       "      <td>10.691187</td>\n",
       "      <td>-3.968761</td>\n",
       "      <td>87.319341</td>\n",
       "      <td>0.197754</td>\n",
       "      <td>1</td>\n",
       "    </tr>\n",
       "    <tr>\n",
       "      <th>2</th>\n",
       "      <td>41.764758</td>\n",
       "      <td>11.026485</td>\n",
       "      <td>18.323739</td>\n",
       "      <td>115.021772</td>\n",
       "      <td>-0.255016</td>\n",
       "      <td>1</td>\n",
       "    </tr>\n",
       "    <tr>\n",
       "      <th>3</th>\n",
       "      <td>41.710655</td>\n",
       "      <td>13.845358</td>\n",
       "      <td>10.603637</td>\n",
       "      <td>113.509991</td>\n",
       "      <td>-1.265022</td>\n",
       "      <td>1</td>\n",
       "    </tr>\n",
       "    <tr>\n",
       "      <th>4</th>\n",
       "      <td>33.923300</td>\n",
       "      <td>13.916248</td>\n",
       "      <td>8.169170</td>\n",
       "      <td>84.694192</td>\n",
       "      <td>-0.443082</td>\n",
       "      <td>1</td>\n",
       "    </tr>\n",
       "    <tr>\n",
       "      <th>5</th>\n",
       "      <td>42.561780</td>\n",
       "      <td>13.873318</td>\n",
       "      <td>8.200192</td>\n",
       "      <td>118.598085</td>\n",
       "      <td>-1.954305</td>\n",
       "      <td>1</td>\n",
       "    </tr>\n",
       "    <tr>\n",
       "      <th>6</th>\n",
       "      <td>31.826381</td>\n",
       "      <td>10.799447</td>\n",
       "      <td>6.365431</td>\n",
       "      <td>85.295372</td>\n",
       "      <td>-1.161954</td>\n",
       "      <td>1</td>\n",
       "    </tr>\n",
       "  </tbody>\n",
       "</table>\n",
       "</div>"
      ],
      "text/plain": [
       "       wages  education  distance_college  intelligence     error  constant\n",
       "0  45.038851  12.964491         14.032981    119.711228  0.643237         1\n",
       "1  33.739149  10.691187         -3.968761     87.319341  0.197754         1\n",
       "2  41.764758  11.026485         18.323739    115.021772 -0.255016         1\n",
       "3  41.710655  13.845358         10.603637    113.509991 -1.265022         1\n",
       "4  33.923300  13.916248          8.169170     84.694192 -0.443082         1\n",
       "5  42.561780  13.873318          8.200192    118.598085 -1.954305         1\n",
       "6  31.826381  10.799447          6.365431     85.295372 -1.161954         1"
      ]
     },
     "execution_count": 13,
     "metadata": {},
     "output_type": "execute_result"
    }
   ],
   "source": [
    "data.head(7)"
   ]
  },
  {
   "cell_type": "code",
   "execution_count": 14,
   "id": "a5e364a1-af0a-47d1-a035-c0cc0c233980",
   "metadata": {},
   "outputs": [
    {
     "name": "stdout",
     "output_type": "stream",
     "text": [
      "<class 'pandas.core.frame.DataFrame'>\n",
      "RangeIndex: 1000 entries, 0 to 999\n",
      "Data columns (total 6 columns):\n",
      " #   Column            Non-Null Count  Dtype  \n",
      "---  ------            --------------  -----  \n",
      " 0   wages             1000 non-null   float64\n",
      " 1   education         1000 non-null   float64\n",
      " 2   distance_college  1000 non-null   float64\n",
      " 3   intelligence      1000 non-null   float64\n",
      " 4   error             1000 non-null   float64\n",
      " 5   constant          1000 non-null   int64  \n",
      "dtypes: float64(5), int64(1)\n",
      "memory usage: 47.0 KB\n"
     ]
    }
   ],
   "source": [
    "data.info()"
   ]
  },
  {
   "cell_type": "markdown",
   "id": "034f8e95",
   "metadata": {},
   "source": [
    "#### In our scenario:\n",
    "\n",
    "* `education` is our `endogenous` variable.\n",
    "* `distance_college` is our `instrumental` variable.\n",
    "* `intelligence` is an `omitted variable` that affects both education and wages.\n",
    "* `wages` is our `dependent` variable."
   ]
  },
  {
   "cell_type": "markdown",
   "id": "f34c8ca1",
   "metadata": {},
   "source": [
    "### Stage 1: Estimating the Effect of the Instrument on the Endogenous Variable\n",
    "\n",
    "The first stage of the IV approach involves regressing the endogenous variable (education) on the instrumental variable (distance_college) and any exogenous variables (in this case, just a constant term)."
   ]
  },
  {
   "cell_type": "markdown",
   "id": "ada8e148",
   "metadata": {},
   "source": [
    "> First stage regression (education on distance_college and const)"
   ]
  },
  {
   "cell_type": "code",
   "execution_count": 15,
   "id": "097b0951",
   "metadata": {},
   "outputs": [],
   "source": [
    "first_stage =\\\n",
    "(\n",
    "    sm\n",
    "    .OLS(data[\"education\"], data[[\"constant\", \"distance_college\"]]\n",
    "        )\n",
    "    .fit() # run calculation\n",
    ")\n",
    "\n",
    "data[\"predicted_education\"] =\\\n",
    "(\n",
    "    first_stage\n",
    "    .predict(data[[\"constant\", \"distance_college\"]] # run implementation\n",
    "            )\n",
    ")"
   ]
  },
  {
   "cell_type": "code",
   "execution_count": 16,
   "id": "969dba50",
   "metadata": {},
   "outputs": [
    {
     "data": {
      "text/html": [
       "<div>\n",
       "<style scoped>\n",
       "    .dataframe tbody tr th:only-of-type {\n",
       "        vertical-align: middle;\n",
       "    }\n",
       "\n",
       "    .dataframe tbody tr th {\n",
       "        vertical-align: top;\n",
       "    }\n",
       "\n",
       "    .dataframe thead th {\n",
       "        text-align: right;\n",
       "    }\n",
       "</style>\n",
       "<table border=\"1\" class=\"dataframe\">\n",
       "  <thead>\n",
       "    <tr style=\"text-align: right;\">\n",
       "      <th></th>\n",
       "      <th>wages</th>\n",
       "      <th>education</th>\n",
       "      <th>distance_college</th>\n",
       "      <th>intelligence</th>\n",
       "      <th>error</th>\n",
       "      <th>constant</th>\n",
       "      <th>predicted_education</th>\n",
       "    </tr>\n",
       "  </thead>\n",
       "  <tbody>\n",
       "    <tr>\n",
       "      <th>0</th>\n",
       "      <td>45.038851</td>\n",
       "      <td>12.964491</td>\n",
       "      <td>14.032981</td>\n",
       "      <td>119.711228</td>\n",
       "      <td>0.643237</td>\n",
       "      <td>1</td>\n",
       "      <td>12.223321</td>\n",
       "    </tr>\n",
       "    <tr>\n",
       "      <th>1</th>\n",
       "      <td>33.739149</td>\n",
       "      <td>10.691187</td>\n",
       "      <td>-3.968761</td>\n",
       "      <td>87.319341</td>\n",
       "      <td>0.197754</td>\n",
       "      <td>1</td>\n",
       "      <td>11.816157</td>\n",
       "    </tr>\n",
       "    <tr>\n",
       "      <th>2</th>\n",
       "      <td>41.764758</td>\n",
       "      <td>11.026485</td>\n",
       "      <td>18.323739</td>\n",
       "      <td>115.021772</td>\n",
       "      <td>-0.255016</td>\n",
       "      <td>1</td>\n",
       "      <td>12.320370</td>\n",
       "    </tr>\n",
       "    <tr>\n",
       "      <th>3</th>\n",
       "      <td>41.710655</td>\n",
       "      <td>13.845358</td>\n",
       "      <td>10.603637</td>\n",
       "      <td>113.509991</td>\n",
       "      <td>-1.265022</td>\n",
       "      <td>1</td>\n",
       "      <td>12.145756</td>\n",
       "    </tr>\n",
       "    <tr>\n",
       "      <th>4</th>\n",
       "      <td>33.923300</td>\n",
       "      <td>13.916248</td>\n",
       "      <td>8.169170</td>\n",
       "      <td>84.694192</td>\n",
       "      <td>-0.443082</td>\n",
       "      <td>1</td>\n",
       "      <td>12.090693</td>\n",
       "    </tr>\n",
       "    <tr>\n",
       "      <th>5</th>\n",
       "      <td>42.561780</td>\n",
       "      <td>13.873318</td>\n",
       "      <td>8.200192</td>\n",
       "      <td>118.598085</td>\n",
       "      <td>-1.954305</td>\n",
       "      <td>1</td>\n",
       "      <td>12.091395</td>\n",
       "    </tr>\n",
       "    <tr>\n",
       "      <th>6</th>\n",
       "      <td>31.826381</td>\n",
       "      <td>10.799447</td>\n",
       "      <td>6.365431</td>\n",
       "      <td>85.295372</td>\n",
       "      <td>-1.161954</td>\n",
       "      <td>1</td>\n",
       "      <td>12.049896</td>\n",
       "    </tr>\n",
       "  </tbody>\n",
       "</table>\n",
       "</div>"
      ],
      "text/plain": [
       "       wages  education  distance_college  intelligence     error  constant  \\\n",
       "0  45.038851  12.964491         14.032981    119.711228  0.643237         1   \n",
       "1  33.739149  10.691187         -3.968761     87.319341  0.197754         1   \n",
       "2  41.764758  11.026485         18.323739    115.021772 -0.255016         1   \n",
       "3  41.710655  13.845358         10.603637    113.509991 -1.265022         1   \n",
       "4  33.923300  13.916248          8.169170     84.694192 -0.443082         1   \n",
       "5  42.561780  13.873318          8.200192    118.598085 -1.954305         1   \n",
       "6  31.826381  10.799447          6.365431     85.295372 -1.161954         1   \n",
       "\n",
       "   predicted_education  \n",
       "0            12.223321  \n",
       "1            11.816157  \n",
       "2            12.320370  \n",
       "3            12.145756  \n",
       "4            12.090693  \n",
       "5            12.091395  \n",
       "6            12.049896  "
      ]
     },
     "execution_count": 16,
     "metadata": {},
     "output_type": "execute_result"
    }
   ],
   "source": [
    "data.head(7)"
   ]
  },
  {
   "cell_type": "markdown",
   "id": "c61920ed",
   "metadata": {},
   "source": [
    "> In this regression, we use distance_college to predict education. The fitted values (predicted_education) represent the part of education that is explained by the instrument.\n",
    "\n",
    "* Nobel laureate David Card (1993) found that individuals who grew up near a college completed, on average, about 0.3 more years of schooling, and this effect was significantly different from zero.\n",
    "\n",
    "* The first-stage regression coefficient for `distance_college` should be statistically significant, indicating that the instrument is correlated with the endogenous variable (education)."
   ]
  },
  {
   "cell_type": "markdown",
   "id": "ea61c4ab",
   "metadata": {},
   "source": [
    "### Stage 2: Estimating the Causal Effect\n",
    "\n",
    "In the second stage, we use the predicted values of education from the first stage to estimate the effect on wages."
   ]
  },
  {
   "cell_type": "code",
   "execution_count": 17,
   "id": "e3cfe907",
   "metadata": {},
   "outputs": [],
   "source": [
    "# Second stage regression (wages on predicted_education and const)\n",
    "\n",
    "second_stage =\\\n",
    "(\n",
    "    sm\n",
    "    .OLS(data[\"wages\"], data[[\"constant\", \"predicted_education\"]]\n",
    "        ).fit()\n",
    ")"
   ]
  },
  {
   "cell_type": "code",
   "execution_count": 18,
   "id": "68535cf6",
   "metadata": {},
   "outputs": [
    {
     "data": {
      "text/plain": [
       "['HC0_se',\n",
       " 'HC1_se',\n",
       " 'HC2_se',\n",
       " 'HC3_se',\n",
       " '_HCCM',\n",
       " '__class__',\n",
       " '__delattr__',\n",
       " '__dict__',\n",
       " '__dir__',\n",
       " '__doc__',\n",
       " '__eq__',\n",
       " '__firstlineno__',\n",
       " '__format__',\n",
       " '__ge__',\n",
       " '__getattribute__',\n",
       " '__getstate__',\n",
       " '__gt__',\n",
       " '__hash__',\n",
       " '__init__',\n",
       " '__init_subclass__',\n",
       " '__le__',\n",
       " '__lt__',\n",
       " '__module__',\n",
       " '__ne__',\n",
       " '__new__',\n",
       " '__reduce__',\n",
       " '__reduce_ex__',\n",
       " '__repr__',\n",
       " '__setattr__',\n",
       " '__sizeof__',\n",
       " '__static_attributes__',\n",
       " '__str__',\n",
       " '__subclasshook__',\n",
       " '__weakref__',\n",
       " '_abat_diagonal',\n",
       " '_cache',\n",
       " '_data_attr',\n",
       " '_data_in_cache',\n",
       " '_get_robustcov_results',\n",
       " '_get_wald_nonlinear',\n",
       " '_is_nested',\n",
       " '_transform_predict_exog',\n",
       " '_use_t',\n",
       " '_wexog_singular_values',\n",
       " 'aic',\n",
       " 'bic',\n",
       " 'bse',\n",
       " 'centered_tss',\n",
       " 'compare_f_test',\n",
       " 'compare_lm_test',\n",
       " 'compare_lr_test',\n",
       " 'condition_number',\n",
       " 'conf_int',\n",
       " 'conf_int_el',\n",
       " 'cov_HC0',\n",
       " 'cov_HC1',\n",
       " 'cov_HC2',\n",
       " 'cov_HC3',\n",
       " 'cov_kwds',\n",
       " 'cov_params',\n",
       " 'cov_type',\n",
       " 'df_model',\n",
       " 'df_resid',\n",
       " 'eigenvals',\n",
       " 'el_test',\n",
       " 'ess',\n",
       " 'f_pvalue',\n",
       " 'f_test',\n",
       " 'fittedvalues',\n",
       " 'fvalue',\n",
       " 'get_influence',\n",
       " 'get_prediction',\n",
       " 'get_robustcov_results',\n",
       " 'info_criteria',\n",
       " 'initialize',\n",
       " 'k_constant',\n",
       " 'llf',\n",
       " 'load',\n",
       " 'model',\n",
       " 'mse_model',\n",
       " 'mse_resid',\n",
       " 'mse_total',\n",
       " 'nobs',\n",
       " 'normalized_cov_params',\n",
       " 'outlier_test',\n",
       " 'params',\n",
       " 'predict',\n",
       " 'pvalues',\n",
       " 'remove_data',\n",
       " 'resid',\n",
       " 'resid_pearson',\n",
       " 'rsquared',\n",
       " 'rsquared_adj',\n",
       " 'save',\n",
       " 'scale',\n",
       " 'ssr',\n",
       " 'summary',\n",
       " 'summary2',\n",
       " 't_test',\n",
       " 't_test_pairwise',\n",
       " 'tvalues',\n",
       " 'uncentered_tss',\n",
       " 'use_t',\n",
       " 'wald_test',\n",
       " 'wald_test_terms',\n",
       " 'wresid']"
      ]
     },
     "execution_count": 18,
     "metadata": {},
     "output_type": "execute_result"
    }
   ],
   "source": [
    "dir(second_stage)"
   ]
  },
  {
   "cell_type": "markdown",
   "id": "31e22591",
   "metadata": {},
   "source": [
    "> By using predicted_education instead of the original education, we ensure that the variation in education is exogenous, addressing the endogeneity problem."
   ]
  },
  {
   "cell_type": "markdown",
   "id": "84ace46a",
   "metadata": {},
   "source": [
    "### IV Regression Using statsmodels\n",
    "\n",
    "> For a more straightforward implementation, we use the IV2SLS function from the statsmodels library to perform the instrumental variable regression in a single step."
   ]
  },
  {
   "cell_type": "code",
   "execution_count": 19,
   "id": "b8e5c3d5",
   "metadata": {},
   "outputs": [],
   "source": [
    "# dependencies\n",
    "\n",
    "from statsmodels.sandbox.regression.gmm import IV2SLS\n",
    "\n",
    "# IV regression using statsmodels\n",
    "\n",
    "iv_model =\\\n",
    "(\n",
    "    IV2SLS(endog = data[\"wages\"], \n",
    "           exog = data[[\"constant\", \"education\"]], \n",
    "           instrument = data[[\"constant\", \"distance_college\"]]\n",
    "          )\n",
    "    .fit()\n",
    ")"
   ]
  },
  {
   "cell_type": "markdown",
   "id": "4d64183a",
   "metadata": {},
   "source": [
    "### How to print multiple regression models for reporting\n",
    "\n",
    "> One of important learning pointers of our class is to learn how to report your analytic work to internal/external stakeholders of your real-world jobs."
   ]
  },
  {
   "cell_type": "code",
   "execution_count": 20,
   "id": "8f075cb5",
   "metadata": {
    "scrolled": true
   },
   "outputs": [],
   "source": [
    "#!pip install stargazer"
   ]
  },
  {
   "cell_type": "code",
   "execution_count": 21,
   "id": "318f6d9f",
   "metadata": {},
   "outputs": [],
   "source": [
    "from stargazer.stargazer import Stargazer"
   ]
  },
  {
   "cell_type": "code",
   "execution_count": 22,
   "id": "b75ed7da-eaee-482e-8413-5cc196f5b727",
   "metadata": {},
   "outputs": [
    {
     "name": "stdout",
     "output_type": "stream",
     "text": [
      "Variable                                      Type                        Data/Info\n",
      "-----------------------------------------------------------------------------------\n",
      "IV2SLS                                        type                        <class 'statsmodels.sandb<...>x.regression.gmm.IV2SLS'>\n",
      "Stargazer                                     type                        <class 'stargazer.stargazer.Stargazer'>\n",
      "beta0                                         float                       2.0\n",
      "beta1                                         float                       0.5\n",
      "countdown                                     function                    <function countdown at 0x103e34040>\n",
      "data                                          DataFrame                            wages  education<...>\\n[1000 rows x 7 columns]\n",
      "datetime                                      module                      <module 'datetime' from '<...>/python3.13/datetime.py'>\n",
      "df                                            DataFrame                        Unnamed: 0  draft_nu<...>\\n[1000 rows x 5 columns]\n",
      "distance_college                              ndarray                     1000: 1000 elems, type `float64`, 8000 bytes\n",
      "education                                     ndarray                     1000: 1000 elems, type `float64`, 8000 bytes\n",
      "error                                         ndarray                     1000: 1000 elems, type `float64`, 8000 bytes\n",
      "first_stage                                   RegressionResultsWrapper    <statsmodels.regression.l<...>er object at 0x10f4f4c30>\n",
      "gamma                                         float                       0.3\n",
      "intelligence                                  ndarray                     1000: 1000 elems, type `float64`, 8000 bytes\n",
      "iv_model                                      RegressionResultsWrapper    <statsmodels.regression.l<...>er object at 0x10f32bce0>\n",
      "mpl                                           module                      <module 'matplotlib' from<...>/matplotlib/__init__.py'>\n",
      "n                                             int                         1000\n",
      "np                                            module                      <module 'numpy' from '/op<...>kages/numpy/__init__.py'>\n",
      "ols_model                                     RegressionResultsWrapper    <statsmodels.regression.l<...>er object at 0x10f511a90>\n",
      "pd                                            module                      <module 'pandas' from '/o<...>ages/pandas/__init__.py'>\n",
      "plt                                           module                      <module 'matplotlib.pyplo<...>es/matplotlib/pyplot.py'>\n",
      "re                                            module                      <module 're' from '/opt/h<...>thon3.13/re/__init__.py'>\n",
      "second_stage                                  RegressionResultsWrapper    <statsmodels.regression.l<...>er object at 0x10f4f50f0>\n",
      "sm                                            module                      <module 'statsmodels.api'<...>ages/statsmodels/api.py'>\n",
      "smf                                           module                      <module 'statsmodels.form<...>tsmodels/formula/api.py'>\n",
      "sns                                           module                      <module 'seaborn' from '/<...>ges/seaborn/__init__.py'>\n",
      "time                                          module                      <module 'time' (built-in)>\n",
      "wages                                         ndarray                     1000: 1000 elems, type `float64`, 8000 bytes\n",
      "warnings                                      module                      <module 'warnings' from '<...>/python3.13/warnings.py'>\n",
      "would_you_recommend_causal_inference_method   function                    <function would_you_recom<...>ce_method at 0x10f5171a0>\n"
     ]
    }
   ],
   "source": [
    "%whos"
   ]
  },
  {
   "cell_type": "code",
   "execution_count": 23,
   "id": "d6fc6064",
   "metadata": {},
   "outputs": [],
   "source": [
    "# Create Stargazer object\n",
    "\n",
    "three_stargazer =\\\n",
    "    Stargazer([first_stage, second_stage, iv_model]\n",
    "             )\n",
    "\n",
    "# Output as HTML\n",
    "\n",
    "html_output =\\\n",
    "(    \n",
    "    three_stargazer\n",
    "     .render_html()\n",
    ")"
   ]
  },
  {
   "cell_type": "code",
   "execution_count": 24,
   "id": "91026518",
   "metadata": {},
   "outputs": [],
   "source": [
    "from IPython.display import display, HTML"
   ]
  },
  {
   "cell_type": "code",
   "execution_count": 25,
   "id": "6eeff09d",
   "metadata": {},
   "outputs": [
    {
     "data": {
      "text/html": [
       "<table style=\"text-align:center\"><tr><td colspan=\"4\" style=\"border-bottom: 1px solid black\"></td></tr>\n",
       "<tr><td style=\"text-align:left\"></td><tr><td style=\"text-align:left\"></td><td>(1)</td><td>(2)</td><td>(3)</td></tr>\n",
       "<tr><td colspan=\"4\" style=\"border-bottom: 1px solid black\"></td></tr>\n",
       "\n",
       "<tr><td style=\"text-align:left\">constant</td><td>11.906<sup>***</sup></td><td>29.191<sup>*</sup></td><td>29.191<sup>*</sup></td></tr>\n",
       "<tr><td style=\"text-align:left\"></td><td>(0.138)</td><td>(16.686)</td><td>(16.487)</td></tr>\n",
       "<tr><td style=\"text-align:left\">distance_college</td><td>0.023<sup>*</sup></td><td></td><td></td></tr>\n",
       "<tr><td style=\"text-align:left\"></td><td>(0.013)</td><td></td><td></td></tr>\n",
       "<tr><td style=\"text-align:left\">education</td><td></td><td></td><td>0.713<sup></sup></td></tr>\n",
       "<tr><td style=\"text-align:left\"></td><td></td><td></td><td>(1.359)</td></tr>\n",
       "<tr><td style=\"text-align:left\">predicted_education</td><td></td><td>0.713<sup></sup></td><td></td></tr>\n",
       "<tr><td style=\"text-align:left\"></td><td></td><td>(1.376)</td><td></td></tr>\n",
       "\n",
       "<td colspan=\"4\" style=\"border-bottom: 1px solid black\"></td></tr>\n",
       "<tr><td style=\"text-align: left\">Observations</td><td>1000</td><td>1000</td><td>1000</td></tr><tr><td style=\"text-align: left\">R<sup>2</sup></td><td>0.003</td><td>0.000</td><td>0.024</td></tr><tr><td style=\"text-align: left\">Adjusted R<sup>2</sup></td><td>0.002</td><td>-0.001</td><td>0.023</td></tr><tr><td style=\"text-align: left\">Residual Std. Error</td><td>1.892 (df=998)</td><td>4.696 (df=998)</td><td>4.640 (df=998)</td></tr><tr><td style=\"text-align: left\">F Statistic</td><td>3.256<sup>*</sup> (df=1; 998)</td><td>0.268<sup></sup> (df=1; 998)</td><td>0.275<sup></sup> (df=1; 998)</td></tr>\n",
       "<tr><td colspan=\"4\" style=\"border-bottom: 1px solid black\"></td></tr><tr><td style=\"text-align: left\">Note:</td><td colspan=\"3\" style=\"text-align: right\"><sup>*</sup>p&lt;0.1; <sup>**</sup>p&lt;0.05; <sup>***</sup>p&lt;0.01</td></tr></table>"
      ],
      "text/plain": [
       "<IPython.core.display.HTML object>"
      ]
     },
     "metadata": {},
     "output_type": "display_data"
    }
   ],
   "source": [
    "display(HTML(html_output)\n",
    "       )"
   ]
  },
  {
   "cell_type": "code",
   "execution_count": 26,
   "id": "3f93ba88",
   "metadata": {},
   "outputs": [
    {
     "data": {
      "text/html": [
       "<table style=\"text-align:center\"><tr><td colspan=\"2\" style=\"border-bottom: 1px solid black\"></td></tr>\n",
       "<tr><td style=\"text-align:left\"></td><td colspan=\"1\"><em>Dependent variable: wages</em></td></tr><tr><td style=\"text-align:left\"></td><tr><td style=\"text-align:left\"></td><td>(1)</td></tr>\n",
       "<tr><td colspan=\"2\" style=\"border-bottom: 1px solid black\"></td></tr>\n",
       "\n",
       "<tr><td style=\"text-align:left\">constant</td><td>29.191<sup>*</sup></td></tr>\n",
       "<tr><td style=\"text-align:left\"></td><td>(16.487)</td></tr>\n",
       "<tr><td style=\"text-align:left\">education</td><td>0.713<sup></sup></td></tr>\n",
       "<tr><td style=\"text-align:left\"></td><td>(1.359)</td></tr>\n",
       "\n",
       "<td colspan=\"2\" style=\"border-bottom: 1px solid black\"></td></tr>\n",
       "<tr><td style=\"text-align: left\">Observations</td><td>1000</td></tr><tr><td style=\"text-align: left\">R<sup>2</sup></td><td>0.024</td></tr><tr><td style=\"text-align: left\">Adjusted R<sup>2</sup></td><td>0.023</td></tr><tr><td style=\"text-align: left\">Residual Std. Error</td><td>4.640 (df=998)</td></tr><tr><td style=\"text-align: left\">F Statistic</td><td>0.275<sup></sup> (df=1; 998)</td></tr>\n",
       "<tr><td colspan=\"2\" style=\"border-bottom: 1px solid black\"></td></tr><tr><td style=\"text-align: left\">Note:</td><td colspan=\"1\" style=\"text-align: right\"><sup>*</sup>p&lt;0.1; <sup>**</sup>p&lt;0.05; <sup>***</sup>p&lt;0.01</td></tr></table>"
      ],
      "text/plain": [
       "<IPython.core.display.HTML object>"
      ]
     },
     "metadata": {},
     "output_type": "display_data"
    }
   ],
   "source": [
    "iv_stargazer =\\\n",
    "    Stargazer([iv_model]\n",
    "             )\n",
    "\n",
    "# Output as HTML\n",
    "\n",
    "html_output =\\\n",
    "(    \n",
    "    iv_stargazer\n",
    "     .render_html()\n",
    ")\n",
    "\n",
    "display(HTML(html_output)\n",
    "       )"
   ]
  },
  {
   "cell_type": "markdown",
   "id": "0020531c",
   "metadata": {},
   "source": [
    "### Summary of Results\n",
    "\n",
    "> The results of both the first stage and second stage regressions, as well as the IV regression. Here's what to look for in the results:\n",
    "\n",
    "#### First Stage Regression Results:\n",
    "\n",
    "> The coefficient for distance_college should be statistically significant, indicating that the instrument is correlated with the endogenous variable (education).\n",
    "\n",
    "#### Second Stage Regression Results:\n",
    "\n",
    "> The coefficient for predicted_education represents the causal effect of education on wages. This coefficient should be unbiased if the instrument is valid.\n",
    "\n",
    "#### IV Regression Results:\n",
    "\n",
    "> The results of the IV regression will provide the estimated causal effect of education on wages, accounting for endogeneity."
   ]
  },
  {
   "cell_type": "markdown",
   "id": "21f74452",
   "metadata": {},
   "source": [
    "    Key Points and Considerations\n",
    "\n",
    "* `Weak Instruments`: One of the most important things to worry about when using IV is that your instrument is sufficiently correlated with your endogenous variable. This is often assessed using the F-statistic from the first-stage regression, which should be `at least 10` (`preferably 12`) to indicate a strong instrument.\n",
    "\n",
    "* `Local Average Treatment Effect` (`LATE`): IV estimates the local average treatment effect, which is the average effect for individuals whose treatment status is influenced by the instrument. This may differ from the average treatment effect for the entire population.\n",
    "\n",
    "* `Standard Errors`: When using a `two-stage` least squares (`2SLS`) approach, it's important to adjust for the correct standard errors. Using built-in functions like `IV2SLS` in statsmodels ensures that the standard errors are computed correctly."
   ]
  },
  {
   "cell_type": "markdown",
   "id": "6a5a5bf8",
   "metadata": {},
   "source": [
    "> Instrumental variables (IV) are a powerful tool for addressing endogeneity in causal inference. By carefully choosing and validating instruments, researchers can make credible causal inferences even when simple regression methods would fail.\n",
    "\n",
    "> However, the validity of IV estimates relies heavily on the strength and appropriateness of the instruments used, making it crucial to assess and validate instruments rigorously."
   ]
  },
  {
   "cell_type": "markdown",
   "id": "751fce58",
   "metadata": {},
   "source": [
    "## <a id = \"p3\">3.</a>  <font color = \"green\"> Further Learning on Instrumental Variables </font>  [back to table of contents](#top)"
   ]
  },
  {
   "cell_type": "markdown",
   "id": "2f6a1c6a",
   "metadata": {},
   "source": [
    "## Chapter 08 from Textbook | `Instrumental Variables`\n",
    "\n",
    "## Going Around Omitted Variable Bias\n",
    "\n",
    "One way to control for OVB is, well, adding the omitted variable into our model. However, that is not always possible, mostly because we simply don't have data on the omitted variables. For instance, let's go back to our model for effect of education on wage:\n",
    "\n",
    "$\n",
    "\\log(\\mathrm{wage})_i = \\beta_0 + \\kappa \\ \\mathrm{educ}_i + \\pmb{\\beta}\\mathrm{Ability}_i + u_i\n",
    "$\n",
    "\n",
    "To figure out the causal effect of education $\\kappa$ on $\\log\\mathrm{(wage)}$ we need to control for ability factors $\\mathrm{Ability}_i$. If we don't, we would likely have some bias, after all, ability is probably a confounder, causing both the treatment, education, and the outcome, earnings."
   ]
  },
  {
   "cell_type": "code",
   "execution_count": 27,
   "id": "8185de9d-c88c-4e83-9a92-9a651286ef4d",
   "metadata": {},
   "outputs": [],
   "source": [
    "import graphviz as gr"
   ]
  },
  {
   "cell_type": "code",
   "execution_count": 28,
   "id": "a18edbb6",
   "metadata": {
    "tags": [
     "hide-input"
    ]
   },
   "outputs": [
    {
     "data": {
      "image/svg+xml": [
       "<?xml version=\"1.0\" encoding=\"UTF-8\" standalone=\"no\"?>\n",
       "<!DOCTYPE svg PUBLIC \"-//W3C//DTD SVG 1.1//EN\"\n",
       " \"http://www.w3.org/Graphics/SVG/1.1/DTD/svg11.dtd\">\n",
       "<!-- Generated by graphviz version 13.0.1 (20250615.1724)\n",
       " -->\n",
       "<!-- Pages: 1 -->\n",
       "<svg width=\"99pt\" height=\"188pt\"\n",
       " viewBox=\"0.00 0.00 99.00 188.00\" xmlns=\"http://www.w3.org/2000/svg\" xmlns:xlink=\"http://www.w3.org/1999/xlink\">\n",
       "<g id=\"graph0\" class=\"graph\" transform=\"scale(1 1) rotate(0) translate(4 184)\">\n",
       "<polygon fill=\"white\" stroke=\"none\" points=\"-4,4 -4,-184 94.78,-184 94.78,4 -4,4\"/>\n",
       "<!-- ability -->\n",
       "<g id=\"node1\" class=\"node\">\n",
       "<title>ability</title>\n",
       "<ellipse fill=\"none\" stroke=\"black\" cx=\"56.32\" cy=\"-162\" rx=\"34.46\" ry=\"18\"/>\n",
       "<text xml:space=\"preserve\" text-anchor=\"middle\" x=\"56.32\" y=\"-156.95\" font-family=\"Times,serif\" font-size=\"14.00\">ability</text>\n",
       "</g>\n",
       "<!-- educ -->\n",
       "<g id=\"node2\" class=\"node\">\n",
       "<title>educ</title>\n",
       "<ellipse fill=\"none\" stroke=\"black\" cx=\"28.32\" cy=\"-90\" rx=\"28.32\" ry=\"18\"/>\n",
       "<text xml:space=\"preserve\" text-anchor=\"middle\" x=\"28.32\" y=\"-84.95\" font-family=\"Times,serif\" font-size=\"14.00\">educ</text>\n",
       "</g>\n",
       "<!-- ability&#45;&gt;educ -->\n",
       "<g id=\"edge1\" class=\"edge\">\n",
       "<title>ability&#45;&gt;educ</title>\n",
       "<path fill=\"none\" stroke=\"black\" d=\"M49.54,-144.05C46.45,-136.32 42.7,-126.96 39.23,-118.27\"/>\n",
       "<polygon fill=\"black\" stroke=\"black\" points=\"42.56,-117.18 35.6,-109.19 36.06,-119.78 42.56,-117.18\"/>\n",
       "</g>\n",
       "<!-- wage -->\n",
       "<g id=\"node3\" class=\"node\">\n",
       "<title>wage</title>\n",
       "<ellipse fill=\"none\" stroke=\"black\" cx=\"56.32\" cy=\"-18\" rx=\"30.37\" ry=\"18\"/>\n",
       "<text xml:space=\"preserve\" text-anchor=\"middle\" x=\"56.32\" y=\"-12.95\" font-family=\"Times,serif\" font-size=\"14.00\">wage</text>\n",
       "</g>\n",
       "<!-- ability&#45;&gt;wage -->\n",
       "<g id=\"edge2\" class=\"edge\">\n",
       "<title>ability&#45;&gt;wage</title>\n",
       "<path fill=\"none\" stroke=\"black\" d=\"M59.97,-143.91C62,-133.57 64.3,-120.09 65.32,-108 66.66,-92.06 66.66,-87.94 65.32,-72 64.64,-63.97 63.4,-55.33 62.05,-47.4\"/>\n",
       "<polygon fill=\"black\" stroke=\"black\" points=\"65.49,-46.79 60.25,-37.58 58.61,-48.05 65.49,-46.79\"/>\n",
       "</g>\n",
       "<!-- educ&#45;&gt;wage -->\n",
       "<g id=\"edge3\" class=\"edge\">\n",
       "<title>educ&#45;&gt;wage</title>\n",
       "<path fill=\"none\" stroke=\"black\" d=\"M35.1,-72.05C38.19,-64.32 41.94,-54.96 45.41,-46.27\"/>\n",
       "<polygon fill=\"black\" stroke=\"black\" points=\"48.58,-47.78 49.04,-37.19 42.08,-45.18 48.58,-47.78\"/>\n",
       "</g>\n",
       "</g>\n",
       "</svg>\n"
      ],
      "text/plain": [
       "<graphviz.graphs.Digraph at 0x10fa9c6e0>"
      ]
     },
     "execution_count": 28,
     "metadata": {},
     "output_type": "execute_result"
    }
   ],
   "source": [
    "g =\\\n",
    "(\n",
    "    gr\n",
    "    .Digraph()\n",
    ")\n",
    "\n",
    "g.edge(\"ability\", \"educ\")\n",
    "g.edge(\"ability\", \"wage\")\n",
    "g.edge(\"educ\", \"wage\")\n",
    "g"
   ]
  },
  {
   "cell_type": "markdown",
   "id": "6aebb151",
   "metadata": {},
   "source": [
    "One way to avoid this is to control for constant levels of ability when measuring the effect of education on wage. We could do that by including ability in our linear regression model. However, we don't have good measurements of ability. The best we have are some very questionable proxies, like IQ.\n",
    "\n",
    "But all is not lost. Here is where Instrumental Variables enters the picture. The idea of IV is to find another variable that causes the treatment and it is only correlated with the outcome through the treatment. Another way of saying this is that this instrument $Z_i$ is uncorrelated with $Y_0$, but it is correlated with $T$. This is sometimes referred to as the exclusion restriction."
   ]
  },
  {
   "cell_type": "code",
   "execution_count": 29,
   "id": "47cb362b",
   "metadata": {
    "tags": [
     "hide-input"
    ]
   },
   "outputs": [
    {
     "data": {
      "image/svg+xml": [
       "<?xml version=\"1.0\" encoding=\"UTF-8\" standalone=\"no\"?>\n",
       "<!DOCTYPE svg PUBLIC \"-//W3C//DTD SVG 1.1//EN\"\n",
       " \"http://www.w3.org/Graphics/SVG/1.1/DTD/svg11.dtd\">\n",
       "<!-- Generated by graphviz version 13.0.1 (20250615.1724)\n",
       " -->\n",
       "<!-- Pages: 1 -->\n",
       "<svg width=\"196pt\" height=\"188pt\"\n",
       " viewBox=\"0.00 0.00 196.00 188.00\" xmlns=\"http://www.w3.org/2000/svg\" xmlns:xlink=\"http://www.w3.org/1999/xlink\">\n",
       "<g id=\"graph0\" class=\"graph\" transform=\"scale(1 1) rotate(0) translate(4 184)\">\n",
       "<polygon fill=\"white\" stroke=\"none\" points=\"-4,4 -4,-184 192.3,-184 192.3,4 -4,4\"/>\n",
       "<!-- ability -->\n",
       "<g id=\"node1\" class=\"node\">\n",
       "<title>ability</title>\n",
       "<ellipse fill=\"none\" stroke=\"black\" cx=\"153.84\" cy=\"-162\" rx=\"34.46\" ry=\"18\"/>\n",
       "<text xml:space=\"preserve\" text-anchor=\"middle\" x=\"153.84\" y=\"-156.95\" font-family=\"Times,serif\" font-size=\"14.00\">ability</text>\n",
       "</g>\n",
       "<!-- educ -->\n",
       "<g id=\"node2\" class=\"node\">\n",
       "<title>educ</title>\n",
       "<ellipse fill=\"none\" stroke=\"black\" cx=\"97.84\" cy=\"-90\" rx=\"28.32\" ry=\"18\"/>\n",
       "<text xml:space=\"preserve\" text-anchor=\"middle\" x=\"97.84\" y=\"-84.95\" font-family=\"Times,serif\" font-size=\"14.00\">educ</text>\n",
       "</g>\n",
       "<!-- ability&#45;&gt;educ -->\n",
       "<g id=\"edge1\" class=\"edge\">\n",
       "<title>ability&#45;&gt;educ</title>\n",
       "<path fill=\"none\" stroke=\"black\" d=\"M141.13,-145.12C134.09,-136.31 125.18,-125.18 117.28,-115.31\"/>\n",
       "<polygon fill=\"black\" stroke=\"black\" points=\"120.04,-113.14 111.06,-107.52 114.57,-117.52 120.04,-113.14\"/>\n",
       "</g>\n",
       "<!-- wage -->\n",
       "<g id=\"node3\" class=\"node\">\n",
       "<title>wage</title>\n",
       "<ellipse fill=\"none\" stroke=\"black\" cx=\"125.84\" cy=\"-18\" rx=\"30.37\" ry=\"18\"/>\n",
       "<text xml:space=\"preserve\" text-anchor=\"middle\" x=\"125.84\" y=\"-12.95\" font-family=\"Times,serif\" font-size=\"14.00\">wage</text>\n",
       "</g>\n",
       "<!-- ability&#45;&gt;wage -->\n",
       "<g id=\"edge2\" class=\"edge\">\n",
       "<title>ability&#45;&gt;wage</title>\n",
       "<path fill=\"none\" stroke=\"black\" d=\"M150.46,-143.87C145.73,-119.88 137.08,-75.99 131.39,-47.16\"/>\n",
       "<polygon fill=\"black\" stroke=\"black\" points=\"134.89,-46.81 129.52,-37.67 128.02,-48.16 134.89,-46.81\"/>\n",
       "</g>\n",
       "<!-- educ&#45;&gt;wage -->\n",
       "<g id=\"edge3\" class=\"edge\">\n",
       "<title>educ&#45;&gt;wage</title>\n",
       "<path fill=\"none\" stroke=\"black\" d=\"M104.62,-72.05C107.71,-64.32 111.46,-54.96 114.93,-46.27\"/>\n",
       "<polygon fill=\"black\" stroke=\"black\" points=\"118.1,-47.78 118.56,-37.19 111.6,-45.18 118.1,-47.78\"/>\n",
       "</g>\n",
       "<!-- instrument -->\n",
       "<g id=\"node4\" class=\"node\">\n",
       "<title>instrument</title>\n",
       "<ellipse fill=\"none\" stroke=\"black\" cx=\"50.84\" cy=\"-162\" rx=\"50.84\" ry=\"18\"/>\n",
       "<text xml:space=\"preserve\" text-anchor=\"middle\" x=\"50.84\" y=\"-156.95\" font-family=\"Times,serif\" font-size=\"14.00\">instrument</text>\n",
       "</g>\n",
       "<!-- instrument&#45;&gt;educ -->\n",
       "<g id=\"edge4\" class=\"edge\">\n",
       "<title>instrument&#45;&gt;educ</title>\n",
       "<path fill=\"none\" stroke=\"black\" d=\"M62.22,-144.05C67.8,-135.73 74.65,-125.54 80.84,-116.32\"/>\n",
       "<polygon fill=\"black\" stroke=\"black\" points=\"83.7,-118.34 86.37,-108.09 77.89,-114.44 83.7,-118.34\"/>\n",
       "</g>\n",
       "</g>\n",
       "</svg>\n"
      ],
      "text/plain": [
       "<graphviz.graphs.Digraph at 0x10facc550>"
      ]
     },
     "execution_count": 29,
     "metadata": {},
     "output_type": "execute_result"
    }
   ],
   "source": [
    "g =\\\n",
    "(\n",
    "    gr\n",
    "    .Digraph()\n",
    ")\n",
    "\n",
    "g.edge(\"ability\", \"educ\")\n",
    "g.edge(\"ability\", \"wage\")\n",
    "g.edge(\"educ\", \"wage\")\n",
    "g.edge(\"instrument\", \"educ\")\n",
    "g"
   ]
  },
  {
   "cell_type": "markdown",
   "id": "d9e47b4b",
   "metadata": {},
   "source": [
    "If we have such a variable, we can recover the causal effect $\\kappa$ with what we will see as the IV formula. To do so, let's think about the ideal equation we want to run. Using more general terms like $T$ for the treatment and $W$ for the confounders, here is want we want:\n",
    "\n",
    "$\n",
    "Y_i = \\beta_0 + \\kappa \\ T_i + \\pmb{\\beta}W_i + u_i\n",
    "$\n",
    "\n",
    "However, we don't have data on $W$, so all we can run is\n",
    "\n",
    "$\n",
    "Y_i = \\beta_0 + \\kappa\\ T_i + v_i\n",
    "$\n",
    "\n",
    "$\n",
    "v_i = \\pmb{\\beta}W_i + u_i\n",
    "$\n",
    "\n",
    "Since $W$ is a confounder, $\\mathrm{Cov}(T, v) \\neq 0$. We have a short, not long equation. In our example, this would be saying that ability is correlated with education. If this is the case, running the short regression would yield a biased estimator for $\\kappa$ due to omitted variables. \n",
    "\n",
    "Now, behold the magic of IV! Since the instrument Z is only correlated with the outcome through T, this implies that $\\mathrm{Cov}(Z,v) = 0$, otherwise there would be a second path from Z to Y through W. With this in mind, we can write\n",
    "\n",
    "$\n",
    "\\mathrm{Cov}(Z,Y) = \\mathrm{Cov}(Z,\\beta_0 + \\kappa\\ T_i + v_i) = \\kappa \\mathrm{Cov}(Z,T) + \\mathrm{Cov}(Z, v) = \\kappa \\mathrm{Cov}(Z,T)\n",
    "$\n",
    "\n",
    "Dividing each side by $V(Z_i)$ and rearranging the terms, we get\n",
    "\n",
    "$\n",
    "\\kappa = \\dfrac{\\mathrm{Cov}(Y_i, Z_i)/V(Z_i)}{\\mathrm{Cov}(T_i, Z_i)/V(Z_i)} = \\dfrac{\\text{Reduced Form}}{\\text{1st Stage}} \n",
    "$\n",
    "\n",
    "Notice that both the numerator and the denominator are regression coefficients (covariances divided by variances). The numerator is the result from the regression of Y on Z. In other words, it's the \"impact\" of Z on Y. Remember that this is not to say that Z causes Y, since we have a requirement that Z impacts Y only through T. Rather, it is only capturing how big is this effect of Z on Y through T. This numerator is so famous it has its own name: the reduced form coefficient.\n",
    "\n",
    "The denominator is also a regression coefficient. This time, it is the regression of T on Z. This regression captures what is the impact of Z on T and it is also so famous that it is called the 1st Stage coefficient. \n",
    "\n",
    "Another cool way to look at this equation is in terms of partial derivatives. We can show that the impact of T on Y is equal to the impact of Z on Y, scaled by the impact of Z on T:\n",
    "\n",
    "$\n",
    "\\kappa = \\dfrac{\\frac{\\partial y}{\\partial z}}{\\frac{\\partial T}{\\partial z}} = \\dfrac{\\partial y}{\\partial z} * \\dfrac{\\partial z}{\\partial T} =  \\dfrac{\\partial y}{\\partial T}\n",
    "$\n",
    "\n",
    "What this is showing to us is more subtle than most people appreciate. It is also cooler than most people appreciate. By writing IV like this, we are saying, \"look, it's hard to find the impact of T on Y due to confounders. But I can easily find the impact of Z on Y, since there is nothing that causes Z and Y (exclusion restriction). However, I'm interested in the impact of T on Y, not Z on Y. So, I'll estimate the easy effect of Z on Y and **scale it by the effect of Z on T**, to convert the effect to T units instead of Z units\". \n",
    "\n",
    "We can also see this in a simplified case where the instrument is a dummy variable. In this case, the IV estimator gets further simplified by the ratio between 2 differences in means.\n",
    "\n",
    "$\n",
    "\\kappa = \\dfrac{E[Y|Z=1]-E[Y|Z=0]}{E[T|Z=1]-E[T|Z=0]}\n",
    "$\n",
    "\n",
    "This ratio is sometimes referred to as the **Wald Estimator**. Again, we can tell the IV story where we want the effect of T on Y, which is hard to get. So we focus on the effect of Z on Y, which is easy. By definition, Z only affects Y through T, so we can now convert the impact of Z on Y to the impact of T on Y. We do so by scaling the effect of Z on Y by the effect of Z on T. \n",
    "\n",
    "## Quarter of Birth and the Effect of Education on Wage\n",
    "\n",
    "So far, we've been treating these instruments as some magical variable $Z$ which have the miraculous propriety of only affecting the outcome through the treatment. To be honest, good instruments are so hard to come by that we might as well consider them miracles. Let's just say it is not for the faint of heart. Rumor has it that the cool kids at Chicago School of Economics talk about how they come up with this or that instrument at the bar. \n",
    "\n",
    "Still, we do have some interesting examples of instruments to make things a little more concrete. We will again try to estimate the effect of education on wage. To do so, we will use the person's quarter of birth as the instrument Z.\n",
    "\n",
    "This idea takes advantage of US compulsory attendance law. Usually, they state that a kid must have turned 6 years by January 1 of the year they enter school. For this reason, kids that are born at the beginning of the year will enter school at an older age. Compulsory attendance law also requires students to be in school until they turn 16, at which point they are legally allowed to drop out. The result is that people born later in the year have, on average, more years of education than those born in the beginning of the year.\n",
    "\n",
    "If we accept that quarter of birth is independent of the ability factor, that is, it does not confound the impact of education on wage, we can use it as an instrument. In other words, we need to believe that quarter of birth has no impact on wage, other than through its impact on education. If you don't believe in astrology, this is a very compelling argument."
   ]
  },
  {
   "cell_type": "code",
   "execution_count": 30,
   "id": "af78ae81",
   "metadata": {
    "tags": [
     "hide-input"
    ]
   },
   "outputs": [
    {
     "data": {
      "image/svg+xml": [
       "<?xml version=\"1.0\" encoding=\"UTF-8\" standalone=\"no\"?>\n",
       "<!DOCTYPE svg PUBLIC \"-//W3C//DTD SVG 1.1//EN\"\n",
       " \"http://www.w3.org/Graphics/SVG/1.1/DTD/svg11.dtd\">\n",
       "<!-- Generated by graphviz version 13.0.1 (20250615.1724)\n",
       " -->\n",
       "<!-- Pages: 1 -->\n",
       "<svg width=\"148pt\" height=\"188pt\"\n",
       " viewBox=\"0.00 0.00 148.00 188.00\" xmlns=\"http://www.w3.org/2000/svg\" xmlns:xlink=\"http://www.w3.org/1999/xlink\">\n",
       "<g id=\"graph0\" class=\"graph\" transform=\"scale(1 1) rotate(0) translate(4 184)\">\n",
       "<polygon fill=\"white\" stroke=\"none\" points=\"-4,4 -4,-184 144.46,-184 144.46,4 -4,4\"/>\n",
       "<!-- ability -->\n",
       "<g id=\"node1\" class=\"node\">\n",
       "<title>ability</title>\n",
       "<ellipse fill=\"none\" stroke=\"black\" cx=\"106\" cy=\"-162\" rx=\"34.46\" ry=\"18\"/>\n",
       "<text xml:space=\"preserve\" text-anchor=\"middle\" x=\"106\" y=\"-156.95\" font-family=\"Times,serif\" font-size=\"14.00\">ability</text>\n",
       "</g>\n",
       "<!-- educ -->\n",
       "<g id=\"node2\" class=\"node\">\n",
       "<title>educ</title>\n",
       "<ellipse fill=\"none\" stroke=\"black\" cx=\"50\" cy=\"-90\" rx=\"28.32\" ry=\"18\"/>\n",
       "<text xml:space=\"preserve\" text-anchor=\"middle\" x=\"50\" y=\"-84.95\" font-family=\"Times,serif\" font-size=\"14.00\">educ</text>\n",
       "</g>\n",
       "<!-- ability&#45;&gt;educ -->\n",
       "<g id=\"edge1\" class=\"edge\">\n",
       "<title>ability&#45;&gt;educ</title>\n",
       "<path fill=\"none\" stroke=\"black\" d=\"M93.29,-145.12C86.25,-136.31 77.34,-125.18 69.44,-115.31\"/>\n",
       "<polygon fill=\"black\" stroke=\"black\" points=\"72.2,-113.14 63.22,-107.52 66.73,-117.52 72.2,-113.14\"/>\n",
       "</g>\n",
       "<!-- wage -->\n",
       "<g id=\"node3\" class=\"node\">\n",
       "<title>wage</title>\n",
       "<ellipse fill=\"none\" stroke=\"black\" cx=\"78\" cy=\"-18\" rx=\"30.37\" ry=\"18\"/>\n",
       "<text xml:space=\"preserve\" text-anchor=\"middle\" x=\"78\" y=\"-12.95\" font-family=\"Times,serif\" font-size=\"14.00\">wage</text>\n",
       "</g>\n",
       "<!-- ability&#45;&gt;wage -->\n",
       "<g id=\"edge2\" class=\"edge\">\n",
       "<title>ability&#45;&gt;wage</title>\n",
       "<path fill=\"none\" stroke=\"black\" d=\"M102.62,-143.87C97.89,-119.88 89.24,-75.99 83.55,-47.16\"/>\n",
       "<polygon fill=\"black\" stroke=\"black\" points=\"87.05,-46.81 81.68,-37.67 80.18,-48.16 87.05,-46.81\"/>\n",
       "</g>\n",
       "<!-- educ&#45;&gt;wage -->\n",
       "<g id=\"edge3\" class=\"edge\">\n",
       "<title>educ&#45;&gt;wage</title>\n",
       "<path fill=\"none\" stroke=\"black\" d=\"M56.78,-72.05C59.87,-64.32 63.62,-54.96 67.09,-46.27\"/>\n",
       "<polygon fill=\"black\" stroke=\"black\" points=\"70.26,-47.78 70.72,-37.19 63.76,-45.18 70.26,-47.78\"/>\n",
       "</g>\n",
       "<!-- qob -->\n",
       "<g id=\"node4\" class=\"node\">\n",
       "<title>qob</title>\n",
       "<ellipse fill=\"none\" stroke=\"black\" cx=\"27\" cy=\"-162\" rx=\"27\" ry=\"18\"/>\n",
       "<text xml:space=\"preserve\" text-anchor=\"middle\" x=\"27\" y=\"-156.95\" font-family=\"Times,serif\" font-size=\"14.00\">qob</text>\n",
       "</g>\n",
       "<!-- qob&#45;&gt;educ -->\n",
       "<g id=\"edge4\" class=\"edge\">\n",
       "<title>qob&#45;&gt;educ</title>\n",
       "<path fill=\"none\" stroke=\"black\" d=\"M32.57,-144.05C35.08,-136.4 38.12,-127.16 40.95,-118.56\"/>\n",
       "<polygon fill=\"black\" stroke=\"black\" points=\"44.21,-119.82 44.01,-109.23 37.56,-117.63 44.21,-119.82\"/>\n",
       "</g>\n",
       "</g>\n",
       "</svg>\n"
      ],
      "text/plain": [
       "<graphviz.graphs.Digraph at 0x10facc7d0>"
      ]
     },
     "execution_count": 30,
     "metadata": {},
     "output_type": "execute_result"
    }
   ],
   "source": [
    "g =\\\n",
    "(\n",
    "    gr\n",
    "    .Digraph()\n",
    ")\n",
    "\n",
    "g.edge(\"ability\", \"educ\")\n",
    "g.edge(\"ability\", \"wage\")\n",
    "g.edge(\"educ\", \"wage\")\n",
    "g.edge(\"qob\", \"educ\")\n",
    "g"
   ]
  },
  {
   "cell_type": "markdown",
   "id": "2ea16804",
   "metadata": {},
   "source": [
    "> To perform this analysis, we can use data from three decennial census, the same data used by [Angrist and Krueger](https://economics.mit.edu/faculty/angrist/data1/data/angkru1991) in their article about IV.\n",
    "\n",
    "> This dataset has information on log wages, our outcome variable, and years of schooling, our treatment variable. It also has data on quarter of birth, our instrument, and additional controls, such as year of birth and state of birth. "
   ]
  },
  {
   "cell_type": "code",
   "execution_count": 31,
   "id": "728e8419",
   "metadata": {},
   "outputs": [
    {
     "data": {
      "text/html": [
       "<div>\n",
       "<style scoped>\n",
       "    .dataframe tbody tr th:only-of-type {\n",
       "        vertical-align: middle;\n",
       "    }\n",
       "\n",
       "    .dataframe tbody tr th {\n",
       "        vertical-align: top;\n",
       "    }\n",
       "\n",
       "    .dataframe thead th {\n",
       "        text-align: right;\n",
       "    }\n",
       "</style>\n",
       "<table border=\"1\" class=\"dataframe\">\n",
       "  <thead>\n",
       "    <tr style=\"text-align: right;\">\n",
       "      <th></th>\n",
       "      <th>log_wage</th>\n",
       "      <th>years_of_schooling</th>\n",
       "      <th>year_of_birth</th>\n",
       "      <th>quarter_of_birth</th>\n",
       "      <th>state_of_birth</th>\n",
       "    </tr>\n",
       "  </thead>\n",
       "  <tbody>\n",
       "    <tr>\n",
       "      <th>0</th>\n",
       "      <td>5.790019</td>\n",
       "      <td>12.0</td>\n",
       "      <td>30.0</td>\n",
       "      <td>1.0</td>\n",
       "      <td>45.0</td>\n",
       "    </tr>\n",
       "    <tr>\n",
       "      <th>1</th>\n",
       "      <td>5.952494</td>\n",
       "      <td>11.0</td>\n",
       "      <td>30.0</td>\n",
       "      <td>1.0</td>\n",
       "      <td>45.0</td>\n",
       "    </tr>\n",
       "    <tr>\n",
       "      <th>2</th>\n",
       "      <td>5.315949</td>\n",
       "      <td>12.0</td>\n",
       "      <td>30.0</td>\n",
       "      <td>1.0</td>\n",
       "      <td>45.0</td>\n",
       "    </tr>\n",
       "    <tr>\n",
       "      <th>3</th>\n",
       "      <td>5.595926</td>\n",
       "      <td>12.0</td>\n",
       "      <td>30.0</td>\n",
       "      <td>1.0</td>\n",
       "      <td>45.0</td>\n",
       "    </tr>\n",
       "    <tr>\n",
       "      <th>4</th>\n",
       "      <td>6.068915</td>\n",
       "      <td>12.0</td>\n",
       "      <td>30.0</td>\n",
       "      <td>1.0</td>\n",
       "      <td>37.0</td>\n",
       "    </tr>\n",
       "  </tbody>\n",
       "</table>\n",
       "</div>"
      ],
      "text/plain": [
       "   log_wage  years_of_schooling  year_of_birth  quarter_of_birth  \\\n",
       "0  5.790019                12.0           30.0               1.0   \n",
       "1  5.952494                11.0           30.0               1.0   \n",
       "2  5.315949                12.0           30.0               1.0   \n",
       "3  5.595926                12.0           30.0               1.0   \n",
       "4  6.068915                12.0           30.0               1.0   \n",
       "\n",
       "   state_of_birth  \n",
       "0            45.0  \n",
       "1            45.0  \n",
       "2            45.0  \n",
       "3            45.0  \n",
       "4            37.0  "
      ]
     },
     "execution_count": 31,
     "metadata": {},
     "output_type": "execute_result"
    }
   ],
   "source": [
    "data =\\\n",
    "(\n",
    "    pd\n",
    "    .read_csv(\"https://talktoroh.squarespace.com/s/ak91-6n3a.csv\")\n",
    ")\n",
    "\n",
    "data.head()"
   ]
  },
  {
   "cell_type": "markdown",
   "id": "cea00f2a",
   "metadata": {},
   "source": [
    "## The 1st Stage\n",
    "\n",
    "Before we use quarter of birth as an instrument, we need to make sure it is a valid one. This implies arguing in favor of the two Instrumental Variables assumptions:\n",
    "\n",
    "1. $\\mathrm{Cov}(Z, T) \\neq 0$. This is saying that we should have a strong 1st stage, or that the instrument indeed impacts the treatment variable.\n",
    "2. $Y \\perp Z | T $. This is the exclusion restriction, stating that the instrument Z only affects the outcome Y through the treatment T. \n",
    "\n",
    "The first assumption is fortunately verifiable. We can see from data that $\\mathrm{Cov}(Z, T)$ is not zero. In our example, if quarter of birth is indeed an instrument like we've said, we should expect individuals born in the last quarter of the year to have slightly more time of education than those born in the beginning of the year. Before running any statistical test to verify this, let's just plot our data and see it with our own eyes."
   ]
  },
  {
   "cell_type": "code",
   "execution_count": 32,
   "id": "717bbce4",
   "metadata": {},
   "outputs": [],
   "source": [
    "group_data =\\\n",
    "(\n",
    "    data\n",
    "    .groupby([\"year_of_birth\", \"quarter_of_birth\"])\n",
    "    [[\"log_wage\", \"years_of_schooling\"]]\n",
    "    .mean()\n",
    "    .reset_index()\n",
    "    .assign(time_of_birth = lambda d: d[\"year_of_birth\"] + (d[\"quarter_of_birth\"]) / 4)\n",
    ")"
   ]
  },
  {
   "cell_type": "code",
   "execution_count": 33,
   "id": "ab1078bb",
   "metadata": {},
   "outputs": [
    {
     "data": {
      "image/png": "[encoded data removed]",
      "text/plain": [
       "<Figure size 1500x600 with 1 Axes>"
      ]
     },
     "metadata": {},
     "output_type": "display_data"
    }
   ],
   "source": [
    "plt.figure(figsize=(15,6))\n",
    "plt.plot(group_data[\"time_of_birth\"], group_data[\"years_of_schooling\"], zorder=-1)\n",
    "for q in range(1, 5):\n",
    "    x = group_data.query(f\"quarter_of_birth=={q}\")[\"time_of_birth\"]\n",
    "    y = group_data.query(f\"quarter_of_birth=={q}\")[\"years_of_schooling\"]\n",
    "    plt.scatter(x, y, marker=\"s\", s=200, c=f\"C{q}\")\n",
    "    plt.scatter(x, y, marker=f\"${q}$\", s=100, c=f\"white\")\n",
    "\n",
    "plt.title(\"Years of Education by Quarter of Birth (first stage)\")\n",
    "plt.xlabel(\"Year of Birth\")\n",
    "plt.ylabel(\"Years of Schooling\");"
   ]
  },
  {
   "cell_type": "markdown",
   "id": "1a1cbe71",
   "metadata": {},
   "source": [
    "Remarkably, there is a seasonal pattern on the years of schooling that follows the quarter of the year. Visually, we can see that those born in the first quarter of the year have almost always less education than those born in the last quarter (once we control for the year of birth, after all, those born in later years have more education, in general).\n",
    "\n",
    "To be a bit more rigorous, we can run the 1st stage as a linear regression. We will first convert the quarter of birth to dummy variables:"
   ]
  },
  {
   "cell_type": "code",
   "execution_count": 34,
   "id": "d06405ed",
   "metadata": {},
   "outputs": [
    {
     "data": {
      "text/html": [
       "<div>\n",
       "<style scoped>\n",
       "    .dataframe tbody tr th:only-of-type {\n",
       "        vertical-align: middle;\n",
       "    }\n",
       "\n",
       "    .dataframe tbody tr th {\n",
       "        vertical-align: top;\n",
       "    }\n",
       "\n",
       "    .dataframe thead th {\n",
       "        text-align: right;\n",
       "    }\n",
       "</style>\n",
       "<table border=\"1\" class=\"dataframe\">\n",
       "  <thead>\n",
       "    <tr style=\"text-align: right;\">\n",
       "      <th></th>\n",
       "      <th>log_wage</th>\n",
       "      <th>years_of_schooling</th>\n",
       "      <th>year_of_birth</th>\n",
       "      <th>quarter_of_birth</th>\n",
       "      <th>state_of_birth</th>\n",
       "      <th>q1</th>\n",
       "      <th>q2</th>\n",
       "      <th>q3</th>\n",
       "      <th>q4</th>\n",
       "    </tr>\n",
       "  </thead>\n",
       "  <tbody>\n",
       "    <tr>\n",
       "      <th>0</th>\n",
       "      <td>5.790019</td>\n",
       "      <td>12.0</td>\n",
       "      <td>30.0</td>\n",
       "      <td>1.0</td>\n",
       "      <td>45.0</td>\n",
       "      <td>1</td>\n",
       "      <td>0</td>\n",
       "      <td>0</td>\n",
       "      <td>0</td>\n",
       "    </tr>\n",
       "    <tr>\n",
       "      <th>1</th>\n",
       "      <td>5.952494</td>\n",
       "      <td>11.0</td>\n",
       "      <td>30.0</td>\n",
       "      <td>1.0</td>\n",
       "      <td>45.0</td>\n",
       "      <td>1</td>\n",
       "      <td>0</td>\n",
       "      <td>0</td>\n",
       "      <td>0</td>\n",
       "    </tr>\n",
       "    <tr>\n",
       "      <th>2</th>\n",
       "      <td>5.315949</td>\n",
       "      <td>12.0</td>\n",
       "      <td>30.0</td>\n",
       "      <td>1.0</td>\n",
       "      <td>45.0</td>\n",
       "      <td>1</td>\n",
       "      <td>0</td>\n",
       "      <td>0</td>\n",
       "      <td>0</td>\n",
       "    </tr>\n",
       "    <tr>\n",
       "      <th>3</th>\n",
       "      <td>5.595926</td>\n",
       "      <td>12.0</td>\n",
       "      <td>30.0</td>\n",
       "      <td>1.0</td>\n",
       "      <td>45.0</td>\n",
       "      <td>1</td>\n",
       "      <td>0</td>\n",
       "      <td>0</td>\n",
       "      <td>0</td>\n",
       "    </tr>\n",
       "    <tr>\n",
       "      <th>4</th>\n",
       "      <td>6.068915</td>\n",
       "      <td>12.0</td>\n",
       "      <td>30.0</td>\n",
       "      <td>1.0</td>\n",
       "      <td>37.0</td>\n",
       "      <td>1</td>\n",
       "      <td>0</td>\n",
       "      <td>0</td>\n",
       "      <td>0</td>\n",
       "    </tr>\n",
       "  </tbody>\n",
       "</table>\n",
       "</div>"
      ],
      "text/plain": [
       "   log_wage  years_of_schooling  year_of_birth  quarter_of_birth  \\\n",
       "0  5.790019                12.0           30.0               1.0   \n",
       "1  5.952494                11.0           30.0               1.0   \n",
       "2  5.315949                12.0           30.0               1.0   \n",
       "3  5.595926                12.0           30.0               1.0   \n",
       "4  6.068915                12.0           30.0               1.0   \n",
       "\n",
       "   state_of_birth  q1  q2  q3  q4  \n",
       "0            45.0   1   0   0   0  \n",
       "1            45.0   1   0   0   0  \n",
       "2            45.0   1   0   0   0  \n",
       "3            45.0   1   0   0   0  \n",
       "4            37.0   1   0   0   0  "
      ]
     },
     "execution_count": 34,
     "metadata": {},
     "output_type": "execute_result"
    }
   ],
   "source": [
    "factor_data = data.assign(**{f\"q{int(q)}\": (data[\"quarter_of_birth\"] == q).astype(int)\n",
    "                             for q in data[\"quarter_of_birth\"].unique()})\n",
    "\n",
    "factor_data.head()"
   ]
  },
  {
   "cell_type": "markdown",
   "id": "cf943f23",
   "metadata": {},
   "source": [
    "For simplicity, let's only use the last quarter, q4, as the instrument for now. We will run a regression of years of schooling, the treatment, on quarter of birth, the instrument. This will show us if indeed quarter of birth positively affects time of education like we saw in the plot above. We also need to control for years of birth here and we will add state of birth as an additional control."
   ]
  },
  {
   "cell_type": "code",
   "execution_count": 35,
   "id": "d746cec4",
   "metadata": {},
   "outputs": [
    {
     "name": "stdout",
     "output_type": "stream",
     "text": [
      "q4 parameter estimate:,  0.10085809272783847\n",
      "q4 p-value:,  5.464829416674665e-15\n"
     ]
    }
   ],
   "source": [
    "first_stage = smf.ols(\"years_of_schooling ~ C(year_of_birth) + C(state_of_birth) + q4\", data=factor_data).fit()\n",
    "\n",
    "print(\"q4 parameter estimate:, \", first_stage.params[\"q4\"])\n",
    "print(\"q4 p-value:, \", first_stage.pvalues[\"q4\"])"
   ]
  },
  {
   "cell_type": "markdown",
   "id": "6a529979",
   "metadata": {},
   "source": [
    "It looks like those born in the last quarter of the year have, on average, 0.1 more years of education than those born in other quarters of the year. The p-value is close to zero. This closes the case on whether quarter of birth causes more or less years of schooling.\n",
    "\n",
    "## The Reduced Form\n",
    "\n",
    "Unfortunately, we can't verify the second IV condition. We can only argue in favor of it. We can express our belief that quarter of birth does not influence potential earnings. In other words, the time people are born is not an indication of their personal ability or any other factor that can cause a difference in earnings, other than the effect on education. A good way of doing that is to say that the quarter of birth is as good as randomly assigned when we are thinking about it's impact on earnings. (It isn't random. There is evidence that people tend to conceive around the end of the summer or around some sort of holiday. But I can't think of any good reason that this pattern also affects income in any way other than through education).\n",
    "\n",
    "Having argued in favor of the exclusion restriction, we can proceed to run the reduced form. The reduced form aims at figuring out how the instrument influences the outcome. Since, by assumption, all this influence is due to the effect on treatment, this will shed some light into how the treatment affects the outcome. Once again, let's evaluate this visually before getting serious with regression. "
   ]
  },
  {
   "cell_type": "code",
   "execution_count": 36,
   "id": "3b809152",
   "metadata": {},
   "outputs": [
    {
     "data": {
      "image/png": "[encoded data removed]",
      "text/plain": [
       "<Figure size 1500x600 with 1 Axes>"
      ]
     },
     "metadata": {},
     "output_type": "display_data"
    }
   ],
   "source": [
    "plt.figure(figsize=(15,6))\n",
    "plt.plot(group_data[\"time_of_birth\"], group_data[\"log_wage\"], zorder=-1)\n",
    "for q in range(1, 5):\n",
    "    x = group_data.query(f\"quarter_of_birth=={q}\")[\"time_of_birth\"]\n",
    "    y = group_data.query(f\"quarter_of_birth=={q}\")[\"log_wage\"]\n",
    "    plt.scatter(x, y, marker=\"s\", s=200, c=f\"C{q}\")\n",
    "    plt.scatter(x, y, marker=f\"${q}$\", s=100, c=f\"white\")\n",
    "\n",
    "plt.title(\"Average Weekly Wage by Quarter of Birth (reduced form)\")\n",
    "plt.xlabel(\"Year of Birth\")\n",
    "plt.ylabel(\"Log Weekly Earnings\");"
   ]
  },
  {
   "cell_type": "markdown",
   "id": "563fc8d8",
   "metadata": {},
   "source": [
    "Once again, we can see a seasonal pattern on earnings by the quarter of birth. Those born later on the year have slightly higher income than those born in the beginning of the year. To test this hypothesis, we will again regress the instrumental q4 on log wage. We will also add the same additional controls as in the 1st stage:"
   ]
  },
  {
   "cell_type": "code",
   "execution_count": 37,
   "id": "4dd43523",
   "metadata": {},
   "outputs": [
    {
     "name": "stdout",
     "output_type": "stream",
     "text": [
      "q4 parameter estimate:,  0.008603484260132598\n",
      "q4 p-value:,  0.0014949127183784244\n"
     ]
    }
   ],
   "source": [
    "reduced_form = smf.ols(\"log_wage ~ C(year_of_birth) + C(state_of_birth) + q4\", data=factor_data).fit()\n",
    "\n",
    "print(\"q4 parameter estimate:, \", reduced_form.params[\"q4\"])\n",
    "print(\"q4 p-value:, \", reduced_form.pvalues[\"q4\"])"
   ]
  },
  {
   "cell_type": "markdown",
   "id": "87b8cbc6",
   "metadata": {},
   "source": [
    "Once again, we have a significant result. Those born in the last quarter of the year have, on average, 0.8% higher wages. This time, the p-value is not so close to zero as before, but it's still pretty significant, being just 0.0015. \n",
    "\n",
    "## Instrumental Variables by Hand\n",
    "\n",
    "Having both our reduced form and our 1st stage, we can now scale the effect of the first stage by the reduced form. Since the first stage coefficient was something like 0.1, this will multiply the effect of the reduced form coefficient by almost 10. This will give us our unbiased IV estimate of the average causal effect:\n",
    "\n",
    "$\n",
    "\\mathrm{ATE}_{IV} = \\dfrac{\\text{Reduced Form}}{\\text{1st Stage}} \n",
    "$"
   ]
  },
  {
   "cell_type": "code",
   "execution_count": 38,
   "id": "308f3e98",
   "metadata": {},
   "outputs": [
    {
     "data": {
      "text/plain": [
       "np.float64(0.0853028649208027)"
      ]
     },
     "execution_count": 38,
     "metadata": {},
     "output_type": "execute_result"
    }
   ],
   "source": [
    "reduced_form.params[\"q4\"] / first_stage.params[\"q4\"]"
   ]
  },
  {
   "cell_type": "markdown",
   "id": "0c4f62f3",
   "metadata": {},
   "source": [
    "This means that we should expect each additional year of school to increase wages by 8%.\n",
    "\n",
    "Another way to get the IV estimates is by using 2 stages least squares, **2SLS**. With this procedure, we do the first stage like before and then run a second stage where we replace the treatment variable by the fitted values of the 1st stage\n",
    "\n",
    "$\n",
    "\\mathrm{educ}_i = \\gamma_0 + \\gamma_1 \\times \\mathrm{q4}_i + \\gamma_2\\times \\mathrm{yob}_i + \\gamma_3\\times \\mathrm{sob}_i + v_i\n",
    "$\n",
    "\n",
    "$\n",
    "\\log(\\mathrm{wage})_i = \\beta_0 + \\beta_1\\times \\mathrm{educ}_i + \\beta_2\\times \\mathrm{yob}_i + \\beta_3\\times \\mathrm{sob}_i + u_i\n",
    "$\n",
    "\n",
    "$\n",
    "\\log(\\mathrm{wage})_i = \\beta_0 + \\beta_1 [\\gamma_0 + \\gamma_1 \\times \\mathrm{q4}_i + \\gamma_2\\times \\mathrm{yob}_i + \\gamma_3\\times \\mathrm{sob}_i + v_i ]  + \\beta_2\\times \\mathrm{yob}_i + \\beta_3\\times \\mathrm{sob}_i + u_i\n",
    "$\n",
    "\n",
    "One thing to notice is that **any additional control we add to the second stage should also be added to the first stage when doing IV**. "
   ]
  },
  {
   "cell_type": "code",
   "execution_count": 39,
   "id": "c0f07975",
   "metadata": {},
   "outputs": [
    {
     "data": {
      "text/plain": [
       "np.float64(0.08530286492084713)"
      ]
     },
     "execution_count": 39,
     "metadata": {},
     "output_type": "execute_result"
    }
   ],
   "source": [
    "iv_by_hand = smf.ols(\"log_wage ~ C(year_of_birth) + C(state_of_birth) + years_of_schooling_fitted\",\n",
    "                     data=factor_data.assign(years_of_schooling_fitted=first_stage.fittedvalues)).fit()\n",
    "\n",
    "iv_by_hand.params[\"years_of_schooling_fitted\"]"
   ]
  },
  {
   "cell_type": "markdown",
   "id": "bade9c3c",
   "metadata": {},
   "source": [
    "As you can see, the parameters are exactly the same. This second way of looking at IV can be useful for the intuition it gives. In 2SLS, the first stage creates a new version of the treatment that is purged from omitted variable bias. We then use this purged version of the treatment, the fitted values of the 1st stage, in a linear regression.  \n",
    "\n",
    "In practice, however, we don't do IV by hand. Not because it is troublesome, but because the standard errors we get from this second stage are a bit off. Instead, we should always let the machine do the job for us. In Python, we can use the library [linearmodels](https://bashtage.github.io/linearmodels/) to run 2SLS the right way.\n",
    "\n",
    "The formula for 2SLS is a bit different. We should add the first stage between \\[ \\] inside the formula. In our case, we add `years_of_schooling ~ q4`. Additional controls don't need to be added to the first stage because the computer will do this automatically if we include them in the second stage. For this reason, we add `year_of_birth` and `state_of_birth` outside the formula of the 1st stage. "
   ]
  },
  {
   "cell_type": "code",
   "execution_count": 40,
   "id": "fbda52e9-6b52-414e-8111-14e73546bb0a",
   "metadata": {},
   "outputs": [
    {
     "name": "stdout",
     "output_type": "stream",
     "text": [
      "Looking in indexes: https://pypi.org/simple, https://pypi.ngc.nvidia.com\n",
      "Requirement already satisfied: linearmodels in /opt/homebrew/anaconda3/lib/python3.13/site-packages (6.1)\n",
      "Requirement already satisfied: numpy<3,>=1.22.3 in /opt/homebrew/anaconda3/lib/python3.13/site-packages (from linearmodels) (2.1.3)\n",
      "Requirement already satisfied: pandas>=1.4.0 in /opt/homebrew/anaconda3/lib/python3.13/site-packages (from linearmodels) (2.2.3)\n",
      "Requirement already satisfied: scipy>=1.8.0 in /opt/homebrew/anaconda3/lib/python3.13/site-packages (from linearmodels) (1.15.3)\n",
      "Requirement already satisfied: statsmodels>=0.13.0 in /opt/homebrew/anaconda3/lib/python3.13/site-packages (from linearmodels) (0.14.4)\n",
      "Requirement already satisfied: mypy-extensions>=0.4 in /opt/homebrew/anaconda3/lib/python3.13/site-packages (from linearmodels) (1.0.0)\n",
      "Requirement already satisfied: Cython>=3.0.10 in /opt/homebrew/anaconda3/lib/python3.13/site-packages (from linearmodels) (3.1.2)\n",
      "Requirement already satisfied: pyhdfe>=0.1 in /opt/homebrew/anaconda3/lib/python3.13/site-packages (from linearmodels) (0.2.0)\n",
      "Requirement already satisfied: formulaic>=1.0.0 in /opt/homebrew/anaconda3/lib/python3.13/site-packages (from linearmodels) (1.1.1)\n",
      "Requirement already satisfied: setuptools-scm<9.0.0,>=8.0.0 in /opt/homebrew/anaconda3/lib/python3.13/site-packages (from setuptools-scm[toml]<9.0.0,>=8.0.0->linearmodels) (8.3.1)\n",
      "Requirement already satisfied: packaging>=20 in /opt/homebrew/anaconda3/lib/python3.13/site-packages (from setuptools-scm<9.0.0,>=8.0.0->setuptools-scm[toml]<9.0.0,>=8.0.0->linearmodels) (24.2)\n",
      "Requirement already satisfied: setuptools in /opt/homebrew/anaconda3/lib/python3.13/site-packages (from setuptools-scm<9.0.0,>=8.0.0->setuptools-scm[toml]<9.0.0,>=8.0.0->linearmodels) (72.1.0)\n",
      "Requirement already satisfied: interface-meta>=1.2.0 in /opt/homebrew/anaconda3/lib/python3.13/site-packages (from formulaic>=1.0.0->linearmodels) (1.3.0)\n",
      "Requirement already satisfied: typing-extensions>=4.2.0 in /opt/homebrew/anaconda3/lib/python3.13/site-packages (from formulaic>=1.0.0->linearmodels) (4.12.2)\n",
      "Requirement already satisfied: wrapt>=1.17.0rc1 in /opt/homebrew/anaconda3/lib/python3.13/site-packages (from formulaic>=1.0.0->linearmodels) (1.17.0)\n",
      "Requirement already satisfied: python-dateutil>=2.8.2 in /opt/homebrew/anaconda3/lib/python3.13/site-packages (from pandas>=1.4.0->linearmodels) (2.9.0.post0)\n",
      "Requirement already satisfied: pytz>=2020.1 in /opt/homebrew/anaconda3/lib/python3.13/site-packages (from pandas>=1.4.0->linearmodels) (2024.1)\n",
      "Requirement already satisfied: tzdata>=2022.7 in /opt/homebrew/anaconda3/lib/python3.13/site-packages (from pandas>=1.4.0->linearmodels) (2025.2)\n",
      "Requirement already satisfied: six>=1.5 in /opt/homebrew/anaconda3/lib/python3.13/site-packages (from python-dateutil>=2.8.2->pandas>=1.4.0->linearmodels) (1.17.0)\n",
      "Requirement already satisfied: patsy>=0.5.6 in /opt/homebrew/anaconda3/lib/python3.13/site-packages (from statsmodels>=0.13.0->linearmodels) (1.0.1)\n"
     ]
    }
   ],
   "source": [
    "!pip install linearmodels"
   ]
  },
  {
   "cell_type": "code",
   "execution_count": 41,
   "id": "7bb22a74",
   "metadata": {},
   "outputs": [
    {
     "name": "stdout",
     "output_type": "stream",
     "text": [
      "Parameter: 0.08530286494351458\n",
      "SE: 0.025540812810713024\n",
      "95 CI: [0.035 0.135]\n",
      "P-value: 0.0008381914621753417\n"
     ]
    }
   ],
   "source": [
    "from linearmodels.iv import IV2SLS\n",
    "\n",
    "def parse(model, exog=\"years_of_schooling\"):\n",
    "    param = model.params[exog]\n",
    "    se = model.std_errors[exog]\n",
    "    p_val = model.pvalues[exog]\n",
    "    print(f\"Parameter: {param}\")\n",
    "    print(f\"SE: {se}\")\n",
    "    print(f\"95 CI: {(-1.96*se,1.96*se) + param}\")\n",
    "    print(f\"P-value: {p_val}\")\n",
    "    \n",
    "formula = 'log_wage ~ 1 + C(year_of_birth) + C(state_of_birth) + [years_of_schooling ~ q4]'\n",
    "iv2sls = IV2SLS.from_formula(formula, factor_data).fit()\n",
    "parse(iv2sls)"
   ]
  },
  {
   "cell_type": "markdown",
   "id": "a709ac1e",
   "metadata": {},
   "source": [
    "Once again, we can see that the parameter is exactly the same as the ones we've got before. The extra benefit is that we have valid standard errors now. With this at hand, we can say that we expect 1 extra year of education to increase wages by 8.5%, on average. \n",
    "\n",
    "## Multiple Instruments\n",
    "\n",
    "Another advantage of using the computers is to run 2SLS is that it is easy to add multiple instruments. In our example, we will use all quarter of birth dummies as instruments for years of schooling. "
   ]
  },
  {
   "cell_type": "code",
   "execution_count": 42,
   "id": "0f28426f",
   "metadata": {},
   "outputs": [
    {
     "name": "stdout",
     "output_type": "stream",
     "text": [
      "Parameter: 0.10769370490743313\n",
      "SE: 0.019557149007653582\n",
      "95 CI: [0.069 0.146]\n",
      "P-value: 3.657974656512408e-08\n"
     ]
    }
   ],
   "source": [
    "formula = 'log_wage ~ 1 + C(year_of_birth) + C(state_of_birth) + [years_of_schooling ~ q1+q2+q3]'\n",
    "iv_many_zs = IV2SLS.from_formula(formula, factor_data).fit()\n",
    "parse(iv_many_zs)"
   ]
  },
  {
   "cell_type": "markdown",
   "id": "d988ab13",
   "metadata": {},
   "source": [
    "With all 3 dummies, the estimated return on education is now 0.1, which means that we should expect a 10% average increase on earnings for every additional year of education. Let's compare this with the traditional OLS estimate. To do that, we can use 2SLS again, but without the 1st stage now."
   ]
  },
  {
   "cell_type": "code",
   "execution_count": 43,
   "id": "12365641",
   "metadata": {},
   "outputs": [
    {
     "name": "stdout",
     "output_type": "stream",
     "text": [
      "Parameter: 0.06732572817659932\n",
      "SE: 0.00038839984390486487\n",
      "95 CI: [0.067 0.068]\n",
      "P-value: 0.0\n"
     ]
    }
   ],
   "source": [
    "formula = \"log_wage ~ years_of_schooling + C(state_of_birth) + C(year_of_birth) + C(quarter_of_birth)\"\n",
    "ols = IV2SLS.from_formula(formula, data=data).fit()\n",
    "parse(ols)"
   ]
  },
  {
   "cell_type": "markdown",
   "id": "f4b3e1b8",
   "metadata": {},
   "source": [
    "The return on education is estimated to be lower with OLS than with 2SLS. This suggests that OVB might not be as strong as we first though. Also, notice the confidence intervals. 2SLS has a much wider CI than the OLS estimate. Let's explore this further\n",
    "\n",
    "## Weakness of Instruments\n",
    "\n",
    "When dealing with IV, we need to remember we are estimating the ATE indirectly. Our estimates depend on both the first stage and the second stage. If the impact of the treatment on the outcome is indeed strong, the second stage will also be strong. However, it doesn't matter how strong the second stage is if we have a weak first stage. A weak first stage means that the instrument has only a very small correlation with the treatment. Therefore, we can't learn much about the treatment from the instrument.\n",
    "\n",
    "The formulas for the IV standard errors are a bit complex and not so intuitive, so we will try something else to grasp this problem. We will simulate data where we have a treatment T with effect 2.0 on the outcome Y, an unobserved confounder U and an additional control X. We will also simulate multiple instruments with different strengths on the 1st stage.\n",
    "\n",
    "$\n",
    "X \\sim N(0, 2^2)\\\\\n",
    "U \\sim N(0, 2^2)\\\\\n",
    "T \\sim N(1+0.5U, 5^2)\\\\\n",
    "Y \\sim N(2+ X - 0.5U + 2T, 5^2)\\\\\n",
    "Z \\sim N(T, \\sigma^2) \\text{ for }\\sigma^2 \\text{ in 0.1 to 100}\n",
    "$"
   ]
  },
  {
   "cell_type": "code",
   "execution_count": 44,
   "id": "4d5d6219",
   "metadata": {},
   "outputs": [
    {
     "data": {
      "text/html": [
       "<div>\n",
       "<style scoped>\n",
       "    .dataframe tbody tr th:only-of-type {\n",
       "        vertical-align: middle;\n",
       "    }\n",
       "\n",
       "    .dataframe tbody tr th {\n",
       "        vertical-align: top;\n",
       "    }\n",
       "\n",
       "    .dataframe thead th {\n",
       "        text-align: right;\n",
       "    }\n",
       "</style>\n",
       "<table border=\"1\" class=\"dataframe\">\n",
       "  <thead>\n",
       "    <tr style=\"text-align: right;\">\n",
       "      <th></th>\n",
       "      <th>U</th>\n",
       "      <th>T</th>\n",
       "      <th>Y</th>\n",
       "      <th>Z_0</th>\n",
       "      <th>Z_1</th>\n",
       "      <th>Z_2</th>\n",
       "      <th>Z_3</th>\n",
       "      <th>Z_4</th>\n",
       "      <th>Z_5</th>\n",
       "      <th>Z_6</th>\n",
       "      <th>...</th>\n",
       "      <th>Z_40</th>\n",
       "      <th>Z_41</th>\n",
       "      <th>Z_42</th>\n",
       "      <th>Z_43</th>\n",
       "      <th>Z_44</th>\n",
       "      <th>Z_45</th>\n",
       "      <th>Z_46</th>\n",
       "      <th>Z_47</th>\n",
       "      <th>Z_48</th>\n",
       "      <th>Z_49</th>\n",
       "    </tr>\n",
       "  </thead>\n",
       "  <tbody>\n",
       "    <tr>\n",
       "      <th>0</th>\n",
       "      <td>2.696148</td>\n",
       "      <td>8.056988</td>\n",
       "      <td>18.388910</td>\n",
       "      <td>8.233315</td>\n",
       "      <td>9.028779</td>\n",
       "      <td>16.430365</td>\n",
       "      <td>7.348864</td>\n",
       "      <td>4.848165</td>\n",
       "      <td>1.567900</td>\n",
       "      <td>16.654138</td>\n",
       "      <td>...</td>\n",
       "      <td>50.836515</td>\n",
       "      <td>-121.965878</td>\n",
       "      <td>-9.118833</td>\n",
       "      <td>-42.297891</td>\n",
       "      <td>17.015717</td>\n",
       "      <td>51.777219</td>\n",
       "      <td>78.678074</td>\n",
       "      <td>-164.581598</td>\n",
       "      <td>-117.798705</td>\n",
       "      <td>-13.485292</td>\n",
       "    </tr>\n",
       "    <tr>\n",
       "      <th>1</th>\n",
       "      <td>2.570240</td>\n",
       "      <td>0.245067</td>\n",
       "      <td>2.015052</td>\n",
       "      <td>0.455988</td>\n",
       "      <td>-0.901285</td>\n",
       "      <td>-6.442245</td>\n",
       "      <td>-2.824902</td>\n",
       "      <td>7.327944</td>\n",
       "      <td>-9.643833</td>\n",
       "      <td>14.237652</td>\n",
       "      <td>...</td>\n",
       "      <td>29.966537</td>\n",
       "      <td>141.855092</td>\n",
       "      <td>79.040440</td>\n",
       "      <td>66.249629</td>\n",
       "      <td>-23.107153</td>\n",
       "      <td>25.007034</td>\n",
       "      <td>-73.621303</td>\n",
       "      <td>85.867339</td>\n",
       "      <td>-209.727577</td>\n",
       "      <td>-70.792948</td>\n",
       "    </tr>\n",
       "    <tr>\n",
       "      <th>2</th>\n",
       "      <td>0.664741</td>\n",
       "      <td>5.597510</td>\n",
       "      <td>11.939170</td>\n",
       "      <td>5.528384</td>\n",
       "      <td>6.148148</td>\n",
       "      <td>10.141348</td>\n",
       "      <td>18.923875</td>\n",
       "      <td>-5.550785</td>\n",
       "      <td>4.495364</td>\n",
       "      <td>-14.070897</td>\n",
       "      <td>...</td>\n",
       "      <td>-29.051441</td>\n",
       "      <td>14.537511</td>\n",
       "      <td>-95.846490</td>\n",
       "      <td>-117.922132</td>\n",
       "      <td>43.194916</td>\n",
       "      <td>58.534855</td>\n",
       "      <td>119.820024</td>\n",
       "      <td>-173.513340</td>\n",
       "      <td>60.562232</td>\n",
       "      <td>47.619414</td>\n",
       "    </tr>\n",
       "    <tr>\n",
       "      <th>3</th>\n",
       "      <td>1.037725</td>\n",
       "      <td>0.493532</td>\n",
       "      <td>-5.077869</td>\n",
       "      <td>0.382075</td>\n",
       "      <td>0.790127</td>\n",
       "      <td>-2.753808</td>\n",
       "      <td>3.146698</td>\n",
       "      <td>-7.152174</td>\n",
       "      <td>-6.322238</td>\n",
       "      <td>9.209916</td>\n",
       "      <td>...</td>\n",
       "      <td>-61.446478</td>\n",
       "      <td>26.719702</td>\n",
       "      <td>-40.753912</td>\n",
       "      <td>63.725307</td>\n",
       "      <td>22.462409</td>\n",
       "      <td>97.200099</td>\n",
       "      <td>-116.309759</td>\n",
       "      <td>-26.328707</td>\n",
       "      <td>78.136513</td>\n",
       "      <td>-108.322304</td>\n",
       "    </tr>\n",
       "    <tr>\n",
       "      <th>4</th>\n",
       "      <td>-2.590591</td>\n",
       "      <td>-6.263014</td>\n",
       "      <td>-6.460508</td>\n",
       "      <td>-6.197533</td>\n",
       "      <td>-5.954731</td>\n",
       "      <td>-19.295207</td>\n",
       "      <td>-11.343303</td>\n",
       "      <td>-7.231806</td>\n",
       "      <td>5.556399</td>\n",
       "      <td>-17.913401</td>\n",
       "      <td>...</td>\n",
       "      <td>-28.071993</td>\n",
       "      <td>146.111732</td>\n",
       "      <td>-21.991256</td>\n",
       "      <td>88.258432</td>\n",
       "      <td>62.211154</td>\n",
       "      <td>-72.066362</td>\n",
       "      <td>51.848504</td>\n",
       "      <td>-117.858043</td>\n",
       "      <td>78.776566</td>\n",
       "      <td>-80.547214</td>\n",
       "    </tr>\n",
       "  </tbody>\n",
       "</table>\n",
       "<p>5 rows × 53 columns</p>\n",
       "</div>"
      ],
      "text/plain": [
       "          U         T          Y       Z_0       Z_1        Z_2        Z_3  \\\n",
       "0  2.696148  8.056988  18.388910  8.233315  9.028779  16.430365   7.348864   \n",
       "1  2.570240  0.245067   2.015052  0.455988 -0.901285  -6.442245  -2.824902   \n",
       "2  0.664741  5.597510  11.939170  5.528384  6.148148  10.141348  18.923875   \n",
       "3  1.037725  0.493532  -5.077869  0.382075  0.790127  -2.753808   3.146698   \n",
       "4 -2.590591 -6.263014  -6.460508 -6.197533 -5.954731 -19.295207 -11.343303   \n",
       "\n",
       "        Z_4       Z_5        Z_6  ...       Z_40        Z_41       Z_42  \\\n",
       "0  4.848165  1.567900  16.654138  ...  50.836515 -121.965878  -9.118833   \n",
       "1  7.327944 -9.643833  14.237652  ...  29.966537  141.855092  79.040440   \n",
       "2 -5.550785  4.495364 -14.070897  ... -29.051441   14.537511 -95.846490   \n",
       "3 -7.152174 -6.322238   9.209916  ... -61.446478   26.719702 -40.753912   \n",
       "4 -7.231806  5.556399 -17.913401  ... -28.071993  146.111732 -21.991256   \n",
       "\n",
       "         Z_43       Z_44       Z_45        Z_46        Z_47        Z_48  \\\n",
       "0  -42.297891  17.015717  51.777219   78.678074 -164.581598 -117.798705   \n",
       "1   66.249629 -23.107153  25.007034  -73.621303   85.867339 -209.727577   \n",
       "2 -117.922132  43.194916  58.534855  119.820024 -173.513340   60.562232   \n",
       "3   63.725307  22.462409  97.200099 -116.309759  -26.328707   78.136513   \n",
       "4   88.258432  62.211154 -72.066362   51.848504 -117.858043   78.776566   \n",
       "\n",
       "         Z_49  \n",
       "0  -13.485292  \n",
       "1  -70.792948  \n",
       "2   47.619414  \n",
       "3 -108.322304  \n",
       "4  -80.547214  \n",
       "\n",
       "[5 rows x 53 columns]"
      ]
     },
     "execution_count": 44,
     "metadata": {},
     "output_type": "execute_result"
    }
   ],
   "source": [
    "np.random.seed(12)\n",
    "n = 10000\n",
    "X = np.random.normal(0, 2, n) # observable variable\n",
    "U = np.random.normal(0, 2, n) # unobservable (omitted) variable\n",
    "T = np.random.normal(1 + 0.5*U, 5, n) # treatment\n",
    "Y = np.random.normal(2 + X - 0.5*U + 2*T, 5, n) # outcome\n",
    "\n",
    "stddevs = np.linspace(0.1, 100, 50)\n",
    "Zs = {f\"Z_{z}\": np.random.normal(T, s, n) for z, s in enumerate(stddevs)} # instruments with decreasing \\mathrm{Cov}(Z, T)\n",
    "\n",
    "sim_data = pd.DataFrame(dict(U=U, T=T, Y=Y)).assign(**Zs)\n",
    "\n",
    "sim_data.head()"
   ]
  },
  {
   "cell_type": "markdown",
   "id": "ecb0e5d7",
   "metadata": {},
   "source": [
    "Just to double check, we can see that the correlation between Z and T is indeed decreasing."
   ]
  },
  {
   "cell_type": "code",
   "execution_count": 45,
   "id": "6be4c7e6",
   "metadata": {},
   "outputs": [
    {
     "data": {
      "text/plain": [
       "Z_0    0.999807\n",
       "Z_1    0.919713\n",
       "Z_2    0.773434\n",
       "Z_3    0.634614\n",
       "Z_4    0.523719\n",
       "Name: T, dtype: float64"
      ]
     },
     "execution_count": 45,
     "metadata": {},
     "output_type": "execute_result"
    }
   ],
   "source": [
    "corr = (sim_data.corr()[\"T\"]\n",
    "        [lambda d: d.index.str.startswith(\"Z\")])\n",
    "\n",
    "corr.head()"
   ]
  },
  {
   "cell_type": "markdown",
   "id": "e17718ff",
   "metadata": {},
   "source": [
    "Now, we will run one IV model per instrument we have and collect both the ATE estimate and the standard error."
   ]
  },
  {
   "cell_type": "code",
   "execution_count": 46,
   "id": "c00ec8ea",
   "metadata": {},
   "outputs": [],
   "source": [
    "se = []\n",
    "ate = []\n",
    "for z in range(len(Zs)):\n",
    "    formula = f'Y ~ 1 + X + [T ~ Z_{z}]'\n",
    "    iv = IV2SLS.from_formula(formula, sim_data).fit()\n",
    "    se.append(iv.std_errors[\"T\"])\n",
    "    ate.append(iv.params[\"T\"])"
   ]
  },
  {
   "cell_type": "code",
   "execution_count": 47,
   "id": "0068af48",
   "metadata": {},
   "outputs": [
    {
     "data": {
      "image/png": "[encoded data removed]",
      "text/plain": [
       "<Figure size 640x480 with 1 Axes>"
      ]
     },
     "metadata": {},
     "output_type": "display_data"
    }
   ],
   "source": [
    "plot_data = pd.DataFrame(dict(se=se, ate=ate, corr=corr)).sort_values(by=\"corr\")\n",
    "\n",
    "plt.scatter(plot_data[\"corr\"], plot_data[\"se\"])\n",
    "plt.xlabel(\"Corr(Z, T)\")\n",
    "plt.ylabel(\"IV Standard Error\");\n",
    "plt.title(\"Variance of the IV Estimates by 1st Stage Strength\");"
   ]
  },
  {
   "cell_type": "code",
   "execution_count": 48,
   "id": "90977b96",
   "metadata": {},
   "outputs": [
    {
     "data": {
      "image/png": "[encoded data removed]",
      "text/plain": [
       "<Figure size 640x480 with 1 Axes>"
      ]
     },
     "metadata": {},
     "output_type": "display_data"
    }
   ],
   "source": [
    "plt.scatter(plot_data[\"corr\"], plot_data[\"ate\"])\n",
    "plt.fill_between(plot_data[\"corr\"],\n",
    "                 plot_data[\"ate\"]+1.96*plot_data[\"se\"],\n",
    "                 plot_data[\"ate\"]-1.96*plot_data[\"se\"], alpha=.5)\n",
    "plt.xlabel(\"Corr(Z, T)\")\n",
    "plt.ylabel(\"$\\hat{ATE}$\");\n",
    "plt.title(\"IV ATE Estimates by 1st Stage Strength\");"
   ]
  },
  {
   "cell_type": "markdown",
   "id": "30ba71f9",
   "metadata": {},
   "source": [
    "As we can see in the plots above, estimates vary wildly when the correlation between T and Z is weak. This is because the SE also increases a lot when the correlation is low.\n",
    "\n",
    "Another thing to notice is that **2SLS is biased**! Even with high correlation, the parameter estimate still does not reach the true ATE of 2.0. Actually, 2.0 is not even in the 95% CI! 2SLS is only consistent, which means that it approaches the true parameter value if the sample size is big enough. However, we can't know how big is big enough. We can only stick to some rules of thumb to understand how this bias behaves:\n",
    "\n",
    "1. 2SLS is biased towards OLS. This means that if OLS has a negative/positive bias, 2SLS will also have it. The advantage of 2SLS is that it is at least consistent, where OLS is not, in the case of omitted variables. In the example above, our unobserved U impacts negatively the outcome but its positively correlated with the treatment, which will result in a negative bias. That is why we are seeing the ATE estimate below the true value (negative bias).\n",
    "\n",
    "2. The bias will increase with the number of instruments we add. If we add too many instruments, 2SLS becomes more and more like OLS.\n",
    "\n",
    "Besides knowing how this bias behaves, a final piece of advice is to avoid some **common mistakes when doing IV**:\n",
    "\n",
    "1. Doing IV by hand. As we've seen, IV by hand will result in wrong standard errors, even if the parameter estimates are right. The SE won't be completely off. Still, why do it if you can use software and get the right SE?\n",
    "\n",
    "2. Using anything other than OLS on the 1st stage. Lots of Data Scientist encounter IV and think they can do better. For example, they see a dummy treatment and think about replacing the 1st stage by a logistic regression, after all, they are predicting a dummy variable, right?. The problem is that this is plain wrong. The consistency of IV relies on a property that only OLS can give, which is the orthogonality of the residuals, so anything different than OLS on the 1st stage will yield something biased. (OBS: there are some modern techniques that use Machine Learning for IV, but their results have been, at best, questionable).\n",
    "\n",
    "## Key Ideas\n",
    "\n",
    "We've taken some time here to understand how we can work around omitted variable bias if we have an instrument variable. An instrument is a variable that is correlated with the treatment (has a first stage), but only affects the outcome through the treatment (exclusion restriction). We saw an example of an instrument with quarter of birth to estimate the effect of education on income.\n",
    "\n",
    "We then delve into the mechanics of estimating the causal effect with IV, namely, using 2SLS. We've also learned that IV is no silver bullet. It can be quite troublesome when we have a weak first stage. Also, although consistent, 2SLS is still a biased method to estimate the causal effect."
   ]
  },
  {
   "cell_type": "markdown",
   "id": "066d4541",
   "metadata": {},
   "source": [
    "## <a id = \"p4\">4.</a>  <font color = \"green\"> What We Learned & What's Next </font>  [back to table of contents](#top)"
   ]
  },
  {
   "cell_type": "markdown",
   "id": "59b65f0c",
   "metadata": {},
   "source": [
    "> Tonight, we learned how to use instrumental variables to answer causal inference questions in applied settings.\n",
    "\n",
    "> Let me further illustrate this by highlighting specific examples of how instrumental variables (IV) can be used in the fields of finance and real estate to address endogeneity issues and obtain more accurate causal estimates."
   ]
  },
  {
   "cell_type": "markdown",
   "id": "5fb27f1c",
   "metadata": {},
   "source": [
    "## The Use Cases of Instrumental Variables (IV)"
   ]
  },
  {
   "cell_type": "markdown",
   "id": "c90bf2ea",
   "metadata": {},
   "source": [
    "### Finance in general\n",
    "\n",
    "#### Case 1: Impact of Interest Rates on Investment Decisions\n",
    "\n",
    "* Context: Understanding how interest rates influence corporate investment decisions is crucial for policymakers and investors. However, endogeneity issues arise because investment decisions can also influence interest rates, creating a two-way causality.\n",
    "\n",
    "* Instrument: Regulatory changes in monetary policy or central bank policy rates that are independent of individual firm characteristics.\n",
    "\n",
    "* Application: Suppose we want to estimate the causal effect of interest rates on corporate investment. We could use changes in the central bank's policy rates as an instrument for interest rates. These policy changes are likely to be exogenous to individual firms' investment decisions but correlated with the general level of interest rates in the economy. By using these policy changes as an instrument, we can isolate the exogenous variation in interest rates and accurately estimate their impact on investment decisions."
   ]
  },
  {
   "cell_type": "markdown",
   "id": "4eab8440",
   "metadata": {},
   "source": [
    "#### Case 2: Effect of Corporate Governance on Firm Performance\n",
    "\n",
    "* Context: Researchers and investors are interested in how corporate governance practices, such as board structure or shareholder rights, impact firm performance. However, firms with better performance might also adopt better governance practices, leading to reverse causality.\n",
    "\n",
    "* Instrument: Legal reforms or changes in corporate governance regulations that affect all firms within a jurisdiction but are unrelated to individual firms' performance.\n",
    "\n",
    "* Application: To estimate the causal effect of corporate governance on firm performance, we could use legal reforms that mandate changes in governance practices as an instrument. For instance, a new law requiring a certain proportion of independent directors on boards can serve as an exogenous instrument. This reform is likely to affect all firms equally regardless of their prior performance, providing a source of variation in governance practices that is independent of firm performance. Using this instrument, we can obtain an unbiased estimate of the impact of corporate governance on performance metrics such as return on assets or stock returns."
   ]
  },
  {
   "cell_type": "markdown",
   "id": "c6f464c7",
   "metadata": {},
   "source": [
    "### Real Estate\n",
    "\n",
    "#### Case 1: Effect of Housing Prices on Mortgage Default Rates\n",
    "\n",
    "* Context: Understanding the relationship between housing prices and mortgage default rates is critical for financial stability and housing market policy. However, endogeneity arises because economic conditions that influence housing prices might also affect borrowers' ability to repay mortgages.\n",
    "\n",
    "* Instrument: Proximity to new infrastructure projects or natural experiments such as changes in zoning laws.\n",
    "\n",
    "* Application: To estimate the causal effect of housing prices on mortgage default rates, we could use proximity to new infrastructure projects (e.g., new highways or public transit lines) as an instrument. These projects can lead to exogenous changes in local housing prices due to improved accessibility and increased demand for housing in the area. By using the distance to these projects as an instrument, we can isolate the impact of exogenous changes in housing prices on the likelihood of mortgage defaults."
   ]
  },
  {
   "cell_type": "markdown",
   "id": "3edeb95b",
   "metadata": {},
   "source": [
    "#### Case 2: Impact of Urban Development Projects on Local Property Values\n",
    "\n",
    "* Context: Urban development projects, such as the construction of parks, commercial centers, or public transit systems, are expected to influence local property values. However, property values might also affect the decision to undertake these projects, leading to endogeneity.\n",
    "\n",
    "* Instrument: Historical preservation status or legislative decisions on urban development that are independent of current property values.\n",
    "\n",
    "* Application: To estimate the impact of urban development projects on local property values, we could use the historical preservation status of neighborhoods or legislative decisions on urban development as instruments. For example, if certain areas are designated for development based on historical criteria or political decisions, these designations can serve as exogenous instruments. They are likely to affect property values through the anticipated improvements in infrastructure and amenities but are not directly influenced by current property values. Using these instruments, we can accurately estimate the effect of urban development projects on property values."
   ]
  },
  {
   "cell_type": "markdown",
   "id": "188064df",
   "metadata": {},
   "source": [
    "    REVISION NOTE\n",
    "\n",
    "    - Revision pointer A\n",
    "\n",
    "    - Revision pointer B\n",
    "\n",
    "    - Revision pointer C"
   ]
  },
  {
   "cell_type": "markdown",
   "id": "a08d841f",
   "metadata": {},
   "source": [
    "> `Thank you for working with the script, Team 👍`"
   ]
  }
 ],
 "metadata": {
  "kernelspec": {
   "display_name": "Python 3 (ipykernel)",
   "language": "python",
   "name": "python3"
  },
  "language_info": {
   "codemirror_mode": {
    "name": "ipython",
    "version": 3
   },
   "file_extension": ".py",
   "mimetype": "text/x-python",
   "name": "python",
   "nbconvert_exporter": "python",
   "pygments_lexer": "ipython3",
   "version": "3.13.5"
  }
 },
 "nbformat": 4,
 "nbformat_minor": 5
}
